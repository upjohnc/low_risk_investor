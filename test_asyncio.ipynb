{
 "cells": [
  {
   "cell_type": "code",
   "execution_count": 1,
   "metadata": {
    "collapsed": false
   },
   "outputs": [
    {
     "data": {
      "text/plain": [
       "91.74086999893188"
      ]
     },
     "execution_count": 1,
     "metadata": {},
     "output_type": "execute_result"
    }
   ],
   "source": [
    "from utils import save_stock_prices_nyse_asyncio\n",
    "import datetime as dt\n",
    "import pandas as pd\n",
    "import os\n",
    "import asyncio\n",
    "\n",
    "stocks = ['aapl', 'mmm', 'aac', 'moq']\n",
    "date_start = dt.datetime(2015, 1, 1)\n",
    "date_end = dt.datetime(2016, 10, 10)\n",
    "\n",
    "# folder_stock_prices = './stock_prices'\n",
    "folder_stock_prices = './test'\n",
    "folder_stock_symbols = './stock_symbols'\n",
    "import time\n",
    "t1 = time.time()\n",
    "df_nyse_symbols = pd.read_csv(os.path.join(folder_stock_symbols, 'NYSE.csv'))\n",
    "coroutines = [asyncio.ensure_future(save_stock_prices_nyse_asyncio(folder_stock_prices, row['Symbol'], date_start, date_end)) for _, row in df_nyse_symbols.loc[:30].iterrows()]\n",
    "event_loop = asyncio.get_event_loop()\n",
    "\n",
    "event_loop.run_until_complete(asyncio.wait(coroutines))\n",
    "event_loop.close()\n",
    "t2 = time.time()\n",
    "t2 - t1"
   ]
  },
  {
   "cell_type": "code",
   "execution_count": null,
   "metadata": {
    "collapsed": true
   },
   "outputs": [],
   "source": []
  }
 ],
 "metadata": {
  "kernelspec": {
   "display_name": "Python 3",
   "language": "python",
   "name": "python3"
  },
  "language_info": {
   "codemirror_mode": {
    "name": "ipython",
    "version": 3
   },
   "file_extension": ".py",
   "mimetype": "text/x-python",
   "name": "python",
   "nbconvert_exporter": "python",
   "pygments_lexer": "ipython3",
   "version": "3.5.2"
  }
 },
 "nbformat": 4,
 "nbformat_minor": 1
}
