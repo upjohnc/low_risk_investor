{
 "cells": [
  {
   "cell_type": "code",
   "execution_count": 3,
   "metadata": {
    "collapsed": false
   },
   "outputs": [],
   "source": [
    "from bs4 import BeautifulSoup as bs\n",
    "import pandas as pd\n",
    "import numpy as np\n",
    "import datetime as dt\n",
    "import requests\n",
    "import os\n",
    "import urllib.parse as url_ready"
   ]
  },
  {
   "cell_type": "markdown",
   "metadata": {},
   "source": [
    "# Madrid"
   ]
  },
  {
   "cell_type": "code",
   "execution_count": 3,
   "metadata": {
    "collapsed": true
   },
   "outputs": [],
   "source": [
    "madrid_path = './stock_symbols/madrid_html'"
   ]
  },
  {
   "cell_type": "code",
   "execution_count": 4,
   "metadata": {
    "collapsed": false
   },
   "outputs": [],
   "source": [
    "madrid_dir = os.listdir(madrid_path)"
   ]
  },
  {
   "cell_type": "code",
   "execution_count": 5,
   "metadata": {
    "collapsed": true
   },
   "outputs": [],
   "source": [
    "def set_column_names(df):\n",
    "    df_ = df.copy()\n",
    "    column_names = list(df_.ix[0])\n",
    "    df_.columns = column_names\n",
    "    df_.drop(labels=0, axis=0, inplace=True)\n",
    "    df_.reset_index(drop=True, inplace=True)\n",
    "    return df_"
   ]
  },
  {
   "cell_type": "code",
   "execution_count": null,
   "metadata": {
    "collapsed": true
   },
   "outputs": [],
   "source": [
    "# from the list on the website, pull out the stock names"
   ]
  },
  {
   "cell_type": "code",
   "execution_count": 6,
   "metadata": {
    "collapsed": false
   },
   "outputs": [],
   "source": [
    "df = pd.DataFrame()\n",
    "for file in madrid_dir:\n",
    "    with open(os.path.join(madrid_path, file), 'r') as f:\n",
    "        file_text = f.read()\n",
    "    file_bs = bs(file_text, 'lxml')\n",
    "    table_ = file_bs.find_all(id='ctl00_Contenido_tblEmisoras')[0]\n",
    "    df_temp = pd.read_html(str(table_))[0]\n",
    "    df_temp = set_column_names(df_temp)\n",
    "    df = df.append(df_temp)\n",
    "df.reset_index(drop=True, inplace=True)"
   ]
  },
  {
   "cell_type": "code",
   "execution_count": null,
   "metadata": {
    "collapsed": true
   },
   "outputs": [],
   "source": [
    "# from the list of stock names, pull the tickers from google finance"
   ]
  },
  {
   "cell_type": "code",
   "execution_count": 7,
   "metadata": {
    "collapsed": false,
    "scrolled": true
   },
   "outputs": [],
   "source": [
    "list_stocks = list()\n",
    "for _, stock_name in df['Name'].iteritems():\n",
    "    resp = requests.get('https://www.google.com/finance?q={0}'.format(url_ready.quote(stock_name)))\n",
    "    resp_split = resp.text.split('(BME:')\n",
    "    if 'no matches' in resp.text:\n",
    "        list_stocks.append({'stock_name': stock_name, 'ticker': 'none found'})\n",
    "    elif len(resp_split) == 1:\n",
    "        list_stocks.append({'stock_name': stock_name, 'ticker': 'more than one'})\n",
    "    else:\n",
    "        list_stocks.append({'stock_name': stock_name, 'ticker': 'BME:' + resp_split[1].split(')')[0]})"
   ]
  },
  {
   "cell_type": "code",
   "execution_count": 16,
   "metadata": {
    "collapsed": false
   },
   "outputs": [],
   "source": [
    "pd.DataFrame(list_stocks).to_csv(os.path.join(*(madrid_path.split('/')[:-1]), 'tickers', 'madrid_tickers.csv'))"
   ]
  },
  {
   "cell_type": "markdown",
   "metadata": {},
   "source": [
    "# Milan"
   ]
  },
  {
   "cell_type": "code",
   "execution_count": null,
   "metadata": {
    "collapsed": true
   },
   "outputs": [],
   "source": []
  },
  {
   "cell_type": "markdown",
   "metadata": {},
   "source": [
    "# Toronto"
   ]
  },
  {
   "cell_type": "code",
   "execution_count": null,
   "metadata": {
    "collapsed": true
   },
   "outputs": [],
   "source": [
    "# pull tickers out of html"
   ]
  },
  {
   "cell_type": "code",
   "execution_count": 37,
   "metadata": {
    "collapsed": false
   },
   "outputs": [],
   "source": [
    "toronto_exchange_code = 'TSE'\n",
    "file_path = './stock_symbols/toronto_html'"
   ]
  },
  {
   "cell_type": "code",
   "execution_count": 28,
   "metadata": {
    "collapsed": false
   },
   "outputs": [],
   "source": [
    "def convert_html_header(df):\n",
    "    df_ = df.copy()\n",
    "    df_.columns = list(df_.loc[0])\n",
    "    df_.drop(labels=0, axis=0, inplace=True)\n",
    "    return df_"
   ]
  },
  {
   "cell_type": "code",
   "execution_count": 38,
   "metadata": {
    "collapsed": true
   },
   "outputs": [],
   "source": [
    "files = os.listdir(file_path)"
   ]
  },
  {
   "cell_type": "code",
   "execution_count": 51,
   "metadata": {
    "collapsed": false
   },
   "outputs": [],
   "source": [
    "df_full = pd.DataFrame()\n",
    "for file in files:\n",
    "    with open(os.path.join(file_path, file), 'r') as f:\n",
    "        raw_html = f.read()\n",
    "\n",
    "    toronto_bs = bs(raw_html, 'lxml')\n",
    "\n",
    "    data_section = toronto_bs.findAll(\"div\", { \"class\" : \"fullTableWrapper\" })\n",
    "    data_section = str(data_section[0])\n",
    "    df_list = pd.read_html(str(data_section))\n",
    "    df = df_list[-1]\n",
    "    df = convert_html_header(df)\n",
    "\n",
    "    df['ticker'] = toronto_exchange_code + ':' + df['Symbol']\n",
    "    df_full = df_full.append(df)"
   ]
  },
  {
   "cell_type": "code",
   "execution_count": 54,
   "metadata": {
    "collapsed": true
   },
   "outputs": [],
   "source": [
    "df_full = df_full[['Company Name', 'ticker']]\n",
    "df_full.columns = ['stock_name', 'ticker']"
   ]
  },
  {
   "cell_type": "code",
   "execution_count": 58,
   "metadata": {
    "collapsed": false
   },
   "outputs": [],
   "source": [
    "df_full.to_csv('./stock_symbols/tickers/toronto_tickers.csv')"
   ]
  },
  {
   "cell_type": "code",
   "execution_count": null,
   "metadata": {
    "collapsed": true
   },
   "outputs": [],
   "source": []
  }
 ],
 "metadata": {
  "kernelspec": {
   "display_name": "Python 3",
   "language": "python",
   "name": "python3"
  },
  "language_info": {
   "codemirror_mode": {
    "name": "ipython",
    "version": 3
   },
   "file_extension": ".py",
   "mimetype": "text/x-python",
   "name": "python",
   "nbconvert_exporter": "python",
   "pygments_lexer": "ipython3",
   "version": "3.5.2"
  }
 },
 "nbformat": 4,
 "nbformat_minor": 1
}
