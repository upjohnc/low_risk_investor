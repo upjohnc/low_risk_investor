{
 "cells": [
  {
   "cell_type": "markdown",
   "metadata": {},
   "source": [
    "#Run to re-create pickle before Feb 2011"
   ]
  },
  {
   "cell_type": "code",
   "execution_count": null,
   "metadata": {
    "collapsed": true
   },
   "outputs": [],
   "source": [
    "import urllib.request\n",
    "import datetime as dt\n",
    "from bs4 import BeautifulSoup\n",
    "import requests"
   ]
  },
  {
   "cell_type": "code",
   "execution_count": null,
   "metadata": {
    "collapsed": false
   },
   "outputs": [
    {
     "name": "stdout",
     "output_type": "stream",
     "text": [
      "2014-12-26 00:00:00\n",
      "2014-12-19 00:00:00\n",
      "2014-12-12 00:00:00\n",
      "2014-12-05 00:00:00\n",
      "2014-11-28 00:00:00\n",
      "2014-11-21 00:00:00\n",
      "2014-11-14 00:00:00\n",
      "2014-11-07 00:00:00\n",
      "2014-10-31 00:00:00\n",
      "2014-10-24 00:00:00\n",
      "2014-10-17 00:00:00\n",
      "2014-10-10 00:00:00\n",
      "2014-10-03 00:00:00\n",
      "2014-09-26 00:00:00\n",
      "2014-09-19 00:00:00\n",
      "2014-09-12 00:00:00\n",
      "2014-09-05 00:00:00\n",
      "2014-08-29 00:00:00\n",
      "2014-08-22 00:00:00\n",
      "2014-08-15 00:00:00\n",
      "2014-08-08 00:00:00\n",
      "2014-08-01 00:00:00\n",
      "2014-07-25 00:00:00\n",
      "2014-07-18 00:00:00\n",
      "2014-07-11 00:00:00\n",
      "2014-07-04 00:00:00\n",
      "2014-06-27 00:00:00\n",
      "2014-06-20 00:00:00\n",
      "2014-06-13 00:00:00\n",
      "2014-06-06 00:00:00\n",
      "2014-05-30 00:00:00\n",
      "2014-05-23 00:00:00\n",
      "2014-05-16 00:00:00\n",
      "2014-05-09 00:00:00\n",
      "2014-05-02 00:00:00\n",
      "2014-04-25 00:00:00\n",
      "2014-04-18 00:00:00\n",
      "2014-04-11 00:00:00\n",
      "2014-04-04 00:00:00\n",
      "2014-03-28 00:00:00\n",
      "2014-03-21 00:00:00\n",
      "2014-03-14 00:00:00\n",
      "2014-03-07 00:00:00\n",
      "2014-02-28 00:00:00\n",
      "2014-02-21 00:00:00\n",
      "2014-02-14 00:00:00\n",
      "2014-02-07 00:00:00\n",
      "2014-01-31 00:00:00\n",
      "2014-01-24 00:00:00\n",
      "2014-01-17 00:00:00\n",
      "2014-01-10 00:00:00\n",
      "2014-01-03 00:00:00\n",
      "2013-12-27 00:00:00\n",
      "2013-12-20 00:00:00\n",
      "2013-12-13 00:00:00\n",
      "2013-12-06 00:00:00\n",
      "2013-11-29 00:00:00\n",
      "2013-11-22 00:00:00\n",
      "2013-11-15 00:00:00\n",
      "2013-11-08 00:00:00\n",
      "2013-11-01 00:00:00\n",
      "2013-10-25 00:00:00\n",
      "2013-10-18 00:00:00\n",
      "2013-10-11 00:00:00\n",
      "2013-10-04 00:00:00\n",
      "2013-09-27 00:00:00\n",
      "2013-09-20 00:00:00\n",
      "2013-09-13 00:00:00\n",
      "2013-09-06 00:00:00\n",
      "2013-08-30 00:00:00\n",
      "2013-08-23 00:00:00\n",
      "2013-08-16 00:00:00\n",
      "2013-08-09 00:00:00\n",
      "2013-08-02 00:00:00\n",
      "2013-07-26 00:00:00\n",
      "2013-07-19 00:00:00\n",
      "2013-07-12 00:00:00\n",
      "2013-07-05 00:00:00\n",
      "2013-06-28 00:00:00\n",
      "2013-06-21 00:00:00\n",
      "2013-06-14 00:00:00\n",
      "2013-06-07 00:00:00\n",
      "2013-05-31 00:00:00\n",
      "2013-05-24 00:00:00\n",
      "2013-05-17 00:00:00\n",
      "2013-05-10 00:00:00\n",
      "2013-05-03 00:00:00\n",
      "2013-04-26 00:00:00\n",
      "2013-04-19 00:00:00\n",
      "2013-04-12 00:00:00\n",
      "2013-04-05 00:00:00\n",
      "2013-03-29 00:00:00\n",
      "2013-03-22 00:00:00\n",
      "2013-03-15 00:00:00\n",
      "2013-03-08 00:00:00\n",
      "2013-03-01 00:00:00\n",
      "2013-02-22 00:00:00\n",
      "2013-02-15 00:00:00\n",
      "2013-02-08 00:00:00\n",
      "2013-02-01 00:00:00\n",
      "2013-01-25 00:00:00\n",
      "2013-01-18 00:00:00\n",
      "2013-01-11 00:00:00\n",
      "2013-01-04 00:00:00\n",
      "2012-12-28 00:00:00\n",
      "2012-12-21 00:00:00\n",
      "2012-12-14 00:00:00\n",
      "2012-12-07 00:00:00\n",
      "2012-11-30 00:00:00\n",
      "2012-11-23 00:00:00\n",
      "2012-11-16 00:00:00\n",
      "2012-11-09 00:00:00\n",
      "2012-11-02 00:00:00\n",
      "2012-10-26 00:00:00\n",
      "2012-10-19 00:00:00\n",
      "2012-10-12 00:00:00\n",
      "2012-10-05 00:00:00\n",
      "2012-09-28 00:00:00\n",
      "2012-09-21 00:00:00\n",
      "2012-09-14 00:00:00\n",
      "2012-09-07 00:00:00\n",
      "2012-08-31 00:00:00\n",
      "2012-08-24 00:00:00\n",
      "2012-08-17 00:00:00\n",
      "2012-08-10 00:00:00\n",
      "2012-08-03 00:00:00\n",
      "2012-07-27 00:00:00\n",
      "2012-07-20 00:00:00\n",
      "2012-07-13 00:00:00\n",
      "2012-07-06 00:00:00\n",
      "2012-06-29 00:00:00\n",
      "2012-06-22 00:00:00\n",
      "2012-06-15 00:00:00\n",
      "2012-06-08 00:00:00\n",
      "2012-06-01 00:00:00\n",
      "2012-05-25 00:00:00\n",
      "2012-05-18 00:00:00\n",
      "2012-05-11 00:00:00\n",
      "2012-05-04 00:00:00\n",
      "2012-04-27 00:00:00\n",
      "2012-04-20 00:00:00\n",
      "2012-04-13 00:00:00\n",
      "2012-04-06 00:00:00\n",
      "2012-03-30 00:00:00\n",
      "2012-03-23 00:00:00\n",
      "2012-03-16 00:00:00\n",
      "2012-03-09 00:00:00\n",
      "2012-03-02 00:00:00\n",
      "2012-02-24 00:00:00\n",
      "2012-02-17 00:00:00\n",
      "2012-02-10 00:00:00\n",
      "2012-02-03 00:00:00\n",
      "2012-01-27 00:00:00\n",
      "2012-01-20 00:00:00\n",
      "2012-01-13 00:00:00\n",
      "2012-01-06 00:00:00\n",
      "2011-12-30 00:00:00\n",
      "2011-12-23 00:00:00\n",
      "2011-12-16 00:00:00\n",
      "2011-12-09 00:00:00\n",
      "2011-12-02 00:00:00\n",
      "2011-11-25 00:00:00\n",
      "2011-11-18 00:00:00\n",
      "2011-11-11 00:00:00\n",
      "2011-11-04 00:00:00\n",
      "2011-10-28 00:00:00\n",
      "2011-10-21 00:00:00\n",
      "2011-10-14 00:00:00\n",
      "2011-10-07 00:00:00\n",
      "2011-09-30 00:00:00\n",
      "2011-09-23 00:00:00\n",
      "2011-09-16 00:00:00\n",
      "2011-09-09 00:00:00\n",
      "2011-09-02 00:00:00\n",
      "2011-08-26 00:00:00"
     ]
    }
   ],
   "source": [
    "date = dt.datetime(2014, 12, 26)\n",
    "#3/3/2011\n",
    "\n",
    "data = []\n",
    "\n",
    "def requestAdDe(dateParam):\n",
    "    dateStr = dateTemp.strftime('%Y%m%d')\n",
    "\n",
    "    gh_url = 'http://online.wsj.com/mdc/public/page/2_3021-tradingdiary2-%s.html' %dateStr\n",
    "\n",
    "    req = requests.get(gh_url)\n",
    "    \n",
    "    b = BeautifulSoup(req.text)\n",
    "\n",
    "    return {'date' : dateTemp, 'Adv' : b.find_all('table')[6].find_all('td')[5].string, 'Dec' : b.find_all('table')[6].find_all('td')[7].string}\n",
    "\n",
    "for i in range(200):\n",
    "    \n",
    "    try:\n",
    "        numDays = -7 * i\n",
    "    \n",
    "        dateTemp = date + dt.timedelta(days = numDays)\n",
    "        print(dateTemp)\n",
    "        if dateTemp < dt.datetime(2011, 3, 3):\n",
    "            break\n",
    "            \n",
    "        data.append(requestAdDe(dateTemp))\n",
    "\n",
    "    except:\n",
    "        dateTemp = dateTemp + dt.timedelta(days = -1)\n",
    "    \n",
    "        if dateTemp < dt.datetime(2011, 3, 3):\n",
    "            break\n",
    "        \n",
    "        data.append(requestAdDe(dateTemp))\n",
    "        "
   ]
  },
  {
   "cell_type": "code",
   "execution_count": null,
   "metadata": {
    "collapsed": false
   },
   "outputs": [],
   "source": [
    "import pandas as pd\n",
    "\n",
    "df = pd.DataFrame(data)\n",
    "df['Adv'] = df['Adv'].map(lambda x: x.replace(',', ''))\n",
    "df['Dec'] = df['Dec'].map(lambda x: x.replace(',', ''))\n",
    "df[['Adv', 'Dec']] = df[['Adv', 'Dec']].astype(int)\n",
    "df.set_index(keys = ['date'], drop = True, inplace = True)\n",
    "df.sort_index(ascending = True, inplace = True)\n",
    "print(df.head())\n",
    "df.to_pickle('AdDe.pkl')"
   ]
  },
  {
   "cell_type": "code",
   "execution_count": null,
   "metadata": {
    "collapsed": false
   },
   "outputs": [],
   "source": [
    "import urllib.request\n",
    "import datetime as dt\n",
    "from bs4 import BeautifulSoup\n",
    "\n",
    "date = dt.datetime(2011, 2, 25)\n",
    "        \n",
    "data = []\n",
    "\n",
    "def requestAdDe(dateParam):\n",
    "    dateStr = dateTemp.strftime('%Y%m%d')\n",
    "\n",
    "    gh_url = 'http://online.wsj.com/mdc/public/page/2_3021-tradingdiary-%s.html' %dateStr\n",
    "\n",
    "    req = requests.get(gh_url)\n",
    "    \n",
    "    b = BeautifulSoup(req.text)\n",
    "\n",
    "    return {'date' : dateTemp, 'Adv' : b.find_all('table')[6].find_all('td')[5].string, 'Dec' : b.find_all('table')[6].find_all('td')[7].string}\n",
    "\n",
    "for i in range(250):\n",
    "    \n",
    "    try:\n",
    "        numDays = -7 * i\n",
    "    \n",
    "        dateTemp = date + dt.timedelta(days = numDays)\n",
    "        print(dateTemp)\n",
    "        if dateTemp < dt.datetime(2007, 5, 4):\n",
    "            break\n",
    "            \n",
    "        data.append(requestAdDe(dateTemp))\n",
    "\n",
    "    except:\n",
    "        dateTemp = dateTemp + dt.timedelta(days = -1)\n",
    "    \n",
    "        if dateTemp < dt.datetime(2007, 5, 4):\n",
    "            break\n",
    "        \n",
    "        data.append(requestAdDe(dateTemp))\n",
    "        \n"
   ]
  },
  {
   "cell_type": "code",
   "execution_count": null,
   "metadata": {
    "collapsed": false
   },
   "outputs": [],
   "source": [
    "import pandas as pd\n",
    "\n",
    "df = pd.DataFrame(data)\n",
    "df['Adv'] = df['Adv'].map(lambda x: x.replace(',', ''))\n",
    "df['Dec'] = df['Dec'].map(lambda x: x.replace(',', ''))\n",
    "df['Adv'] = df['Adv'].map(lambda x: x.replace('c', ''))\n",
    "df['Dec'] = df['Dec'].map(lambda x: x.replace('c', ''))\n",
    "df[['Adv', 'Dec']] = df[['Adv', 'Dec']].astype(int)\n",
    "df.set_index(keys = ['date'], drop = True, inplace = True)\n",
    "df.sort_index(ascending = True, inplace = True)\n",
    "print(df.head())\n",
    "df.to_pickle('AdDeBefore20110225.pkl')"
   ]
  },
  {
   "cell_type": "markdown",
   "metadata": {},
   "source": [
    "#Run new weeks"
   ]
  },
  {
   "cell_type": "code",
   "execution_count": 1,
   "metadata": {
    "collapsed": false
   },
   "outputs": [],
   "source": [
    "import os\n",
    "import urllib.request\n",
    "import datetime as dt\n",
    "from bs4 import BeautifulSoup\n",
    "import pandas as pd\n",
    "\n",
    "today = dt.datetime.now()\n",
    "\n",
    "shift = today + dt.timedelta(days = -4)\n",
    "\n",
    "weekNum = shift.strftime('%W')\n",
    "\n",
    "dateStr = '%s%s5' % (today.strftime('%Y'), weekNum)\n",
    "\n",
    "friDate = dt.datetime.strptime(dateStr, '%Y%W%w')\n",
    "\n",
    "friDateStr = dt.datetime.strftime(friDate, '%Y%m%d')\n",
    "\n",
    "pathFolder = './results/' + friDateStr\n",
    "\n",
    "if not os.path.exists(pathFolder):\n",
    "    os.makedirs(pathFolder)"
   ]
  },
  {
   "cell_type": "markdown",
   "metadata": {},
   "source": [
    "#AdDe Function"
   ]
  },
  {
   "cell_type": "code",
   "execution_count": 2,
   "metadata": {
    "collapsed": false
   },
   "outputs": [],
   "source": [
    "import datetime as dt\n",
    "from bs4 import BeautifulSoup\n",
    "import requests\n",
    "\n",
    "def dictAdDe(dateParam):\n",
    "    def requestAdDe(dateParam):\n",
    "        dateStr = dateParam.strftime('%Y%m%d')\n",
    "\n",
    "        gh_url = 'http://online.wsj.com/mdc/public/page/2_3021-tradingdiary2-%s.html' % dateStr\n",
    "\n",
    "        req = requests.get(gh_url)\n",
    "\n",
    "        b = BeautifulSoup(req.text)\n",
    "\n",
    "        return {'date' : dateParam, 'Adv' : int(b.find_all('table')[6].find_all('td')[5].string.replace(',', '')), 'Dec' : int(b.find_all('table')[6].find_all('td')[7].string.replace(',', ''))}\n",
    "    \n",
    "    try:\n",
    "        data = requestAdDe(dateParam)\n",
    "\n",
    "    except:\n",
    "        dateParam = dateParam + dt.timedelta(days = -1)\n",
    "        \n",
    "        data = requestAdDe(dateParam)\n",
    "        \n",
    "    return data"
   ]
  },
  {
   "cell_type": "markdown",
   "metadata": {},
   "source": [
    "#Add missing Friday's to AdDe df"
   ]
  },
  {
   "cell_type": "code",
   "execution_count": 6,
   "metadata": {
    "collapsed": false
   },
   "outputs": [],
   "source": [
    "# date = dt.datetime(2014, 12, 30)\n",
    "\n",
    "dfAdDe = pd.read_pickle('./results/AdDe.pkl')\n",
    "\n",
    "#find number of weeks missing\n",
    "daysMissing = friDate - max(dfAdDe.index)\n",
    "\n",
    "#convert to integer\n",
    "daysMissing = int(daysMissing.total_seconds() / (60 * 60 * 24))\n",
    "\n",
    "listDates = []\n",
    "\n",
    "#loop through\n",
    "#number of times is 7 divided by the daysMissing\n",
    "for i in (range(int(daysMissing / 7))):\n",
    "    listDates.append(friDate + dt.timedelta(days = -(i * 7)))\n",
    "\n",
    "    \n",
    "#sort to get oldest date first\n",
    "listDates.sort(reverse = False)\n",
    "\n",
    "data = []\n",
    "\n",
    "for nextDate in listDates:\n",
    "    #get new data\n",
    "    dataDict = dictAdDe(nextDate)\n",
    "\n",
    "    #append to old df\n",
    "    data.append(dataDict)\n",
    "df = pd.DataFrame(data)\n",
    "\n",
    "df[['Adv', 'Dec']] = df[['Adv', 'Dec']].astype(int)\n",
    "df.set_index(keys = ['date'], drop = True, inplace = True)\n",
    "df.sort_index(ascending = True, inplace = True)\n",
    "\n",
    "dfAdDe = dfAdDe.append(df)\n",
    "#save to result folder & pathFolder\n",
    "dfAdDe.to_pickle('./results/AdDe.pkl')\n",
    "dfAdDe.to_pickle(pathFolder + '/AdDe' + friDate.strftime('%Y%m%d') + '.pkl')"
   ]
  },
  {
   "cell_type": "code",
   "execution_count": 7,
   "metadata": {
    "collapsed": true
   },
   "outputs": [],
   "source": [
    "dfAdDe = pd.read_pickle('./results/AdDe.pkl')"
   ]
  },
  {
   "cell_type": "code",
   "execution_count": 4,
   "metadata": {
    "collapsed": false
   },
   "outputs": [],
   "source": [
    "dfAdDe = dfAdDe.ix[:-2]\n",
    "dfAdDe.to_pickle('./results/AdDe.pkl')"
   ]
  },
  {
   "cell_type": "code",
   "execution_count": 3,
   "metadata": {
    "collapsed": false
   },
   "outputs": [
    {
     "data": {
      "text/html": [
       "<div>\n",
       "<table border=\"1\" class=\"dataframe\">\n",
       "  <thead>\n",
       "    <tr style=\"text-align: right;\">\n",
       "      <th></th>\n",
       "      <th>Adv</th>\n",
       "      <th>Dec</th>\n",
       "    </tr>\n",
       "  </thead>\n",
       "  <tbody>\n",
       "    <tr>\n",
       "      <th>2015-09-04</th>\n",
       "      <td>857</td>\n",
       "      <td>2373</td>\n",
       "    </tr>\n",
       "    <tr>\n",
       "      <th>2015-09-11</th>\n",
       "      <td>1808</td>\n",
       "      <td>1409</td>\n",
       "    </tr>\n",
       "    <tr>\n",
       "      <th>2015-09-18</th>\n",
       "      <td>1771</td>\n",
       "      <td>1459</td>\n",
       "    </tr>\n",
       "    <tr>\n",
       "      <th>2015-09-25</th>\n",
       "      <td>1057</td>\n",
       "      <td>2179</td>\n",
       "    </tr>\n",
       "    <tr>\n",
       "      <th>2015-10-02</th>\n",
       "      <td>1444</td>\n",
       "      <td>1805</td>\n",
       "    </tr>\n",
       "  </tbody>\n",
       "</table>\n",
       "</div>"
      ],
      "text/plain": [
       "             Adv   Dec\n",
       "2015-09-04   857  2373\n",
       "2015-09-11  1808  1409\n",
       "2015-09-18  1771  1459\n",
       "2015-09-25  1057  2179\n",
       "2015-10-02  1444  1805"
      ]
     },
     "execution_count": 3,
     "metadata": {},
     "output_type": "execute_result"
    }
   ],
   "source": [
    "dfAdDe = pd.read_pickle('./results/AdDe.pkl')\n",
    "dfAdDe.tail()"
   ]
  },
  {
   "cell_type": "markdown",
   "metadata": {},
   "source": [
    "#Test folder name"
   ]
  },
  {
   "cell_type": "code",
   "execution_count": null,
   "metadata": {
    "collapsed": false
   },
   "outputs": [],
   "source": [
    "pathFolder + '/AdDe' + friDate.strftime('%Y%m%d') + '.pkl'"
   ]
  },
  {
   "cell_type": "code",
   "execution_count": null,
   "metadata": {
    "collapsed": true
   },
   "outputs": [],
   "source": []
  }
 ],
 "metadata": {
  "kernelspec": {
   "display_name": "Python 3",
   "language": "python",
   "name": "python3"
  },
  "language_info": {
   "codemirror_mode": {
    "name": "ipython",
    "version": 3
   },
   "file_extension": ".py",
   "mimetype": "text/x-python",
   "name": "python",
   "nbconvert_exporter": "python",
   "pygments_lexer": "ipython3",
   "version": "3.5.2"
  }
 },
 "nbformat": 4,
 "nbformat_minor": 0
}
