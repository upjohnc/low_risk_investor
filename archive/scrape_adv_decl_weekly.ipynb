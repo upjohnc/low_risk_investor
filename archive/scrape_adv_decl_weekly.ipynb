{
 "cells": [
  {
   "cell_type": "markdown",
   "metadata": {},
   "source": [
    "#Run new weeks"
   ]
  },
  {
   "cell_type": "code",
   "execution_count": 69,
   "metadata": {
    "collapsed": true
   },
   "outputs": [],
   "source": [
    "import os\n",
    "import datetime as dt\n",
    "from bs4 import BeautifulSoup\n",
    "import pandas as pd\n",
    "import requests"
   ]
  },
  {
   "cell_type": "code",
   "execution_count": 70,
   "metadata": {
    "collapsed": true
   },
   "outputs": [],
   "source": [
    "today = dt.datetime.now()\n",
    "\n",
    "shift_date = today - dt.timedelta(days=4)\n",
    "\n",
    "week_number = shift_date.strftime('%W')"
   ]
  },
  {
   "cell_type": "code",
   "execution_count": 71,
   "metadata": {
    "collapsed": false
   },
   "outputs": [],
   "source": [
    "week_friday_string = '{0}{1}5'.format(today.strftime('%Y'), str(week_number))"
   ]
  },
  {
   "cell_type": "code",
   "execution_count": 72,
   "metadata": {
    "collapsed": true
   },
   "outputs": [],
   "source": [
    "date_friday = dt.datetime.strptime(week_friday_string, '%Y%W%w')"
   ]
  },
  {
   "cell_type": "code",
   "execution_count": 73,
   "metadata": {
    "collapsed": false
   },
   "outputs": [
    {
     "data": {
      "text/plain": [
       "datetime.datetime(2016, 11, 4, 0, 0)"
      ]
     },
     "execution_count": 73,
     "metadata": {},
     "output_type": "execute_result"
    }
   ],
   "source": [
    "date_friday"
   ]
  },
  {
   "cell_type": "code",
   "execution_count": 74,
   "metadata": {
    "collapsed": true
   },
   "outputs": [],
   "source": [
    "date_friday_string = dt.datetime.strftime(date_friday, '%Y%m%d')\n",
    "\n",
    "path_folder = './results/' + date_friday_string\n",
    "\n",
    "if not os.path.exists(path_folder):\n",
    "    os.makedirs(path_folder)"
   ]
  },
  {
   "cell_type": "markdown",
   "metadata": {},
   "source": [
    "#AdDe Function"
   ]
  },
  {
   "cell_type": "code",
   "execution_count": 75,
   "metadata": {
    "collapsed": true
   },
   "outputs": [],
   "source": [
    "def scrape_adv_decl(date_scrape):\n",
    "    date_string = date_scrape.strftime('%Y%m%d')\n",
    "    wsj_url = 'http://online.wsj.com/mdc/public/page/2_3021-tradingdiary2-{}.html'.format(date_string)\n",
    "    wsj_response = requests.get(wsj_url)\n",
    "    wsj_bs_html = BeautifulSoup(wsj_response.text, 'html.parser')\n",
    "\n",
    "    return {'date': date_scrape, 'adv': int(wsj_bs_html.find_all('table')[6].find_all('td')[5].string.replace(',', '')), 'decl': int(wsj_bs_html.find_all('table')[6].find_all('td')[7].string.replace(',', ''))}\n",
    "    "
   ]
  },
  {
   "cell_type": "code",
   "execution_count": 76,
   "metadata": {
    "collapsed": false
   },
   "outputs": [],
   "source": [
    "def dict_adv_decl(date_param):\n",
    "    try:\n",
    "        data = scrape_adv_decl(date_param)\n",
    "\n",
    "    except:\n",
    "        # for holidays\n",
    "        date_param = date_param - dt.timedelta(days=1)\n",
    "        data = scrape_adv_decl(date_param)\n",
    "        \n",
    "    return data"
   ]
  },
  {
   "cell_type": "markdown",
   "metadata": {},
   "source": [
    "#Add missing Friday's to AdDe df"
   ]
  },
  {
   "cell_type": "code",
   "execution_count": 77,
   "metadata": {
    "collapsed": true
   },
   "outputs": [],
   "source": [
    "# date = dt.datetime(2014, 12, 30)\n",
    "\n",
    "# df_adv_decl = pd.read_pickle('./results/adv_decl.pkl')\n",
    "df_adv_decl = pd.read_pickle('./results/adv_decl.pkl')\n",
    "\n",
    "#find number of weeks missing\n",
    "days_missing = date_friday - max(df_adv_decl.index)"
   ]
  },
  {
   "cell_type": "code",
   "execution_count": 78,
   "metadata": {
    "collapsed": false
   },
   "outputs": [],
   "source": [
    "#convert to integer\n",
    "days_missing = days_missing.days\n",
    "\n",
    "dates_list = []\n",
    "\n",
    "#loop through\n",
    "#number of times is 7 divided by the days_missing\n",
    "for i in (range(int(days_missing / 7))):\n",
    "    dates_list.append(date_friday - dt.timedelta(days=(i * 7)))\n",
    "\n",
    "    "
   ]
  },
  {
   "cell_type": "code",
   "execution_count": 79,
   "metadata": {
    "collapsed": false
   },
   "outputs": [],
   "source": [
    "#sort to get oldest date first\n",
    "dates_list.sort(reverse = False)\n",
    "\n",
    "data = []\n",
    "\n",
    "for next_date in dates_list:\n",
    "    #get new data\n",
    "    data_dict = dict_adv_decl(next_date)\n",
    "    #append to old df\n",
    "    data.append(data_dict)\n",
    "    \n",
    "df = pd.DataFrame(data)"
   ]
  },
  {
   "cell_type": "code",
   "execution_count": 82,
   "metadata": {
    "collapsed": true
   },
   "outputs": [],
   "source": [
    "df[['adv', 'decl']] = df[['adv', 'decl']].astype(int)\n",
    "df.set_index(keys = ['date'], drop = True, inplace = True)\n",
    "df.sort_index(ascending = True, inplace = True)\n",
    "\n",
    "df_adv_decl = df_adv_decl.append(df)"
   ]
  },
  {
   "cell_type": "code",
   "execution_count": 85,
   "metadata": {
    "collapsed": false
   },
   "outputs": [],
   "source": [
    "#save to result folder & path_folder\n",
    "df_adv_decl.to_pickle('./results/adv_decl.pkl')\n",
    "df_adv_decl.to_pickle(os.path.join(path_folder, 'adv_decl_{}.pkl'.format(date_friday.strftime('%Y%m%d'))))"
   ]
  },
  {
   "cell_type": "code",
   "execution_count": 90,
   "metadata": {
    "collapsed": true
   },
   "outputs": [],
   "source": [
    "df = pd.read_pickle('./results/AdDe.pkl')"
   ]
  },
  {
   "cell_type": "code",
   "execution_count": 91,
   "metadata": {
    "collapsed": false
   },
   "outputs": [
    {
     "data": {
      "text/html": [
       "<div>\n",
       "<table border=\"1\" class=\"dataframe\">\n",
       "  <thead>\n",
       "    <tr style=\"text-align: right;\">\n",
       "      <th></th>\n",
       "      <th>Adv</th>\n",
       "      <th>Dec</th>\n",
       "    </tr>\n",
       "  </thead>\n",
       "  <tbody>\n",
       "    <tr>\n",
       "      <th>2015-09-04</th>\n",
       "      <td>857</td>\n",
       "      <td>2373</td>\n",
       "    </tr>\n",
       "    <tr>\n",
       "      <th>2015-09-11</th>\n",
       "      <td>1808</td>\n",
       "      <td>1409</td>\n",
       "    </tr>\n",
       "    <tr>\n",
       "      <th>2015-09-18</th>\n",
       "      <td>1771</td>\n",
       "      <td>1459</td>\n",
       "    </tr>\n",
       "    <tr>\n",
       "      <th>2015-09-25</th>\n",
       "      <td>1057</td>\n",
       "      <td>2179</td>\n",
       "    </tr>\n",
       "    <tr>\n",
       "      <th>2015-10-02</th>\n",
       "      <td>1444</td>\n",
       "      <td>1805</td>\n",
       "    </tr>\n",
       "  </tbody>\n",
       "</table>\n",
       "</div>"
      ],
      "text/plain": [
       "             Adv   Dec\n",
       "2015-09-04   857  2373\n",
       "2015-09-11  1808  1409\n",
       "2015-09-18  1771  1459\n",
       "2015-09-25  1057  2179\n",
       "2015-10-02  1444  1805"
      ]
     },
     "execution_count": 91,
     "metadata": {},
     "output_type": "execute_result"
    }
   ],
   "source": [
    "df.tail()"
   ]
  },
  {
   "cell_type": "code",
   "execution_count": null,
   "metadata": {
    "collapsed": true
   },
   "outputs": [],
   "source": []
  }
 ],
 "metadata": {
  "kernelspec": {
   "display_name": "Python 3",
   "language": "python",
   "name": "python3"
  },
  "language_info": {
   "codemirror_mode": {
    "name": "ipython",
    "version": 3
   },
   "file_extension": ".py",
   "mimetype": "text/x-python",
   "name": "python",
   "nbconvert_exporter": "python",
   "pygments_lexer": "ipython3",
   "version": "3.5.2"
  }
 },
 "nbformat": 4,
 "nbformat_minor": 0
}
