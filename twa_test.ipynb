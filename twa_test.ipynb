{
 "cells": [
  {
   "cell_type": "code",
   "execution_count": 1,
   "metadata": {
    "collapsed": true
   },
   "outputs": [],
   "source": [
    "import pandas as pd"
   ]
  },
  {
   "cell_type": "code",
   "execution_count": 34,
   "metadata": {
    "collapsed": false
   },
   "outputs": [],
   "source": [
    "df = pd.read_csv('twa_example.csv')"
   ]
  },
  {
   "cell_type": "code",
   "execution_count": 35,
   "metadata": {
    "collapsed": true
   },
   "outputs": [],
   "source": [
    "df['ma_5'] = df['value'].rolling(5).mean()\n",
    "\n",
    "df['ma_15'] = df['value'].rolling(15).mean()\n",
    "df['ma_40'] = df['value'].rolling(40).mean()"
   ]
  },
  {
   "cell_type": "code",
   "execution_count": 37,
   "metadata": {
    "collapsed": false
   },
   "outputs": [
    {
     "data": {
      "text/html": [
       "<div>\n",
       "<table border=\"1\" class=\"dataframe\">\n",
       "  <thead>\n",
       "    <tr style=\"text-align: right;\">\n",
       "      <th></th>\n",
       "      <th>date</th>\n",
       "      <th>value</th>\n",
       "      <th>Unnamed: 2</th>\n",
       "      <th>Unnamed: 3</th>\n",
       "      <th>Unnamed: 4</th>\n",
       "      <th>Unnamed: 5</th>\n",
       "      <th>Unnamed: 6</th>\n",
       "      <th>ma_5</th>\n",
       "      <th>ma_15</th>\n",
       "      <th>ma_40</th>\n",
       "    </tr>\n",
       "  </thead>\n",
       "  <tbody>\n",
       "    <tr>\n",
       "      <th>71</th>\n",
       "      <td>5-Feb</td>\n",
       "      <td>16.875</td>\n",
       "      <td>NaN</td>\n",
       "      <td>NaN</td>\n",
       "      <td>NaN</td>\n",
       "      <td>NaN</td>\n",
       "      <td>NaN</td>\n",
       "      <td>16.325</td>\n",
       "      <td>13.483333</td>\n",
       "      <td>13.343125</td>\n",
       "    </tr>\n",
       "    <tr>\n",
       "      <th>72</th>\n",
       "      <td>12-Feb</td>\n",
       "      <td>18.000</td>\n",
       "      <td>NaN</td>\n",
       "      <td>NaN</td>\n",
       "      <td>NaN</td>\n",
       "      <td>NaN</td>\n",
       "      <td>NaN</td>\n",
       "      <td>17.050</td>\n",
       "      <td>13.900000</td>\n",
       "      <td>13.426875</td>\n",
       "    </tr>\n",
       "    <tr>\n",
       "      <th>73</th>\n",
       "      <td>19-Feb</td>\n",
       "      <td>17.750</td>\n",
       "      <td>NaN</td>\n",
       "      <td>NaN</td>\n",
       "      <td>NaN</td>\n",
       "      <td>NaN</td>\n",
       "      <td>NaN</td>\n",
       "      <td>17.425</td>\n",
       "      <td>14.250000</td>\n",
       "      <td>13.536875</td>\n",
       "    </tr>\n",
       "    <tr>\n",
       "      <th>74</th>\n",
       "      <td>26-Feb</td>\n",
       "      <td>18.875</td>\n",
       "      <td>NaN</td>\n",
       "      <td>NaN</td>\n",
       "      <td>NaN</td>\n",
       "      <td>NaN</td>\n",
       "      <td>NaN</td>\n",
       "      <td>17.900</td>\n",
       "      <td>14.691667</td>\n",
       "      <td>13.702500</td>\n",
       "    </tr>\n",
       "    <tr>\n",
       "      <th>75</th>\n",
       "      <td>5-Mar</td>\n",
       "      <td>20.375</td>\n",
       "      <td>13.89</td>\n",
       "      <td>13.75</td>\n",
       "      <td>NaN</td>\n",
       "      <td>NaN</td>\n",
       "      <td>NaN</td>\n",
       "      <td>18.375</td>\n",
       "      <td>15.325000</td>\n",
       "      <td>13.903125</td>\n",
       "    </tr>\n",
       "  </tbody>\n",
       "</table>\n",
       "</div>"
      ],
      "text/plain": [
       "      date   value  Unnamed: 2  Unnamed: 3  Unnamed: 4  Unnamed: 5  \\\n",
       "71   5-Feb  16.875         NaN         NaN         NaN         NaN   \n",
       "72  12-Feb  18.000         NaN         NaN         NaN         NaN   \n",
       "73  19-Feb  17.750         NaN         NaN         NaN         NaN   \n",
       "74  26-Feb  18.875         NaN         NaN         NaN         NaN   \n",
       "75   5-Mar  20.375       13.89       13.75         NaN         NaN   \n",
       "\n",
       "    Unnamed: 6    ma_5      ma_15      ma_40  \n",
       "71         NaN  16.325  13.483333  13.343125  \n",
       "72         NaN  17.050  13.900000  13.426875  \n",
       "73         NaN  17.425  14.250000  13.536875  \n",
       "74         NaN  17.900  14.691667  13.702500  \n",
       "75         NaN  18.375  15.325000  13.903125  "
      ]
     },
     "execution_count": 37,
     "metadata": {},
     "output_type": "execute_result"
    }
   ],
   "source": [
    "df.tail()"
   ]
  },
  {
   "cell_type": "code",
   "execution_count": null,
   "metadata": {
    "collapsed": true
   },
   "outputs": [],
   "source": []
  }
 ],
 "metadata": {
  "kernelspec": {
   "display_name": "Python 3",
   "language": "python",
   "name": "python3"
  },
  "language_info": {
   "codemirror_mode": {
    "name": "ipython",
    "version": 3
   },
   "file_extension": ".py",
   "mimetype": "text/x-python",
   "name": "python",
   "nbconvert_exporter": "python",
   "pygments_lexer": "ipython3",
   "version": "3.5.2"
  }
 },
 "nbformat": 4,
 "nbformat_minor": 1
}
