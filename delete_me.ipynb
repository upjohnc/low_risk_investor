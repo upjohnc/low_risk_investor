{
 "cells": [
  {
   "cell_type": "code",
   "execution_count": 1,
   "metadata": {
    "collapsed": false
   },
   "outputs": [],
   "source": [
    "import pandas as pd\n",
    "import numpy as np\n",
    "from utils import clean_nyse, get_clean_and_n, get_nyse"
   ]
  },
  {
   "cell_type": "code",
   "execution_count": 5,
   "metadata": {
    "collapsed": false
   },
   "outputs": [
    {
     "ename": "KeyError",
     "evalue": "'date'",
     "output_type": "error",
     "traceback": [
      "\u001b[0;31m--------------------------\u001b[0m",
      "\u001b[0;31mKeyError\u001b[0mTraceback (most recent call last)",
      "\u001b[0;32m/Users/charlesupjohn/.virtualenvs/low_risk_investor/lib/python3.6/site-packages/pandas/indexes/base.py\u001b[0m in \u001b[0;36mget_loc\u001b[0;34m(self, key, method, tolerance)\u001b[0m\n\u001b[1;32m   2133\u001b[0m             \u001b[0;32mtry\u001b[0m\u001b[0;34m:\u001b[0m\u001b[0;34m\u001b[0m\u001b[0m\n\u001b[0;32m-> 2134\u001b[0;31m                 \u001b[0;32mreturn\u001b[0m \u001b[0mself\u001b[0m\u001b[0;34m.\u001b[0m\u001b[0m_engine\u001b[0m\u001b[0;34m.\u001b[0m\u001b[0mget_loc\u001b[0m\u001b[0;34m(\u001b[0m\u001b[0mkey\u001b[0m\u001b[0;34m)\u001b[0m\u001b[0;34m\u001b[0m\u001b[0m\n\u001b[0m\u001b[1;32m   2135\u001b[0m             \u001b[0;32mexcept\u001b[0m \u001b[0mKeyError\u001b[0m\u001b[0;34m:\u001b[0m\u001b[0;34m\u001b[0m\u001b[0m\n",
      "\u001b[0;32mpandas/index.pyx\u001b[0m in \u001b[0;36mpandas.index.IndexEngine.get_loc (pandas/index.c:4433)\u001b[0;34m()\u001b[0m\n",
      "\u001b[0;32mpandas/index.pyx\u001b[0m in \u001b[0;36mpandas.index.IndexEngine.get_loc (pandas/index.c:4279)\u001b[0;34m()\u001b[0m\n",
      "\u001b[0;32mpandas/src/hashtable_class_helper.pxi\u001b[0m in \u001b[0;36mpandas.hashtable.PyObjectHashTable.get_item (pandas/hashtable.c:13742)\u001b[0;34m()\u001b[0m\n",
      "\u001b[0;32mpandas/src/hashtable_class_helper.pxi\u001b[0m in \u001b[0;36mpandas.hashtable.PyObjectHashTable.get_item (pandas/hashtable.c:13696)\u001b[0;34m()\u001b[0m\n",
      "\u001b[0;31mKeyError\u001b[0m: 'date'",
      "\nDuring handling of the above exception, another exception occurred:\n",
      "\u001b[0;31mKeyError\u001b[0mTraceback (most recent call last)",
      "\u001b[0;32m<ipython-input-5-b443bc965bac>\u001b[0m in \u001b[0;36m<module>\u001b[0;34m()\u001b[0m\n\u001b[0;32m----> 1\u001b[0;31m \u001b[0mdf\u001b[0m \u001b[0;34m=\u001b[0m \u001b[0mget_nyse\u001b[0m\u001b[0;34m(\u001b[0m\u001b[0;34m'abx'\u001b[0m\u001b[0;34m)\u001b[0m\u001b[0;34m\u001b[0m\u001b[0m\n\u001b[0m",
      "\u001b[0;32m/Users/charlesupjohn/projects/low_risk_investor/utils.py\u001b[0m in \u001b[0;36mget_nyse\u001b[0;34m(stock_name)\u001b[0m\n\u001b[1;32m      5\u001b[0m \u001b[0;32mdef\u001b[0m \u001b[0mget_nyse\u001b[0m\u001b[0;34m(\u001b[0m\u001b[0mstock_name\u001b[0m\u001b[0;34m)\u001b[0m\u001b[0;34m:\u001b[0m\u001b[0;34m\u001b[0m\u001b[0m\n\u001b[1;32m      6\u001b[0m     \u001b[0mdf\u001b[0m \u001b[0;34m=\u001b[0m \u001b[0mpd\u001b[0m\u001b[0;34m.\u001b[0m\u001b[0mread_csv\u001b[0m\u001b[0;34m(\u001b[0m\u001b[0;34m'./stock_prices/nyse_{}.csv'\u001b[0m\u001b[0;34m.\u001b[0m\u001b[0mformat\u001b[0m\u001b[0;34m(\u001b[0m\u001b[0mstock_name\u001b[0m\u001b[0;34m)\u001b[0m\u001b[0;34m)\u001b[0m\u001b[0;34m\u001b[0m\u001b[0m\n\u001b[0;32m----> 7\u001b[0;31m     \u001b[0mdf\u001b[0m \u001b[0;34m=\u001b[0m \u001b[0mget_clean_and_n\u001b[0m\u001b[0;34m(\u001b[0m\u001b[0mdf\u001b[0m\u001b[0;34m)\u001b[0m\u001b[0;34m\u001b[0m\u001b[0m\n\u001b[0m\u001b[1;32m      8\u001b[0m     \u001b[0;32mreturn\u001b[0m \u001b[0mdf\u001b[0m\u001b[0;34m\u001b[0m\u001b[0m\n\u001b[1;32m      9\u001b[0m \u001b[0;34m\u001b[0m\u001b[0m\n",
      "\u001b[0;32m/Users/charlesupjohn/projects/low_risk_investor/utils.py\u001b[0m in \u001b[0;36mget_clean_and_n\u001b[0;34m(df_origin)\u001b[0m\n\u001b[1;32m     11\u001b[0m \u001b[0;32mdef\u001b[0m \u001b[0mget_clean_and_n\u001b[0m\u001b[0;34m(\u001b[0m\u001b[0mdf_origin\u001b[0m\u001b[0;34m)\u001b[0m\u001b[0;34m:\u001b[0m\u001b[0;34m\u001b[0m\u001b[0m\n\u001b[1;32m     12\u001b[0m     \u001b[0mdf\u001b[0m \u001b[0;34m=\u001b[0m \u001b[0mdf_origin\u001b[0m\u001b[0;34m.\u001b[0m\u001b[0mcopy\u001b[0m\u001b[0;34m(\u001b[0m\u001b[0;34m)\u001b[0m\u001b[0;34m\u001b[0m\u001b[0m\n\u001b[0;32m---> 13\u001b[0;31m     \u001b[0mdf\u001b[0m \u001b[0;34m=\u001b[0m \u001b[0mclean_nyse\u001b[0m\u001b[0;34m(\u001b[0m\u001b[0mdf\u001b[0m\u001b[0;34m)\u001b[0m\u001b[0;34m\u001b[0m\u001b[0m\n\u001b[0m\u001b[1;32m     14\u001b[0m     \u001b[0mdf\u001b[0m \u001b[0;34m=\u001b[0m \u001b[0mcalc_n\u001b[0m\u001b[0;34m(\u001b[0m\u001b[0mdf\u001b[0m\u001b[0;34m)\u001b[0m\u001b[0;34m\u001b[0m\u001b[0m\n\u001b[1;32m     15\u001b[0m     \u001b[0;32mreturn\u001b[0m \u001b[0mdf\u001b[0m\u001b[0;34m\u001b[0m\u001b[0m\n",
      "\u001b[0;32m/Users/charlesupjohn/projects/low_risk_investor/utils.py\u001b[0m in \u001b[0;36mclean_nyse\u001b[0;34m(df_original)\u001b[0m\n\u001b[1;32m     56\u001b[0m     \u001b[0mdf\u001b[0m \u001b[0;34m=\u001b[0m \u001b[0mdf_original\u001b[0m\u001b[0;34m.\u001b[0m\u001b[0mcopy\u001b[0m\u001b[0;34m(\u001b[0m\u001b[0;34m)\u001b[0m\u001b[0;34m\u001b[0m\u001b[0m\n\u001b[1;32m     57\u001b[0m     \u001b[0mdf\u001b[0m \u001b[0;34m=\u001b[0m \u001b[0mdf\u001b[0m\u001b[0;34m.\u001b[0m\u001b[0mdrop\u001b[0m\u001b[0;34m(\u001b[0m\u001b[0mdf\u001b[0m\u001b[0;34m.\u001b[0m\u001b[0mcolumns\u001b[0m\u001b[0;34m[\u001b[0m\u001b[0;36m0\u001b[0m\u001b[0;34m]\u001b[0m\u001b[0;34m,\u001b[0m \u001b[0maxis\u001b[0m\u001b[0;34m=\u001b[0m\u001b[0;36m1\u001b[0m\u001b[0;34m)\u001b[0m\u001b[0;34m\u001b[0m\u001b[0m\n\u001b[0;32m---> 58\u001b[0;31m     \u001b[0mdf\u001b[0m\u001b[0;34m[\u001b[0m\u001b[0;34m'date'\u001b[0m\u001b[0;34m]\u001b[0m \u001b[0;34m=\u001b[0m \u001b[0mpd\u001b[0m\u001b[0;34m.\u001b[0m\u001b[0mto_datetime\u001b[0m\u001b[0;34m(\u001b[0m\u001b[0mdf\u001b[0m\u001b[0;34m[\u001b[0m\u001b[0;34m'date'\u001b[0m\u001b[0;34m]\u001b[0m\u001b[0;34m)\u001b[0m\u001b[0;34m\u001b[0m\u001b[0m\n\u001b[0m\u001b[1;32m     59\u001b[0m     \u001b[0;32mreturn\u001b[0m \u001b[0mdf\u001b[0m\u001b[0;34m\u001b[0m\u001b[0m\n",
      "\u001b[0;32m/Users/charlesupjohn/.virtualenvs/low_risk_investor/lib/python3.6/site-packages/pandas/core/frame.py\u001b[0m in \u001b[0;36m__getitem__\u001b[0;34m(self, key)\u001b[0m\n\u001b[1;32m   2057\u001b[0m             \u001b[0;32mreturn\u001b[0m \u001b[0mself\u001b[0m\u001b[0;34m.\u001b[0m\u001b[0m_getitem_multilevel\u001b[0m\u001b[0;34m(\u001b[0m\u001b[0mkey\u001b[0m\u001b[0;34m)\u001b[0m\u001b[0;34m\u001b[0m\u001b[0m\n\u001b[1;32m   2058\u001b[0m         \u001b[0;32melse\u001b[0m\u001b[0;34m:\u001b[0m\u001b[0;34m\u001b[0m\u001b[0m\n\u001b[0;32m-> 2059\u001b[0;31m             \u001b[0;32mreturn\u001b[0m \u001b[0mself\u001b[0m\u001b[0;34m.\u001b[0m\u001b[0m_getitem_column\u001b[0m\u001b[0;34m(\u001b[0m\u001b[0mkey\u001b[0m\u001b[0;34m)\u001b[0m\u001b[0;34m\u001b[0m\u001b[0m\n\u001b[0m\u001b[1;32m   2060\u001b[0m \u001b[0;34m\u001b[0m\u001b[0m\n\u001b[1;32m   2061\u001b[0m     \u001b[0;32mdef\u001b[0m \u001b[0m_getitem_column\u001b[0m\u001b[0;34m(\u001b[0m\u001b[0mself\u001b[0m\u001b[0;34m,\u001b[0m \u001b[0mkey\u001b[0m\u001b[0;34m)\u001b[0m\u001b[0;34m:\u001b[0m\u001b[0;34m\u001b[0m\u001b[0m\n",
      "\u001b[0;32m/Users/charlesupjohn/.virtualenvs/low_risk_investor/lib/python3.6/site-packages/pandas/core/frame.py\u001b[0m in \u001b[0;36m_getitem_column\u001b[0;34m(self, key)\u001b[0m\n\u001b[1;32m   2064\u001b[0m         \u001b[0;31m# get column\u001b[0m\u001b[0;34m\u001b[0m\u001b[0;34m\u001b[0m\u001b[0m\n\u001b[1;32m   2065\u001b[0m         \u001b[0;32mif\u001b[0m \u001b[0mself\u001b[0m\u001b[0;34m.\u001b[0m\u001b[0mcolumns\u001b[0m\u001b[0;34m.\u001b[0m\u001b[0mis_unique\u001b[0m\u001b[0;34m:\u001b[0m\u001b[0;34m\u001b[0m\u001b[0m\n\u001b[0;32m-> 2066\u001b[0;31m             \u001b[0;32mreturn\u001b[0m \u001b[0mself\u001b[0m\u001b[0;34m.\u001b[0m\u001b[0m_get_item_cache\u001b[0m\u001b[0;34m(\u001b[0m\u001b[0mkey\u001b[0m\u001b[0;34m)\u001b[0m\u001b[0;34m\u001b[0m\u001b[0m\n\u001b[0m\u001b[1;32m   2067\u001b[0m \u001b[0;34m\u001b[0m\u001b[0m\n\u001b[1;32m   2068\u001b[0m         \u001b[0;31m# duplicate columns & possible reduce dimensionality\u001b[0m\u001b[0;34m\u001b[0m\u001b[0;34m\u001b[0m\u001b[0m\n",
      "\u001b[0;32m/Users/charlesupjohn/.virtualenvs/low_risk_investor/lib/python3.6/site-packages/pandas/core/generic.py\u001b[0m in \u001b[0;36m_get_item_cache\u001b[0;34m(self, item)\u001b[0m\n\u001b[1;32m   1384\u001b[0m         \u001b[0mres\u001b[0m \u001b[0;34m=\u001b[0m \u001b[0mcache\u001b[0m\u001b[0;34m.\u001b[0m\u001b[0mget\u001b[0m\u001b[0;34m(\u001b[0m\u001b[0mitem\u001b[0m\u001b[0;34m)\u001b[0m\u001b[0;34m\u001b[0m\u001b[0m\n\u001b[1;32m   1385\u001b[0m         \u001b[0;32mif\u001b[0m \u001b[0mres\u001b[0m \u001b[0;32mis\u001b[0m \u001b[0;32mNone\u001b[0m\u001b[0;34m:\u001b[0m\u001b[0;34m\u001b[0m\u001b[0m\n\u001b[0;32m-> 1386\u001b[0;31m             \u001b[0mvalues\u001b[0m \u001b[0;34m=\u001b[0m \u001b[0mself\u001b[0m\u001b[0;34m.\u001b[0m\u001b[0m_data\u001b[0m\u001b[0;34m.\u001b[0m\u001b[0mget\u001b[0m\u001b[0;34m(\u001b[0m\u001b[0mitem\u001b[0m\u001b[0;34m)\u001b[0m\u001b[0;34m\u001b[0m\u001b[0m\n\u001b[0m\u001b[1;32m   1387\u001b[0m             \u001b[0mres\u001b[0m \u001b[0;34m=\u001b[0m \u001b[0mself\u001b[0m\u001b[0;34m.\u001b[0m\u001b[0m_box_item_values\u001b[0m\u001b[0;34m(\u001b[0m\u001b[0mitem\u001b[0m\u001b[0;34m,\u001b[0m \u001b[0mvalues\u001b[0m\u001b[0;34m)\u001b[0m\u001b[0;34m\u001b[0m\u001b[0m\n\u001b[1;32m   1388\u001b[0m             \u001b[0mcache\u001b[0m\u001b[0;34m[\u001b[0m\u001b[0mitem\u001b[0m\u001b[0;34m]\u001b[0m \u001b[0;34m=\u001b[0m \u001b[0mres\u001b[0m\u001b[0;34m\u001b[0m\u001b[0m\n",
      "\u001b[0;32m/Users/charlesupjohn/.virtualenvs/low_risk_investor/lib/python3.6/site-packages/pandas/core/internals.py\u001b[0m in \u001b[0;36mget\u001b[0;34m(self, item, fastpath)\u001b[0m\n\u001b[1;32m   3541\u001b[0m \u001b[0;34m\u001b[0m\u001b[0m\n\u001b[1;32m   3542\u001b[0m             \u001b[0;32mif\u001b[0m \u001b[0;32mnot\u001b[0m \u001b[0misnull\u001b[0m\u001b[0;34m(\u001b[0m\u001b[0mitem\u001b[0m\u001b[0;34m)\u001b[0m\u001b[0;34m:\u001b[0m\u001b[0;34m\u001b[0m\u001b[0m\n\u001b[0;32m-> 3543\u001b[0;31m                 \u001b[0mloc\u001b[0m \u001b[0;34m=\u001b[0m \u001b[0mself\u001b[0m\u001b[0;34m.\u001b[0m\u001b[0mitems\u001b[0m\u001b[0;34m.\u001b[0m\u001b[0mget_loc\u001b[0m\u001b[0;34m(\u001b[0m\u001b[0mitem\u001b[0m\u001b[0;34m)\u001b[0m\u001b[0;34m\u001b[0m\u001b[0m\n\u001b[0m\u001b[1;32m   3544\u001b[0m             \u001b[0;32melse\u001b[0m\u001b[0;34m:\u001b[0m\u001b[0;34m\u001b[0m\u001b[0m\n\u001b[1;32m   3545\u001b[0m                 \u001b[0mindexer\u001b[0m \u001b[0;34m=\u001b[0m \u001b[0mnp\u001b[0m\u001b[0;34m.\u001b[0m\u001b[0marange\u001b[0m\u001b[0;34m(\u001b[0m\u001b[0mlen\u001b[0m\u001b[0;34m(\u001b[0m\u001b[0mself\u001b[0m\u001b[0;34m.\u001b[0m\u001b[0mitems\u001b[0m\u001b[0;34m)\u001b[0m\u001b[0;34m)\u001b[0m\u001b[0;34m[\u001b[0m\u001b[0misnull\u001b[0m\u001b[0;34m(\u001b[0m\u001b[0mself\u001b[0m\u001b[0;34m.\u001b[0m\u001b[0mitems\u001b[0m\u001b[0;34m)\u001b[0m\u001b[0;34m]\u001b[0m\u001b[0;34m\u001b[0m\u001b[0m\n",
      "\u001b[0;32m/Users/charlesupjohn/.virtualenvs/low_risk_investor/lib/python3.6/site-packages/pandas/indexes/base.py\u001b[0m in \u001b[0;36mget_loc\u001b[0;34m(self, key, method, tolerance)\u001b[0m\n\u001b[1;32m   2134\u001b[0m                 \u001b[0;32mreturn\u001b[0m \u001b[0mself\u001b[0m\u001b[0;34m.\u001b[0m\u001b[0m_engine\u001b[0m\u001b[0;34m.\u001b[0m\u001b[0mget_loc\u001b[0m\u001b[0;34m(\u001b[0m\u001b[0mkey\u001b[0m\u001b[0;34m)\u001b[0m\u001b[0;34m\u001b[0m\u001b[0m\n\u001b[1;32m   2135\u001b[0m             \u001b[0;32mexcept\u001b[0m \u001b[0mKeyError\u001b[0m\u001b[0;34m:\u001b[0m\u001b[0;34m\u001b[0m\u001b[0m\n\u001b[0;32m-> 2136\u001b[0;31m                 \u001b[0;32mreturn\u001b[0m \u001b[0mself\u001b[0m\u001b[0;34m.\u001b[0m\u001b[0m_engine\u001b[0m\u001b[0;34m.\u001b[0m\u001b[0mget_loc\u001b[0m\u001b[0;34m(\u001b[0m\u001b[0mself\u001b[0m\u001b[0;34m.\u001b[0m\u001b[0m_maybe_cast_indexer\u001b[0m\u001b[0;34m(\u001b[0m\u001b[0mkey\u001b[0m\u001b[0;34m)\u001b[0m\u001b[0;34m)\u001b[0m\u001b[0;34m\u001b[0m\u001b[0m\n\u001b[0m\u001b[1;32m   2137\u001b[0m \u001b[0;34m\u001b[0m\u001b[0m\n\u001b[1;32m   2138\u001b[0m         \u001b[0mindexer\u001b[0m \u001b[0;34m=\u001b[0m \u001b[0mself\u001b[0m\u001b[0;34m.\u001b[0m\u001b[0mget_indexer\u001b[0m\u001b[0;34m(\u001b[0m\u001b[0;34m[\u001b[0m\u001b[0mkey\u001b[0m\u001b[0;34m]\u001b[0m\u001b[0;34m,\u001b[0m \u001b[0mmethod\u001b[0m\u001b[0;34m=\u001b[0m\u001b[0mmethod\u001b[0m\u001b[0;34m,\u001b[0m \u001b[0mtolerance\u001b[0m\u001b[0;34m=\u001b[0m\u001b[0mtolerance\u001b[0m\u001b[0;34m)\u001b[0m\u001b[0;34m\u001b[0m\u001b[0m\n",
      "\u001b[0;32mpandas/index.pyx\u001b[0m in \u001b[0;36mpandas.index.IndexEngine.get_loc (pandas/index.c:4433)\u001b[0;34m()\u001b[0m\n",
      "\u001b[0;32mpandas/index.pyx\u001b[0m in \u001b[0;36mpandas.index.IndexEngine.get_loc (pandas/index.c:4279)\u001b[0;34m()\u001b[0m\n",
      "\u001b[0;32mpandas/src/hashtable_class_helper.pxi\u001b[0m in \u001b[0;36mpandas.hashtable.PyObjectHashTable.get_item (pandas/hashtable.c:13742)\u001b[0;34m()\u001b[0m\n",
      "\u001b[0;32mpandas/src/hashtable_class_helper.pxi\u001b[0m in \u001b[0;36mpandas.hashtable.PyObjectHashTable.get_item (pandas/hashtable.c:13696)\u001b[0;34m()\u001b[0m\n",
      "\u001b[0;31mKeyError\u001b[0m: 'date'"
     ]
    }
   ],
   "source": [
    "df = get_nyse('abx')"
   ]
  },
  {
   "cell_type": "code",
   "execution_count": 2,
   "metadata": {
    "collapsed": true
   },
   "outputs": [],
   "source": [
    "df = pd.read_csv('./stock_prices/nyse_a.csv')"
   ]
  },
  {
   "cell_type": "code",
   "execution_count": 3,
   "metadata": {
    "collapsed": false
   },
   "outputs": [],
   "source": [
    "df = get_clean_and_n(df)"
   ]
  },
  {
   "cell_type": "code",
   "execution_count": 3,
   "metadata": {
    "collapsed": false
   },
   "outputs": [
    {
     "data": {
      "text/html": [
       "<div>\n",
       "<table border=\"1\" class=\"dataframe\">\n",
       "  <thead>\n",
       "    <tr style=\"text-align: right;\">\n",
       "      <th></th>\n",
       "      <th>date</th>\n",
       "      <th>open</th>\n",
       "      <th>high</th>\n",
       "      <th>low</th>\n",
       "      <th>close</th>\n",
       "      <th>volume</th>\n",
       "      <th>pdc</th>\n",
       "      <th>tr</th>\n",
       "      <th>N</th>\n",
       "    </tr>\n",
       "  </thead>\n",
       "  <tbody>\n",
       "    <tr>\n",
       "      <th>0</th>\n",
       "      <td>2016-10-04</td>\n",
       "      <td>47.07</td>\n",
       "      <td>47.30</td>\n",
       "      <td>46.67</td>\n",
       "      <td>46.83</td>\n",
       "      <td>1763985</td>\n",
       "      <td>47.15</td>\n",
       "      <td>0.63</td>\n",
       "      <td>0.959000</td>\n",
       "    </tr>\n",
       "    <tr>\n",
       "      <th>1</th>\n",
       "      <td>2016-10-03</td>\n",
       "      <td>46.82</td>\n",
       "      <td>47.23</td>\n",
       "      <td>46.82</td>\n",
       "      <td>47.14</td>\n",
       "      <td>1539625</td>\n",
       "      <td>46.83</td>\n",
       "      <td>0.41</td>\n",
       "      <td>0.931550</td>\n",
       "    </tr>\n",
       "    <tr>\n",
       "      <th>2</th>\n",
       "      <td>2016-09-30</td>\n",
       "      <td>46.50</td>\n",
       "      <td>47.32</td>\n",
       "      <td>46.30</td>\n",
       "      <td>47.09</td>\n",
       "      <td>1754316</td>\n",
       "      <td>47.14</td>\n",
       "      <td>1.02</td>\n",
       "      <td>0.935972</td>\n",
       "    </tr>\n",
       "    <tr>\n",
       "      <th>3</th>\n",
       "      <td>2016-09-29</td>\n",
       "      <td>47.05</td>\n",
       "      <td>47.27</td>\n",
       "      <td>46.14</td>\n",
       "      <td>46.41</td>\n",
       "      <td>1938218</td>\n",
       "      <td>47.09</td>\n",
       "      <td>1.13</td>\n",
       "      <td>0.945674</td>\n",
       "    </tr>\n",
       "    <tr>\n",
       "      <th>4</th>\n",
       "      <td>2016-09-28</td>\n",
       "      <td>46.90</td>\n",
       "      <td>47.26</td>\n",
       "      <td>46.52</td>\n",
       "      <td>47.18</td>\n",
       "      <td>1502533</td>\n",
       "      <td>46.41</td>\n",
       "      <td>0.85</td>\n",
       "      <td>0.940890</td>\n",
       "    </tr>\n",
       "  </tbody>\n",
       "</table>\n",
       "</div>"
      ],
      "text/plain": [
       "        date   open   high    low  close   volume    pdc    tr         N\n",
       "0 2016-10-04  47.07  47.30  46.67  46.83  1763985  47.15  0.63  0.959000\n",
       "1 2016-10-03  46.82  47.23  46.82  47.14  1539625  46.83  0.41  0.931550\n",
       "2 2016-09-30  46.50  47.32  46.30  47.09  1754316  47.14  1.02  0.935972\n",
       "3 2016-09-29  47.05  47.27  46.14  46.41  1938218  47.09  1.13  0.945674\n",
       "4 2016-09-28  46.90  47.26  46.52  47.18  1502533  46.41  0.85  0.940890"
      ]
     },
     "execution_count": 3,
     "metadata": {},
     "output_type": "execute_result"
    }
   ],
   "source": [
    "df.head()"
   ]
  },
  {
   "cell_type": "code",
   "execution_count": 56,
   "metadata": {
    "collapsed": false
   },
   "outputs": [],
   "source": [
    "df = clean_nyse(df)"
   ]
  },
  {
   "cell_type": "code",
   "execution_count": 57,
   "metadata": {
    "collapsed": true
   },
   "outputs": [],
   "source": []
  },
  {
   "cell_type": "code",
   "execution_count": 58,
   "metadata": {
    "collapsed": true
   },
   "outputs": [],
   "source": []
  },
  {
   "cell_type": "code",
   "execution_count": 59,
   "metadata": {
    "collapsed": true
   },
   "outputs": [],
   "source": [
    "\n",
    "    \n",
    "    \n"
   ]
  },
  {
   "cell_type": "code",
   "execution_count": 60,
   "metadata": {
    "collapsed": true
   },
   "outputs": [],
   "source": [
    "df = calc_n(df)"
   ]
  },
  {
   "cell_type": "code",
   "execution_count": 61,
   "metadata": {
    "collapsed": false
   },
   "outputs": [
    {
     "data": {
      "text/html": [
       "<div>\n",
       "<table border=\"1\" class=\"dataframe\">\n",
       "  <thead>\n",
       "    <tr style=\"text-align: right;\">\n",
       "      <th></th>\n",
       "      <th>date</th>\n",
       "      <th>open</th>\n",
       "      <th>high</th>\n",
       "      <th>low</th>\n",
       "      <th>close</th>\n",
       "      <th>volume</th>\n",
       "      <th>pdc</th>\n",
       "      <th>tr</th>\n",
       "      <th>N</th>\n",
       "    </tr>\n",
       "  </thead>\n",
       "  <tbody>\n",
       "    <tr>\n",
       "      <th>0</th>\n",
       "      <td>2016-10-04</td>\n",
       "      <td>47.07</td>\n",
       "      <td>47.30</td>\n",
       "      <td>46.67</td>\n",
       "      <td>46.83</td>\n",
       "      <td>1763985</td>\n",
       "      <td>47.15</td>\n",
       "      <td>0.63</td>\n",
       "      <td>0.959000</td>\n",
       "    </tr>\n",
       "    <tr>\n",
       "      <th>1</th>\n",
       "      <td>2016-10-03</td>\n",
       "      <td>46.82</td>\n",
       "      <td>47.23</td>\n",
       "      <td>46.82</td>\n",
       "      <td>47.14</td>\n",
       "      <td>1539625</td>\n",
       "      <td>46.83</td>\n",
       "      <td>0.41</td>\n",
       "      <td>0.931550</td>\n",
       "    </tr>\n",
       "    <tr>\n",
       "      <th>2</th>\n",
       "      <td>2016-09-30</td>\n",
       "      <td>46.50</td>\n",
       "      <td>47.32</td>\n",
       "      <td>46.30</td>\n",
       "      <td>47.09</td>\n",
       "      <td>1754316</td>\n",
       "      <td>47.14</td>\n",
       "      <td>1.02</td>\n",
       "      <td>0.935972</td>\n",
       "    </tr>\n",
       "    <tr>\n",
       "      <th>3</th>\n",
       "      <td>2016-09-29</td>\n",
       "      <td>47.05</td>\n",
       "      <td>47.27</td>\n",
       "      <td>46.14</td>\n",
       "      <td>46.41</td>\n",
       "      <td>1938218</td>\n",
       "      <td>47.09</td>\n",
       "      <td>1.13</td>\n",
       "      <td>0.945674</td>\n",
       "    </tr>\n",
       "    <tr>\n",
       "      <th>4</th>\n",
       "      <td>2016-09-28</td>\n",
       "      <td>46.90</td>\n",
       "      <td>47.26</td>\n",
       "      <td>46.52</td>\n",
       "      <td>47.18</td>\n",
       "      <td>1502533</td>\n",
       "      <td>46.41</td>\n",
       "      <td>0.85</td>\n",
       "      <td>0.940890</td>\n",
       "    </tr>\n",
       "  </tbody>\n",
       "</table>\n",
       "</div>"
      ],
      "text/plain": [
       "        date   open   high    low  close   volume    pdc    tr         N\n",
       "0 2016-10-04  47.07  47.30  46.67  46.83  1763985  47.15  0.63  0.959000\n",
       "1 2016-10-03  46.82  47.23  46.82  47.14  1539625  46.83  0.41  0.931550\n",
       "2 2016-09-30  46.50  47.32  46.30  47.09  1754316  47.14  1.02  0.935972\n",
       "3 2016-09-29  47.05  47.27  46.14  46.41  1938218  47.09  1.13  0.945674\n",
       "4 2016-09-28  46.90  47.26  46.52  47.18  1502533  46.41  0.85  0.940890"
      ]
     },
     "execution_count": 61,
     "metadata": {},
     "output_type": "execute_result"
    }
   ],
   "source": [
    "df.head()"
   ]
  },
  {
   "cell_type": "code",
   "execution_count": 54,
   "metadata": {
    "collapsed": false
   },
   "outputs": [
    {
     "data": {
      "text/plain": [
       "0.9359724999999999"
      ]
     },
     "execution_count": 54,
     "metadata": {},
     "output_type": "execute_result"
    }
   ],
   "source": [
    "(19 * .93155 + 1.02) / 20"
   ]
  },
  {
   "cell_type": "code",
   "execution_count": 52,
   "metadata": {
    "collapsed": false
   },
   "outputs": [
    {
     "data": {
      "text/html": [
       "<div>\n",
       "<table border=\"1\" class=\"dataframe\">\n",
       "  <thead>\n",
       "    <tr style=\"text-align: right;\">\n",
       "      <th></th>\n",
       "      <th>date</th>\n",
       "      <th>open</th>\n",
       "      <th>high</th>\n",
       "      <th>low</th>\n",
       "      <th>close</th>\n",
       "      <th>volume</th>\n",
       "      <th>pdc</th>\n",
       "      <th>tr</th>\n",
       "      <th>N</th>\n",
       "    </tr>\n",
       "  </thead>\n",
       "  <tbody>\n",
       "    <tr>\n",
       "      <th>19</th>\n",
       "      <td>2016-10-04</td>\n",
       "      <td>47.07</td>\n",
       "      <td>47.30</td>\n",
       "      <td>46.67</td>\n",
       "      <td>46.83</td>\n",
       "      <td>1763985</td>\n",
       "      <td>47.15</td>\n",
       "      <td>0.63</td>\n",
       "      <td>0.959000</td>\n",
       "    </tr>\n",
       "    <tr>\n",
       "      <th>20</th>\n",
       "      <td>2016-10-03</td>\n",
       "      <td>46.82</td>\n",
       "      <td>47.23</td>\n",
       "      <td>46.82</td>\n",
       "      <td>47.14</td>\n",
       "      <td>1539625</td>\n",
       "      <td>46.83</td>\n",
       "      <td>0.41</td>\n",
       "      <td>0.931550</td>\n",
       "    </tr>\n",
       "    <tr>\n",
       "      <th>21</th>\n",
       "      <td>2016-09-30</td>\n",
       "      <td>46.50</td>\n",
       "      <td>47.32</td>\n",
       "      <td>46.30</td>\n",
       "      <td>47.09</td>\n",
       "      <td>1754316</td>\n",
       "      <td>47.14</td>\n",
       "      <td>1.02</td>\n",
       "      <td>0.935972</td>\n",
       "    </tr>\n",
       "    <tr>\n",
       "      <th>22</th>\n",
       "      <td>2016-09-29</td>\n",
       "      <td>47.05</td>\n",
       "      <td>47.27</td>\n",
       "      <td>46.14</td>\n",
       "      <td>46.41</td>\n",
       "      <td>1938218</td>\n",
       "      <td>47.09</td>\n",
       "      <td>1.13</td>\n",
       "      <td>0.945674</td>\n",
       "    </tr>\n",
       "    <tr>\n",
       "      <th>23</th>\n",
       "      <td>2016-09-28</td>\n",
       "      <td>46.90</td>\n",
       "      <td>47.26</td>\n",
       "      <td>46.52</td>\n",
       "      <td>47.18</td>\n",
       "      <td>1502533</td>\n",
       "      <td>46.41</td>\n",
       "      <td>0.85</td>\n",
       "      <td>0.940890</td>\n",
       "    </tr>\n",
       "    <tr>\n",
       "      <th>24</th>\n",
       "      <td>2016-09-27</td>\n",
       "      <td>46.53</td>\n",
       "      <td>46.71</td>\n",
       "      <td>46.23</td>\n",
       "      <td>46.70</td>\n",
       "      <td>1587143</td>\n",
       "      <td>47.18</td>\n",
       "      <td>0.95</td>\n",
       "      <td>0.941346</td>\n",
       "    </tr>\n",
       "    <tr>\n",
       "      <th>25</th>\n",
       "      <td>2016-09-26</td>\n",
       "      <td>46.46</td>\n",
       "      <td>46.77</td>\n",
       "      <td>46.16</td>\n",
       "      <td>46.57</td>\n",
       "      <td>2639060</td>\n",
       "      <td>46.70</td>\n",
       "      <td>0.61</td>\n",
       "      <td>0.924778</td>\n",
       "    </tr>\n",
       "    <tr>\n",
       "      <th>26</th>\n",
       "      <td>2016-09-23</td>\n",
       "      <td>46.43</td>\n",
       "      <td>46.87</td>\n",
       "      <td>46.31</td>\n",
       "      <td>46.61</td>\n",
       "      <td>1957032</td>\n",
       "      <td>46.57</td>\n",
       "      <td>0.56</td>\n",
       "      <td>0.906539</td>\n",
       "    </tr>\n",
       "    <tr>\n",
       "      <th>27</th>\n",
       "      <td>2016-09-22</td>\n",
       "      <td>46.38</td>\n",
       "      <td>46.70</td>\n",
       "      <td>46.29</td>\n",
       "      <td>46.67</td>\n",
       "      <td>1307074</td>\n",
       "      <td>46.61</td>\n",
       "      <td>0.41</td>\n",
       "      <td>0.881712</td>\n",
       "    </tr>\n",
       "    <tr>\n",
       "      <th>28</th>\n",
       "      <td>2016-09-21</td>\n",
       "      <td>45.98</td>\n",
       "      <td>46.25</td>\n",
       "      <td>45.41</td>\n",
       "      <td>46.04</td>\n",
       "      <td>1612736</td>\n",
       "      <td>46.67</td>\n",
       "      <td>1.26</td>\n",
       "      <td>0.900627</td>\n",
       "    </tr>\n",
       "    <tr>\n",
       "      <th>29</th>\n",
       "      <td>2016-09-20</td>\n",
       "      <td>45.33</td>\n",
       "      <td>45.95</td>\n",
       "      <td>45.15</td>\n",
       "      <td>45.71</td>\n",
       "      <td>2333122</td>\n",
       "      <td>46.04</td>\n",
       "      <td>0.89</td>\n",
       "      <td>0.900096</td>\n",
       "    </tr>\n",
       "    <tr>\n",
       "      <th>30</th>\n",
       "      <td>2016-09-19</td>\n",
       "      <td>44.90</td>\n",
       "      <td>45.48</td>\n",
       "      <td>44.86</td>\n",
       "      <td>44.95</td>\n",
       "      <td>1927900</td>\n",
       "      <td>45.71</td>\n",
       "      <td>0.85</td>\n",
       "      <td>0.897591</td>\n",
       "    </tr>\n",
       "    <tr>\n",
       "      <th>31</th>\n",
       "      <td>2016-09-16</td>\n",
       "      <td>45.39</td>\n",
       "      <td>45.39</td>\n",
       "      <td>44.74</td>\n",
       "      <td>44.79</td>\n",
       "      <td>2592850</td>\n",
       "      <td>44.95</td>\n",
       "      <td>0.65</td>\n",
       "      <td>0.885211</td>\n",
       "    </tr>\n",
       "    <tr>\n",
       "      <th>32</th>\n",
       "      <td>2016-09-15</td>\n",
       "      <td>44.86</td>\n",
       "      <td>45.68</td>\n",
       "      <td>44.81</td>\n",
       "      <td>45.44</td>\n",
       "      <td>1733971</td>\n",
       "      <td>44.79</td>\n",
       "      <td>0.89</td>\n",
       "      <td>0.885451</td>\n",
       "    </tr>\n",
       "    <tr>\n",
       "      <th>33</th>\n",
       "      <td>2016-09-14</td>\n",
       "      <td>45.01</td>\n",
       "      <td>45.10</td>\n",
       "      <td>44.60</td>\n",
       "      <td>44.86</td>\n",
       "      <td>1604806</td>\n",
       "      <td>45.44</td>\n",
       "      <td>0.84</td>\n",
       "      <td>0.883178</td>\n",
       "    </tr>\n",
       "    <tr>\n",
       "      <th>34</th>\n",
       "      <td>2016-09-13</td>\n",
       "      <td>45.36</td>\n",
       "      <td>45.42</td>\n",
       "      <td>44.61</td>\n",
       "      <td>44.90</td>\n",
       "      <td>3461832</td>\n",
       "      <td>44.86</td>\n",
       "      <td>0.81</td>\n",
       "      <td>0.879519</td>\n",
       "    </tr>\n",
       "    <tr>\n",
       "      <th>35</th>\n",
       "      <td>2016-09-12</td>\n",
       "      <td>44.59</td>\n",
       "      <td>45.81</td>\n",
       "      <td>44.47</td>\n",
       "      <td>45.75</td>\n",
       "      <td>1835434</td>\n",
       "      <td>44.90</td>\n",
       "      <td>1.34</td>\n",
       "      <td>0.902543</td>\n",
       "    </tr>\n",
       "    <tr>\n",
       "      <th>36</th>\n",
       "      <td>2016-09-09</td>\n",
       "      <td>46.51</td>\n",
       "      <td>46.53</td>\n",
       "      <td>44.87</td>\n",
       "      <td>44.88</td>\n",
       "      <td>2507018</td>\n",
       "      <td>45.75</td>\n",
       "      <td>1.66</td>\n",
       "      <td>0.940416</td>\n",
       "    </tr>\n",
       "    <tr>\n",
       "      <th>37</th>\n",
       "      <td>2016-09-08</td>\n",
       "      <td>47.07</td>\n",
       "      <td>47.16</td>\n",
       "      <td>46.94</td>\n",
       "      <td>47.02</td>\n",
       "      <td>884738</td>\n",
       "      <td>44.88</td>\n",
       "      <td>2.28</td>\n",
       "      <td>1.007395</td>\n",
       "    </tr>\n",
       "    <tr>\n",
       "      <th>38</th>\n",
       "      <td>2016-09-07</td>\n",
       "      <td>47.07</td>\n",
       "      <td>47.17</td>\n",
       "      <td>46.86</td>\n",
       "      <td>47.11</td>\n",
       "      <td>1542576</td>\n",
       "      <td>47.02</td>\n",
       "      <td>0.31</td>\n",
       "      <td>0.972526</td>\n",
       "    </tr>\n",
       "    <tr>\n",
       "      <th>39</th>\n",
       "      <td>2016-09-06</td>\n",
       "      <td>46.90</td>\n",
       "      <td>47.11</td>\n",
       "      <td>46.72</td>\n",
       "      <td>46.95</td>\n",
       "      <td>1460928</td>\n",
       "      <td>47.11</td>\n",
       "      <td>0.39</td>\n",
       "      <td>0.943399</td>\n",
       "    </tr>\n",
       "    <tr>\n",
       "      <th>40</th>\n",
       "      <td>2016-09-02</td>\n",
       "      <td>47.23</td>\n",
       "      <td>47.39</td>\n",
       "      <td>46.89</td>\n",
       "      <td>47.00</td>\n",
       "      <td>1424454</td>\n",
       "      <td>46.95</td>\n",
       "      <td>0.50</td>\n",
       "      <td>0.921229</td>\n",
       "    </tr>\n",
       "  </tbody>\n",
       "</table>\n",
       "</div>"
      ],
      "text/plain": [
       "         date   open   high    low  close   volume    pdc    tr         N\n",
       "19 2016-10-04  47.07  47.30  46.67  46.83  1763985  47.15  0.63  0.959000\n",
       "20 2016-10-03  46.82  47.23  46.82  47.14  1539625  46.83  0.41  0.931550\n",
       "21 2016-09-30  46.50  47.32  46.30  47.09  1754316  47.14  1.02  0.935972\n",
       "22 2016-09-29  47.05  47.27  46.14  46.41  1938218  47.09  1.13  0.945674\n",
       "23 2016-09-28  46.90  47.26  46.52  47.18  1502533  46.41  0.85  0.940890\n",
       "24 2016-09-27  46.53  46.71  46.23  46.70  1587143  47.18  0.95  0.941346\n",
       "25 2016-09-26  46.46  46.77  46.16  46.57  2639060  46.70  0.61  0.924778\n",
       "26 2016-09-23  46.43  46.87  46.31  46.61  1957032  46.57  0.56  0.906539\n",
       "27 2016-09-22  46.38  46.70  46.29  46.67  1307074  46.61  0.41  0.881712\n",
       "28 2016-09-21  45.98  46.25  45.41  46.04  1612736  46.67  1.26  0.900627\n",
       "29 2016-09-20  45.33  45.95  45.15  45.71  2333122  46.04  0.89  0.900096\n",
       "30 2016-09-19  44.90  45.48  44.86  44.95  1927900  45.71  0.85  0.897591\n",
       "31 2016-09-16  45.39  45.39  44.74  44.79  2592850  44.95  0.65  0.885211\n",
       "32 2016-09-15  44.86  45.68  44.81  45.44  1733971  44.79  0.89  0.885451\n",
       "33 2016-09-14  45.01  45.10  44.60  44.86  1604806  45.44  0.84  0.883178\n",
       "34 2016-09-13  45.36  45.42  44.61  44.90  3461832  44.86  0.81  0.879519\n",
       "35 2016-09-12  44.59  45.81  44.47  45.75  1835434  44.90  1.34  0.902543\n",
       "36 2016-09-09  46.51  46.53  44.87  44.88  2507018  45.75  1.66  0.940416\n",
       "37 2016-09-08  47.07  47.16  46.94  47.02   884738  44.88  2.28  1.007395\n",
       "38 2016-09-07  47.07  47.17  46.86  47.11  1542576  47.02  0.31  0.972526\n",
       "39 2016-09-06  46.90  47.11  46.72  46.95  1460928  47.11  0.39  0.943399\n",
       "40 2016-09-02  47.23  47.39  46.89  47.00  1424454  46.95  0.50  0.921229"
      ]
     },
     "execution_count": 52,
     "metadata": {},
     "output_type": "execute_result"
    }
   ],
   "source": [
    "df.loc[19:].head(22)"
   ]
  },
  {
   "cell_type": "code",
   "execution_count": 74,
   "metadata": {
    "collapsed": false
   },
   "outputs": [
    {
     "data": {
      "text/plain": [
       "0.40999999999999659"
      ]
     },
     "execution_count": 74,
     "metadata": {},
     "output_type": "execute_result"
    }
   ],
   "source": [
    "df.loc[20, 'tr']"
   ]
  },
  {
   "cell_type": "code",
   "execution_count": 80,
   "metadata": {
    "collapsed": false
   },
   "outputs": [
    {
     "data": {
      "text/plain": [
       "date      2016-10-04 00:00:00\n",
       "open                    47.07\n",
       "high                     47.3\n",
       "low                     46.67\n",
       "close                   46.83\n",
       "volume                1763985\n",
       "pdc                     47.15\n",
       "tr                       0.63\n",
       "N                       0.959\n",
       "Name: 19, dtype: object"
      ]
     },
     "execution_count": 80,
     "metadata": {},
     "output_type": "execute_result"
    }
   ],
   "source": [
    "df.loc[19]"
   ]
  },
  {
   "cell_type": "code",
   "execution_count": 81,
   "metadata": {
    "collapsed": false
   },
   "outputs": [
    {
     "data": {
      "text/plain": [
       "18.220999999999993"
      ]
     },
     "execution_count": 81,
     "metadata": {},
     "output_type": "execute_result"
    }
   ],
   "source": [
    "(19 * df.loc[19, 'N'])"
   ]
  },
  {
   "cell_type": "code",
   "execution_count": null,
   "metadata": {
    "collapsed": true
   },
   "outputs": [],
   "source": []
  }
 ],
 "metadata": {
  "kernelspec": {
   "display_name": "Python 3",
   "language": "python",
   "name": "python3"
  },
  "language_info": {
   "codemirror_mode": {
    "name": "ipython",
    "version": 3
   },
   "file_extension": ".py",
   "mimetype": "text/x-python",
   "name": "python",
   "nbconvert_exporter": "python",
   "pygments_lexer": "ipython3",
   "version": "3.6.0"
  }
 },
 "nbformat": 4,
 "nbformat_minor": 2
}
