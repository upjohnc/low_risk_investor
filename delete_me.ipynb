{
 "cells": [
  {
   "cell_type": "code",
   "execution_count": 43,
   "metadata": {
    "collapsed": true
   },
   "outputs": [],
   "source": [
    "import pandas as pd\n",
    "import numpy as np\n",
    "from utils import clean_nyse"
   ]
  },
  {
   "cell_type": "code",
   "execution_count": 54,
   "metadata": {
    "collapsed": true
   },
   "outputs": [],
   "source": [
    "df = pd.read_csv('./stock_prices/nyse_a.csv')"
   ]
  },
  {
   "cell_type": "code",
   "execution_count": 55,
   "metadata": {
    "collapsed": false
   },
   "outputs": [],
   "source": [
    "df = clean_nyse(df)"
   ]
  },
  {
   "cell_type": "code",
   "execution_count": 56,
   "metadata": {
    "collapsed": true
   },
   "outputs": [],
   "source": [
    "df['pdc'] = df['close'].shift()"
   ]
  },
  {
   "cell_type": "code",
   "execution_count": 57,
   "metadata": {
    "collapsed": true
   },
   "outputs": [],
   "source": [
    "df = df.drop(0, axis=0).reset_index(drop=True)"
   ]
  },
  {
   "cell_type": "code",
   "execution_count": 58,
   "metadata": {
    "collapsed": false
   },
   "outputs": [
    {
     "data": {
      "text/html": [
       "<div>\n",
       "<table border=\"1\" class=\"dataframe\">\n",
       "  <thead>\n",
       "    <tr style=\"text-align: right;\">\n",
       "      <th></th>\n",
       "      <th>date</th>\n",
       "      <th>open</th>\n",
       "      <th>high</th>\n",
       "      <th>low</th>\n",
       "      <th>close</th>\n",
       "      <th>volume</th>\n",
       "      <th>pdc</th>\n",
       "    </tr>\n",
       "  </thead>\n",
       "  <tbody>\n",
       "    <tr>\n",
       "      <th>0</th>\n",
       "      <td>2016-10-31</td>\n",
       "      <td>43.33</td>\n",
       "      <td>43.70</td>\n",
       "      <td>43.18</td>\n",
       "      <td>43.57</td>\n",
       "      <td>1556762</td>\n",
       "      <td>43.49</td>\n",
       "    </tr>\n",
       "    <tr>\n",
       "      <th>1</th>\n",
       "      <td>2016-10-28</td>\n",
       "      <td>43.38</td>\n",
       "      <td>43.87</td>\n",
       "      <td>43.11</td>\n",
       "      <td>43.22</td>\n",
       "      <td>1471348</td>\n",
       "      <td>43.57</td>\n",
       "    </tr>\n",
       "    <tr>\n",
       "      <th>2</th>\n",
       "      <td>2016-10-27</td>\n",
       "      <td>43.97</td>\n",
       "      <td>44.19</td>\n",
       "      <td>43.35</td>\n",
       "      <td>43.38</td>\n",
       "      <td>2393625</td>\n",
       "      <td>43.22</td>\n",
       "    </tr>\n",
       "    <tr>\n",
       "      <th>3</th>\n",
       "      <td>2016-10-26</td>\n",
       "      <td>43.42</td>\n",
       "      <td>43.82</td>\n",
       "      <td>43.24</td>\n",
       "      <td>43.37</td>\n",
       "      <td>2146178</td>\n",
       "      <td>43.38</td>\n",
       "    </tr>\n",
       "    <tr>\n",
       "      <th>4</th>\n",
       "      <td>2016-10-25</td>\n",
       "      <td>45.26</td>\n",
       "      <td>45.59</td>\n",
       "      <td>43.17</td>\n",
       "      <td>43.51</td>\n",
       "      <td>3949609</td>\n",
       "      <td>43.37</td>\n",
       "    </tr>\n",
       "  </tbody>\n",
       "</table>\n",
       "</div>"
      ],
      "text/plain": [
       "        date   open   high    low  close   volume    pdc\n",
       "0 2016-10-31  43.33  43.70  43.18  43.57  1556762  43.49\n",
       "1 2016-10-28  43.38  43.87  43.11  43.22  1471348  43.57\n",
       "2 2016-10-27  43.97  44.19  43.35  43.38  2393625  43.22\n",
       "3 2016-10-26  43.42  43.82  43.24  43.37  2146178  43.38\n",
       "4 2016-10-25  45.26  45.59  43.17  43.51  3949609  43.37"
      ]
     },
     "execution_count": 58,
     "metadata": {},
     "output_type": "execute_result"
    }
   ],
   "source": [
    "df.head()"
   ]
  },
  {
   "cell_type": "code",
   "execution_count": 59,
   "metadata": {
    "collapsed": true
   },
   "outputs": [],
   "source": [
    "def calc_n(df_origin):\n",
    "    # take in a dataframe\n",
    "    # return a series of the N for that day\n",
    "    df = df_origin.copy()\n",
    "    # true range\n",
    "    # max(high-low, h-pdc, pdc-l)\n",
    "    def calc_tr(row):\n",
    "        return max(row['high'] - row['low'], row['high'] - row['pdc'], row['pdc'] - row['low'])\n",
    "    df['tr'] = df.apply(calc_tr, axis=1)\n",
    "    \n",
    "    # first N (average of first 20 true ranges)\n",
    "    df['N'] = np.nan\n",
    "    df.loc[19, 'N'] = df.loc[:19, 'tr'].mean()\n",
    "    return df\n",
    "    \n",
    "    # N\n",
    "    # (19 * pdn + true range) / 20\n"
   ]
  },
  {
   "cell_type": "code",
   "execution_count": 60,
   "metadata": {
    "collapsed": true
   },
   "outputs": [],
   "source": [
    "df = calc_n(df)"
   ]
  },
  {
   "cell_type": "code",
   "execution_count": 79,
   "metadata": {
    "collapsed": false
   },
   "outputs": [
    {
     "data": {
      "text/plain": [
       "0.93154999999999943"
      ]
     },
     "execution_count": 79,
     "metadata": {},
     "output_type": "execute_result"
    }
   ],
   "source": [
    "((19 * df.loc[19, 'N']) + df.loc[20, 'tr']) / 20"
   ]
  },
  {
   "cell_type": "code",
   "execution_count": 72,
   "metadata": {
    "collapsed": false
   },
   "outputs": [
    {
     "data": {
      "text/plain": [
       "0.95349999999999935"
      ]
     },
     "execution_count": 72,
     "metadata": {},
     "output_type": "execute_result"
    }
   ],
   "source": [
    "df.loc[1:20, 'tr'].mean()"
   ]
  },
  {
   "cell_type": "code",
   "execution_count": 74,
   "metadata": {
    "collapsed": false
   },
   "outputs": [
    {
     "data": {
      "text/plain": [
       "0.40999999999999659"
      ]
     },
     "execution_count": 74,
     "metadata": {},
     "output_type": "execute_result"
    }
   ],
   "source": [
    "df.loc[20, 'tr']"
   ]
  },
  {
   "cell_type": "code",
   "execution_count": 80,
   "metadata": {
    "collapsed": false
   },
   "outputs": [
    {
     "data": {
      "text/plain": [
       "date      2016-10-04 00:00:00\n",
       "open                    47.07\n",
       "high                     47.3\n",
       "low                     46.67\n",
       "close                   46.83\n",
       "volume                1763985\n",
       "pdc                     47.15\n",
       "tr                       0.63\n",
       "N                       0.959\n",
       "Name: 19, dtype: object"
      ]
     },
     "execution_count": 80,
     "metadata": {},
     "output_type": "execute_result"
    }
   ],
   "source": [
    "df.loc[19]"
   ]
  },
  {
   "cell_type": "code",
   "execution_count": 81,
   "metadata": {
    "collapsed": false
   },
   "outputs": [
    {
     "data": {
      "text/plain": [
       "18.220999999999993"
      ]
     },
     "execution_count": 81,
     "metadata": {},
     "output_type": "execute_result"
    }
   ],
   "source": [
    "(19 * df.loc[19, 'N'])"
   ]
  },
  {
   "cell_type": "code",
   "execution_count": null,
   "metadata": {
    "collapsed": true
   },
   "outputs": [],
   "source": []
  }
 ],
 "metadata": {
  "kernelspec": {
   "display_name": "Python 3",
   "language": "python",
   "name": "python3"
  },
  "language_info": {
   "codemirror_mode": {
    "name": "ipython",
    "version": 3
   },
   "file_extension": ".py",
   "mimetype": "text/x-python",
   "name": "python",
   "nbconvert_exporter": "python",
   "pygments_lexer": "ipython3",
   "version": "3.6.0"
  }
 },
 "nbformat": 4,
 "nbformat_minor": 2
}
