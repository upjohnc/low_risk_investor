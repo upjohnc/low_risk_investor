{
 "cells": [
  {
   "cell_type": "code",
   "execution_count": 1,
   "metadata": {
    "collapsed": true
   },
   "outputs": [],
   "source": [
    "import pandas as pd\n",
    "import numpy as np\n",
    "import datetime as dt\n",
    "import time\n",
    "import os\n",
    "from utils import stock_prices_google, stock_prices_nyse"
   ]
  },
  {
   "cell_type": "code",
   "execution_count": 2,
   "metadata": {
    "collapsed": true
   },
   "outputs": [],
   "source": [
    "folder_stock_prices = './stock_prices'\n",
    "folder_stock_symbols = './stock_symbols'"
   ]
  },
  {
   "cell_type": "code",
   "execution_count": 3,
   "metadata": {
    "collapsed": true
   },
   "outputs": [],
   "source": [
    "df_nyse_symbols = pd.read_csv(os.path.join(folder_stock_symbols, 'NYSE.csv'))"
   ]
  },
  {
   "cell_type": "code",
   "execution_count": 4,
   "metadata": {
    "collapsed": true
   },
   "outputs": [],
   "source": [
    "df_nyse_symbols.columns = [x.replace(' ', '_').lower() for x in df_nyse_symbols.columns]"
   ]
  },
  {
   "cell_type": "code",
   "execution_count": 5,
   "metadata": {
    "collapsed": false
   },
   "outputs": [],
   "source": [
    "df_nyse_symbols['symbol_lower'] = df_nyse_symbols['symbol'].str.lower()"
   ]
  },
  {
   "cell_type": "code",
   "execution_count": 6,
   "metadata": {
    "collapsed": false
   },
   "outputs": [],
   "source": [
    "df_nyse_symbols['ticker'] = 'NYSE:' + df_nyse_symbols['symbol']"
   ]
  },
  {
   "cell_type": "code",
   "execution_count": null,
   "metadata": {
    "collapsed": false
   },
   "outputs": [],
   "source": [
    "start_date = dt.datetime(2009, 1, 1)\n",
    "end_date = dt.datetime(2016, 11, 1)"
   ]
  },
  {
   "cell_type": "code",
   "execution_count": null,
   "metadata": {
    "collapsed": false,
    "scrolled": true
   },
   "outputs": [
    {
     "name": "stdout",
     "output_type": "stream",
     "text": [
      "AEO\n",
      "AEP\n",
      "AER\n",
      "AES\n"
     ]
    }
   ],
   "source": [
    "ticker_have = [i.strip('nyse_').replace('.csv', '') for i in os.listdir(folder_stock_prices) if '.DS' not in i]\n",
    "df_temp =  df_nyse_symbols.loc[~df_nyse_symbols['symbol_lower'].isin(ticker_have)]\n",
    "for _, row in df_temp[['symbol', 'ticker']].iterrows():\n",
    "    print(row['symbol'])\n",
    "    df = stock_prices_nyse(row['symbol'], start_date, end_date)\n",
    "    if df.empty:\n",
    "        print('failure')\n",
    "        continue\n",
    "    df.to_csv(os.path.join(folder_stock_prices, 'nyse_{0}.csv'.format(row['symbol'].lower())))\n",
    "#     time.sleep(10)"
   ]
  },
  {
   "cell_type": "code",
   "execution_count": 8,
   "metadata": {
    "collapsed": false,
    "scrolled": true
   },
   "outputs": [
    {
     "name": "stdout",
     "output_type": "stream",
     "text": [
      "ABR-A\n",
      "ABR-B\n",
      "ABR-C\n",
      "ABRN\n",
      "failure\n"
     ]
    }
   ],
   "source": [
    "# letter = 'a'\n",
    "# df_temp = df_nyse_symbols.loc[df_nyse_symbols['symbol'].str.lower().str.startswith(letter)]\n",
    "ticker_have = [i.strip('nyse_').replace('.csv', '') for i in os.listdir(folder_stock_prices) if '.DS' not in i]\n",
    "df_temp =  df_nyse_symbols.loc[~df_nyse_symbols['symbol_lower'].isin(ticker_have)]\n",
    "for _, row in df_temp[['symbol', 'ticker']].iterrows():\n",
    "    print(row['symbol'])\n",
    "    df = stock_prices_google(row['ticker'], start_date, end_date)\n",
    "    if df.empty:\n",
    "        print('failure')\n",
    "        break\n",
    "    df.to_csv(os.path.join(folder_stock_prices, 'nyse_{0}.csv'.format(row['symbol'].lower())))\n",
    "    time.sleep(30)"
   ]
  },
  {
   "cell_type": "code",
   "execution_count": null,
   "metadata": {
    "collapsed": true
   },
   "outputs": [],
   "source": []
  }
 ],
 "metadata": {
  "kernelspec": {
   "display_name": "Python 3",
   "language": "python",
   "name": "python3"
  },
  "language_info": {
   "codemirror_mode": {
    "name": "ipython",
    "version": 3
   },
   "file_extension": ".py",
   "mimetype": "text/x-python",
   "name": "python",
   "nbconvert_exporter": "python",
   "pygments_lexer": "ipython3",
   "version": "3.5.2"
  }
 },
 "nbformat": 4,
 "nbformat_minor": 1
}
