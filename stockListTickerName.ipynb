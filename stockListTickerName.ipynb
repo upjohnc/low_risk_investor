{
 "metadata": {
  "name": "",
  "signature": "sha256:57aec6ebe9da7d2486ecf94706df8bb1e98b479fe68d729e113d41cb426ed6c6"
 },
 "nbformat": 3,
 "nbformat_minor": 0,
 "worksheets": [
  {
   "cells": [
    {
     "cell_type": "code",
     "collapsed": false,
     "input": [
      "import Quandl\n",
      "import pandas as pd\n",
      "import numpy as np\n",
      "import time"
     ],
     "language": "python",
     "metadata": {},
     "outputs": [],
     "prompt_number": 3
    },
    {
     "cell_type": "code",
     "collapsed": false,
     "input": [
      "dfFullList = pd.read_csv('./equityLists/searchList.csv')\n",
      "startIndex = 0\n",
      "results = []"
     ],
     "language": "python",
     "metadata": {},
     "outputs": [],
     "prompt_number": 16
    },
    {
     "cell_type": "markdown",
     "metadata": {},
     "source": [
      "###Run if fails - reset index start"
     ]
    },
    {
     "cell_type": "code",
     "collapsed": false,
     "input": [
      "#get last row that was run\n",
      "temp = dfFullList.ix[dfFullList['Name'] == results[-1]['Name']]\n",
      "#add one to the index for the next row\n",
      "startIndex = temp.index[-1] + 1\n",
      "\n",
      "print(temp, startIndex)"
     ],
     "language": "python",
     "metadata": {},
     "outputs": [
      {
       "output_type": "stream",
       "stream": "stdout",
       "text": [
        "                           Name              Ticker Pricing Source  \\\n",
        "4038  March 15 Calls on TQQQ US   TQQQ 03/20/15 C39             UA   \n",
        "4039  March 15 Calls on TQQQ US   TQQQ 03/20/15 C40             UA   \n",
        "4040  March 15 Calls on TQQQ US   TQQQ 03/20/15 C41             UA   \n",
        "4041  March 15 Calls on TQQQ US   TQQQ 03/20/15 C42             UA   \n",
        "4042  March 15 Calls on TQQQ US   TQQQ 03/20/15 C43             UA   \n",
        "4043  March 15 Calls on TQQQ US   TQQQ 03/20/15 C44             UA   \n",
        "4044  March 15 Calls on TQQQ US   TQQQ 03/20/15 C45             UA   \n",
        "4045  March 15 Calls on TQQQ US   TQQQ 03/20/15 C50             UA   \n",
        "4046  March 15 Calls on TQQQ US   TQQQ 03/20/15 C55             UA   \n",
        "4047  March 15 Calls on TQQQ US   TQQQ 03/20/15 C60             UA   \n",
        "4048  March 15 Calls on TQQQ US   TQQQ 03/20/15 C65             UA   \n",
        "4049  March 15 Calls on TQQQ US   TQQQ 03/20/15 C68             UA   \n",
        "4050  March 15 Calls on TQQQ US   TQQQ 03/20/15 C69             UA   \n",
        "4051  March 15 Calls on TQQQ US   TQQQ 03/20/15 C70             UA   \n",
        "4052  March 15 Calls on TQQQ US   TQQQ 03/20/15 C71             UA   \n",
        "4053  March 15 Calls on TQQQ US   TQQQ 03/20/15 C72             UA   \n",
        "4054  March 15 Calls on TQQQ US   TQQQ 03/20/15 C73             UA   \n",
        "4055  March 15 Calls on TQQQ US   TQQQ 03/20/15 C74             UA   \n",
        "4056  March 15 Calls on TQQQ US   TQQQ 03/20/15 C75             UA   \n",
        "4057  March 15 Calls on TQQQ US   TQQQ 03/20/15 C76             UA   \n",
        "4058  March 15 Calls on TQQQ US   TQQQ 03/20/15 C77             UA   \n",
        "4059  March 15 Calls on TQQQ US   TQQQ 03/20/15 C78             UA   \n",
        "4060  March 15 Calls on TQQQ US   TQQQ 03/20/15 C79             UA   \n",
        "4061  March 15 Calls on TQQQ US   TQQQ 03/20/15 C80             UA   \n",
        "4062  March 15 Calls on TQQQ US   TQQQ 03/20/15 C81             UA   \n",
        "4063  March 15 Calls on TQQQ US   TQQQ 03/20/15 C82             UA   \n",
        "4064  March 15 Calls on TQQQ US   TQQQ 03/20/15 C83             UA   \n",
        "4065  March 15 Calls on TQQQ US   TQQQ 03/20/15 C84             UA   \n",
        "4066  March 15 Calls on TQQQ US   TQQQ 03/20/15 C85             UA   \n",
        "4067  March 15 Calls on TQQQ US   TQQQ 03/20/15 C86             UA   \n",
        "...                         ...                 ...            ...   \n",
        "4079  March 15 Calls on TQQQ US   TQQQ 03/20/15 C98             UA   \n",
        "4080  March 15 Calls on TQQQ US   TQQQ 03/20/15 C99             UA   \n",
        "4081  March 15 Calls on TQQQ US  TQQQ 03/20/15 C100             UA   \n",
        "4082  March 15 Calls on TQQQ US  TQQQ 03/20/15 C101             UA   \n",
        "4083  March 15 Calls on TQQQ US  TQQQ 03/20/15 C102             UA   \n",
        "4084  March 15 Calls on TQQQ US  TQQQ 03/20/15 C103             UA   \n",
        "4085  March 15 Calls on TQQQ US  TQQQ 03/20/15 C104             UA   \n",
        "4086  March 15 Calls on TQQQ US  TQQQ 03/20/15 C105             UA   \n",
        "4087  March 15 Calls on TQQQ US  TQQQ 03/20/15 C106             UA   \n",
        "4088  March 15 Calls on TQQQ US  TQQQ 03/20/15 C107             UA   \n",
        "4089  March 15 Calls on TQQQ US  TQQQ 03/20/15 C108             UA   \n",
        "4090  March 15 Calls on TQQQ US  TQQQ 03/20/15 C109             UA   \n",
        "4091  March 15 Calls on TQQQ US  TQQQ 03/20/15 C110             UA   \n",
        "4092  March 15 Calls on TQQQ US  TQQQ 03/20/15 C111             UA   \n",
        "4093  March 15 Calls on TQQQ US  TQQQ 03/20/15 C112             UA   \n",
        "4094  March 15 Calls on TQQQ US  TQQQ 03/20/15 C113             UA   \n",
        "4095  March 15 Calls on TQQQ US  TQQQ 03/20/15 C114             UA   \n",
        "4096  March 15 Calls on TQQQ US  TQQQ 03/20/15 C115             UA   \n",
        "4097  March 15 Calls on TQQQ US  TQQQ 03/20/15 C116             UA   \n",
        "4098  March 15 Calls on TQQQ US  TQQQ 03/20/15 C117             UA   \n",
        "4099  March 15 Calls on TQQQ US  TQQQ 03/20/15 C118             UA   \n",
        "4100  March 15 Calls on TQQQ US  TQQQ 03/20/15 C119             UA   \n",
        "4101  March 15 Calls on TQQQ US  TQQQ 03/20/15 C120             UA   \n",
        "4102  March 15 Calls on TQQQ US  TQQQ 03/20/15 C121             UA   \n",
        "4103  March 15 Calls on TQQQ US  TQQQ 03/20/15 C122             UA   \n",
        "4104  March 15 Calls on TQQQ US  TQQQ 03/20/15 C123             UA   \n",
        "4105  March 15 Calls on TQQQ US  TQQQ 03/20/15 C124             UA   \n",
        "4106  March 15 Calls on TQQQ US  TQQQ 03/20/15 C125             UA   \n",
        "4107  March 15 Calls on TQQQ US  TQQQ 03/20/15 C130             UA   \n",
        "4108  March 15 Calls on TQQQ US  TQQQ 03/20/15 C135             UA   \n",
        "\n",
        "      Security Type Market Sector         BBGID BBGID Composite          BSID  \\\n",
        "4038  Equity Option        Equity  BBG007BLRWK3    BBG007BLRWH7  524031577529   \n",
        "4039  Equity Option        Equity  BBG0079HLXR2    BBG0079HLXP4  524031403835   \n",
        "4040  Equity Option        Equity  BBG0079HLYG2    BBG0079HLYD5  524031403857   \n",
        "4041  Equity Option        Equity  BBG0077V9C75    BBG0077V9C57  524031196562   \n",
        "4042  Equity Option        Equity  BBG0077V9CY5    BBG0077V9CW7  524031196566   \n",
        "4043  Equity Option        Equity  BBG0077V9DN5    BBG0077V9DL7  524031196570   \n",
        "4044  Equity Option        Equity  BBG006WMQKT8    BBG006WMQKR0  524029643670   \n",
        "4045  Equity Option        Equity  BBG006WMQLK5    BBG006WMQLH9  524029643698   \n",
        "4046  Equity Option        Equity  BBG006WMQM87    BBG006WMQM69  524029643720   \n",
        "4047  Equity Option        Equity  BBG006WMQMZ7    BBG006WMQMX9  524029643749   \n",
        "4048  Equity Option        Equity  BBG006WMQNP6    BBG006WMQNM9  524029643776   \n",
        "4049  Equity Option        Equity  BBG006VLV1S8    BBG006VLV1Q0  524029502553   \n",
        "4050  Equity Option        Equity  BBG006VLV2J6    BBG006VLV2G9  524029502593   \n",
        "4051  Equity Option        Equity  BBG006VLV377    BBG006VLV359  524029502631   \n",
        "4052  Equity Option        Equity  BBG006VLV3Y7    BBG006VLV3W9  524029502671   \n",
        "4053  Equity Option        Equity  BBG006VLV4N7    BBG006VLV4L9  524029502701   \n",
        "4054  Equity Option        Equity  BBG006VLV5C6    BBG006VLV590  524029502734   \n",
        "4055  Equity Option        Equity  BBG006VLV634    BBG006VLV616  524029502767   \n",
        "4056  Equity Option        Equity  BBG006VLV6T6    BBG006VLV6R8  524029502799   \n",
        "4057  Equity Option        Equity  BBG006VLV7J5    BBG006VLV7G8  524029502827   \n",
        "4058  Equity Option        Equity  BBG006VLV876    BBG006VLV858  524029502862   \n",
        "4059  Equity Option        Equity  BBG006VLV8Z5    BBG006VLV8X7  524029502892   \n",
        "4060  Equity Option        Equity  BBG006VLV9P4    BBG006VLV9M7  524029502925   \n",
        "4061  Equity Option        Equity  BBG006VLVBD2    BBG006VLVBB4  524029502957   \n",
        "4062  Equity Option        Equity  BBG006VLVC31    BBG006VLVC13  524029502990   \n",
        "4063  Equity Option        Equity  BBG006VLVCT3    BBG006VLVCR5  524029503028   \n",
        "4064  Equity Option        Equity  BBG006VLVDK0    BBG006VLVDH4  524029503065   \n",
        "4065  Equity Option        Equity  BBG006VLVF89    BBG006VLVF61  524029503108   \n",
        "4066  Equity Option        Equity  BBG006VLVFZ9    BBG006VLVFX1  524029503144   \n",
        "4067  Equity Option        Equity  BBG006VLVGP8    BBG006VLVGM1  524029503176   \n",
        "...             ...           ...           ...             ...           ...   \n",
        "4079  Equity Option        Equity  BBG00739D426    BBG00739D408  524030628090   \n",
        "4080  Equity Option        Equity  BBG00739D4S8    BBG00739D4Q0  524030628093   \n",
        "4081  Equity Option        Equity  BBG006WMQQ51    BBG006WMQQ33  524029643826   \n",
        "4082  Equity Option        Equity  BBG00739D5H7    BBG00739D5F9  524030628097   \n",
        "4083  Equity Option        Equity  BBG00739D676    BBG00739D658  524030628101   \n",
        "4084  Equity Option        Equity  BBG00739D6Y6    BBG00739D6W8  524030628104   \n",
        "4085  Equity Option        Equity  BBG00739D7N6    BBG00739D7L8  524030628108   \n",
        "4086  Equity Option        Equity  BBG006WMQQW1    BBG006WMQQT5  524029643855   \n",
        "4087  Equity Option        Equity  BBG00739D8C6    BBG00739D890  524030628112   \n",
        "4088  Equity Option        Equity  BBG00739D934    BBG00739D916  524030628117   \n",
        "4089  Equity Option        Equity  BBG00739D9T6    BBG00739D9R8  524030628120   \n",
        "4090  Equity Option        Equity  BBG00739DBJ2    BBG00739DBG5  524030628124   \n",
        "4091  Equity Option        Equity  BBG006WMQRL1    BBG006WMQRJ4  524029643881   \n",
        "4092  Equity Option        Equity  BBG00739DC73    BBG00739DC55  524030628128   \n",
        "4093  Equity Option        Equity  BBG00739DCY3    BBG00739DCW5  524030628132   \n",
        "4094  Equity Option        Equity  BBG00739DDP1    BBG00739DDM4  524030628135   \n",
        "4095  Equity Option        Equity  BBG00739DFD9    BBG00739DFB1  524030628139   \n",
        "4096  Equity Option        Equity  BBG006WMQS93    BBG006WMQS75  524029643905   \n",
        "4097  Equity Option        Equity  BBG00739DG38    BBG00739DG10  524030628143   \n",
        "4098  Equity Option        Equity  BBG00739DGT0    BBG00739DGR2  524030628146   \n",
        "4099  Equity Option        Equity  BBG00739DHK7    BBG00739DHH1  524030628150   \n",
        "4100  Equity Option        Equity  BBG00739DJ87    BBG00739DJ69  524030628154   \n",
        "4101  Equity Option        Equity  BBG0071LYTZ7    BBG0071LYTX9  524030386106   \n",
        "4102  Equity Option        Equity  BBG00739DJZ7    BBG00739DJX9  524030628157   \n",
        "4103  Equity Option        Equity  BBG00739DKP5    BBG00739DKM8  524030628161   \n",
        "4104  Equity Option        Equity  BBG00739DLD6    BBG00739DLB8  524030628165   \n",
        "4105  Equity Option        Equity  BBG00739DM53    BBG00739DM35  524030628168   \n",
        "4106  Equity Option        Equity  BBG0071LYVP3    BBG0071LYVM6  524030386135   \n",
        "4107  Equity Option        Equity  BBG007HQTVB6    BBG007HQTV80  524032215832   \n",
        "4108  Equity Option        Equity  BBG007LVH6F4    BBG007LVH6C7  524032659905   \n",
        "\n",
        "                     Unique ID  \n",
        "4038  EO000N292015030184E00001  \n",
        "4039  EO000N292015030185000001  \n",
        "4040  EO000N292015030185200001  \n",
        "4041  EO000N292015030185400001  \n",
        "4042  EO000N292015030185600001  \n",
        "4043  EO000N292015030185800001  \n",
        "4044  EO000N292015030185A00001  \n",
        "4045  EO000N292015030186400001  \n",
        "4046  EO000N292015030186E00001  \n",
        "4047  EO000N292015030187800001  \n",
        "4048  EO000N292015030188200001  \n",
        "4049  EO000N292015030188800001  \n",
        "4050  EO000N292015030188A00001  \n",
        "4051  EO000N292015030188C00001  \n",
        "4052  EO000N292015030188E00001  \n",
        "4053  EO000N292015030189000001  \n",
        "4054  EO000N292015030189200001  \n",
        "4055  EO000N292015030189400001  \n",
        "4056  EO000N292015030189600001  \n",
        "4057  EO000N292015030189800001  \n",
        "4058  EO000N292015030189A00001  \n",
        "4059  EO000N292015030189C00001  \n",
        "4060  EO000N292015030189E00001  \n",
        "4061  EO000N29201503018A000001  \n",
        "4062  EO000N29201503018A200001  \n",
        "4063  EO000N29201503018A400001  \n",
        "4064  EO000N29201503018A600001  \n",
        "4065  EO000N29201503018A800001  \n",
        "4066  EO000N29201503018AA00001  \n",
        "4067  EO000N29201503018AC00001  \n",
        "...                        ...  \n",
        "4079  EO000N29201503018C400001  \n",
        "4080  EO000N29201503018C600001  \n",
        "4081  EO000N29201503018C800001  \n",
        "4082  EO000N29201503018CA00001  \n",
        "4083  EO000N29201503018CC00001  \n",
        "4084  EO000N29201503018CE00001  \n",
        "4085  EO000N29201503018D000001  \n",
        "4086  EO000N29201503018D200001  \n",
        "4087  EO000N29201503018D400001  \n",
        "4088  EO000N29201503018D600001  \n",
        "4089  EO000N29201503018D800001  \n",
        "4090  EO000N29201503018DA00001  \n",
        "4091  EO000N29201503018DC00001  \n",
        "4092  EO000N29201503018DE00001  \n",
        "4093  EO000N29201503018E000001  \n",
        "4094  EO000N29201503018E200001  \n",
        "4095  EO000N29201503018E400001  \n",
        "4096  EO000N29201503018E600001  \n",
        "4097  EO000N29201503018E800001  \n",
        "4098  EO000N29201503018EA00001  \n",
        "4099  EO000N29201503018EC00001  \n",
        "4100  EO000N29201503018EE00001  \n",
        "4101  EO000N29201503018F000001  \n",
        "4102  EO000N29201503018F200001  \n",
        "4103  EO000N29201503018F400001  \n",
        "4104  EO000N29201503018F600001  \n",
        "4105  EO000N29201503018F800001  \n",
        "4106  EO000N29201503018FA00001  \n",
        "4107  EO000N292015030190400001  \n",
        "4108  EO000N292015030190E00001  \n",
        "\n",
        "[71 rows x 9 columns] 4109\n"
       ]
      }
     ],
     "prompt_number": 23
    },
    {
     "cell_type": "code",
     "collapsed": false,
     "input": [
      "#Bad List of quandl Codes\n",
      "badListQCodes = ('GOOG/TYO_8591', 'GOOG/TYO_2174', 'GOOG/TPE_4164')"
     ],
     "language": "python",
     "metadata": {},
     "outputs": [],
     "prompt_number": 75
    },
    {
     "cell_type": "markdown",
     "metadata": {},
     "source": [
      "#quandlCode from Ticker"
     ]
    },
    {
     "cell_type": "code",
     "collapsed": false,
     "input": [
      "for counter, i in enumerate(dfFullList.index[startIndex:]):\n",
      "    if not counter % 5:\n",
      "        time.sleep(11)\n",
      "\n",
      "    tickerName = dfFullList.ix[i, 'Ticker'].split('/')[0]\n",
      "    print(i, counter, tickerName)\n",
      "\n",
      "    newQuandlCode = Quandl.search(query = tickerName, authtoken = 'bW5sqqFptYcBCRpQpYhx', source = \"GOOG\", verbose = False)\n",
      "    if newQuandlCode:\n",
      "        #skip bad quandl codes\n",
      "        if not newQuandlCode[0]['code'] in badListQCodes:\n",
      "            newRow = {'Name' : dfFullList.ix[i, 'Name'], 'Ticker' : tickerName, 'quandlCode' : newQuandlCode[0]['code'], 'quandlName': newQuandlCode[0]['name']}\n",
      "\n",
      "            results.append(newRow)\n",
      "        \n",
      "pd.DataFrame(results).to_pickle('./equityLists/stockListTicker.pkl')"
     ],
     "language": "python",
     "metadata": {},
     "outputs": [
      {
       "output_type": "stream",
       "stream": "stdout",
       "text": [
        "2004 0 TRC\n",
        "2005"
       ]
      },
      {
       "output_type": "stream",
       "stream": "stdout",
       "text": [
        " 1 TTI\n",
        "2006"
       ]
      },
      {
       "output_type": "stream",
       "stream": "stdout",
       "text": [
        " 2 UAM\n",
        "2007"
       ]
      },
      {
       "output_type": "stream",
       "stream": "stdout",
       "text": [
        " 3 UMH\n",
        "2008"
       ]
      },
      {
       "output_type": "stream",
       "stream": "stdout",
       "text": [
        " 4 KMPR\n",
        "2009"
       ]
      },
      {
       "output_type": "stream",
       "stream": "stdout",
       "text": [
        " 5 WM\n",
        "2010"
       ]
      },
      {
       "output_type": "stream",
       "stream": "stdout",
       "text": [
        " 6 MUX\n",
        "2011"
       ]
      },
      {
       "output_type": "stream",
       "stream": "stdout",
       "text": [
        " 7 USM\n",
        "2012"
       ]
      },
      {
       "output_type": "stream",
       "stream": "stdout",
       "text": [
        " 8 USPH\n",
        "2013"
       ]
      },
      {
       "output_type": "stream",
       "stream": "stdout",
       "text": [
        " 9 UTL\n",
        "2014"
       ]
      },
      {
       "output_type": "stream",
       "stream": "stdout",
       "text": [
        " 10 AU\n",
        "2015"
       ]
      },
      {
       "output_type": "stream",
       "stream": "stdout",
       "text": [
        " 11 VAL\n",
        "2016"
       ]
      },
      {
       "output_type": "stream",
       "stream": "stdout",
       "text": [
        " 12 VMI\n",
        "2017"
       ]
      },
      {
       "output_type": "stream",
       "stream": "stdout",
       "text": [
        " 13 CBS\n",
        "2018"
       ]
      },
      {
       "output_type": "stream",
       "stream": "stdout",
       "text": [
        " 14 CBS\n",
        "2019"
       ]
      },
      {
       "output_type": "stream",
       "stream": "stdout",
       "text": [
        " 15 VLY\n",
        "2020"
       ]
      },
      {
       "output_type": "stream",
       "stream": "stdout",
       "text": [
        " 16 WTS\n",
        "2021"
       ]
      },
      {
       "output_type": "stream",
       "stream": "stdout",
       "text": [
        " 17 ACT\n",
        "2022"
       ]
      },
      {
       "output_type": "stream",
       "stream": "stdout",
       "text": [
        " 18 WBS\n",
        "2023"
       ]
      },
      {
       "output_type": "stream",
       "stream": "stdout",
       "text": [
        " 19 JW\n",
        "2024"
       ]
      },
      {
       "output_type": "stream",
       "stream": "stdout",
       "text": [
        " 20 JW\n",
        "2025"
       ]
      },
      {
       "output_type": "stream",
       "stream": "stdout",
       "text": [
        " 21 STZ\n",
        "2026"
       ]
      },
      {
       "output_type": "stream",
       "stream": "stdout",
       "text": [
        " 22 STZ\n",
        "2027"
       ]
      },
      {
       "output_type": "stream",
       "stream": "stdout",
       "text": [
        " 23 WRE\n",
        "2028"
       ]
      },
      {
       "output_type": "stream",
       "stream": "stdout",
       "text": [
        " 24 WPP\n",
        "2029"
       ]
      },
      {
       "output_type": "stream",
       "stream": "stdout",
       "text": [
        " 25 WSM\n",
        "2030"
       ]
      },
      {
       "output_type": "stream",
       "stream": "stdout",
       "text": [
        " 26 WSO\n",
        "2031"
       ]
      },
      {
       "output_type": "stream",
       "stream": "stdout",
       "text": [
        " 27 WSO\n",
        "2032"
       ]
      },
      {
       "output_type": "stream",
       "stream": "stdout",
       "text": [
        " 28 VBF\n",
        "2033"
       ]
      },
      {
       "output_type": "stream",
       "stream": "stdout",
       "text": [
        " 29 APB\n",
        "2034"
       ]
      },
      {
       "output_type": "stream",
       "stream": "stdout",
       "text": [
        " 30 BKT\n",
        "2035"
       ]
      },
      {
       "output_type": "stream",
       "stream": "stdout",
       "text": [
        " 31 CHN\n",
        "2036"
       ]
      },
      {
       "output_type": "stream",
       "stream": "stdout",
       "text": [
        " 32 CXE\n",
        "2037"
       ]
      },
      {
       "output_type": "stream",
       "stream": "stdout",
       "text": [
        " 33 CMK\n",
        "2038"
       ]
      },
      {
       "output_type": "stream",
       "stream": "stdout",
       "text": [
        " 34 CIF\n",
        "2039"
       ]
      },
      {
       "output_type": "stream",
       "stream": "stdout",
       "text": [
        " 35 CXH\n",
        "2040"
       ]
      },
      {
       "output_type": "stream",
       "stream": "stdout",
       "text": [
        " 36 CMU\n",
        "2041"
       ]
      },
      {
       "output_type": "stream",
       "stream": "stdout",
       "text": [
        " 37 DSM\n",
        "2042"
       ]
      },
      {
       "output_type": "stream",
       "stream": "stdout",
       "text": [
        " 38 LEO\n",
        "2043"
       ]
      },
      {
       "output_type": "stream",
       "stream": "stdout",
       "text": [
        " 39 DNP\n",
        "2044"
       ]
      },
      {
       "output_type": "stream",
       "stream": "stdout",
       "text": [
        " 40 CEE\n",
        "2045"
       ]
      },
      {
       "output_type": "stream",
       "stream": "stdout",
       "text": [
        " 41 GAB\n",
        "2046"
       ]
      },
      {
       "output_type": "stream",
       "stream": "stdout",
       "text": [
        " 42 GAM\n",
        "2047"
       ]
      },
      {
       "output_type": "stream",
       "stream": "stdout",
       "text": [
        " 43 EEA\n",
        "2048"
       ]
      },
      {
       "output_type": "stream",
       "stream": "stdout",
       "text": [
        " 44 GCH\n",
        "2049"
       ]
      },
      {
       "output_type": "stream",
       "stream": "stdout",
       "text": [
        " 45 HQH\n",
        "2050"
       ]
      },
      {
       "output_type": "stream",
       "stream": "stdout",
       "text": [
        " 46 HTR\n",
        "2051"
       ]
      },
      {
       "output_type": "stream",
       "stream": "stdout",
       "text": [
        " 47 ICB\n",
        "2052"
       ]
      },
      {
       "output_type": "stream",
       "stream": "stdout",
       "text": [
        " 48 IRL\n",
        "2053"
       ]
      },
      {
       "output_type": "stream",
       "stream": "stdout",
       "text": [
        " 49 JOF\n",
        "2054"
       ]
      },
      {
       "output_type": "stream",
       "stream": "stdout",
       "text": [
        " 50 JFC\n",
        "2055"
       ]
      },
      {
       "output_type": "stream",
       "stream": "stdout",
       "text": [
        " 51 KHI\n",
        "2056"
       ]
      },
      {
       "output_type": "stream",
       "stream": "stdout",
       "text": [
        " 52 KMM\n",
        "2057"
       ]
      },
      {
       "output_type": "stream",
       "stream": "stdout",
       "text": [
        " 53 KTF\n",
        "2058"
       ]
      },
      {
       "output_type": "stream",
       "stream": "stdout",
       "text": [
        " 54 KSM\n",
        "2059"
       ]
      },
      {
       "output_type": "stream",
       "stream": "stdout",
       "text": [
        " 55 KF\n",
        "2060"
       ]
      },
      {
       "output_type": "stream",
       "stream": "stdout",
       "text": [
        " 56 USA\n",
        "2061"
       ]
      },
      {
       "output_type": "stream",
       "stream": "stdout",
       "text": [
        " 57 MXE\n",
        "2062"
       ]
      },
      {
       "output_type": "stream",
       "stream": "stdout",
       "text": [
        " 58 MXF\n",
        "2063"
       ]
      },
      {
       "output_type": "stream",
       "stream": "stdout",
       "text": [
        " 59 MCR\n",
        "2064"
       ]
      },
      {
       "output_type": "stream",
       "stream": "stdout",
       "text": [
        " 60 MGF\n",
        "2065"
       ]
      },
      {
       "output_type": "stream",
       "stream": "stdout",
       "text": [
        " 61 MIN\n",
        "2066"
       ]
      },
      {
       "output_type": "stream",
       "stream": "stdout",
       "text": [
        " 62 MMT\n",
        "2067"
       ]
      },
      {
       "output_type": "stream",
       "stream": "stdout",
       "text": [
        " 63 MFM\n",
        "2068"
       ]
      },
      {
       "output_type": "stream",
       "stream": "stdout",
       "text": [
        " 64 MFV\n",
        "2069"
       ]
      },
      {
       "output_type": "stream",
       "stream": "stdout",
       "text": [
        " 65 MTS\n",
        "2070"
       ]
      },
      {
       "output_type": "stream",
       "stream": "stdout",
       "text": [
        " 66 MEN\n",
        "2071"
       ]
      },
      {
       "output_type": "stream",
       "stream": "stdout",
       "text": [
        " 67 MYC\n",
        "2072"
       ]
      },
      {
       "output_type": "stream",
       "stream": "stdout",
       "text": [
        " 68 MYF\n",
        "2073"
       ]
      },
      {
       "output_type": "stream",
       "stream": "stdout",
       "text": [
        " 69 MYI\n",
        "2074"
       ]
      },
      {
       "output_type": "stream",
       "stream": "stdout",
       "text": [
        " 70 MQT\n",
        "2075"
       ]
      },
      {
       "output_type": "stream",
       "stream": "stdout",
       "text": [
        " 71 MQY\n",
        "2076"
       ]
      },
      {
       "output_type": "stream",
       "stream": "stdout",
       "text": [
        " 72 HYB\n",
        "2077"
       ]
      },
      {
       "output_type": "stream",
       "stream": "stdout",
       "text": [
        " 73 GF\n",
        "2078"
       ]
      },
      {
       "output_type": "stream",
       "stream": "stdout",
       "text": [
        " 74 NCA\n",
        "2079"
       ]
      },
      {
       "output_type": "stream",
       "stream": "stdout",
       "text": [
        " 75 NXC\n",
        "2080"
       ]
      },
      {
       "output_type": "stream",
       "stream": "stdout",
       "text": [
        " 76 NQI\n",
        "2081"
       ]
      },
      {
       "output_type": "stream",
       "stream": "stdout",
       "text": [
        " 77 NXN\n",
        "2082"
       ]
      },
      {
       "output_type": "stream",
       "stream": "stdout",
       "text": [
        " 78 NQM\n",
        "2083"
       ]
      },
      {
       "output_type": "stream",
       "stream": "stdout",
       "text": [
        " 79 NMA\n",
        "2084"
       ]
      },
      {
       "output_type": "stream",
       "stream": "stdout",
       "text": [
        " 80 NMI\n",
        "2085"
       ]
      },
      {
       "output_type": "stream",
       "stream": "stdout",
       "text": [
        " 81 NUV\n",
        "2086"
       ]
      },
      {
       "output_type": "stream",
       "stream": "stdout",
       "text": [
        " 82 NNY\n",
        "2087"
       ]
      },
      {
       "output_type": "stream",
       "stream": "stdout",
       "text": [
        " 83 NPP\n",
        "2088"
       ]
      },
      {
       "output_type": "stream",
       "stream": "stdout",
       "text": [
        " 84 NPM\n",
        "2089"
       ]
      },
      {
       "output_type": "stream",
       "stream": "stdout",
       "text": [
        " 85 NPI\n",
        "2090"
       ]
      },
      {
       "output_type": "stream",
       "stream": "stdout",
       "text": [
        " 86 NQU\n",
        "2091"
       ]
      },
      {
       "output_type": "stream",
       "stream": "stdout",
       "text": [
        " 87 NIM\n",
        "2092"
       ]
      },
      {
       "output_type": "stream",
       "stream": "stdout",
       "text": [
        " 88 NQS\n",
        "2093"
       ]
      },
      {
       "output_type": "stream",
       "stream": "stdout",
       "text": [
        " 89 NXP\n",
        "2094"
       ]
      },
      {
       "output_type": "stream",
       "stream": "stdout",
       "text": [
        " 90 NXQ\n",
        "2095"
       ]
      },
      {
       "output_type": "stream",
       "stream": "stdout",
       "text": [
        " 91 NXR\n",
        "2096"
       ]
      },
      {
       "output_type": "stream",
       "stream": "stdout",
       "text": [
        " 92 NTX\n",
        "2097"
       ]
      },
      {
       "output_type": "stream",
       "stream": "stdout",
       "text": [
        " 93 PAI\n",
        "2098"
       ]
      },
      {
       "output_type": "stream",
       "stream": "stdout",
       "text": [
        " 94 PDT\n",
        "2099"
       ]
      },
      {
       "output_type": "stream",
       "stream": "stdout",
       "text": [
        " 95 PPR\n",
        "2100"
       ]
      },
      {
       "output_type": "stream",
       "stream": "stdout",
       "text": [
        " 96 PCF\n",
        "2101"
       ]
      },
      {
       "output_type": "stream",
       "stream": "stdout",
       "text": [
        " 97 PMM\n",
        "2102"
       ]
      },
      {
       "output_type": "stream",
       "stream": "stdout",
       "text": [
        " 98 PIM\n",
        "2103"
       ]
      },
      {
       "output_type": "stream",
       "stream": "stdout",
       "text": [
        " 99 PPT\n",
        "2104"
       ]
      },
      {
       "output_type": "stream",
       "stream": "stdout",
       "text": [
        " 100 JMM\n",
        "2105"
       ]
      },
      {
       "output_type": "stream",
       "stream": "stdout",
       "text": [
        " 101 RVT\n",
        "2106"
       ]
      },
      {
       "output_type": "stream",
       "stream": "stdout",
       "text": [
        " 102 SWZ\n",
        "2107"
       ]
      },
      {
       "output_type": "stream",
       "stream": "stdout",
       "text": [
        " 103 TWN\n",
        "2108"
       ]
      },
      {
       "output_type": "stream",
       "stream": "stdout",
       "text": [
        " 104 TSI\n",
        "2109"
       ]
      },
      {
       "output_type": "stream",
       "stream": "stdout",
       "text": [
        " 105 EMF\n",
        "2110"
       ]
      },
      {
       "output_type": "stream",
       "stream": "stdout",
       "text": [
        " 106 GIM\n",
        "2111"
       ]
      },
      {
       "output_type": "stream",
       "stream": "stdout",
       "text": [
        " 107 TTF\n",
        "2112"
       ]
      },
      {
       "output_type": "stream",
       "stream": "stdout",
       "text": [
        " 108 TAI\n",
        "2113"
       ]
      },
      {
       "output_type": "stream",
       "stream": "stdout",
       "text": [
        " 109 BIF\n",
        "2114"
       ]
      },
      {
       "output_type": "stream",
       "stream": "stdout",
       "text": [
        " 110 VGM\n",
        "2115"
       ]
      },
      {
       "output_type": "stream",
       "stream": "stdout",
       "text": [
        " 111 VMO\n",
        "2116"
       ]
      },
      {
       "output_type": "stream",
       "stream": "stdout",
       "text": [
        " 112 ZF\n",
        "2117"
       ]
      },
      {
       "output_type": "stream",
       "stream": "stdout",
       "text": [
        " 113 ZTR\n",
        "2118"
       ]
      },
      {
       "output_type": "stream",
       "stream": "stdout",
       "text": [
        " 114 DDD\n",
        "2119"
       ]
      },
      {
       "output_type": "stream",
       "stream": "stdout",
       "text": [
        " 115 DDC\n",
        "2120"
       ]
      },
      {
       "output_type": "stream",
       "stream": "stdout",
       "text": [
        " 116 AEM\n",
        "2121"
       ]
      },
      {
       "output_type": "stream",
       "stream": "stdout",
       "text": [
        " 117 BMO\n",
        "2122"
       ]
      },
      {
       "output_type": "stream",
       "stream": "stdout",
       "text": [
        " 118 BNS\n",
        "2123"
       ]
      },
      {
       "output_type": "stream",
       "stream": "stdout",
       "text": [
        " 119 TLM\n",
        "2124"
       ]
      },
      {
       "output_type": "stream",
       "stream": "stdout",
       "text": [
        " 120 SKT\n",
        "2125"
       ]
      },
      {
       "output_type": "stream",
       "stream": "stdout",
       "text": [
        " 121 TU\n",
        "2126"
       ]
      },
      {
       "output_type": "stream",
       "stream": "stdout",
       "text": [
        " 122 CAE\n",
        "2127"
       ]
      },
      {
       "output_type": "stream",
       "stream": "stdout",
       "text": [
        " 123 CCJ\n",
        "2128"
       ]
      },
      {
       "output_type": "stream",
       "stream": "stdout",
       "text": [
        " 124 CM\n",
        "2129"
       ]
      },
      {
       "output_type": "stream",
       "stream": "stdout",
       "text": [
        " 125 CNQ\n",
        "2130"
       ]
      },
      {
       "output_type": "stream",
       "stream": "stdout",
       "text": [
        " 126 DNR\n",
        "2131"
       ]
      },
      {
       "output_type": "stream",
       "stream": "stdout",
       "text": [
        " 127 GIB\n",
        "2132"
       ]
      },
      {
       "output_type": "stream",
       "stream": "stdout",
       "text": [
        " 128 COT\n",
        "2133"
       ]
      },
      {
       "output_type": "stream",
       "stream": "stdout",
       "text": [
        " 129 SA\n",
        "2134"
       ]
      },
      {
       "output_type": "stream",
       "stream": "stdout",
       "text": [
        " 130 OPY\n",
        "2135"
       ]
      },
      {
       "output_type": "stream",
       "stream": "stdout",
       "text": [
        " 131 GG\n",
        "2136"
       ]
      },
      {
       "output_type": "stream",
       "stream": "stdout",
       "text": [
        " 132 ENB\n",
        "2137"
       ]
      },
      {
       "output_type": "stream",
       "stream": "stdout",
       "text": [
        " 133 MGA\n",
        "2138"
       ]
      },
      {
       "output_type": "stream",
       "stream": "stdout",
       "text": [
        " 134 MIL\n",
        "2139"
       ]
      },
      {
       "output_type": "stream",
       "stream": "stdout",
       "text": [
        " 135 FTK\n",
        "2140"
       ]
      },
      {
       "output_type": "stream",
       "stream": "stdout",
       "text": [
        " 136 PQ\n",
        "2141"
       ]
      },
      {
       "output_type": "stream",
       "stream": "stdout",
       "text": [
        " 137 ECA\n",
        "2142"
       ]
      },
      {
       "output_type": "stream",
       "stream": "stdout",
       "text": [
        " 138 PWE\n",
        "2143"
       ]
      },
      {
       "output_type": "stream",
       "stream": "stdout",
       "text": [
        " 139 PDS\n",
        "2144"
       ]
      },
      {
       "output_type": "stream",
       "stream": "stdout",
       "text": [
        " 140 RCI\n",
        "2145"
       ]
      },
      {
       "output_type": "stream",
       "stream": "stdout",
       "text": [
        " 141 RY\n",
        "2146"
       ]
      },
      {
       "output_type": "stream",
       "stream": "stdout",
       "text": [
        " 142 SJR\n",
        "2147"
       ]
      },
      {
       "output_type": "stream",
       "stream": "stdout",
       "text": [
        " 143 SVM\n",
        "2148"
       ]
      },
      {
       "output_type": "stream",
       "stream": "stdout",
       "text": [
        " 144 SU\n",
        "2149"
       ]
      },
      {
       "output_type": "stream",
       "stream": "stdout",
       "text": [
        " 145 TCK\n",
        "2150"
       ]
      },
      {
       "output_type": "stream",
       "stream": "stdout",
       "text": [
        " 146 TD\n",
        "2151"
       ]
      },
      {
       "output_type": "stream",
       "stream": "stdout",
       "text": [
        " 147 UPL\n",
        "2152"
       ]
      },
      {
       "output_type": "stream",
       "stream": "stdout",
       "text": [
        " 148 TAC\n",
        "2153"
       ]
      },
      {
       "output_type": "stream",
       "stream": "stdout",
       "text": [
        " 149 BXE\n",
        "2154"
       ]
      },
      {
       "output_type": "stream",
       "stream": "stdout",
       "text": [
        " 150 EGY\n",
        "2155"
       ]
      },
      {
       "output_type": "stream",
       "stream": "stdout",
       "text": [
        " 151 RIOM\n",
        "2156"
       ]
      },
      {
       "output_type": "stream",
       "stream": "stdout",
       "text": [
        " 152 AAV\n",
        "2157"
       ]
      },
      {
       "output_type": "stream",
       "stream": "stdout",
       "text": [
        " 153 AZN\n",
        "2158"
       ]
      },
      {
       "output_type": "stream",
       "stream": "stdout",
       "text": [
        " 154 IRE\n",
        "2159"
       ]
      },
      {
       "output_type": "stream",
       "stream": "stdout",
       "text": [
        " 155 CRH\n",
        "2160"
       ]
      },
      {
       "output_type": "stream",
       "stream": "stdout",
       "text": [
        " 156 DRD\n",
        "2161"
       ]
      },
      {
       "output_type": "stream",
       "stream": "stdout",
       "text": [
        " 157 DEO\n",
        "2162"
       ]
      },
      {
       "output_type": "stream",
       "stream": "stdout",
       "text": [
        " 158 HMY\n",
        "2163"
       ]
      },
      {
       "output_type": "stream",
       "stream": "stdout",
       "text": [
        " 159 HSBC\n",
        "2164"
       ]
      },
      {
       "output_type": "stream",
       "stream": "stdout",
       "text": [
        " 160 IVZ\n",
        "2165"
       ]
      },
      {
       "output_type": "stream",
       "stream": "stdout",
       "text": [
        " 161 FRO\n",
        "2166"
       ]
      },
      {
       "output_type": "stream",
       "stream": "stdout",
       "text": [
        " 162 PSO\n",
        "2167"
       ]
      },
      {
       "output_type": "stream",
       "stream": "stdout",
       "text": [
        " 163 PUK\n",
        "2168"
       ]
      },
      {
       "output_type": "stream",
       "stream": "stdout",
       "text": [
        " 164 SIG\n",
        "2169"
       ]
      },
      {
       "output_type": "stream",
       "stream": "stdout",
       "text": [
        " 165 RUK\n",
        "2170"
       ]
      },
      {
       "output_type": "stream",
       "stream": "stdout",
       "text": [
        " 166 SSL\n",
        "2171"
       ]
      },
      {
       "output_type": "stream",
       "stream": "stdout",
       "text": [
        " 167 SNN\n",
        "2172"
       ]
      },
      {
       "output_type": "stream",
       "stream": "stdout",
       "text": [
        " 168 LYG\n",
        "2173"
       ]
      },
      {
       "output_type": "stream",
       "stream": "stdout",
       "text": [
        " 169 JHI\n",
        "2174"
       ]
      },
      {
       "output_type": "stream",
       "stream": "stdout",
       "text": [
        " 170 JHX\n",
        "2175"
       ]
      },
      {
       "output_type": "stream",
       "stream": "stdout",
       "text": [
        " 171 ATE\n",
        "2176"
       ]
      },
      {
       "output_type": "stream",
       "stream": "stdout",
       "text": [
        " 172 CAJ\n",
        "2177"
       ]
      },
      {
       "output_type": "stream",
       "stream": "stdout",
       "text": [
        " 173 NJ\n",
        "2178"
       ]
      },
      {
       "output_type": "stream",
       "stream": "stdout",
       "text": [
        " 174 NTT\n",
        "2179"
       ]
      },
      {
       "output_type": "stream",
       "stream": "stdout",
       "text": [
        " 175 NMR\n",
        "2180"
       ]
      },
      {
       "output_type": "stream",
       "stream": "stdout",
       "text": [
        " 176 IX\n",
        "2181"
       ]
      },
      {
       "output_type": "stream",
       "stream": "stdout",
       "text": [
        " 177 TM\n",
        "2182"
       ]
      },
      {
       "output_type": "stream",
       "stream": "stdout",
       "text": [
        " 178 LTC\n",
        "2183"
       ]
      },
      {
       "output_type": "stream",
       "stream": "stdout",
       "text": [
        " 179 MSF\n",
        "2184"
       ]
      },
      {
       "output_type": "stream",
       "stream": "stdout",
       "text": [
        " 180 OHI\n",
        "2185"
       ]
      },
      {
       "output_type": "stream",
       "stream": "stdout",
       "text": [
        " 181 CGG\n",
        "2186"
       ]
      },
      {
       "output_type": "stream",
       "stream": "stdout",
       "text": [
        " 182 CSI\n",
        "2187"
       ]
      },
      {
       "output_type": "stream",
       "stream": "stdout",
       "text": [
        " 183 ATU\n",
        "2188"
       ]
      },
      {
       "output_type": "stream",
       "stream": "stdout",
       "text": [
        " 184 RDN\n",
        "2189"
       ]
      },
      {
       "output_type": "stream",
       "stream": "stdout",
       "text": [
        " 185 CS\n",
        "2190"
       ]
      },
      {
       "output_type": "stream",
       "stream": "stdout",
       "text": [
        " 186 DB\n",
        "2191"
       ]
      },
      {
       "output_type": "stream",
       "stream": "stdout",
       "text": [
        " 187 DEG\n",
        "2192"
       ]
      },
      {
       "output_type": "stream",
       "stream": "stdout",
       "text": [
        " 188 ENL\n",
        "2193"
       ]
      },
      {
       "output_type": "stream",
       "stream": "stdout",
       "text": [
        " 189 BKS\n",
        "2194"
       ]
      },
      {
       "output_type": "stream",
       "stream": "stdout",
       "text": [
        " 190 NOK\n",
        "2195"
       ]
      },
      {
       "output_type": "stream",
       "stream": "stdout",
       "text": [
        " 191 ING\n",
        "2196"
       ]
      },
      {
       "output_type": "stream",
       "stream": "stdout",
       "text": [
        " 192 LBF\n",
        "2197"
       ]
      },
      {
       "output_type": "stream",
       "stream": "stdout",
       "text": [
        " 193 JEQ\n",
        "2198"
       ]
      },
      {
       "output_type": "stream",
       "stream": "stdout",
       "text": [
        " 194 MCI\n",
        "2199"
       ]
      },
      {
       "output_type": "stream",
       "stream": "stdout",
       "text": [
        " 195 MPV\n",
        "2200"
       ]
      },
      {
       "output_type": "stream",
       "stream": "stdout",
       "text": [
        " 196 MTX\n",
        "2201"
       ]
      },
      {
       "output_type": "stream",
       "stream": "stdout",
       "text": [
        " 197 MHF\n",
        "2202"
       ]
      },
      {
       "output_type": "stream",
       "stream": "stdout",
       "text": [
        " 198 MYD\n",
        "2203"
       ]
      },
      {
       "output_type": "stream",
       "stream": "stdout",
       "text": [
        " 199 MJI\n",
        "2204"
       ]
      },
      {
       "output_type": "stream",
       "stream": "stdout",
       "text": [
        " 200 MYN\n",
        "2205"
       ]
      },
      {
       "output_type": "stream",
       "stream": "stdout",
       "text": [
        " 201 NAZ\n",
        "2206"
       ]
      },
      {
       "output_type": "stream",
       "stream": "stdout",
       "text": [
        " 202 NIO\n",
        "2207"
       ]
      },
      {
       "output_type": "stream",
       "stream": "stdout",
       "text": [
        " 203 NUM\n",
        "2208"
       ]
      },
      {
       "output_type": "stream",
       "stream": "stdout",
       "text": [
        " 204 NNP\n",
        "2209"
       ]
      },
      {
       "output_type": "stream",
       "stream": "stdout",
       "text": [
        " 205 NQP\n",
        "2210"
       ]
      },
      {
       "output_type": "stream",
       "stream": "stdout",
       "text": [
        " 206 SGL\n",
        "2211"
       ]
      },
      {
       "output_type": "stream",
       "stream": "stdout",
       "text": [
        " 207 TCO\n",
        "2212"
       ]
      },
      {
       "output_type": "stream",
       "stream": "stdout",
       "text": [
        " 208 VLT\n",
        "2213"
       ]
      },
      {
       "output_type": "stream",
       "stream": "stdout",
       "text": [
        " 209 VKQ\n",
        "2214"
       ]
      },
      {
       "output_type": "stream",
       "stream": "stdout",
       "text": [
        " 210 SM\n",
        "2215"
       ]
      },
      {
       "output_type": "stream",
       "stream": "stdout",
       "text": [
        " 211 KAI\n",
        "2216"
       ]
      },
      {
       "output_type": "stream",
       "stream": "stdout",
       "text": [
        " 212 MS\n",
        "2217"
       ]
      },
      {
       "output_type": "stream",
       "stream": "stdout",
       "text": [
        " 213 ETH\n",
        "2218"
       ]
      },
      {
       "output_type": "stream",
       "stream": "stdout",
       "text": [
        " 214 EGO\n",
        "2219"
       ]
      },
      {
       "output_type": "stream",
       "stream": "stdout",
       "text": [
        " 215 NLS\n",
        "2220"
       ]
      },
      {
       "output_type": "stream",
       "stream": "stdout",
       "text": [
        " 216 CKH\n",
        "2221"
       ]
      },
      {
       "output_type": "stream",
       "stream": "stdout",
       "text": [
        " 217 UVE\n",
        "2222"
       ]
      },
      {
       "output_type": "stream",
       "stream": "stdout",
       "text": [
        " 218 DDR\n",
        "2223"
       ]
      },
      {
       "output_type": "stream",
       "stream": "stdout",
       "text": [
        " 219 DUC\n",
        "2224"
       ]
      },
      {
       "output_type": "stream",
       "stream": "stdout",
       "text": [
        " 220 BKN\n",
        "2225"
       ]
      },
      {
       "output_type": "stream",
       "stream": "stdout",
       "text": [
        " 221 PHI\n",
        "2226"
       ]
      },
      {
       "output_type": "stream",
       "stream": "stdout",
       "text": [
        " 222 ACE\n",
        "2227"
       ]
      },
      {
       "output_type": "stream",
       "stream": "stdout",
       "text": [
        " 223 GGP\n",
        "2228"
       ]
      },
      {
       "output_type": "stream",
       "stream": "stdout",
       "text": [
        " 224 CHK\n",
        "2229"
       ]
      },
      {
       "output_type": "stream",
       "stream": "stdout",
       "text": [
        " 225 CRY\n",
        "2230"
       ]
      },
      {
       "output_type": "stream",
       "stream": "stdout",
       "text": [
        " 226 ALG\n",
        "2231"
       ]
      },
      {
       "output_type": "stream",
       "stream": "stdout",
       "text": [
        " 227 NPT\n",
        "2232"
       ]
      },
      {
       "output_type": "stream",
       "stream": "stdout",
       "text": [
        " 228 ELS\n",
        "2233"
       ]
      },
      {
       "output_type": "stream",
       "stream": "stdout",
       "text": [
        " 229 MHY\n",
        "2234"
       ]
      },
      {
       "output_type": "stream",
       "stream": "stdout",
       "text": [
        " 230 NMT\n",
        "2235"
       ]
      },
      {
       "output_type": "stream",
       "stream": "stdout",
       "text": [
        " 231 NMY\n",
        "2236"
       ]
      },
      {
       "output_type": "stream",
       "stream": "stdout",
       "text": [
        " 232 JBL\n",
        "2237"
       ]
      },
      {
       "output_type": "stream",
       "stream": "stdout",
       "text": [
        " 233 DDF\n",
        "2238"
       ]
      },
      {
       "output_type": "stream",
       "stream": "stdout",
       "text": [
        " 234 CHS\n",
        "2239"
       ]
      },
      {
       "output_type": "stream",
       "stream": "stdout",
       "text": [
        " 235 ATR\n",
        "2240"
       ]
      },
      {
       "output_type": "stream",
       "stream": "stdout",
       "text": [
        " 236 JAH\n",
        "2241"
       ]
      },
      {
       "output_type": "stream",
       "stream": "stdout",
       "text": [
        " 237 AKR\n",
        "2242"
       ]
      },
      {
       "output_type": "stream",
       "stream": "stdout",
       "text": [
        " 238 MSL\n",
        "2243"
       ]
      },
      {
       "output_type": "stream",
       "stream": "stdout",
       "text": [
        " 239 MVT\n",
        "2244"
       ]
      },
      {
       "output_type": "stream",
       "stream": "stdout",
       "text": [
        " 240 AGU\n",
        "2245"
       ]
      },
      {
       "output_type": "stream",
       "stream": "stdout",
       "text": [
        " 241 RCL\n",
        "2246"
       ]
      },
      {
       "output_type": "stream",
       "stream": "stdout",
       "text": [
        " 242 CX\n",
        "2247"
       ]
      },
      {
       "output_type": "stream",
       "stream": "stdout",
       "text": [
        " 243 CCU\n",
        "2248"
       ]
      },
      {
       "output_type": "stream",
       "stream": "stdout",
       "text": [
        " 244 NTZ\n",
        "2249"
       ]
      },
      {
       "output_type": "stream",
       "stream": "stdout",
       "text": [
        " 245 TV\n",
        "2250"
       ]
      },
      {
       "output_type": "stream",
       "stream": "stdout",
       "text": [
        " 246 SKM\n",
        "2251"
       ]
      },
      {
       "output_type": "stream",
       "stream": "stdout",
       "text": [
        " 247 NBG\n",
        "2252"
       ]
      },
      {
       "output_type": "stream",
       "stream": "stdout",
       "text": [
        " 248 TEO\n",
        "2253"
       ]
      },
      {
       "output_type": "stream",
       "stream": "stdout",
       "text": [
        " 249 UMC\n",
        "2254"
       ]
      },
      {
       "output_type": "stream",
       "stream": "stdout",
       "text": [
        " 250 SPE\n",
        "2255"
       ]
      },
      {
       "output_type": "stream",
       "stream": "stdout",
       "text": [
        " 251 SAP\n",
        "2256"
       ]
      },
      {
       "output_type": "stream",
       "stream": "stdout",
       "text": [
        " 252 ALL\n",
        "2257"
       ]
      },
      {
       "output_type": "stream",
       "stream": "stdout",
       "text": [
        " 253 PFD\n",
        "2258"
       ]
      },
      {
       "output_type": "stream",
       "stream": "stdout",
       "text": [
        " 254 PFO\n",
        "2259"
       ]
      },
      {
       "output_type": "stream",
       "stream": "stdout",
       "text": [
        " 255 SGF\n",
        "2260"
       ]
      },
      {
       "output_type": "stream",
       "stream": "stdout",
       "text": [
        " 256 RGA\n",
        "2261"
       ]
      },
      {
       "output_type": "stream",
       "stream": "stdout",
       "text": [
        " 257 RIG\n",
        "2262"
       ]
      },
      {
       "output_type": "stream",
       "stream": "stdout",
       "text": [
        " 258 TWI\n",
        "2263"
       ]
      },
      {
       "output_type": "stream",
       "stream": "stdout",
       "text": [
        " 259 NNC\n",
        "2264"
       ]
      },
      {
       "output_type": "stream",
       "stream": "stdout",
       "text": [
        " 260 NTC\n",
        "2265"
       ]
      },
      {
       "output_type": "stream",
       "stream": "stdout",
       "text": [
        " 261 HR\n",
        "2266"
       ]
      },
      {
       "output_type": "stream",
       "stream": "stdout",
       "text": [
        " 262 NUO\n",
        "2267"
       ]
      },
      {
       "output_type": "stream",
       "stream": "stdout",
       "text": [
        " 263 PMO\n",
        "2268"
       ]
      },
      {
       "output_type": "stream",
       "stream": "stdout",
       "text": [
        " 264 FDI\n",
        "2269"
       ]
      },
      {
       "output_type": "stream",
       "stream": "stdout",
       "text": [
        " 265 DTF\n",
        "2270"
       ]
      },
      {
       "output_type": "stream",
       "stream": "stdout",
       "text": [
        " 266 EMD\n",
        "2271"
       ]
      },
      {
       "output_type": "stream",
       "stream": "stdout",
       "text": [
        " 267 CPT\n",
        "2272"
       ]
      },
      {
       "output_type": "stream",
       "stream": "stdout",
       "text": [
        " 268 VCV\n",
        "2273"
       ]
      },
      {
       "output_type": "stream",
       "stream": "stdout",
       "text": [
        " 269 VPV\n",
        "2274"
       ]
      },
      {
       "output_type": "stream",
       "stream": "stdout",
       "text": [
        " 270 GEF\n",
        "2275"
       ]
      },
      {
       "output_type": "stream",
       "stream": "stdout",
       "text": [
        " 271 GEF\n",
        "2276"
       ]
      },
      {
       "output_type": "stream",
       "stream": "stdout",
       "text": [
        " 272 YPF\n",
        "2277"
       ]
      },
      {
       "output_type": "stream",
       "stream": "stdout",
       "text": [
        " 273 TKF\n",
        "2278"
       ]
      },
      {
       "output_type": "stream",
       "stream": "stdout",
       "text": [
        " 274 SGY\n",
        "2279"
       ]
      },
      {
       "output_type": "stream",
       "stream": "stdout",
       "text": [
        " 275 PPS\n",
        "2280"
       ]
      },
      {
       "output_type": "stream",
       "stream": "stdout",
       "text": [
        " 276 BYD\n",
        "2281"
       ]
      },
      {
       "output_type": "stream",
       "stream": "stdout",
       "text": [
        " 277 MSD\n",
        "2282"
       ]
      },
      {
       "output_type": "stream",
       "stream": "stdout",
       "text": [
        " 278 MUA\n",
        "2283"
       ]
      },
      {
       "output_type": "stream",
       "stream": "stdout",
       "text": [
        " 279 AWF\n",
        "2284"
       ]
      },
      {
       "output_type": "stream",
       "stream": "stdout",
       "text": [
        " 280 EQR\n",
        "2285"
       ]
      },
      {
       "output_type": "stream",
       "stream": "stdout",
       "text": [
        " 281 SHI\n",
        "2286"
       ]
      },
      {
       "output_type": "stream",
       "stream": "stdout",
       "text": [
        " 282 MOV\n",
        "2287"
       ]
      },
      {
       "output_type": "stream",
       "stream": "stdout",
       "text": [
        " 283 BWA\n",
        "2288"
       ]
      },
      {
       "output_type": "stream",
       "stream": "stdout",
       "text": [
        " 284 BFS\n",
        "2289"
       ]
      },
      {
       "output_type": "stream",
       "stream": "stdout",
       "text": [
        " 285 KOF\n",
        "2290"
       ]
      },
      {
       "output_type": "stream",
       "stream": "stdout",
       "text": [
        " 286 GHI\n",
        "2291"
       ]
      },
      {
       "output_type": "stream",
       "stream": "stdout",
       "text": [
        " 287 PCM\n",
        "2292"
       ]
      },
      {
       "output_type": "stream",
       "stream": "stdout",
       "text": [
        " 288 AEC\n",
        "2293"
       ]
      },
      {
       "output_type": "stream",
       "stream": "stdout",
       "text": [
        " 289 IT\n",
        "2294"
       ]
      },
      {
       "output_type": "stream",
       "stream": "stdout",
       "text": [
        " 290 TEI\n",
        "2295"
       ]
      },
      {
       "output_type": "stream",
       "stream": "stdout",
       "text": [
        " 291 MHO\n",
        "2296"
       ]
      },
      {
       "output_type": "stream",
       "stream": "stdout",
       "text": [
        " 292 SQM\n",
        "2297"
       ]
      },
      {
       "output_type": "stream",
       "stream": "stdout",
       "text": [
        " 293 OKS\n",
        "2298"
       ]
      },
      {
       "output_type": "stream",
       "stream": "stdout",
       "text": [
        " 294 ENI\n",
        "2299"
       ]
      },
      {
       "output_type": "stream",
       "stream": "stdout",
       "text": [
        " 295 OMG\n",
        "2300"
       ]
      },
      {
       "output_type": "stream",
       "stream": "stdout",
       "text": [
        " 296 GRT\n",
        "2301"
       ]
      },
      {
       "output_type": "stream",
       "stream": "stdout",
       "text": [
        " 297 GDF\n",
        "2302"
       ]
      },
      {
       "output_type": "stream",
       "stream": "stdout",
       "text": [
        " 298 DECK\n",
        "2303"
       ]
      },
      {
       "output_type": "stream",
       "stream": "stdout",
       "text": [
        " 299 LXP\n",
        "2304"
       ]
      },
      {
       "output_type": "stream",
       "stream": "stdout",
       "text": [
        " 300 HHS\n",
        "2305"
       ]
      },
      {
       "output_type": "stream",
       "stream": "stdout",
       "text": [
        " 301 NFX\n",
        "2306"
       ]
      },
      {
       "output_type": "stream",
       "stream": "stdout",
       "text": [
        " 302 REG\n",
        "2307"
       ]
      },
      {
       "output_type": "stream",
       "stream": "stdout",
       "text": [
        " 303 CBL\n",
        "2308"
       ]
      },
      {
       "output_type": "stream",
       "stream": "stdout",
       "text": [
        " 304 PRE\n",
        "2309"
       ]
      },
      {
       "output_type": "stream",
       "stream": "stdout",
       "text": [
        " 305 KEF\n",
        "2310"
       ]
      },
      {
       "output_type": "stream",
       "stream": "stdout",
       "text": [
        " 306 MAC\n",
        "2311"
       ]
      },
      {
       "output_type": "stream",
       "stream": "stdout",
       "text": [
        " 307 HIO\n",
        "2312"
       ]
      },
      {
       "output_type": "stream",
       "stream": "stdout",
       "text": [
        " 308 SUI\n",
        "2313"
       ]
      },
      {
       "output_type": "stream",
       "stream": "stdout",
       "text": [
        " 309 BFR\n",
        "2314"
       ]
      },
      {
       "output_type": "stream",
       "stream": "stdout",
       "text": [
        " 310 GRR\n",
        "2315"
       ]
      },
      {
       "output_type": "stream",
       "stream": "stdout",
       "text": [
        " 311 KGC\n",
        "2316"
       ]
      },
      {
       "output_type": "stream",
       "stream": "stdout",
       "text": [
        " 312 NYCB\n",
        "2317"
       ]
      },
      {
       "output_type": "stream",
       "stream": "stdout",
       "text": [
        " 313 SPG\n",
        "2318"
       ]
      },
      {
       "output_type": "stream",
       "stream": "stdout",
       "text": [
        " 314 MAA\n",
        "2319"
       ]
      },
      {
       "output_type": "stream",
       "stream": "stdout",
       "text": [
        " 315 RNR\n",
        "2320"
       ]
      },
      {
       "output_type": "stream",
       "stream": "stdout",
       "text": [
        " 316 RMT\n",
        "2321"
       ]
      },
      {
       "output_type": "stream",
       "stream": "stdout",
       "text": [
        " 317 EMN\n",
        "2322"
       ]
      },
      {
       "output_type": "stream",
       "stream": "stdout",
       "text": [
        " 318 AVB\n",
        "2323"
       ]
      },
      {
       "output_type": "stream",
       "stream": "stdout",
       "text": [
        " 319 CYT\n",
        "2324"
       ]
      },
      {
       "output_type": "stream",
       "stream": "stdout",
       "text": [
        " 320 SBW\n",
        "2325"
       ]
      },
      {
       "output_type": "stream",
       "stream": "stdout",
       "text": [
        " 321 KEP\n",
        "2326"
       ]
      },
      {
       "output_type": "stream",
       "stream": "stdout",
       "text": [
        " 322 PKX\n",
        "2327"
       ]
      },
      {
       "output_type": "stream",
       "stream": "stdout",
       "text": [
        " 323 ASX\n",
        "2328"
       ]
      },
      {
       "output_type": "stream",
       "stream": "stdout",
       "text": [
        " 324 PLT\n",
        "2329"
       ]
      },
      {
       "output_type": "stream",
       "stream": "stdout",
       "text": [
        " 325 MED\n",
        "2330"
       ]
      },
      {
       "output_type": "stream",
       "stream": "stdout",
       "text": [
        " 326 AF\n",
        "2331"
       ]
      },
      {
       "output_type": "stream",
       "stream": "stdout",
       "text": [
        " 327 CGI\n",
        "2332"
       ]
      },
      {
       "output_type": "stream",
       "stream": "stdout",
       "text": [
        " 328 RKT\n",
        "2333"
       ]
      },
      {
       "output_type": "stream",
       "stream": "stdout",
       "text": [
        " 329 CBR\n",
        "2334"
       ]
      },
      {
       "output_type": "stream",
       "stream": "stdout",
       "text": [
        " 330 JHS\n",
        "2335"
       ]
      },
      {
       "output_type": "stream",
       "stream": "stdout",
       "text": [
        " 331 ALB\n",
        "2336"
       ]
      },
      {
       "output_type": "stream",
       "stream": "stdout",
       "text": [
        " 332 MLP\n",
        "2337"
       ]
      },
      {
       "output_type": "stream",
       "stream": "stdout",
       "text": [
        " 333 TBI\n",
        "2338"
       ]
      },
      {
       "output_type": "stream",
       "stream": "stdout",
       "text": [
        " 334 REV\n",
        "2339"
       ]
      },
      {
       "output_type": "stream",
       "stream": "stdout",
       "text": [
        " 335 ICL\n",
        "2340"
       ]
      },
      {
       "output_type": "stream",
       "stream": "stdout",
       "text": [
        " 336 BZH\n",
        "2341"
       ]
      },
      {
       "output_type": "stream",
       "stream": "stdout",
       "text": [
        " 337 IFN\n",
        "2342"
       ]
      },
      {
       "output_type": "stream",
       "stream": "stdout",
       "text": [
        " 338 IIF\n",
        "2343"
       ]
      },
      {
       "output_type": "stream",
       "stream": "stdout",
       "text": [
        " 339 BBD\n",
        "2344"
       ]
      },
      {
       "output_type": "stream",
       "stream": "stdout",
       "text": [
        " 340 CIG\n",
        "2345"
       ]
      },
      {
       "output_type": "stream",
       "stream": "stdout",
       "text": [
        " 341 EBR\n",
        "2346"
       ]
      },
      {
       "output_type": "stream",
       "stream": "stdout",
       "text": [
        " 342 EBR\n",
        "2347"
       ]
      },
      {
       "output_type": "stream",
       "stream": "stdout",
       "text": [
        " 343 ITUB\n",
        "2348"
       ]
      },
      {
       "output_type": "stream",
       "stream": "stdout",
       "text": [
        " 344 PBR\n",
        "2349"
       ]
      },
      {
       "output_type": "stream",
       "stream": "stdout",
       "text": [
        " 345 PBR\n",
        "2350"
       ]
      },
      {
       "output_type": "stream",
       "stream": "stdout",
       "text": [
        " 346 VALE\n",
        "2351"
       ]
      },
      {
       "output_type": "stream",
       "stream": "stdout",
       "text": [
        " 347 EOC\n",
        "2352"
       ]
      },
      {
       "output_type": "stream",
       "stream": "stdout",
       "text": [
        " 348 AEO\n",
        "2353"
       ]
      },
      {
       "output_type": "stream",
       "stream": "stdout",
       "text": [
        " 349 MLM\n",
        "2354"
       ]
      },
      {
       "output_type": "stream",
       "stream": "stdout",
       "text": [
        " 350 RYN\n",
        "2355"
       ]
      },
      {
       "output_type": "stream",
       "stream": "stdout",
       "text": [
        " 351 RFI\n",
        "2356"
       ]
      },
      {
       "output_type": "stream",
       "stream": "stdout",
       "text": [
        " 352 HQL\n",
        "2357"
       ]
      },
      {
       "output_type": "stream",
       "stream": "stdout",
       "text": [
        " 353 IQI\n",
        "2358"
       ]
      },
      {
       "output_type": "stream",
       "stream": "stdout",
       "text": [
        " 354 LDF\n",
        "2359"
       ]
      },
      {
       "output_type": "stream",
       "stream": "stdout",
       "text": [
        " 355 MMU\n",
        "2360"
       ]
      },
      {
       "output_type": "stream",
       "stream": "stdout",
       "text": [
        " 356 MNP\n",
        "2361"
       ]
      },
      {
       "output_type": "stream",
       "stream": "stdout",
       "text": [
        " 357 MFT\n",
        "2362"
       ]
      },
      {
       "output_type": "stream",
       "stream": "stdout",
       "text": [
        " 358 MYM\n",
        "2363"
       ]
      },
      {
       "output_type": "stream",
       "stream": "stdout",
       "text": [
        " 359 MYJ\n",
        "2364"
       ]
      },
      {
       "output_type": "stream",
       "stream": "stdout",
       "text": [
        " 360 MPA\n",
        "2365"
       ]
      },
      {
       "output_type": "stream",
       "stream": "stdout",
       "text": [
        " 361 NMO\n",
        "2366"
       ]
      },
      {
       "output_type": "stream",
       "stream": "stdout",
       "text": [
        " 362 NPF\n",
        "2367"
       ]
      },
      {
       "output_type": "stream",
       "stream": "stdout",
       "text": [
        " 363 NPV\n",
        "2368"
       ]
      },
      {
       "output_type": "stream",
       "stream": "stdout",
       "text": [
        " 364 VTN\n",
        "2369"
       ]
      },
      {
       "output_type": "stream",
       "stream": "stdout",
       "text": [
        " 365 RCS\n",
        "2370"
       ]
      },
      {
       "output_type": "stream",
       "stream": "stdout",
       "text": [
        " 366 DAR\n",
        "2371"
       ]
      },
      {
       "output_type": "stream",
       "stream": "stdout",
       "text": [
        " 367 MIY\n",
        "2372"
       ]
      },
      {
       "output_type": "stream",
       "stream": "stdout",
       "text": [
        " 368 HVB\n",
        "2373"
       ]
      },
      {
       "output_type": "stream",
       "stream": "stdout",
       "text": [
        " 369 TK\n",
        "2374"
       ]
      },
      {
       "output_type": "stream",
       "stream": "stdout",
       "text": [
        " 370 AKS\n",
        "2375"
       ]
      },
      {
       "output_type": "stream",
       "stream": "stdout",
       "text": [
        " 371 EXP\n",
        "2376"
       ]
      },
      {
       "output_type": "stream",
       "stream": "stdout",
       "text": [
        " 372 ADC\n",
        "2377"
       ]
      },
      {
       "output_type": "stream",
       "stream": "stdout",
       "text": [
        " 373 STN\n",
        "2378"
       ]
      },
      {
       "output_type": "stream",
       "stream": "stdout",
       "text": [
        " 374 LPT\n",
        "2379"
       ]
      },
      {
       "output_type": "stream",
       "stream": "stdout",
       "text": [
        " 375 PRU\n",
        "2380"
       ]
      },
      {
       "output_type": "stream",
       "stream": "stdout",
       "text": [
        " 376 UPS\n",
        "2381"
       ]
      },
      {
       "output_type": "stream",
       "stream": "stdout",
       "text": [
        " 377 E\n",
        "2382"
       ]
      },
      {
       "output_type": "stream",
       "stream": "stdout",
       "text": [
        " 378 BTF\n",
        "2383"
       ]
      },
      {
       "output_type": "stream",
       "stream": "stdout",
       "text": [
        " 379 IIM\n",
        "2384"
       ]
      },
      {
       "output_type": "stream",
       "stream": "stdout",
       "text": [
        " 380 HIW\n",
        "2385"
       ]
      },
      {
       "output_type": "stream",
       "stream": "stdout",
       "text": [
        " 381 KST\n",
        "2386"
       ]
      },
      {
       "output_type": "stream",
       "stream": "stdout",
       "text": [
        " 382 FGP\n",
        "2387"
       ]
      },
      {
       "output_type": "stream",
       "stream": "stdout",
       "text": [
        " 383 GBX\n",
        "2388"
       ]
      },
      {
       "output_type": "stream",
       "stream": "stdout",
       "text": [
        " 384 SSD\n",
        "2389"
       ]
      },
      {
       "output_type": "stream",
       "stream": "stdout",
       "text": [
        " 385 BTH\n",
        "2390"
       ]
      },
      {
       "output_type": "stream",
       "stream": "stdout",
       "text": [
        " 386 ESS\n",
        "2391"
       ]
      },
      {
       "output_type": "stream",
       "stream": "stdout",
       "text": [
        " 387 HME\n",
        "2392"
       ]
      },
      {
       "output_type": "stream",
       "stream": "stdout",
       "text": [
        " 388 MCA\n",
        "2393"
       ]
      },
      {
       "output_type": "stream",
       "stream": "stdout",
       "text": [
        " 389 GEO\n",
        "2394"
       ]
      },
      {
       "output_type": "stream",
       "stream": "stdout",
       "text": [
        " 390 RS\n",
        "2395"
       ]
      },
      {
       "output_type": "stream",
       "stream": "stdout",
       "text": [
        " 391 MLR\n",
        "2396"
       ]
      },
      {
       "output_type": "stream",
       "stream": "stdout",
       "text": [
        " 392 IMAX\n",
        "2397"
       ]
      },
      {
       "output_type": "stream",
       "stream": "stdout",
       "text": [
        " 393 FR\n",
        "2398"
       ]
      },
      {
       "output_type": "stream",
       "stream": "stdout",
       "text": [
        " 394 HW\n",
        "2399"
       ]
      },
      {
       "output_type": "stream",
       "stream": "stdout",
       "text": [
        " 395 CLI\n",
        "2400"
       ]
      },
      {
       "output_type": "stream",
       "stream": "stdout",
       "text": [
        " 396 DOM\n",
        "2401"
       ]
      },
      {
       "output_type": "stream",
       "stream": "stdout",
       "text": [
        " 397 AKO\n",
        "2402"
       ]
      },
      {
       "output_type": "stream",
       "stream": "stdout",
       "text": [
        " 398 AKO\n",
        "2403"
       ]
      },
      {
       "output_type": "stream",
       "stream": "stdout",
       "text": [
        " 399 TDF\n",
        "2404"
       ]
      },
      {
       "output_type": "stream",
       "stream": "stdout",
       "text": [
        " 400 TSM\n",
        "2405"
       ]
      },
      {
       "output_type": "stream",
       "stream": "stdout",
       "text": [
        " 401 STM\n",
        "2406"
       ]
      },
      {
       "output_type": "stream",
       "stream": "stdout",
       "text": [
        " 402 TGS\n",
        "2407"
       ]
      },
      {
       "output_type": "stream",
       "stream": "stdout",
       "text": [
        " 403 BVN\n",
        "2408"
       ]
      },
      {
       "output_type": "stream",
       "stream": "stdout",
       "text": [
        " 404 FCH\n",
        "2409"
       ]
      },
      {
       "output_type": "stream",
       "stream": "stdout",
       "text": [
        " 405 SCCO\n",
        "2410"
       ]
      },
      {
       "output_type": "stream",
       "stream": "stdout",
       "text": [
        " 406 AIV\n",
        "2411"
       ]
      },
      {
       "output_type": "stream",
       "stream": "stdout",
       "text": [
        " 407 PES\n",
        "2412"
       ]
      },
      {
       "output_type": "stream",
       "stream": "stdout",
       "text": [
        " 408 APF\n",
        "2413"
       ]
      },
      {
       "output_type": "stream",
       "stream": "stdout",
       "text": [
        " 409 BTO\n",
        "2414"
       ]
      },
      {
       "output_type": "stream",
       "stream": "stdout",
       "text": [
        " 410 HNP\n",
        "2415"
       ]
      },
      {
       "output_type": "stream",
       "stream": "stdout",
       "text": [
        " 411 KNX\n",
        "2416"
       ]
      },
      {
       "output_type": "stream",
       "stream": "stdout",
       "text": [
        " 412 CPE\n",
        "2417"
       ]
      },
      {
       "output_type": "stream",
       "stream": "stdout",
       "text": [
        " 413 VCO\n",
        "2418"
       ]
      },
      {
       "output_type": "stream",
       "stream": "stdout",
       "text": [
        " 414 O\n",
        "2419"
       ]
      },
      {
       "output_type": "stream",
       "stream": "stdout",
       "text": [
        " 415 MCK\n",
        "2420"
       ]
      },
      {
       "output_type": "stream",
       "stream": "stdout",
       "text": [
        " 416 DF\n",
        "2421"
       ]
      },
      {
       "output_type": "stream",
       "stream": "stdout",
       "text": [
        " 417 GGT\n",
        "2422"
       ]
      },
      {
       "output_type": "stream",
       "stream": "stdout",
       "text": [
        " 418 EME\n",
        "2423"
       ]
      },
      {
       "output_type": "stream",
       "stream": "stdout",
       "text": [
        " 419 AUY\n",
        "2424"
       ]
      },
      {
       "output_type": "stream",
       "stream": "stdout",
       "text": [
        " 420 LMT\n",
        "2425"
       ]
      },
      {
       "output_type": "stream",
       "stream": "stdout",
       "text": [
        " 421 AOI\n",
        "2426"
       ]
      },
      {
       "output_type": "stream",
       "stream": "stdout",
       "text": [
        " 422 ABC\n",
        "2427"
       ]
      },
      {
       "output_type": "stream",
       "stream": "stdout",
       "text": [
        " 423 GCV\n",
        "2428"
       ]
      },
      {
       "output_type": "stream",
       "stream": "stdout",
       "text": [
        " 424 SNP\n",
        "2429"
       ]
      },
      {
       "output_type": "stream",
       "stream": "stdout",
       "text": [
        " 425 GMK\n",
        "2430"
       ]
      },
      {
       "output_type": "stream",
       "stream": "stdout",
       "text": [
        " 426 FMX\n",
        "2431"
       ]
      },
      {
       "output_type": "stream",
       "stream": "stdout",
       "text": [
        " 427 SID\n",
        "2432"
       ]
      },
      {
       "output_type": "stream",
       "stream": "stdout",
       "text": [
        " 428 BSAC\n",
        "2433"
       ]
      },
      {
       "output_type": "stream",
       "stream": "stdout",
       "text": [
        " 429 CIB\n",
        "2434"
       ]
      },
      {
       "output_type": "stream",
       "stream": "stdout",
       "text": [
        " 430 BAK\n",
        "2435"
       ]
      },
      {
       "output_type": "stream",
       "stream": "stdout",
       "text": [
        " 431 FBR\n",
        "2436"
       ]
      },
      {
       "output_type": "stream",
       "stream": "stdout",
       "text": [
        " 432 ELP\n",
        "2437"
       ]
      },
      {
       "output_type": "stream",
       "stream": "stdout",
       "text": [
        " 433 GGB\n",
        "2438"
       ]
      },
      {
       "output_type": "stream",
       "stream": "stdout",
       "text": [
        " 434 ERJ\n",
        "2439"
       ]
      },
      {
       "output_type": "stream",
       "stream": "stdout",
       "text": [
        " 435 SWC\n",
        "2440"
       ]
      },
      {
       "output_type": "stream",
       "stream": "stdout",
       "text": [
        " 436 LGF\n",
        "2441"
       ]
      },
      {
       "output_type": "stream",
       "stream": "stdout",
       "text": [
        " 437 APU\n",
        "2442"
       ]
      },
      {
       "output_type": "stream",
       "stream": "stdout",
       "text": [
        " 438 CAM\n",
        "2443"
       ]
      },
      {
       "output_type": "stream",
       "stream": "stdout",
       "text": [
        " 439 COF\n",
        "2444"
       ]
      },
      {
       "output_type": "stream",
       "stream": "stdout",
       "text": [
        " 440 GTI\n",
        "2445"
       ]
      },
      {
       "output_type": "stream",
       "stream": "stdout",
       "text": [
        " 441 ALLY\n",
        "2446"
       ]
      },
      {
       "output_type": "stream",
       "stream": "stdout",
       "text": [
        " 442 HY\n",
        "2447"
       ]
      },
      {
       "output_type": "stream",
       "stream": "stdout",
       "text": [
        " 443 CYD\n",
        "2448"
       ]
      },
      {
       "output_type": "stream",
       "stream": "stdout",
       "text": [
        " 444 JRN\n",
        "2449"
       ]
      },
      {
       "output_type": "stream",
       "stream": "stdout",
       "text": [
        " 445 LVLT\n",
        "2450"
       ]
      },
      {
       "output_type": "stream",
       "stream": "stdout",
       "text": [
        " 446 ESI\n",
        "2451"
       ]
      },
      {
       "output_type": "stream",
       "stream": "stdout",
       "text": [
        " 447 WAT\n",
        "2452"
       ]
      },
      {
       "output_type": "stream",
       "stream": "stdout",
       "text": [
        " 448 IRS\n",
        "2453"
       ]
      },
      {
       "output_type": "stream",
       "stream": "stdout",
       "text": [
        " 449 GBL\n",
        "2454"
       ]
      },
      {
       "output_type": "stream",
       "stream": "stdout",
       "text": [
        " 450 ORAN\n",
        "2455"
       ]
      },
      {
       "output_type": "stream",
       "stream": "stdout",
       "text": [
        " 451 PT\n",
        "2456"
       ]
      },
      {
       "output_type": "stream",
       "stream": "stdout",
       "text": [
        " 452 TRK\n",
        "2457"
       ]
      },
      {
       "output_type": "stream",
       "stream": "stdout",
       "text": [
        " 453 WLT\n",
        "2458"
       ]
      },
      {
       "output_type": "stream",
       "stream": "stdout",
       "text": [
        " 454 LFL\n",
        "2459"
       ]
      },
      {
       "output_type": "stream",
       "stream": "stdout",
       "text": [
        " 455 HDB\n",
        "2460"
       ]
      },
      {
       "output_type": "stream",
       "stream": "stdout",
       "text": [
        " 456 COTY\n",
        "2461"
       ]
      },
      {
       "output_type": "stream",
       "stream": "stdout",
       "text": [
        " 457 HDY\n",
        "2462"
       ]
      },
      {
       "output_type": "stream",
       "stream": "stdout",
       "text": [
        " 458 CBZ\n",
        "2463"
       ]
      },
      {
       "output_type": "stream",
       "stream": "stdout",
       "text": [
        " 459 DRI\n",
        "2464"
       ]
      },
      {
       "output_type": "stream",
       "stream": "stdout",
       "text": [
        " 460 SYX\n",
        "2465"
       ]
      },
      {
       "output_type": "stream",
       "stream": "stdout",
       "text": [
        " 461 HPT\n",
        "2466"
       ]
      },
      {
       "output_type": "stream",
       "stream": "stdout",
       "text": [
        " 462 CVO\n",
        "2467"
       ]
      },
      {
       "output_type": "stream",
       "stream": "stdout",
       "text": [
        " 463 TRF\n",
        "2468"
       ]
      },
      {
       "output_type": "stream",
       "stream": "stdout",
       "text": [
        " 464 AVX\n",
        "2469"
       ]
      },
      {
       "output_type": "stream",
       "stream": "stdout",
       "text": [
        " 465 SUNE\n",
        "2470"
       ]
      },
      {
       "output_type": "stream",
       "stream": "stdout",
       "text": [
        " 466 RWT\n",
        "2471"
       ]
      },
      {
       "output_type": "stream",
       "stream": "stdout",
       "text": [
        " 467 MIG\n",
        "2472"
       ]
      },
      {
       "output_type": "stream",
       "stream": "stdout",
       "text": [
        " 468 NAT\n",
        "2473"
       ]
      },
      {
       "output_type": "stream",
       "stream": "stdout",
       "text": [
        " 469 WAB\n",
        "2474"
       ]
      },
      {
       "output_type": "stream",
       "stream": "stdout",
       "text": [
        " 470 SSS\n",
        "2475"
       ]
      },
      {
       "output_type": "stream",
       "stream": "stdout",
       "text": [
        " 471 RMD\n",
        "2476"
       ]
      },
      {
       "output_type": "stream",
       "stream": "stdout",
       "text": [
        " 472 MD\n",
        "2477"
       ]
      },
      {
       "output_type": "stream",
       "stream": "stdout",
       "text": [
        " 473 OPK\n",
        "2478"
       ]
      },
      {
       "output_type": "stream",
       "stream": "stdout",
       "text": [
        " 474 SAM\n",
        "2479"
       ]
      },
      {
       "output_type": "stream",
       "stream": "stdout",
       "text": [
        " 475 DO\n",
        "2480"
       ]
      },
      {
       "output_type": "stream",
       "stream": "stdout",
       "text": [
        " 476 BAP\n",
        "2481"
       ]
      },
      {
       "output_type": "stream",
       "stream": "stdout",
       "text": [
        " 477 LXK\n",
        "2482"
       ]
      },
      {
       "output_type": "stream",
       "stream": "stdout",
       "text": [
        " 478 SIX\n",
        "2483"
       ]
      },
      {
       "output_type": "stream",
       "stream": "stdout",
       "text": [
        " 479 POR\n",
        "2484"
       ]
      },
      {
       "output_type": "stream",
       "stream": "stdout",
       "text": [
        " 480 DVA\n",
        "2485"
       ]
      },
      {
       "output_type": "stream",
       "stream": "stdout",
       "text": [
        " 481 MSM\n",
        "2486"
       ]
      },
      {
       "output_type": "stream",
       "stream": "stdout",
       "text": [
        " 482 FII\n",
        "2487"
       ]
      },
      {
       "output_type": "stream",
       "stream": "stdout",
       "text": [
        " 483 HIG\n",
        "2488"
       ]
      },
      {
       "output_type": "stream",
       "stream": "stdout",
       "text": [
        " 484 IDT\n",
        "2489"
       ]
      },
      {
       "output_type": "stream",
       "stream": "stdout",
       "text": [
        " 485 EE\n",
        "2490"
       ]
      },
      {
       "output_type": "stream",
       "stream": "stdout",
       "text": [
        " 486 IRM\n",
        "2491"
       ]
      },
      {
       "output_type": "stream",
       "stream": "stdout",
       "text": [
        " 487 PGI\n",
        "2492"
       ]
      },
      {
       "output_type": "stream",
       "stream": "stdout",
       "text": [
        " 488 CRR\n",
        "2493"
       ]
      },
      {
       "output_type": "stream",
       "stream": "stdout",
       "text": [
        " 489 FCN\n",
        "2494"
       ]
      },
      {
       "output_type": "stream",
       "stream": "stdout",
       "text": [
        " 490 LAZ\n",
        "2495"
       ]
      },
      {
       "output_type": "stream",
       "stream": "stdout",
       "text": [
        " 491 GWR\n",
        "2496"
       ]
      },
      {
       "output_type": "stream",
       "stream": "stdout",
       "text": [
        " 492 ETP\n",
        "2497"
       ]
      },
      {
       "output_type": "stream",
       "stream": "stdout",
       "text": [
        " 493 FDS\n",
        "2498"
       ]
      },
      {
       "output_type": "stream",
       "stream": "stdout",
       "text": [
        " 494 FFG\n",
        "2499"
       ]
      },
      {
       "output_type": "stream",
       "stream": "stdout",
       "text": [
        " 495 CBD\n",
        "2500"
       ]
      },
      {
       "output_type": "stream",
       "stream": "stdout",
       "text": [
        " 496 WIT\n",
        "2501"
       ]
      },
      {
       "output_type": "stream",
       "stream": "stdout",
       "text": [
        " 497 RDY\n",
        "2502"
       ]
      },
      {
       "output_type": "stream",
       "stream": "stdout",
       "text": [
        " 498 INFY\n",
        "2503"
       ]
      },
      {
       "output_type": "stream",
       "stream": "stdout",
       "text": [
        " 499 RE\n",
        "2504"
       ]
      },
      {
       "output_type": "stream",
       "stream": "stdout",
       "text": [
        " 500 TLK\n",
        "2505"
       ]
      },
      {
       "output_type": "stream",
       "stream": "stdout",
       "text": [
        " 501 THG\n",
        "2506"
       ]
      },
      {
       "output_type": "stream",
       "stream": "stdout",
       "text": [
        " 502 CLB\n",
        "2507"
       ]
      },
      {
       "output_type": "stream",
       "stream": "stdout",
       "text": [
        " 503 EL\n",
        "2508"
       ]
      },
      {
       "output_type": "stream",
       "stream": "stdout",
       "text": [
        " 504 HBM\n",
        "2509"
       ]
      },
      {
       "output_type": "stream",
       "stream": "stdout",
       "text": [
        " 505 USNA\n",
        "2510"
       ]
      },
      {
       "output_type": "stream",
       "stream": "stdout",
       "text": [
        " 506 DST\n",
        "2511"
       ]
      },
      {
       "output_type": "stream",
       "stream": "stdout",
       "text": [
        " 507 SWM\n",
        "2512"
       ]
      },
      {
       "output_type": "stream",
       "stream": "stdout",
       "text": [
        " 508 IOC\n",
        "2513"
       ]
      },
      {
       "output_type": "stream",
       "stream": "stdout",
       "text": [
        " 509 CNI\n",
        "2514"
       ]
      },
      {
       "output_type": "stream",
       "stream": "stdout",
       "text": [
        " 510 NGG\n",
        "2515"
       ]
      },
      {
       "output_type": "stream",
       "stream": "stdout",
       "text": [
        " 511 SGU\n",
        "2516"
       ]
      },
      {
       "output_type": "stream",
       "stream": "stdout",
       "text": [
        " 512 KFS\n",
        "2517"
       ]
      },
      {
       "output_type": "stream",
       "stream": "stdout",
       "text": [
        " 513 SPH\n",
        "2518"
       ]
      },
      {
       "output_type": "stream",
       "stream": "stdout",
       "text": [
        " 514 NVS\n",
        "2519"
       ]
      },
      {
       "output_type": "stream",
       "stream": "stdout",
       "text": [
        " 515 IM\n",
        "2520"
       ]
      },
      {
       "output_type": "stream",
       "stream": "stdout",
       "text": [
        " 516 LO\n",
        "2521"
       ]
      },
      {
       "output_type": "stream",
       "stream": "stdout",
       "text": [
        " 517 STO\n",
        "2522"
       ]
      },
      {
       "output_type": "stream",
       "stream": "stdout",
       "text": [
        " 518 GSH\n",
        "2523"
       ]
      },
      {
       "output_type": "stream",
       "stream": "stdout",
       "text": [
        " 519 KT\n",
        "2524"
       ]
      },
      {
       "output_type": "stream",
       "stream": "stdout",
       "text": [
        " 520 IAG\n",
        "2525"
       ]
      },
      {
       "output_type": "stream",
       "stream": "stdout",
       "text": [
        " 521 GES\n",
        "2526"
       ]
      },
      {
       "output_type": "stream",
       "stream": "stdout",
       "text": [
        " 522 PFG\n",
        "2527"
       ]
      },
      {
       "output_type": "stream",
       "stream": "stdout",
       "text": [
        " 523 TUP\n",
        "2528"
       ]
      },
      {
       "output_type": "stream",
       "stream": "stdout",
       "text": [
        " 524 MTN\n",
        "2529"
       ]
      },
      {
       "output_type": "stream",
       "stream": "stdout",
       "text": [
        " 525 WG\n",
        "2530"
       ]
      },
      {
       "output_type": "stream",
       "stream": "stdout",
       "text": [
        " 526 BSI\n",
        "2531"
       ]
      },
      {
       "output_type": "stream",
       "stream": "stdout",
       "text": [
        " 527 GPK\n",
        "2532"
       ]
      },
      {
       "output_type": "stream",
       "stream": "stdout",
       "text": [
        " 528 ATI\n",
        "2533"
       ]
      },
      {
       "output_type": "stream",
       "stream": "stdout",
       "text": [
        " 529 FDP\n",
        "2534"
       ]
      },
      {
       "output_type": "stream",
       "stream": "stdout",
       "text": [
        " 530 IMN\n",
        "2535"
       ]
      },
      {
       "output_type": "stream",
       "stream": "stdout",
       "text": [
        " 531 TRQ\n",
        "2536"
       ]
      },
      {
       "output_type": "stream",
       "stream": "stdout",
       "text": [
        " 532 CSV\n",
        "2537"
       ]
      },
      {
       "output_type": "stream",
       "stream": "stdout",
       "text": [
        " 533 DVD\n",
        "2538"
       ]
      },
      {
       "output_type": "stream",
       "stream": "stdout",
       "text": [
        " 534 NCI\n",
        "2539"
       ]
      },
      {
       "output_type": "stream",
       "stream": "stdout",
       "text": [
        " 535 PAG\n",
        "2540"
       ]
      },
      {
       "output_type": "stream",
       "stream": "stdout",
       "text": [
        " 536 MILL\n",
        "2541"
       ]
      },
      {
       "output_type": "stream",
       "stream": "stdout",
       "text": [
        " 537 TGI\n",
        "2542"
       ]
      },
      {
       "output_type": "stream",
       "stream": "stdout",
       "text": [
        " 538 ANF\n",
        "2543"
       ]
      },
      {
       "output_type": "stream",
       "stream": "stdout",
       "text": [
        " 539 NOV\n",
        "2544"
       ]
      },
      {
       "output_type": "stream",
       "stream": "stdout",
       "text": [
        " 540 HLX\n",
        "2545"
       ]
      },
      {
       "output_type": "stream",
       "stream": "stdout",
       "text": [
        " 541 FMS\n",
        "2546"
       ]
      },
      {
       "output_type": "stream",
       "stream": "stdout",
       "text": [
        " 542 RNE\n",
        "2547"
       ]
      },
      {
       "output_type": "stream",
       "stream": "stdout",
       "text": [
        " 543 OCN\n",
        "2548"
       ]
      },
      {
       "output_type": "stream",
       "stream": "stdout",
       "text": [
        " 544 MWW\n",
        "2549"
       ]
      },
      {
       "output_type": "stream",
       "stream": "stdout",
       "text": [
        " 545 NUS\n",
        "2550"
       ]
      },
      {
       "output_type": "stream",
       "stream": "stdout",
       "text": [
        " 546 ERF\n",
        "2551"
       ]
      },
      {
       "output_type": "stream",
       "stream": "stdout",
       "text": [
        " 547 SLF\n",
        "2552"
       ]
      },
      {
       "output_type": "stream",
       "stream": "stdout",
       "text": [
        " 548 LAD\n",
        "2553"
       ]
      },
      {
       "output_type": "stream",
       "stream": "stdout",
       "text": [
        " 549 BPZ\n",
        "2554"
       ]
      },
      {
       "output_type": "stream",
       "stream": "stdout",
       "text": [
        " 550 NSP\n",
        "2555"
       ]
      },
      {
       "output_type": "stream",
       "stream": "stdout",
       "text": [
        " 551 KMG\n",
        "2556"
       ]
      },
      {
       "output_type": "stream",
       "stream": "stdout",
       "text": [
        " 552 MTD\n",
        "2557"
       ]
      },
      {
       "output_type": "stream",
       "stream": "stdout",
       "text": [
        " 553 YDKN\n",
        "2558"
       ]
      },
      {
       "output_type": "stream",
       "stream": "stdout",
       "text": [
        " 554 KRC\n",
        "2559"
       ]
      },
      {
       "output_type": "stream",
       "stream": "stdout",
       "text": [
        " 555 GEL\n",
        "2560"
       ]
      },
      {
       "output_type": "stream",
       "stream": "stdout",
       "text": [
        " 556 DEL\n",
        "2561"
       ]
      },
      {
       "output_type": "stream",
       "stream": "stdout",
       "text": [
        " 557 NCR\n",
        "2562"
       ]
      },
      {
       "output_type": "stream",
       "stream": "stdout",
       "text": [
        " 558 TEN\n",
        "2563"
       ]
      },
      {
       "output_type": "stream",
       "stream": "stdout",
       "text": [
        " 559 DGX\n",
        "2564"
       ]
      },
      {
       "output_type": "stream",
       "stream": "stdout",
       "text": [
        " 560 CVD\n",
        "2565"
       ]
      },
      {
       "output_type": "stream",
       "stream": "stdout",
       "text": [
        " 561 AMTD\n",
        "2566"
       ]
      },
      {
       "output_type": "stream",
       "stream": "stdout",
       "text": [
        " 562 ROK\n",
        "2567"
       ]
      },
      {
       "output_type": "stream",
       "stream": "stdout",
       "text": [
        " 563 CBI\n",
        "2568"
       ]
      },
      {
       "output_type": "stream",
       "stream": "stdout",
       "text": [
        " 564 NTL\n",
        "2569"
       ]
      },
      {
       "output_type": "stream",
       "stream": "stdout",
       "text": [
        " 565 CEA\n",
        "2570"
       ]
      },
      {
       "output_type": "stream",
       "stream": "stdout",
       "text": [
        " 566 SRT\n",
        "2571"
       ]
      },
      {
       "output_type": "stream",
       "stream": "stdout",
       "text": [
        " 567 MMS\n",
        "2572"
       ]
      },
      {
       "output_type": "stream",
       "stream": "stdout",
       "text": [
        " 568 AMT\n",
        "2573"
       ]
      },
      {
       "output_type": "stream",
       "stream": "stdout",
       "text": [
        " 569 CIEN\n",
        "2574"
       ]
      },
      {
       "output_type": "stream",
       "stream": "stdout",
       "text": [
        " 570 NLY\n",
        "2575"
       ]
      },
      {
       "output_type": "stream",
       "stream": "stdout",
       "text": [
        " 571 FBC\n",
        "2576"
       ]
      },
      {
       "output_type": "stream",
       "stream": "stdout",
       "text": [
        " 572 ARE\n",
        "2577"
       ]
      },
      {
       "output_type": "stream",
       "stream": "stdout",
       "text": [
        " 573 VOYA\n",
        "2578"
       ]
      },
      {
       "output_type": "stream",
       "stream": "stdout",
       "text": [
        " 574 AMG\n",
        "2579"
       ]
      },
      {
       "output_type": "stream",
       "stream": "stdout",
       "text": [
        " 575 KKR\n",
        "2580"
       ]
      },
      {
       "output_type": "stream",
       "stream": "stdout",
       "text": [
        " 576 BRFS\n",
        "2581"
       ]
      },
      {
       "output_type": "stream",
       "stream": "stdout",
       "text": [
        " 577 ANH\n",
        "2582"
       ]
      },
      {
       "output_type": "stream",
       "stream": "stdout",
       "text": [
        " 578 CHL\n",
        "2583"
       ]
      },
      {
       "output_type": "stream",
       "stream": "stdout",
       "text": [
        " 579 DCM\n",
        "2584"
       ]
      },
      {
       "output_type": "stream",
       "stream": "stdout",
       "text": [
        " 580 RL\n",
        "2585"
       ]
      },
      {
       "output_type": "stream",
       "stream": "stdout",
       "text": [
        " 581 BXP\n",
        "2586"
       ]
      },
      {
       "output_type": "stream",
       "stream": "stdout",
       "text": [
        " 582 CXW\n",
        "2587"
       ]
      },
      {
       "output_type": "stream",
       "stream": "stdout",
       "text": [
        " 583 ALV\n",
        "2588"
       ]
      },
      {
       "output_type": "stream",
       "stream": "stdout",
       "text": [
        " 584 JLL\n",
        "2589"
       ]
      },
      {
       "output_type": "stream",
       "stream": "stdout",
       "text": [
        " 585 GLF\n",
        "2590"
       ]
      },
      {
       "output_type": "stream",
       "stream": "stdout",
       "text": [
        " 586 MHD\n",
        "2591"
       ]
      },
      {
       "output_type": "stream",
       "stream": "stdout",
       "text": [
        " 587 MT\n",
        "2592"
       ]
      },
      {
       "output_type": "stream",
       "stream": "stdout",
       "text": [
        " 588 BGC\n",
        "2593"
       ]
      },
      {
       "output_type": "stream",
       "stream": "stdout",
       "text": [
        " 589 APH\n",
        "2594"
       ]
      },
      {
       "output_type": "stream",
       "stream": "stdout",
       "text": [
        " 590 ACI\n",
        "2595"
       ]
      },
      {
       "output_type": "stream",
       "stream": "stdout",
       "text": [
        " 591 BBL\n",
        "2596"
       ]
      },
      {
       "output_type": "stream",
       "stream": "stdout",
       "text": [
        " 592 PXD\n",
        "2597"
       ]
      },
      {
       "output_type": "stream",
       "stream": "stdout",
       "text": [
        " 593 VLO\n",
        "2598"
       ]
      },
      {
       "output_type": "stream",
       "stream": "stdout",
       "text": [
        " 594 AME\n",
        "2599"
       ]
      },
      {
       "output_type": "stream",
       "stream": "stdout",
       "text": [
        " 595 SLG\n",
        "2600"
       ]
      },
      {
       "output_type": "stream",
       "stream": "stdout",
       "text": [
        " 596 FIX\n",
        "2601"
       ]
      },
      {
       "output_type": "stream",
       "stream": "stdout",
       "text": [
        " 597 ZNH\n",
        "2602"
       ]
      },
      {
       "output_type": "stream",
       "stream": "stdout",
       "text": [
        " 598 WAC\n",
        "2603"
       ]
      },
      {
       "output_type": "stream",
       "stream": "stdout",
       "text": [
        " 599 LLL\n",
        "2604"
       ]
      },
      {
       "output_type": "stream",
       "stream": "stdout",
       "text": [
        " 600 BAM\n",
        "2605"
       ]
      },
      {
       "output_type": "stream",
       "stream": "stdout",
       "text": [
        " 601 GZT\n",
        "2606"
       ]
      },
      {
       "output_type": "stream",
       "stream": "stdout",
       "text": [
        " 602 EPR\n",
        "2607"
       ]
      },
      {
       "output_type": "stream",
       "stream": "stdout",
       "text": [
        " 603 ACN\n",
        "2608"
       ]
      },
      {
       "output_type": "stream",
       "stream": "stdout",
       "text": [
        " 604 GPI\n",
        "2609"
       ]
      },
      {
       "output_type": "stream",
       "stream": "stdout",
       "text": [
        " 605 CSU\n",
        "2610"
       ]
      },
      {
       "output_type": "stream",
       "stream": "stdout",
       "text": [
        " 606 SAH\n",
        "2611"
       ]
      },
      {
       "output_type": "stream",
       "stream": "stdout",
       "text": [
        " 607 SRI\n",
        "2612"
       ]
      },
      {
       "output_type": "stream",
       "stream": "stdout",
       "text": [
        " 608 EQY\n",
        "2613"
       ]
      },
      {
       "output_type": "stream",
       "stream": "stdout",
       "text": [
        " 609 IBA\n",
        "2614"
       ]
      },
      {
       "output_type": "stream",
       "stream": "stdout",
       "text": [
        " 610 YUM\n",
        "2615"
       ]
      },
      {
       "output_type": "stream",
       "stream": "stdout",
       "text": [
        " 611 PLD\n",
        "2616"
       ]
      },
      {
       "output_type": "stream",
       "stream": "stdout",
       "text": [
        " 612 MHN\n",
        "2617"
       ]
      },
      {
       "output_type": "stream",
       "stream": "stdout",
       "text": [
        " 613 MFL\n",
        "2618"
       ]
      },
      {
       "output_type": "stream",
       "stream": "stdout",
       "text": [
        " 614 RHP\n",
        "2619"
       ]
      },
      {
       "output_type": "stream",
       "stream": "stdout",
       "text": [
        " 615 DRQ\n",
        "2620"
       ]
      },
      {
       "output_type": "stream",
       "stream": "stdout",
       "text": [
        " 616 CHH\n",
        "2621"
       ]
      },
      {
       "output_type": "stream",
       "stream": "stdout",
       "text": [
        " 617 IRET\n",
        "2622"
       ]
      },
      {
       "output_type": "stream",
       "stream": "stdout",
       "text": [
        " 618 AI\n",
        "2623"
       ]
      },
      {
       "output_type": "stream",
       "stream": "stdout",
       "text": [
        " 619 URI\n",
        "2624"
       ]
      },
      {
       "output_type": "stream",
       "stream": "stdout",
       "text": [
        " 620 BX\n",
        "2625"
       ]
      },
      {
       "output_type": "stream",
       "stream": "stdout",
       "text": [
        " 621 FE\n",
        "2626"
       ]
      },
      {
       "output_type": "stream",
       "stream": "stdout",
       "text": [
        " 622 MHR\n",
        "2627"
       ]
      },
      {
       "output_type": "stream",
       "stream": "stdout",
       "text": [
        " 623 INGR\n",
        "2628"
       ]
      },
      {
       "output_type": "stream",
       "stream": "stdout",
       "text": [
        " 624 IBN\n",
        "2629"
       ]
      },
      {
       "output_type": "stream",
       "stream": "stdout",
       "text": [
        " 625 RAS\n",
        "2630"
       ]
      },
      {
       "output_type": "stream",
       "stream": "stdout",
       "text": [
        " 626 PWR\n",
        "2631"
       ]
      },
      {
       "output_type": "stream",
       "stream": "stdout",
       "text": [
        " 627 RBA\n",
        "2632"
       ]
      },
      {
       "output_type": "stream",
       "stream": "stdout",
       "text": [
        " 628 WCC\n",
        "2633"
       ]
      },
      {
       "output_type": "stream",
       "stream": "stdout",
       "text": [
        " 629 CCI\n",
        "2634"
       ]
      },
      {
       "output_type": "stream",
       "stream": "stdout",
       "text": [
        " 630 WPC\n",
        "2635"
       ]
      },
      {
       "output_type": "stream",
       "stream": "stdout",
       "text": [
        " 631 SCS\n",
        "2636"
       ]
      },
      {
       "output_type": "stream",
       "stream": "stdout",
       "text": [
        " 632 AEE\n",
        "2637"
       ]
      },
      {
       "output_type": "stream",
       "stream": "stdout",
       "text": [
        " 633 WDR\n",
        "2638"
       ]
      },
      {
       "output_type": "stream",
       "stream": "stdout",
       "text": [
        " 634 GTY\n",
        "2639"
       ]
      },
      {
       "output_type": "stream",
       "stream": "stdout",
       "text": [
        " 635 RLH\n",
        "2640"
       ]
      },
      {
       "output_type": "stream",
       "stream": "stdout",
       "text": [
        " 636 OME\n",
        "2641"
       ]
      },
      {
       "output_type": "stream",
       "stream": "stdout",
       "text": [
        " 637 LHO\n",
        "2642"
       ]
      },
      {
       "output_type": "stream",
       "stream": "stdout",
       "text": [
        " 638 MUH\n",
        "2643"
       ]
      },
      {
       "output_type": "stream",
       "stream": "stdout",
       "text": [
        " 639 MUC\n",
        "2644"
       ]
      },
      {
       "output_type": "stream",
       "stream": "stdout",
       "text": [
        " 640 HZO\n",
        "2645"
       ]
      },
      {
       "output_type": "stream",
       "stream": "stdout",
       "text": [
        " 641 MUJ\n",
        "2646"
       ]
      },
      {
       "output_type": "stream",
       "stream": "stdout",
       "text": [
        " 642 WCN\n",
        "2647"
       ]
      },
      {
       "output_type": "stream",
       "stream": "stdout",
       "text": [
        " 643 GRA\n",
        "2648"
       ]
      },
      {
       "output_type": "stream",
       "stream": "stdout",
       "text": [
        " 644 DSU\n",
        "2649"
       ]
      },
      {
       "output_type": "stream",
       "stream": "stdout",
       "text": [
        " 645 SEE\n",
        "2650"
       ]
      },
      {
       "output_type": "stream",
       "stream": "stdout",
       "text": [
        " 646 MFA\n",
        "2651"
       ]
      },
      {
       "output_type": "stream",
       "stream": "stdout",
       "text": [
        " 647 DHF\n",
        "2652"
       ]
      },
      {
       "output_type": "stream",
       "stream": "stdout",
       "text": [
        " 648 CNX\n",
        "2653"
       ]
      },
      {
       "output_type": "stream",
       "stream": "stdout",
       "text": [
        " 649 TSU\n",
        "2654"
       ]
      },
      {
       "output_type": "stream",
       "stream": "stdout",
       "text": [
        " 650 VIV\n",
        "2655"
       ]
      },
      {
       "output_type": "stream",
       "stream": "stdout",
       "text": [
        " 651 YZC\n",
        "2656"
       ]
      },
      {
       "output_type": "stream",
       "stream": "stdout",
       "text": [
        " 652 KFY\n",
        "2657"
       ]
      },
      {
       "output_type": "stream",
       "stream": "stdout",
       "text": [
        " 653 OUBS\n",
        "2658"
       ]
      },
      {
       "output_type": "stream",
       "stream": "stdout",
       "text": [
        " 654 AET\n",
        "2659"
       ]
      },
      {
       "output_type": "stream",
       "stream": "stdout",
       "text": [
        " 655 MUS\n",
        "2660"
       ]
      },
      {
       "output_type": "stream",
       "stream": "stdout",
       "text": [
        " 656 BTU\n",
        "2661"
       ]
      },
      {
       "output_type": "stream",
       "stream": "stdout",
       "text": [
        " 657 TREX\n",
        "2662"
       ]
      },
      {
       "output_type": "stream",
       "stream": "stdout",
       "text": [
        " 658 PB\n",
        "2663"
       ]
      },
      {
       "output_type": "stream",
       "stream": "stdout",
       "text": [
        " 659 HGT\n",
        "2664"
       ]
      },
      {
       "output_type": "stream",
       "stream": "stdout",
       "text": [
        " 660 RSG\n",
        "2665"
       ]
      },
      {
       "output_type": "stream",
       "stream": "stdout",
       "text": [
        " 661 SKX\n",
        "2666"
       ]
      },
      {
       "output_type": "stream",
       "stream": "stdout",
       "text": [
        " 662 ETM\n",
        "2667"
       ]
      },
      {
       "output_type": "stream",
       "stream": "stdout",
       "text": [
        " 663 STL\n",
        "2668"
       ]
      },
      {
       "output_type": "stream",
       "stream": "stdout",
       "text": [
        " 664 PAA\n",
        "2669"
       ]
      },
      {
       "output_type": "stream",
       "stream": "stdout",
       "text": [
        " 665 KWK\n",
        "2670"
       ]
      },
      {
       "output_type": "stream",
       "stream": "stdout",
       "text": [
        " 666 EPD\n",
        "2671"
       ]
      },
      {
       "output_type": "stream",
       "stream": "stdout",
       "text": [
        " 667 GIL\n",
        "2672"
       ]
      },
      {
       "output_type": "stream",
       "stream": "stdout",
       "text": [
        " 668 HIX\n",
        "2673"
       ]
      },
      {
       "output_type": "stream",
       "stream": "stdout",
       "text": [
        " 669 AXL\n",
        "2674"
       ]
      },
      {
       "output_type": "stream",
       "stream": "stdout",
       "text": [
        " 670 CVG\n",
        "2675"
       ]
      },
      {
       "output_type": "stream",
       "stream": "stdout",
       "text": [
        " 671 DNI\n",
        "2676"
       ]
      },
      {
       "output_type": "stream",
       "stream": "stdout",
       "text": [
        " 672 VVR\n",
        "2677"
       ]
      },
      {
       "output_type": "stream",
       "stream": "stdout",
       "text": [
        " 673 HYF\n",
        "2678"
       ]
      },
      {
       "output_type": "stream",
       "stream": "stdout",
       "text": [
        " 674 LEU\n",
        "2679"
       ]
      },
      {
       "output_type": "stream",
       "stream": "stdout",
       "text": [
        " 675 CEB\n",
        "2680"
       ]
      },
      {
       "output_type": "stream",
       "stream": "stdout",
       "text": [
        " 676 CFX\n",
        "2681"
       ]
      },
      {
       "output_type": "stream",
       "stream": "stdout",
       "text": [
        " 677 GS\n",
        "2682"
       ]
      },
      {
       "output_type": "stream",
       "stream": "stdout",
       "text": [
        " 678 CLS\n",
        "2683"
       ]
      },
      {
       "output_type": "stream",
       "stream": "stdout",
       "text": [
        " 679 SRE\n",
        "2684"
       ]
      },
      {
       "output_type": "stream",
       "stream": "stdout",
       "text": [
        " 680 MCO\n",
        "2685"
       ]
      },
      {
       "output_type": "stream",
       "stream": "stdout",
       "text": [
        " 681 CLR\n",
        "2686"
       ]
      },
      {
       "output_type": "stream",
       "stream": "stdout",
       "text": [
        " 682 HHY\n",
        "2687"
       ]
      },
      {
       "output_type": "stream",
       "stream": "stdout",
       "text": [
        " 683 CNC\n",
        "2688"
       ]
      },
      {
       "output_type": "stream",
       "stream": "stdout",
       "text": [
        " 684 AAP\n",
        "2689"
       ]
      },
      {
       "output_type": "stream",
       "stream": "stdout",
       "text": [
        " 685 CRI\n",
        "2690"
       ]
      },
      {
       "output_type": "stream",
       "stream": "stdout",
       "text": [
        " 686 TKC\n",
        "2691"
       ]
      },
      {
       "output_type": "stream",
       "stream": "stdout",
       "text": [
        " 687 ABEV\n",
        "2692"
       ]
      },
      {
       "output_type": "stream",
       "stream": "stdout",
       "text": [
        " 688 IRC\n",
        "2693"
       ]
      },
      {
       "output_type": "stream",
       "stream": "stdout",
       "text": [
        " 689 TLI\n",
        "2694"
       ]
      },
      {
       "output_type": "stream",
       "stream": "stdout",
       "text": [
        " 690 SNH\n",
        "2695"
       ]
      },
      {
       "output_type": "stream",
       "stream": "stdout",
       "text": [
        " 691 TCP\n",
        "2696"
       ]
      },
      {
       "output_type": "stream",
       "stream": "stdout",
       "text": [
        " 692 AGO\n",
        "2697"
       ]
      },
      {
       "output_type": "stream",
       "stream": "stdout",
       "text": [
        " 693 SFG\n",
        "2698"
       ]
      },
      {
       "output_type": "stream",
       "stream": "stdout",
       "text": [
        " 694 CHU\n",
        "2699"
       ]
      },
      {
       "output_type": "stream",
       "stream": "stdout",
       "text": [
        " 695 EVF\n",
        "2700"
       ]
      },
      {
       "output_type": "stream",
       "stream": "stdout",
       "text": [
        " 696 HT\n",
        "2701"
       ]
      },
      {
       "output_type": "stream",
       "stream": "stdout",
       "text": [
        " 697 EVN\n",
        "2702"
       ]
      },
      {
       "output_type": "stream",
       "stream": "stdout",
       "text": [
        " 698 RTEC\n",
        "2703"
       ]
      },
      {
       "output_type": "stream",
       "stream": "stdout",
       "text": [
        " 699 BEE\n",
        "2704"
       ]
      },
      {
       "output_type": "stream",
       "stream": "stdout",
       "text": [
        " 700 AEL\n",
        "2705"
       ]
      },
      {
       "output_type": "stream",
       "stream": "stdout",
       "text": [
        " 701 GPT\n",
        "2706"
       ]
      },
      {
       "output_type": "stream",
       "stream": "stdout",
       "text": [
        " 702 QEP\n",
        "2707"
       ]
      },
      {
       "output_type": "stream",
       "stream": "stdout",
       "text": [
        " 703 MUE\n",
        "2708"
       ]
      },
      {
       "output_type": "stream",
       "stream": "stdout",
       "text": [
        " 704 RAI\n",
        "2709"
       ]
      },
      {
       "output_type": "stream",
       "stream": "stdout",
       "text": [
        " 705 DVN\n",
        "2710"
       ]
      },
      {
       "output_type": "stream",
       "stream": "stdout",
       "text": [
        " 706 CIR\n",
        "2711"
       ]
      },
      {
       "output_type": "stream",
       "stream": "stdout",
       "text": [
        " 707 ABB\n",
        "2712"
       ]
      },
      {
       "output_type": "stream",
       "stream": "stdout",
       "text": [
        " 708 UGP\n",
        "2713"
       ]
      },
      {
       "output_type": "stream",
       "stream": "stdout",
       "text": [
        " 709 VVC\n",
        "2714"
       ]
      },
      {
       "output_type": "stream",
       "stream": "stdout",
       "text": [
        " 710 NAD\n",
        "2715"
       ]
      },
      {
       "output_type": "stream",
       "stream": "stdout",
       "text": [
        " 711 NAN\n",
        "2716"
       ]
      },
      {
       "output_type": "stream",
       "stream": "stdout",
       "text": [
        " 712 NAC\n",
        "2717"
       ]
      },
      {
       "output_type": "stream",
       "stream": "stdout",
       "text": [
        " 713 GUT\n",
        "2718"
       ]
      },
      {
       "output_type": "stream",
       "stream": "stdout",
       "text": [
        " 714 ELLI\n",
        "2719"
       ]
      },
      {
       "output_type": "stream",
       "stream": "stdout",
       "text": [
        " 715 PNX\n",
        "2720"
       ]
      },
      {
       "output_type": "stream",
       "stream": "stdout",
       "text": [
        " 716 RHT\n",
        "2721"
       ]
      },
      {
       "output_type": "stream",
       "stream": "stdout",
       "text": [
        " 717 EVR\n",
        "2722"
       ]
      },
      {
       "output_type": "stream",
       "stream": "stdout",
       "text": [
        " 718 OMN\n",
        "2723"
       ]
      },
      {
       "output_type": "stream",
       "stream": "stdout",
       "text": [
        " 719 A\n",
        "2724"
       ]
      },
      {
       "output_type": "stream",
       "stream": "stdout",
       "text": [
        " 720 ARC\n",
        "2725"
       ]
      },
      {
       "output_type": "stream",
       "stream": "stdout",
       "text": [
        " 721 CEO\n",
        "2726"
       ]
      },
      {
       "output_type": "stream",
       "stream": "stdout",
       "text": [
        " 722 BEP\n",
        "2727"
       ]
      },
      {
       "output_type": "stream",
       "stream": "stdout",
       "text": [
        " 723 NSL\n",
        "2728"
       ]
      },
      {
       "output_type": "stream",
       "stream": "stdout",
       "text": [
        " 724 BSD\n",
        "2729"
       ]
      },
      {
       "output_type": "stream",
       "stream": "stdout",
       "text": [
        " 725 BLT\n",
        "2730"
       ]
      },
      {
       "output_type": "stream",
       "stream": "stdout",
       "text": [
        " 726 APL\n",
        "2731"
       ]
      },
      {
       "output_type": "stream",
       "stream": "stdout",
       "text": [
        " 727 ADS\n",
        "2732"
       ]
      },
      {
       "output_type": "stream",
       "stream": "stdout",
       "text": [
        " 728 ANTM\n",
        "2733"
       ]
      },
      {
       "output_type": "stream",
       "stream": "stdout",
       "text": [
        " 729 ABG\n",
        "2734"
       ]
      },
      {
       "output_type": "stream",
       "stream": "stdout",
       "text": [
        " 730 GHL\n",
        "2735"
       ]
      },
      {
       "output_type": "stream",
       "stream": "stdout",
       "text": [
        " 731 JNPR\n",
        "2736"
       ]
      },
      {
       "output_type": "stream",
       "stream": "stdout",
       "text": [
        " 732 KKD\n",
        "2737"
       ]
      },
      {
       "output_type": "stream",
       "stream": "stdout",
       "text": [
        " 733 LII\n",
        "2738"
       ]
      },
      {
       "output_type": "stream",
       "stream": "stdout",
       "text": [
        " 734 MFC\n",
        "2739"
       ]
      },
      {
       "output_type": "stream",
       "stream": "stdout",
       "text": [
        " 735 MSO\n",
        "2740"
       ]
      },
      {
       "output_type": "stream",
       "stream": "stdout",
       "text": [
        " 736 WWE\n",
        "2741"
       ]
      },
      {
       "output_type": "stream",
       "stream": "stdout",
       "text": [
        " 737 BLK\n",
        "2742"
       ]
      },
      {
       "output_type": "stream",
       "stream": "stdout",
       "text": [
        " 738 CRL\n",
        "2743"
       ]
      },
      {
       "output_type": "stream",
       "stream": "stdout",
       "text": [
        " 739 DTE\n",
        "2744"
       ]
      },
      {
       "output_type": "stream",
       "stream": "stdout",
       "text": [
        " 740 PKG\n",
        "2745"
       ]
      },
      {
       "output_type": "stream",
       "stream": "stdout",
       "text": [
        " 741 WTW\n",
        "2746"
       ]
      },
      {
       "output_type": "stream",
       "stream": "stdout",
       "text": [
        " 742 BWC\n",
        "2747"
       ]
      },
      {
       "output_type": "stream",
       "stream": "stdout",
       "text": [
        " 743 MBT\n",
        "2748"
       ]
      },
      {
       "output_type": "stream",
       "stream": "stdout",
       "text": [
        " 744 CRM\n",
        "2749"
       ]
      },
      {
       "output_type": "stream",
       "stream": "stdout",
       "text": [
        " 745 TDY\n",
        "2750"
       ]
      },
      {
       "output_type": "stream",
       "stream": "stdout",
       "text": [
        " 746 NXJ\n",
        "2751"
       ]
      },
      {
       "output_type": "stream",
       "stream": "stdout",
       "text": [
        " 747 JNS\n",
        "2752"
       ]
      },
      {
       "output_type": "stream",
       "stream": "stdout",
       "text": [
        " 748 XOXO\n",
        "2753"
       ]
      },
      {
       "output_type": "stream",
       "stream": "stdout",
       "text": [
        " 749 ENR\n",
        "2754"
       ]
      },
      {
       "output_type": "stream",
       "stream": "stdout",
       "text": [
        " 750 MET\n",
        "2755"
       ]
      },
      {
       "output_type": "stream",
       "stream": "stdout",
       "text": [
        " 751 ARL\n",
        "2756"
       ]
      },
      {
       "output_type": "stream",
       "stream": "stdout",
       "text": [
        " 752 TW\n",
        "2757"
       ]
      },
      {
       "output_type": "stream",
       "stream": "stdout",
       "text": [
        " 753 TNET\n",
        "2758"
       ]
      },
      {
       "output_type": "stream",
       "stream": "stdout",
       "text": [
        " 754 CYH\n",
        "2759"
       ]
      },
      {
       "output_type": "stream",
       "stream": "stdout",
       "text": [
        " 755 BHLB\n",
        "2760"
       ]
      },
      {
       "output_type": "stream",
       "stream": "stdout",
       "text": [
        " 756 BAS\n",
        "2761"
       ]
      },
      {
       "output_type": "stream",
       "stream": "stdout",
       "text": [
        " 757 ATG\n",
        "2762"
       ]
      },
      {
       "output_type": "stream",
       "stream": "stdout",
       "text": [
        " 758 EVC\n",
        "2763"
       ]
      },
      {
       "output_type": "stream",
       "stream": "stdout",
       "text": [
        " 759 MON\n",
        "2764"
       ]
      },
      {
       "output_type": "stream",
       "stream": "stdout",
       "text": [
        " 760 GB\n",
        "2765"
       ]
      },
      {
       "output_type": "stream",
       "stream": "stdout",
       "text": [
        " 761 COH\n",
        "2766"
       ]
      },
      {
       "output_type": "stream",
       "stream": "stdout",
       "text": [
        " 762 BEL\n",
        "2767"
       ]
      },
      {
       "output_type": "stream",
       "stream": "stdout",
       "text": [
        " 763 OIS\n",
        "2768"
       ]
      },
      {
       "output_type": "stream",
       "stream": "stdout",
       "text": [
        " 764 NS\n",
        "2769"
       ]
      },
      {
       "output_type": "stream",
       "stream": "stdout",
       "text": [
        " 765 GPN\n",
        "2770"
       ]
      },
      {
       "output_type": "stream",
       "stream": "stdout",
       "text": [
        " 766 FLR\n",
        "2771"
       ]
      },
      {
       "output_type": "stream",
       "stream": "stdout",
       "text": [
        " 767 MMP\n",
        "2772"
       ]
      },
      {
       "output_type": "stream",
       "stream": "stdout",
       "text": [
        " 768 SYT\n",
        "2773"
       ]
      },
      {
       "output_type": "stream",
       "stream": "stdout",
       "text": [
        " 769 CP\n",
        "2774"
       ]
      },
      {
       "output_type": "stream",
       "stream": "stdout",
       "text": [
        " 770 PTR\n",
        "2775"
       ]
      },
      {
       "output_type": "stream",
       "stream": "stdout",
       "text": [
        " 771 AB\n",
        "2776"
       ]
      },
      {
       "output_type": "stream",
       "stream": "stdout",
       "text": [
        " 772 MTOR\n",
        "2777"
       ]
      },
      {
       "output_type": "stream",
       "stream": "stdout",
       "text": [
        " 773 UIL\n",
        "2778"
       ]
      },
      {
       "output_type": "stream",
       "stream": "stdout",
       "text": [
        " 774 DNB\n",
        "2779"
       ]
      },
      {
       "output_type": "stream",
       "stream": "stdout",
       "text": [
        " 775 ASR\n",
        "2780"
       ]
      },
      {
       "output_type": "stream",
       "stream": "stdout",
       "text": [
        " 776 EW\n",
        "2781"
       ]
      },
      {
       "output_type": "stream",
       "stream": "stdout",
       "text": [
        " 777 XEL\n",
        "2782"
       ]
      },
      {
       "output_type": "stream",
       "stream": "stdout",
       "text": [
        " 778 MTU\n",
        "2783"
       ]
      },
      {
       "output_type": "stream",
       "stream": "stdout",
       "text": [
        " 779 MVC\n",
        "2784"
       ]
      },
      {
       "output_type": "stream",
       "stream": "stdout",
       "text": [
        " 780 GSK\n",
        "2785"
       ]
      },
      {
       "output_type": "stream",
       "stream": "stdout",
       "text": [
        " 781 CUK\n",
        "2786"
       ]
      },
      {
       "output_type": "stream",
       "stream": "stdout",
       "text": [
        " 782 SNX\n",
        "2787"
       ]
      },
      {
       "output_type": "stream",
       "stream": "stdout",
       "text": [
        " 783 COL\n",
        "2788"
       ]
      },
      {
       "output_type": "stream",
       "stream": "stdout",
       "text": [
        " 784 FLO\n",
        "2789"
       ]
      },
      {
       "output_type": "stream",
       "stream": "stdout",
       "text": [
        " 785 MPX\n",
        "2790"
       ]
      },
      {
       "output_type": "stream",
       "stream": "stdout",
       "text": [
        " 786 AMX\n",
        "2791"
       ]
      },
      {
       "output_type": "stream",
       "stream": "stdout",
       "text": [
        " 787 FTI\n",
        "2792"
       ]
      },
      {
       "output_type": "stream",
       "stream": "stdout",
       "text": [
        " 788 CEQP\n",
        "2793"
       ]
      },
      {
       "output_type": "stream",
       "stream": "stdout",
       "text": [
        " 789 ZMH\n",
        "2794"
       ]
      },
      {
       "output_type": "stream",
       "stream": "stdout",
       "text": [
        " 790 BFZ\n",
        "2795"
       ]
      },
      {
       "output_type": "stream",
       "stream": "stdout",
       "text": [
        " 791 BBF\n",
        "2796"
       ]
      },
      {
       "output_type": "stream",
       "stream": "stdout",
       "text": [
        " 792 BNJ\n",
        "2797"
       ]
      },
      {
       "output_type": "stream",
       "stream": "stdout",
       "text": [
        " 793 BNY\n",
        "2798"
       ]
      },
      {
       "output_type": "stream",
       "stream": "stdout",
       "text": [
        " 794 BFK\n",
        "2799"
       ]
      },
      {
       "output_type": "stream",
       "stream": "stdout",
       "text": [
        " 795 WSH\n",
        "2800"
       ]
      },
      {
       "output_type": "stream",
       "stream": "stdout",
       "text": [
        " 796 PMF\n",
        "2801"
       ]
      },
      {
       "output_type": "stream",
       "stream": "stdout",
       "text": [
        " 797 PCQ\n",
        "2802"
       ]
      },
      {
       "output_type": "stream",
       "stream": "stdout",
       "text": [
        " 798 PNF\n",
        "2803"
       ]
      },
      {
       "output_type": "stream",
       "stream": "stdout",
       "text": [
        " 799 AYI\n",
        "2804"
       ]
      },
      {
       "output_type": "stream",
       "stream": "stdout",
       "text": [
        " 800 BG\n",
        "2805"
       ]
      },
      {
       "output_type": "stream",
       "stream": "stdout",
       "text": [
        " 801 AHS\n",
        "2806"
       ]
      },
      {
       "output_type": "stream",
       "stream": "stdout",
       "text": [
        " 802 ALR\n",
        "2807"
       ]
      },
      {
       "output_type": "stream",
       "stream": "stdout",
       "text": [
        " 803 GME\n",
        "2808"
       ]
      },
      {
       "output_type": "stream",
       "stream": "stdout",
       "text": [
        " 804 BJZ\n",
        "2809"
       ]
      },
      {
       "output_type": "stream",
       "stream": "stdout",
       "text": [
        " 805 BPK\n",
        "2810"
       ]
      },
      {
       "output_type": "stream",
       "stream": "stdout",
       "text": [
        " 806 BLH\n",
        "2811"
       ]
      },
      {
       "output_type": "stream",
       "stream": "stdout",
       "text": [
        " 807 SXL\n",
        "2812"
       ]
      },
      {
       "output_type": "stream",
       "stream": "stdout",
       "text": [
        " 808 ICE\n",
        "2813"
       ]
      },
      {
       "output_type": "stream",
       "stream": "stdout",
       "text": [
        " 809 AWI\n",
        "2814"
       ]
      },
      {
       "output_type": "stream",
       "stream": "stdout",
       "text": [
        " 810 IHS\n",
        "2815"
       ]
      },
      {
       "output_type": "stream",
       "stream": "stdout",
       "text": [
        " 811 NGS\n",
        "2816"
       ]
      },
      {
       "output_type": "stream",
       "stream": "stdout",
       "text": [
        " 812 KND\n",
        "2817"
       ]
      },
      {
       "output_type": "stream",
       "stream": "stdout",
       "text": [
        " 813 HOS\n",
        "2818"
       ]
      },
      {
       "output_type": "stream",
       "stream": "stdout",
       "text": [
        " 814 FIS\n",
        "2819"
       ]
      },
      {
       "output_type": "stream",
       "stream": "stdout",
       "text": [
        " 815 XPO\n",
        "2820"
       ]
      },
      {
       "output_type": "stream",
       "stream": "stdout",
       "text": [
        " 816 SSI\n",
        "2821"
       ]
      },
      {
       "output_type": "stream",
       "stream": "stdout",
       "text": [
        " 817 IGC\n",
        "2822"
       ]
      },
      {
       "output_type": "stream",
       "stream": "stdout",
       "text": [
        " 818 VLYWW\n",
        "2823"
       ]
      },
      {
       "output_type": "stream",
       "stream": "stdout",
       "text": [
        " 819 IRDMZ\n",
        "2824"
       ]
      },
      {
       "output_type": "stream",
       "stream": "stdout",
       "text": [
        " 820 CRMD\n",
        "2825"
       ]
      },
      {
       "output_type": "stream",
       "stream": "stdout",
       "text": [
        " 821 MDGN\n",
        "2826"
       ]
      },
      {
       "output_type": "stream",
       "stream": "stdout",
       "text": [
        " 822 ASB\n",
        "2827"
       ]
      },
      {
       "output_type": "stream",
       "stream": "stdout",
       "text": [
        " 823 FPP\n",
        "2828"
       ]
      },
      {
       "output_type": "stream",
       "stream": "stdout",
       "text": [
        " 824 LGL\n",
        "2829"
       ]
      },
      {
       "output_type": "stream",
       "stream": "stdout",
       "text": [
        " 825 TRC\n",
        "2830"
       ]
      },
      {
       "output_type": "stream",
       "stream": "stdout",
       "text": [
        " 826 CVM\n",
        "2831"
       ]
      },
      {
       "output_type": "stream",
       "stream": "stdout",
       "text": [
        " 827 BTX\n",
        "2832"
       ]
      },
      {
       "output_type": "stream",
       "stream": "stdout",
       "text": [
        " 828 NASDAQ\n",
        "2833"
       ]
      },
      {
       "output_type": "stream",
       "stream": "stdout",
       "text": [
        " 829 JPMBVMF3\n",
        "2834"
       ]
      },
      {
       "output_type": "stream",
       "stream": "stdout",
       "text": [
        " 830 JPM181\n",
        "2835"
       ]
      },
      {
       "output_type": "stream",
       "stream": "stdout",
       "text": [
        " 831 JPM199\n",
        "2836"
       ]
      },
      {
       "output_type": "stream",
       "stream": "stdout",
       "text": [
        " 832 JPVAN280\n",
        "2837"
       ]
      },
      {
       "output_type": "stream",
       "stream": "stdout",
       "text": [
        " 833 JPVAN298\n",
        "2838"
       ]
      },
      {
       "output_type": "stream",
       "stream": "stdout",
       "text": [
        " 834 JPVAN306\n",
        "2839"
       ]
      },
      {
       "output_type": "stream",
       "stream": "stdout",
       "text": [
        " 835 TQQQ 12\n",
        "2840"
       ]
      },
      {
       "output_type": "stream",
       "stream": "stdout",
       "text": [
        " 836 TQQQ 12\n",
        "2841"
       ]
      },
      {
       "output_type": "stream",
       "stream": "stdout",
       "text": [
        " 837 TQQQ 12\n",
        "2842"
       ]
      },
      {
       "output_type": "stream",
       "stream": "stdout",
       "text": [
        " 838 TQQQ 12\n",
        "2843"
       ]
      },
      {
       "output_type": "stream",
       "stream": "stdout",
       "text": [
        " 839 TQQQ 12\n",
        "2844"
       ]
      },
      {
       "output_type": "stream",
       "stream": "stdout",
       "text": [
        " 840 TQQQ 12\n",
        "2845"
       ]
      },
      {
       "output_type": "stream",
       "stream": "stdout",
       "text": [
        " 841 TQQQ 12\n",
        "2846"
       ]
      },
      {
       "output_type": "stream",
       "stream": "stdout",
       "text": [
        " 842 TQQQ 12\n",
        "2847"
       ]
      },
      {
       "output_type": "stream",
       "stream": "stdout",
       "text": [
        " 843 TQQQ 12\n",
        "2848"
       ]
      },
      {
       "output_type": "stream",
       "stream": "stdout",
       "text": [
        " 844 TQQQ 12\n",
        "2849"
       ]
      },
      {
       "output_type": "stream",
       "stream": "stdout",
       "text": [
        " 845 TQQQ 12\n",
        "2850"
       ]
      },
      {
       "output_type": "stream",
       "stream": "stdout",
       "text": [
        " 846 TQQQ 12\n",
        "2851"
       ]
      },
      {
       "output_type": "stream",
       "stream": "stdout",
       "text": [
        " 847 TQQQ 12\n",
        "2852"
       ]
      },
      {
       "output_type": "stream",
       "stream": "stdout",
       "text": [
        " 848 TQQQ 12\n",
        "2853"
       ]
      },
      {
       "output_type": "stream",
       "stream": "stdout",
       "text": [
        " 849 TQQQ 12\n",
        "2854"
       ]
      },
      {
       "output_type": "stream",
       "stream": "stdout",
       "text": [
        " 850 TQQQ 12\n",
        "2855"
       ]
      },
      {
       "output_type": "stream",
       "stream": "stdout",
       "text": [
        " 851 TQQQ 12\n",
        "2856"
       ]
      },
      {
       "output_type": "stream",
       "stream": "stdout",
       "text": [
        " 852 TQQQ 12\n",
        "2857"
       ]
      },
      {
       "output_type": "stream",
       "stream": "stdout",
       "text": [
        " 853 TQQQ 12\n",
        "2858"
       ]
      },
      {
       "output_type": "stream",
       "stream": "stdout",
       "text": [
        " 854 TQQQ 12\n",
        "2859"
       ]
      },
      {
       "output_type": "stream",
       "stream": "stdout",
       "text": [
        " 855 TQQQ 12\n",
        "2860"
       ]
      },
      {
       "output_type": "stream",
       "stream": "stdout",
       "text": [
        " 856 TQQQ 12\n",
        "2861"
       ]
      },
      {
       "output_type": "stream",
       "stream": "stdout",
       "text": [
        " 857 TQQQ 12\n",
        "2862"
       ]
      },
      {
       "output_type": "stream",
       "stream": "stdout",
       "text": [
        " 858 TQQQ 12\n",
        "2863"
       ]
      },
      {
       "output_type": "stream",
       "stream": "stdout",
       "text": [
        " 859 TQQQ 12\n",
        "2864"
       ]
      },
      {
       "output_type": "stream",
       "stream": "stdout",
       "text": [
        " 860 TQQQ 12\n",
        "2865"
       ]
      },
      {
       "output_type": "stream",
       "stream": "stdout",
       "text": [
        " 861 TQQQ 12\n",
        "2866"
       ]
      },
      {
       "output_type": "stream",
       "stream": "stdout",
       "text": [
        " 862 TQQQ 12\n",
        "2867"
       ]
      },
      {
       "output_type": "stream",
       "stream": "stdout",
       "text": [
        " 863 TQQQ 12\n",
        "2868"
       ]
      },
      {
       "output_type": "stream",
       "stream": "stdout",
       "text": [
        " 864 TQQQ 12\n",
        "2869"
       ]
      },
      {
       "output_type": "stream",
       "stream": "stdout",
       "text": [
        " 865 TQQQ 12\n",
        "2870"
       ]
      },
      {
       "output_type": "stream",
       "stream": "stdout",
       "text": [
        " 866 TQQQ 12\n",
        "2871"
       ]
      },
      {
       "output_type": "stream",
       "stream": "stdout",
       "text": [
        " 867 TQQQ 12\n",
        "2872"
       ]
      },
      {
       "output_type": "stream",
       "stream": "stdout",
       "text": [
        " 868 TQQQ 12\n",
        "2873"
       ]
      },
      {
       "output_type": "stream",
       "stream": "stdout",
       "text": [
        " 869 TQQQ 12\n",
        "2874"
       ]
      },
      {
       "output_type": "stream",
       "stream": "stdout",
       "text": [
        " 870 TQQQ 12\n",
        "2875"
       ]
      },
      {
       "output_type": "stream",
       "stream": "stdout",
       "text": [
        " 871 TQQQ 12\n",
        "2876"
       ]
      },
      {
       "output_type": "stream",
       "stream": "stdout",
       "text": [
        " 872 TQQQ 12\n",
        "2877"
       ]
      },
      {
       "output_type": "stream",
       "stream": "stdout",
       "text": [
        " 873 TQQQ 12\n",
        "2878"
       ]
      },
      {
       "output_type": "stream",
       "stream": "stdout",
       "text": [
        " 874 TQQQ 12\n",
        "2879"
       ]
      },
      {
       "output_type": "stream",
       "stream": "stdout",
       "text": [
        " 875 TQQQ 12\n",
        "2880"
       ]
      },
      {
       "output_type": "stream",
       "stream": "stdout",
       "text": [
        " 876 TQQQ 12\n",
        "2881"
       ]
      },
      {
       "output_type": "stream",
       "stream": "stdout",
       "text": [
        " 877 TQQQ 12\n",
        "2882"
       ]
      },
      {
       "output_type": "stream",
       "stream": "stdout",
       "text": [
        " 878 TQQQ 12\n",
        "2883"
       ]
      },
      {
       "output_type": "stream",
       "stream": "stdout",
       "text": [
        " 879 TQQQ 12\n",
        "2884"
       ]
      },
      {
       "output_type": "stream",
       "stream": "stdout",
       "text": [
        " 880 TQQQ 12\n",
        "2885"
       ]
      },
      {
       "output_type": "stream",
       "stream": "stdout",
       "text": [
        " 881 TQQQ 12\n",
        "2886"
       ]
      },
      {
       "output_type": "stream",
       "stream": "stdout",
       "text": [
        " 882 TQQQ 12\n",
        "2887"
       ]
      },
      {
       "output_type": "stream",
       "stream": "stdout",
       "text": [
        " 883 TQQQ 12\n",
        "2888"
       ]
      },
      {
       "output_type": "stream",
       "stream": "stdout",
       "text": [
        " 884 TQQQ 12\n",
        "2889"
       ]
      },
      {
       "output_type": "stream",
       "stream": "stdout",
       "text": [
        " 885 TQQQ 12\n",
        "2890"
       ]
      },
      {
       "output_type": "stream",
       "stream": "stdout",
       "text": [
        " 886 TQQQ 12\n",
        "2891"
       ]
      },
      {
       "output_type": "stream",
       "stream": "stdout",
       "text": [
        " 887 TQQQ 12\n",
        "2892"
       ]
      },
      {
       "output_type": "stream",
       "stream": "stdout",
       "text": [
        " 888 TQQQ 12\n",
        "2893"
       ]
      },
      {
       "output_type": "stream",
       "stream": "stdout",
       "text": [
        " 889 TQQQ 12\n",
        "2894"
       ]
      },
      {
       "output_type": "stream",
       "stream": "stdout",
       "text": [
        " 890 TQQQ 12\n",
        "2895"
       ]
      },
      {
       "output_type": "stream",
       "stream": "stdout",
       "text": [
        " 891 TQQQ 12\n",
        "2896"
       ]
      },
      {
       "output_type": "stream",
       "stream": "stdout",
       "text": [
        " 892 TQQQ 12\n",
        "2897"
       ]
      },
      {
       "output_type": "stream",
       "stream": "stdout",
       "text": [
        " 893 TQQQ 12\n",
        "2898"
       ]
      },
      {
       "output_type": "stream",
       "stream": "stdout",
       "text": [
        " 894 TQQQ 12\n",
        "2899"
       ]
      },
      {
       "output_type": "stream",
       "stream": "stdout",
       "text": [
        " 895 TQQQ 12\n",
        "2900"
       ]
      },
      {
       "output_type": "stream",
       "stream": "stdout",
       "text": [
        " 896 TQQQ 12\n",
        "2901"
       ]
      },
      {
       "output_type": "stream",
       "stream": "stdout",
       "text": [
        " 897 TQQQ 12\n",
        "2902"
       ]
      },
      {
       "output_type": "stream",
       "stream": "stdout",
       "text": [
        " 898 TQQQ 12\n",
        "2903"
       ]
      },
      {
       "output_type": "stream",
       "stream": "stdout",
       "text": [
        " 899 TQQQ 12\n",
        "2904"
       ]
      },
      {
       "output_type": "stream",
       "stream": "stdout",
       "text": [
        " 900 TQQQ 12\n",
        "2905"
       ]
      },
      {
       "output_type": "stream",
       "stream": "stdout",
       "text": [
        " 901 TQQQ 12\n",
        "2906"
       ]
      },
      {
       "output_type": "stream",
       "stream": "stdout",
       "text": [
        " 902 TQQQ 12\n",
        "2907"
       ]
      },
      {
       "output_type": "stream",
       "stream": "stdout",
       "text": [
        " 903 TQQQ 12\n",
        "2908"
       ]
      },
      {
       "output_type": "stream",
       "stream": "stdout",
       "text": [
        " 904 TQQQ 12\n",
        "2909"
       ]
      },
      {
       "output_type": "stream",
       "stream": "stdout",
       "text": [
        " 905 TQQQ 12\n",
        "2910"
       ]
      },
      {
       "output_type": "stream",
       "stream": "stdout",
       "text": [
        " 906 TQQQ 12\n",
        "2911"
       ]
      },
      {
       "output_type": "stream",
       "stream": "stdout",
       "text": [
        " 907 TQQQ 12\n",
        "2912"
       ]
      },
      {
       "output_type": "stream",
       "stream": "stdout",
       "text": [
        " 908 TQQQ 12\n",
        "2913"
       ]
      },
      {
       "output_type": "stream",
       "stream": "stdout",
       "text": [
        " 909 TQQQ 12\n",
        "2914"
       ]
      },
      {
       "output_type": "stream",
       "stream": "stdout",
       "text": [
        " 910 TQQQ 12\n",
        "2915"
       ]
      },
      {
       "output_type": "stream",
       "stream": "stdout",
       "text": [
        " 911 TQQQ 12\n",
        "2916"
       ]
      },
      {
       "output_type": "stream",
       "stream": "stdout",
       "text": [
        " 912 TQQQ 12\n",
        "2917"
       ]
      },
      {
       "output_type": "stream",
       "stream": "stdout",
       "text": [
        " 913 TQQQ 12\n",
        "2918"
       ]
      },
      {
       "output_type": "stream",
       "stream": "stdout",
       "text": [
        " 914 TQQQ 12\n",
        "2919"
       ]
      },
      {
       "output_type": "stream",
       "stream": "stdout",
       "text": [
        " 915 TQQQ 12\n",
        "2920"
       ]
      },
      {
       "output_type": "stream",
       "stream": "stdout",
       "text": [
        " 916 TQQQ 12\n",
        "2921"
       ]
      },
      {
       "output_type": "stream",
       "stream": "stdout",
       "text": [
        " 917 TQQQ 12\n",
        "2922"
       ]
      },
      {
       "output_type": "stream",
       "stream": "stdout",
       "text": [
        " 918 TQQQ 12\n",
        "2923"
       ]
      },
      {
       "output_type": "stream",
       "stream": "stdout",
       "text": [
        " 919 TQQQ 12\n",
        "2924"
       ]
      },
      {
       "output_type": "stream",
       "stream": "stdout",
       "text": [
        " 920 TQQQ 12\n",
        "2925"
       ]
      },
      {
       "output_type": "stream",
       "stream": "stdout",
       "text": [
        " 921 TQQQ 12\n",
        "2926"
       ]
      },
      {
       "output_type": "stream",
       "stream": "stdout",
       "text": [
        " 922 TQQQ 12\n",
        "2927"
       ]
      },
      {
       "output_type": "stream",
       "stream": "stdout",
       "text": [
        " 923 TQQQ 12\n",
        "2928"
       ]
      },
      {
       "output_type": "stream",
       "stream": "stdout",
       "text": [
        " 924 TQQQ 12\n",
        "2929"
       ]
      },
      {
       "output_type": "stream",
       "stream": "stdout",
       "text": [
        " 925 TQQQ 12\n",
        "2930"
       ]
      },
      {
       "output_type": "stream",
       "stream": "stdout",
       "text": [
        " 926 TQQQ 12\n",
        "2931"
       ]
      },
      {
       "output_type": "stream",
       "stream": "stdout",
       "text": [
        " 927 TQQQ 12\n",
        "2932"
       ]
      },
      {
       "output_type": "stream",
       "stream": "stdout",
       "text": [
        " 928 TQQQ 12\n",
        "2933"
       ]
      },
      {
       "output_type": "stream",
       "stream": "stdout",
       "text": [
        " 929 TQQQ 12\n",
        "2934"
       ]
      },
      {
       "output_type": "stream",
       "stream": "stdout",
       "text": [
        " 930 TQQQ 12\n",
        "2935"
       ]
      },
      {
       "output_type": "stream",
       "stream": "stdout",
       "text": [
        " 931 TQQQ 12\n",
        "2936"
       ]
      },
      {
       "output_type": "stream",
       "stream": "stdout",
       "text": [
        " 932 TQQQ 12\n",
        "2937"
       ]
      },
      {
       "output_type": "stream",
       "stream": "stdout",
       "text": [
        " 933 TQQQ 12\n",
        "2938"
       ]
      },
      {
       "output_type": "stream",
       "stream": "stdout",
       "text": [
        " 934 TQQQ 12\n",
        "2939"
       ]
      },
      {
       "output_type": "stream",
       "stream": "stdout",
       "text": [
        " 935 TQQQ 12\n",
        "2940"
       ]
      },
      {
       "output_type": "stream",
       "stream": "stdout",
       "text": [
        " 936 TQQQ 12\n",
        "2941"
       ]
      },
      {
       "output_type": "stream",
       "stream": "stdout",
       "text": [
        " 937 TQQQ 12\n",
        "2942"
       ]
      },
      {
       "output_type": "stream",
       "stream": "stdout",
       "text": [
        " 938 TQQQ 12\n",
        "2943"
       ]
      },
      {
       "output_type": "stream",
       "stream": "stdout",
       "text": [
        " 939 TQQQ 12\n",
        "2944"
       ]
      },
      {
       "output_type": "stream",
       "stream": "stdout",
       "text": [
        " 940 TQQQ 12\n",
        "2945"
       ]
      },
      {
       "output_type": "stream",
       "stream": "stdout",
       "text": [
        " 941 TQQQ 12\n",
        "2946"
       ]
      },
      {
       "output_type": "stream",
       "stream": "stdout",
       "text": [
        " 942 TQQQ 12\n",
        "2947"
       ]
      },
      {
       "output_type": "stream",
       "stream": "stdout",
       "text": [
        " 943 TQQQ 12\n",
        "2948"
       ]
      },
      {
       "output_type": "stream",
       "stream": "stdout",
       "text": [
        " 944 TQQQ 12\n",
        "2949"
       ]
      },
      {
       "output_type": "stream",
       "stream": "stdout",
       "text": [
        " 945 TQQQ 12\n",
        "2950"
       ]
      },
      {
       "output_type": "stream",
       "stream": "stdout",
       "text": [
        " 946 TQQQ 12\n",
        "2951"
       ]
      },
      {
       "output_type": "stream",
       "stream": "stdout",
       "text": [
        " 947 TQQQ 12\n",
        "2952"
       ]
      },
      {
       "output_type": "stream",
       "stream": "stdout",
       "text": [
        " 948 TQQQ 12\n",
        "2953"
       ]
      },
      {
       "output_type": "stream",
       "stream": "stdout",
       "text": [
        " 949 TQQQ 12\n",
        "2954"
       ]
      },
      {
       "output_type": "stream",
       "stream": "stdout",
       "text": [
        " 950 TQQQ 12\n",
        "2955"
       ]
      },
      {
       "output_type": "stream",
       "stream": "stdout",
       "text": [
        " 951 TQQQ 12\n",
        "2956"
       ]
      },
      {
       "output_type": "stream",
       "stream": "stdout",
       "text": [
        " 952 TQQQ 12\n",
        "2957"
       ]
      },
      {
       "output_type": "stream",
       "stream": "stdout",
       "text": [
        " 953 TQQQ 12\n",
        "2958"
       ]
      },
      {
       "output_type": "stream",
       "stream": "stdout",
       "text": [
        " 954 TQQQ 12\n",
        "2959"
       ]
      },
      {
       "output_type": "stream",
       "stream": "stdout",
       "text": [
        " 955 TQQQ 12\n",
        "2960"
       ]
      },
      {
       "output_type": "stream",
       "stream": "stdout",
       "text": [
        " 956 TQQQ 12\n",
        "2961"
       ]
      },
      {
       "output_type": "stream",
       "stream": "stdout",
       "text": [
        " 957 TQQQ 12\n",
        "2962"
       ]
      },
      {
       "output_type": "stream",
       "stream": "stdout",
       "text": [
        " 958 TQQQ 12\n",
        "2963"
       ]
      },
      {
       "output_type": "stream",
       "stream": "stdout",
       "text": [
        " 959 TQQQ 12\n",
        "2964"
       ]
      },
      {
       "output_type": "stream",
       "stream": "stdout",
       "text": [
        " 960 TQQQ 12\n",
        "2965"
       ]
      },
      {
       "output_type": "stream",
       "stream": "stdout",
       "text": [
        " 961 TQQQ 12\n",
        "2966"
       ]
      },
      {
       "output_type": "stream",
       "stream": "stdout",
       "text": [
        " 962 TQQQ 12\n",
        "2967"
       ]
      },
      {
       "output_type": "stream",
       "stream": "stdout",
       "text": [
        " 963 TQQQ 12\n",
        "2968"
       ]
      },
      {
       "output_type": "stream",
       "stream": "stdout",
       "text": [
        " 964 TQQQ 12\n",
        "2969"
       ]
      },
      {
       "output_type": "stream",
       "stream": "stdout",
       "text": [
        " 965 TQQQ 12\n",
        "2970"
       ]
      },
      {
       "output_type": "stream",
       "stream": "stdout",
       "text": [
        " 966 TQQQ 12\n",
        "2971"
       ]
      },
      {
       "output_type": "stream",
       "stream": "stdout",
       "text": [
        " 967 TQQQ 12\n",
        "2972"
       ]
      },
      {
       "output_type": "stream",
       "stream": "stdout",
       "text": [
        " 968 TQQQ 12\n",
        "2973"
       ]
      },
      {
       "output_type": "stream",
       "stream": "stdout",
       "text": [
        " 969 TQQQ 12\n",
        "2974"
       ]
      },
      {
       "output_type": "stream",
       "stream": "stdout",
       "text": [
        " 970 TQQQ 12\n",
        "2975"
       ]
      },
      {
       "output_type": "stream",
       "stream": "stdout",
       "text": [
        " 971 TQQQ 12\n",
        "2976"
       ]
      },
      {
       "output_type": "stream",
       "stream": "stdout",
       "text": [
        " 972 TQQQ 12\n",
        "2977"
       ]
      },
      {
       "output_type": "stream",
       "stream": "stdout",
       "text": [
        " 973 TQQQ 12\n",
        "2978"
       ]
      },
      {
       "output_type": "stream",
       "stream": "stdout",
       "text": [
        " 974 TQQQ 12\n",
        "2979"
       ]
      },
      {
       "output_type": "stream",
       "stream": "stdout",
       "text": [
        " 975 TQQQ 12\n",
        "2980"
       ]
      },
      {
       "output_type": "stream",
       "stream": "stdout",
       "text": [
        " 976 TQQQ 12\n",
        "2981"
       ]
      },
      {
       "output_type": "stream",
       "stream": "stdout",
       "text": [
        " 977 TQQQ 12\n",
        "2982"
       ]
      },
      {
       "output_type": "stream",
       "stream": "stdout",
       "text": [
        " 978 TQQQ 12\n",
        "2983"
       ]
      },
      {
       "output_type": "stream",
       "stream": "stdout",
       "text": [
        " 979 TQQQ 12\n",
        "2984"
       ]
      },
      {
       "output_type": "stream",
       "stream": "stdout",
       "text": [
        " 980 TQQQ 12\n",
        "2985"
       ]
      },
      {
       "output_type": "stream",
       "stream": "stdout",
       "text": [
        " 981 TQQQ 12\n",
        "2986"
       ]
      },
      {
       "output_type": "stream",
       "stream": "stdout",
       "text": [
        " 982 TQQQ 12\n",
        "2987"
       ]
      },
      {
       "output_type": "stream",
       "stream": "stdout",
       "text": [
        " 983 TQQQ 12\n",
        "2988"
       ]
      },
      {
       "output_type": "stream",
       "stream": "stdout",
       "text": [
        " 984 TQQQ 12\n",
        "2989"
       ]
      },
      {
       "output_type": "stream",
       "stream": "stdout",
       "text": [
        " 985 TQQQ 12\n",
        "2990"
       ]
      },
      {
       "output_type": "stream",
       "stream": "stdout",
       "text": [
        " 986 TQQQ 12\n",
        "2991"
       ]
      },
      {
       "output_type": "stream",
       "stream": "stdout",
       "text": [
        " 987 TQQQ 12\n",
        "2992"
       ]
      },
      {
       "output_type": "stream",
       "stream": "stdout",
       "text": [
        " 988 TQQQ 12\n",
        "2993"
       ]
      },
      {
       "output_type": "stream",
       "stream": "stdout",
       "text": [
        " 989 TQQQ 12\n",
        "2994"
       ]
      },
      {
       "output_type": "stream",
       "stream": "stdout",
       "text": [
        " 990 TQQQ 12\n",
        "2995"
       ]
      },
      {
       "output_type": "stream",
       "stream": "stdout",
       "text": [
        " 991 TQQQ 12\n",
        "2996"
       ]
      },
      {
       "output_type": "stream",
       "stream": "stdout",
       "text": [
        " 992 TQQQ 12\n",
        "2997"
       ]
      },
      {
       "output_type": "stream",
       "stream": "stdout",
       "text": [
        " 993 TQQQ 12\n",
        "2998"
       ]
      },
      {
       "output_type": "stream",
       "stream": "stdout",
       "text": [
        " 994 TQQQ 12\n",
        "2999"
       ]
      },
      {
       "output_type": "stream",
       "stream": "stdout",
       "text": [
        " 995 TQQQ 12\n",
        "3000"
       ]
      },
      {
       "output_type": "stream",
       "stream": "stdout",
       "text": [
        " 996 TQQQ 12\n",
        "3001"
       ]
      },
      {
       "output_type": "stream",
       "stream": "stdout",
       "text": [
        " 997 TQQQ 12\n",
        "3002"
       ]
      },
      {
       "output_type": "stream",
       "stream": "stdout",
       "text": [
        " 998 TQQQ 12\n",
        "3003"
       ]
      },
      {
       "output_type": "stream",
       "stream": "stdout",
       "text": [
        " 999 TQQQ 12\n",
        "3004"
       ]
      },
      {
       "output_type": "stream",
       "stream": "stdout",
       "text": [
        " 1000 TQQQ 12\n",
        "3005"
       ]
      },
      {
       "output_type": "stream",
       "stream": "stdout",
       "text": [
        " 1001 TQQQ 12\n",
        "3006"
       ]
      },
      {
       "output_type": "stream",
       "stream": "stdout",
       "text": [
        " 1002 TQQQ 12\n",
        "3007"
       ]
      },
      {
       "output_type": "stream",
       "stream": "stdout",
       "text": [
        " 1003 TQQQ 12\n",
        "3008"
       ]
      },
      {
       "output_type": "stream",
       "stream": "stdout",
       "text": [
        " 1004 TQQQ 12\n",
        "3009"
       ]
      },
      {
       "output_type": "stream",
       "stream": "stdout",
       "text": [
        " 1005 TQQQ 12\n",
        "3010"
       ]
      },
      {
       "output_type": "stream",
       "stream": "stdout",
       "text": [
        " 1006 TQQQ 12\n",
        "3011"
       ]
      },
      {
       "output_type": "stream",
       "stream": "stdout",
       "text": [
        " 1007 TQQQ 12\n",
        "3012"
       ]
      },
      {
       "output_type": "stream",
       "stream": "stdout",
       "text": [
        " 1008 TQQQ 12\n",
        "3013"
       ]
      },
      {
       "output_type": "stream",
       "stream": "stdout",
       "text": [
        " 1009 TQQQ 12\n",
        "3014"
       ]
      },
      {
       "output_type": "stream",
       "stream": "stdout",
       "text": [
        " 1010 TQQQ 12\n",
        "3015"
       ]
      },
      {
       "output_type": "stream",
       "stream": "stdout",
       "text": [
        " 1011 TQQQ 12\n",
        "3016"
       ]
      },
      {
       "output_type": "stream",
       "stream": "stdout",
       "text": [
        " 1012 TQQQ 12\n",
        "3017"
       ]
      },
      {
       "output_type": "stream",
       "stream": "stdout",
       "text": [
        " 1013 TQQQ 12\n",
        "3018"
       ]
      },
      {
       "output_type": "stream",
       "stream": "stdout",
       "text": [
        " 1014 TQQQ 12\n",
        "3019"
       ]
      },
      {
       "output_type": "stream",
       "stream": "stdout",
       "text": [
        " 1015 TQQQ 12\n",
        "3020"
       ]
      },
      {
       "output_type": "stream",
       "stream": "stdout",
       "text": [
        " 1016 TQQQ 12\n",
        "3021"
       ]
      },
      {
       "output_type": "stream",
       "stream": "stdout",
       "text": [
        " 1017 TQQQ 12\n",
        "3022"
       ]
      },
      {
       "output_type": "stream",
       "stream": "stdout",
       "text": [
        " 1018 TQQQ 12\n",
        "3023"
       ]
      },
      {
       "output_type": "stream",
       "stream": "stdout",
       "text": [
        " 1019 TQQQ 12\n",
        "3024"
       ]
      },
      {
       "output_type": "stream",
       "stream": "stdout",
       "text": [
        " 1020 TQQQ 12\n",
        "3025"
       ]
      },
      {
       "output_type": "stream",
       "stream": "stdout",
       "text": [
        " 1021 TQQQ 12\n",
        "3026"
       ]
      },
      {
       "output_type": "stream",
       "stream": "stdout",
       "text": [
        " 1022 TQQQ 12\n",
        "3027"
       ]
      },
      {
       "output_type": "stream",
       "stream": "stdout",
       "text": [
        " 1023 TQQQ 12\n",
        "3028"
       ]
      },
      {
       "output_type": "stream",
       "stream": "stdout",
       "text": [
        " 1024 TQQQ 12\n",
        "3029"
       ]
      },
      {
       "output_type": "stream",
       "stream": "stdout",
       "text": [
        " 1025 TQQQ 12\n",
        "3030"
       ]
      },
      {
       "output_type": "stream",
       "stream": "stdout",
       "text": [
        " 1026 TQQQ 12\n",
        "3031"
       ]
      },
      {
       "output_type": "stream",
       "stream": "stdout",
       "text": [
        " 1027 TQQQ 12\n",
        "3032"
       ]
      },
      {
       "output_type": "stream",
       "stream": "stdout",
       "text": [
        " 1028 TQQQ 12\n",
        "3033"
       ]
      },
      {
       "output_type": "stream",
       "stream": "stdout",
       "text": [
        " 1029 TQQQ 12\n",
        "3034"
       ]
      },
      {
       "output_type": "stream",
       "stream": "stdout",
       "text": [
        " 1030 TQQQ 12\n",
        "3035"
       ]
      },
      {
       "output_type": "stream",
       "stream": "stdout",
       "text": [
        " 1031 TQQQ 12\n",
        "3036"
       ]
      },
      {
       "output_type": "stream",
       "stream": "stdout",
       "text": [
        " 1032 TQQQ 12\n",
        "3037"
       ]
      },
      {
       "output_type": "stream",
       "stream": "stdout",
       "text": [
        " 1033 TQQQ 01\n",
        "3038"
       ]
      },
      {
       "output_type": "stream",
       "stream": "stdout",
       "text": [
        " 1034 TQQQ 01\n",
        "3039"
       ]
      },
      {
       "output_type": "stream",
       "stream": "stdout",
       "text": [
        " 1035 TQQQ 01\n",
        "3040"
       ]
      },
      {
       "output_type": "stream",
       "stream": "stdout",
       "text": [
        " 1036 TQQQ 01\n",
        "3041"
       ]
      },
      {
       "output_type": "stream",
       "stream": "stdout",
       "text": [
        " 1037 TQQQ 01\n",
        "3042"
       ]
      },
      {
       "output_type": "stream",
       "stream": "stdout",
       "text": [
        " 1038 TQQQ 01\n",
        "3043"
       ]
      },
      {
       "output_type": "stream",
       "stream": "stdout",
       "text": [
        " 1039 TQQQ 01\n",
        "3044"
       ]
      },
      {
       "output_type": "stream",
       "stream": "stdout",
       "text": [
        " 1040 TQQQ 01\n",
        "3045"
       ]
      },
      {
       "output_type": "stream",
       "stream": "stdout",
       "text": [
        " 1041 TQQQ 01\n",
        "3046"
       ]
      },
      {
       "output_type": "stream",
       "stream": "stdout",
       "text": [
        " 1042 TQQQ 01\n",
        "3047"
       ]
      },
      {
       "output_type": "stream",
       "stream": "stdout",
       "text": [
        " 1043 TQQQ 01\n",
        "3048"
       ]
      },
      {
       "output_type": "stream",
       "stream": "stdout",
       "text": [
        " 1044 TQQQ 01\n",
        "3049"
       ]
      },
      {
       "output_type": "stream",
       "stream": "stdout",
       "text": [
        " 1045 TQQQ 01\n",
        "3050"
       ]
      },
      {
       "output_type": "stream",
       "stream": "stdout",
       "text": [
        " 1046 TQQQ 01\n",
        "3051"
       ]
      },
      {
       "output_type": "stream",
       "stream": "stdout",
       "text": [
        " 1047 TQQQ 01\n",
        "3052"
       ]
      },
      {
       "output_type": "stream",
       "stream": "stdout",
       "text": [
        " 1048 TQQQ 01\n",
        "3053"
       ]
      },
      {
       "output_type": "stream",
       "stream": "stdout",
       "text": [
        " 1049 TQQQ 01\n",
        "3054"
       ]
      },
      {
       "output_type": "stream",
       "stream": "stdout",
       "text": [
        " 1050 TQQQ 01\n",
        "3055"
       ]
      },
      {
       "output_type": "stream",
       "stream": "stdout",
       "text": [
        " 1051 TQQQ 01\n",
        "3056"
       ]
      },
      {
       "output_type": "stream",
       "stream": "stdout",
       "text": [
        " 1052 TQQQ 01\n",
        "3057"
       ]
      },
      {
       "output_type": "stream",
       "stream": "stdout",
       "text": [
        " 1053 TQQQ 01\n",
        "3058"
       ]
      },
      {
       "output_type": "stream",
       "stream": "stdout",
       "text": [
        " 1054 TQQQ 01\n",
        "3059"
       ]
      },
      {
       "output_type": "stream",
       "stream": "stdout",
       "text": [
        " 1055 TQQQ 01\n",
        "3060"
       ]
      },
      {
       "output_type": "stream",
       "stream": "stdout",
       "text": [
        " 1056 TQQQ 01\n",
        "3061"
       ]
      },
      {
       "output_type": "stream",
       "stream": "stdout",
       "text": [
        " 1057 TQQQ 01\n",
        "3062"
       ]
      },
      {
       "output_type": "stream",
       "stream": "stdout",
       "text": [
        " 1058 TQQQ 01\n",
        "3063"
       ]
      },
      {
       "output_type": "stream",
       "stream": "stdout",
       "text": [
        " 1059 TQQQ 01\n",
        "3064"
       ]
      },
      {
       "output_type": "stream",
       "stream": "stdout",
       "text": [
        " 1060 TQQQ 01\n",
        "3065"
       ]
      },
      {
       "output_type": "stream",
       "stream": "stdout",
       "text": [
        " 1061 TQQQ 01\n",
        "3066"
       ]
      },
      {
       "output_type": "stream",
       "stream": "stdout",
       "text": [
        " 1062 TQQQ 01\n",
        "3067"
       ]
      },
      {
       "output_type": "stream",
       "stream": "stdout",
       "text": [
        " 1063 TQQQ 01\n",
        "3068"
       ]
      },
      {
       "output_type": "stream",
       "stream": "stdout",
       "text": [
        " 1064 TQQQ 01\n",
        "3069"
       ]
      },
      {
       "output_type": "stream",
       "stream": "stdout",
       "text": [
        " 1065 TQQQ 01\n",
        "3070"
       ]
      },
      {
       "output_type": "stream",
       "stream": "stdout",
       "text": [
        " 1066 TQQQ 01\n",
        "3071"
       ]
      },
      {
       "output_type": "stream",
       "stream": "stdout",
       "text": [
        " 1067 TQQQ 01\n",
        "3072"
       ]
      },
      {
       "output_type": "stream",
       "stream": "stdout",
       "text": [
        " 1068 TQQQ 01\n",
        "3073"
       ]
      },
      {
       "output_type": "stream",
       "stream": "stdout",
       "text": [
        " 1069 TQQQ 01\n",
        "3074"
       ]
      },
      {
       "output_type": "stream",
       "stream": "stdout",
       "text": [
        " 1070 TQQQ 01\n",
        "3075"
       ]
      },
      {
       "output_type": "stream",
       "stream": "stdout",
       "text": [
        " 1071 TQQQ 01\n",
        "3076"
       ]
      },
      {
       "output_type": "stream",
       "stream": "stdout",
       "text": [
        " 1072 TQQQ 01\n",
        "3077"
       ]
      },
      {
       "output_type": "stream",
       "stream": "stdout",
       "text": [
        " 1073 TQQQ 01\n",
        "3078"
       ]
      },
      {
       "output_type": "stream",
       "stream": "stdout",
       "text": [
        " 1074 TQQQ 01\n",
        "3079"
       ]
      },
      {
       "output_type": "stream",
       "stream": "stdout",
       "text": [
        " 1075 TQQQ 01\n",
        "3080"
       ]
      },
      {
       "output_type": "stream",
       "stream": "stdout",
       "text": [
        " 1076 TQQQ 01\n",
        "3081"
       ]
      },
      {
       "output_type": "stream",
       "stream": "stdout",
       "text": [
        " 1077 TQQQ 01\n",
        "3082"
       ]
      },
      {
       "output_type": "stream",
       "stream": "stdout",
       "text": [
        " 1078 TQQQ 01\n",
        "3083"
       ]
      },
      {
       "output_type": "stream",
       "stream": "stdout",
       "text": [
        " 1079 TQQQ 01\n",
        "3084"
       ]
      },
      {
       "output_type": "stream",
       "stream": "stdout",
       "text": [
        " 1080 TQQQ 01\n",
        "3085"
       ]
      },
      {
       "output_type": "stream",
       "stream": "stdout",
       "text": [
        " 1081 TQQQ 01\n",
        "3086"
       ]
      },
      {
       "output_type": "stream",
       "stream": "stdout",
       "text": [
        " 1082 TQQQ 01\n",
        "3087"
       ]
      },
      {
       "output_type": "stream",
       "stream": "stdout",
       "text": [
        " 1083 TQQQ 01\n",
        "3088"
       ]
      },
      {
       "output_type": "stream",
       "stream": "stdout",
       "text": [
        " 1084 TQQQ 01\n",
        "3089"
       ]
      },
      {
       "output_type": "stream",
       "stream": "stdout",
       "text": [
        " 1085 TQQQ 01\n",
        "3090"
       ]
      },
      {
       "output_type": "stream",
       "stream": "stdout",
       "text": [
        " 1086 TQQQ 01\n",
        "3091"
       ]
      },
      {
       "output_type": "stream",
       "stream": "stdout",
       "text": [
        " 1087 TQQQ 01\n",
        "3092"
       ]
      },
      {
       "output_type": "stream",
       "stream": "stdout",
       "text": [
        " 1088 TQQQ 01\n",
        "3093"
       ]
      },
      {
       "output_type": "stream",
       "stream": "stdout",
       "text": [
        " 1089 TQQQ 01\n",
        "3094"
       ]
      },
      {
       "output_type": "stream",
       "stream": "stdout",
       "text": [
        " 1090 TQQQ 01\n",
        "3095"
       ]
      },
      {
       "output_type": "stream",
       "stream": "stdout",
       "text": [
        " 1091 TQQQ 01\n",
        "3096"
       ]
      },
      {
       "output_type": "stream",
       "stream": "stdout",
       "text": [
        " 1092 TQQQ 01\n",
        "3097"
       ]
      },
      {
       "output_type": "stream",
       "stream": "stdout",
       "text": [
        " 1093 TQQQ 01\n",
        "3098"
       ]
      },
      {
       "output_type": "stream",
       "stream": "stdout",
       "text": [
        " 1094 TQQQ 01\n",
        "3099"
       ]
      },
      {
       "output_type": "stream",
       "stream": "stdout",
       "text": [
        " 1095 TQQQ 01\n",
        "3100"
       ]
      },
      {
       "output_type": "stream",
       "stream": "stdout",
       "text": [
        " 1096 TQQQ 01\n",
        "3101"
       ]
      },
      {
       "output_type": "stream",
       "stream": "stdout",
       "text": [
        " 1097 TQQQ 01\n",
        "3102"
       ]
      },
      {
       "output_type": "stream",
       "stream": "stdout",
       "text": [
        " 1098 TQQQ 01\n",
        "3103"
       ]
      },
      {
       "output_type": "stream",
       "stream": "stdout",
       "text": [
        " 1099 TQQQ 01\n",
        "3104"
       ]
      },
      {
       "output_type": "stream",
       "stream": "stdout",
       "text": [
        " 1100 TQQQ 01\n",
        "3105"
       ]
      },
      {
       "output_type": "stream",
       "stream": "stdout",
       "text": [
        " 1101 TQQQ 01\n",
        "3106"
       ]
      },
      {
       "output_type": "stream",
       "stream": "stdout",
       "text": [
        " 1102 TQQQ 01\n",
        "3107"
       ]
      },
      {
       "output_type": "stream",
       "stream": "stdout",
       "text": [
        " 1103 TQQQ 01\n",
        "3108"
       ]
      },
      {
       "output_type": "stream",
       "stream": "stdout",
       "text": [
        " 1104 TQQQ 01\n",
        "3109"
       ]
      },
      {
       "output_type": "stream",
       "stream": "stdout",
       "text": [
        " 1105 TQQQ 01\n",
        "3110"
       ]
      },
      {
       "output_type": "stream",
       "stream": "stdout",
       "text": [
        " 1106 TQQQ 01\n",
        "3111"
       ]
      },
      {
       "output_type": "stream",
       "stream": "stdout",
       "text": [
        " 1107 TQQQ 01\n",
        "3112"
       ]
      },
      {
       "output_type": "stream",
       "stream": "stdout",
       "text": [
        " 1108 TQQQ 01\n",
        "3113"
       ]
      },
      {
       "output_type": "stream",
       "stream": "stdout",
       "text": [
        " 1109 TQQQ 01\n",
        "3114"
       ]
      },
      {
       "output_type": "stream",
       "stream": "stdout",
       "text": [
        " 1110 TQQQ 01\n",
        "3115"
       ]
      },
      {
       "output_type": "stream",
       "stream": "stdout",
       "text": [
        " 1111 TQQQ 01\n",
        "3116"
       ]
      },
      {
       "output_type": "stream",
       "stream": "stdout",
       "text": [
        " 1112 TQQQ 01\n",
        "3117"
       ]
      },
      {
       "output_type": "stream",
       "stream": "stdout",
       "text": [
        " 1113 TQQQ 01\n",
        "3118"
       ]
      },
      {
       "output_type": "stream",
       "stream": "stdout",
       "text": [
        " 1114 TQQQ 01\n",
        "3119"
       ]
      },
      {
       "output_type": "stream",
       "stream": "stdout",
       "text": [
        " 1115 TQQQ 01\n",
        "3120"
       ]
      },
      {
       "output_type": "stream",
       "stream": "stdout",
       "text": [
        " 1116 TQQQ 01\n",
        "3121"
       ]
      },
      {
       "output_type": "stream",
       "stream": "stdout",
       "text": [
        " 1117 TQQQ 01\n",
        "3122"
       ]
      },
      {
       "output_type": "stream",
       "stream": "stdout",
       "text": [
        " 1118 TQQQ 01\n",
        "3123"
       ]
      },
      {
       "output_type": "stream",
       "stream": "stdout",
       "text": [
        " 1119 TQQQ 01\n",
        "3124"
       ]
      },
      {
       "output_type": "stream",
       "stream": "stdout",
       "text": [
        " 1120 TQQQ 01\n",
        "3125"
       ]
      },
      {
       "output_type": "stream",
       "stream": "stdout",
       "text": [
        " 1121 TQQQ 01\n",
        "3126"
       ]
      },
      {
       "output_type": "stream",
       "stream": "stdout",
       "text": [
        " 1122 TQQQ 01\n",
        "3127"
       ]
      },
      {
       "output_type": "stream",
       "stream": "stdout",
       "text": [
        " 1123 TQQQ 01\n",
        "3128"
       ]
      },
      {
       "output_type": "stream",
       "stream": "stdout",
       "text": [
        " 1124 TQQQ 01\n",
        "3129"
       ]
      },
      {
       "output_type": "stream",
       "stream": "stdout",
       "text": [
        " 1125 TQQQ 01\n",
        "3130"
       ]
      },
      {
       "output_type": "stream",
       "stream": "stdout",
       "text": [
        " 1126 TQQQ 01\n",
        "3131"
       ]
      },
      {
       "output_type": "stream",
       "stream": "stdout",
       "text": [
        " 1127 TQQQ 01\n",
        "3132"
       ]
      },
      {
       "output_type": "stream",
       "stream": "stdout",
       "text": [
        " 1128 TQQQ 01\n",
        "3133"
       ]
      },
      {
       "output_type": "stream",
       "stream": "stdout",
       "text": [
        " 1129 TQQQ 01\n",
        "3134"
       ]
      },
      {
       "output_type": "stream",
       "stream": "stdout",
       "text": [
        " 1130 TQQQ 01\n",
        "3135"
       ]
      },
      {
       "output_type": "stream",
       "stream": "stdout",
       "text": [
        " 1131 TQQQ 01\n",
        "3136"
       ]
      },
      {
       "output_type": "stream",
       "stream": "stdout",
       "text": [
        " 1132 TQQQ 01\n",
        "3137"
       ]
      },
      {
       "output_type": "stream",
       "stream": "stdout",
       "text": [
        " 1133 TQQQ 01\n",
        "3138"
       ]
      },
      {
       "output_type": "stream",
       "stream": "stdout",
       "text": [
        " 1134 TQQQ 01\n",
        "3139"
       ]
      },
      {
       "output_type": "stream",
       "stream": "stdout",
       "text": [
        " 1135 TQQQ 01\n",
        "3140"
       ]
      },
      {
       "output_type": "stream",
       "stream": "stdout",
       "text": [
        " 1136 TQQQ 01\n",
        "3141"
       ]
      },
      {
       "output_type": "stream",
       "stream": "stdout",
       "text": [
        " 1137 TQQQ 01\n",
        "3142"
       ]
      },
      {
       "output_type": "stream",
       "stream": "stdout",
       "text": [
        " 1138 TQQQ 01\n",
        "3143"
       ]
      },
      {
       "output_type": "stream",
       "stream": "stdout",
       "text": [
        " 1139 TQQQ 01\n",
        "3144"
       ]
      },
      {
       "output_type": "stream",
       "stream": "stdout",
       "text": [
        " 1140 TQQQ 01\n",
        "3145"
       ]
      },
      {
       "output_type": "stream",
       "stream": "stdout",
       "text": [
        " 1141 TQQQ 01\n",
        "3146"
       ]
      },
      {
       "output_type": "stream",
       "stream": "stdout",
       "text": [
        " 1142 TQQQ 01\n",
        "3147"
       ]
      },
      {
       "output_type": "stream",
       "stream": "stdout",
       "text": [
        " 1143 TQQQ 01\n",
        "3148"
       ]
      },
      {
       "output_type": "stream",
       "stream": "stdout",
       "text": [
        " 1144 TQQQ 01\n",
        "3149"
       ]
      },
      {
       "output_type": "stream",
       "stream": "stdout",
       "text": [
        " 1145 TQQQ 01\n",
        "3150"
       ]
      },
      {
       "output_type": "stream",
       "stream": "stdout",
       "text": [
        " 1146 TQQQ 01\n",
        "3151"
       ]
      },
      {
       "output_type": "stream",
       "stream": "stdout",
       "text": [
        " 1147 TQQQ 01\n",
        "3152"
       ]
      },
      {
       "output_type": "stream",
       "stream": "stdout",
       "text": [
        " 1148 TQQQ 01\n",
        "3153"
       ]
      },
      {
       "output_type": "stream",
       "stream": "stdout",
       "text": [
        " 1149 TQQQ 01\n",
        "3154"
       ]
      },
      {
       "output_type": "stream",
       "stream": "stdout",
       "text": [
        " 1150 TQQQ 01\n",
        "3155"
       ]
      },
      {
       "output_type": "stream",
       "stream": "stdout",
       "text": [
        " 1151 TQQQ 01\n",
        "3156"
       ]
      },
      {
       "output_type": "stream",
       "stream": "stdout",
       "text": [
        " 1152 TQQQ 01\n",
        "3157"
       ]
      },
      {
       "output_type": "stream",
       "stream": "stdout",
       "text": [
        " 1153 TQQQ 01\n",
        "3158"
       ]
      },
      {
       "output_type": "stream",
       "stream": "stdout",
       "text": [
        " 1154 TQQQ 01\n",
        "3159"
       ]
      },
      {
       "output_type": "stream",
       "stream": "stdout",
       "text": [
        " 1155 TQQQ 01\n",
        "3160"
       ]
      },
      {
       "output_type": "stream",
       "stream": "stdout",
       "text": [
        " 1156 TQQQ 01\n",
        "3161"
       ]
      },
      {
       "output_type": "stream",
       "stream": "stdout",
       "text": [
        " 1157 TQQQ 01\n",
        "3162"
       ]
      },
      {
       "output_type": "stream",
       "stream": "stdout",
       "text": [
        " 1158 TQQQ 01\n",
        "3163"
       ]
      },
      {
       "output_type": "stream",
       "stream": "stdout",
       "text": [
        " 1159 TQQQ 01\n",
        "3164"
       ]
      },
      {
       "output_type": "stream",
       "stream": "stdout",
       "text": [
        " 1160 TQQQ 01\n",
        "3165"
       ]
      },
      {
       "output_type": "stream",
       "stream": "stdout",
       "text": [
        " 1161 TQQQ 01\n",
        "3166"
       ]
      },
      {
       "output_type": "stream",
       "stream": "stdout",
       "text": [
        " 1162 TQQQ 01\n",
        "3167"
       ]
      },
      {
       "output_type": "stream",
       "stream": "stdout",
       "text": [
        " 1163 TQQQ 01\n",
        "3168"
       ]
      },
      {
       "output_type": "stream",
       "stream": "stdout",
       "text": [
        " 1164 TQQQ 01\n",
        "3169"
       ]
      },
      {
       "output_type": "stream",
       "stream": "stdout",
       "text": [
        " 1165 TQQQ 01\n",
        "3170"
       ]
      },
      {
       "output_type": "stream",
       "stream": "stdout",
       "text": [
        " 1166 TQQQ 01\n",
        "3171"
       ]
      },
      {
       "output_type": "stream",
       "stream": "stdout",
       "text": [
        " 1167 TQQQ 01\n",
        "3172"
       ]
      },
      {
       "output_type": "stream",
       "stream": "stdout",
       "text": [
        " 1168 TQQQ 01\n",
        "3173"
       ]
      },
      {
       "output_type": "stream",
       "stream": "stdout",
       "text": [
        " 1169 TQQQ 01\n",
        "3174"
       ]
      },
      {
       "output_type": "stream",
       "stream": "stdout",
       "text": [
        " 1170 TQQQ 01\n",
        "3175"
       ]
      },
      {
       "output_type": "stream",
       "stream": "stdout",
       "text": [
        " 1171 TQQQ 01\n",
        "3176"
       ]
      },
      {
       "output_type": "stream",
       "stream": "stdout",
       "text": [
        " 1172 TQQQ 01\n",
        "3177"
       ]
      },
      {
       "output_type": "stream",
       "stream": "stdout",
       "text": [
        " 1173 TQQQ 01\n",
        "3178"
       ]
      },
      {
       "output_type": "stream",
       "stream": "stdout",
       "text": [
        " 1174 TQQQ 01\n",
        "3179"
       ]
      },
      {
       "output_type": "stream",
       "stream": "stdout",
       "text": [
        " 1175 TQQQ 01\n",
        "3180"
       ]
      },
      {
       "output_type": "stream",
       "stream": "stdout",
       "text": [
        " 1176 TQQQ 01\n",
        "3181"
       ]
      },
      {
       "output_type": "stream",
       "stream": "stdout",
       "text": [
        " 1177 TQQQ 01\n",
        "3182"
       ]
      },
      {
       "output_type": "stream",
       "stream": "stdout",
       "text": [
        " 1178 TQQQ 01\n",
        "3183"
       ]
      },
      {
       "output_type": "stream",
       "stream": "stdout",
       "text": [
        " 1179 TQQQ 01\n",
        "3184"
       ]
      },
      {
       "output_type": "stream",
       "stream": "stdout",
       "text": [
        " 1180 TQQQ 01\n",
        "3185"
       ]
      },
      {
       "output_type": "stream",
       "stream": "stdout",
       "text": [
        " 1181 TQQQ 01\n",
        "3186"
       ]
      },
      {
       "output_type": "stream",
       "stream": "stdout",
       "text": [
        " 1182 TQQQ 01\n",
        "3187"
       ]
      },
      {
       "output_type": "stream",
       "stream": "stdout",
       "text": [
        " 1183 TQQQ 01\n",
        "3188"
       ]
      },
      {
       "output_type": "stream",
       "stream": "stdout",
       "text": [
        " 1184 TQQQ 01\n",
        "3189"
       ]
      },
      {
       "output_type": "stream",
       "stream": "stdout",
       "text": [
        " 1185 TQQQ 01\n",
        "3190"
       ]
      },
      {
       "output_type": "stream",
       "stream": "stdout",
       "text": [
        " 1186 TQQQ 01\n",
        "3191"
       ]
      },
      {
       "output_type": "stream",
       "stream": "stdout",
       "text": [
        " 1187 TQQQ 01\n",
        "3192"
       ]
      },
      {
       "output_type": "stream",
       "stream": "stdout",
       "text": [
        " 1188 TQQQ 01\n",
        "3193"
       ]
      },
      {
       "output_type": "stream",
       "stream": "stdout",
       "text": [
        " 1189 TQQQ 01\n",
        "3194"
       ]
      },
      {
       "output_type": "stream",
       "stream": "stdout",
       "text": [
        " 1190 TQQQ 01\n",
        "3195"
       ]
      },
      {
       "output_type": "stream",
       "stream": "stdout",
       "text": [
        " 1191 TQQQ 01\n",
        "3196"
       ]
      },
      {
       "output_type": "stream",
       "stream": "stdout",
       "text": [
        " 1192 TQQQ 01\n",
        "3197"
       ]
      },
      {
       "output_type": "stream",
       "stream": "stdout",
       "text": [
        " 1193 TQQQ 01\n",
        "3198"
       ]
      },
      {
       "output_type": "stream",
       "stream": "stdout",
       "text": [
        " 1194 TQQQ 01\n",
        "3199"
       ]
      },
      {
       "output_type": "stream",
       "stream": "stdout",
       "text": [
        " 1195 TQQQ 01\n",
        "3200"
       ]
      },
      {
       "output_type": "stream",
       "stream": "stdout",
       "text": [
        " 1196 TQQQ 01\n",
        "3201"
       ]
      },
      {
       "output_type": "stream",
       "stream": "stdout",
       "text": [
        " 1197 TQQQ 01\n",
        "3202"
       ]
      },
      {
       "output_type": "stream",
       "stream": "stdout",
       "text": [
        " 1198 TQQQ 01\n",
        "3203"
       ]
      },
      {
       "output_type": "stream",
       "stream": "stdout",
       "text": [
        " 1199 TQQQ 01\n",
        "3204"
       ]
      },
      {
       "output_type": "stream",
       "stream": "stdout",
       "text": [
        " 1200 TQQQ 01\n",
        "3205"
       ]
      },
      {
       "output_type": "stream",
       "stream": "stdout",
       "text": [
        " 1201 TQQQ 01\n",
        "3206"
       ]
      },
      {
       "output_type": "stream",
       "stream": "stdout",
       "text": [
        " 1202 TQQQ 01\n",
        "3207"
       ]
      },
      {
       "output_type": "stream",
       "stream": "stdout",
       "text": [
        " 1203 TQQQ 01\n",
        "3208"
       ]
      },
      {
       "output_type": "stream",
       "stream": "stdout",
       "text": [
        " 1204 TQQQ 01\n",
        "3209"
       ]
      },
      {
       "output_type": "stream",
       "stream": "stdout",
       "text": [
        " 1205 TQQQ 01\n",
        "3210"
       ]
      },
      {
       "output_type": "stream",
       "stream": "stdout",
       "text": [
        " 1206 TQQQ 01\n",
        "3211"
       ]
      },
      {
       "output_type": "stream",
       "stream": "stdout",
       "text": [
        " 1207 TQQQ 01\n",
        "3212"
       ]
      },
      {
       "output_type": "stream",
       "stream": "stdout",
       "text": [
        " 1208 TQQQ 01\n",
        "3213"
       ]
      },
      {
       "output_type": "stream",
       "stream": "stdout",
       "text": [
        " 1209 TQQQ 01\n",
        "3214"
       ]
      },
      {
       "output_type": "stream",
       "stream": "stdout",
       "text": [
        " 1210 TQQQ 01\n",
        "3215"
       ]
      },
      {
       "output_type": "stream",
       "stream": "stdout",
       "text": [
        " 1211 TQQQ 01\n",
        "3216"
       ]
      },
      {
       "output_type": "stream",
       "stream": "stdout",
       "text": [
        " 1212 TQQQ 01\n",
        "3217"
       ]
      },
      {
       "output_type": "stream",
       "stream": "stdout",
       "text": [
        " 1213 TQQQ 01\n",
        "3218"
       ]
      },
      {
       "output_type": "stream",
       "stream": "stdout",
       "text": [
        " 1214 TQQQ 01\n",
        "3219"
       ]
      },
      {
       "output_type": "stream",
       "stream": "stdout",
       "text": [
        " 1215 TQQQ 01\n",
        "3220"
       ]
      },
      {
       "output_type": "stream",
       "stream": "stdout",
       "text": [
        " 1216 TQQQ 01\n",
        "3221"
       ]
      },
      {
       "output_type": "stream",
       "stream": "stdout",
       "text": [
        " 1217 TQQQ 01\n",
        "3222"
       ]
      },
      {
       "output_type": "stream",
       "stream": "stdout",
       "text": [
        " 1218 TQQQ 01\n",
        "3223"
       ]
      },
      {
       "output_type": "stream",
       "stream": "stdout",
       "text": [
        " 1219 TQQQ 01\n",
        "3224"
       ]
      },
      {
       "output_type": "stream",
       "stream": "stdout",
       "text": [
        " 1220 TQQQ 01\n",
        "3225"
       ]
      },
      {
       "output_type": "stream",
       "stream": "stdout",
       "text": [
        " 1221 TQQQ 01\n",
        "3226"
       ]
      },
      {
       "output_type": "stream",
       "stream": "stdout",
       "text": [
        " 1222 TQQQ 01\n",
        "3227"
       ]
      },
      {
       "output_type": "stream",
       "stream": "stdout",
       "text": [
        " 1223 TQQQ 01\n",
        "3228"
       ]
      },
      {
       "output_type": "stream",
       "stream": "stdout",
       "text": [
        " 1224 TQQQ 01\n",
        "3229"
       ]
      },
      {
       "output_type": "stream",
       "stream": "stdout",
       "text": [
        " 1225 TQQQ 01\n",
        "3230"
       ]
      },
      {
       "output_type": "stream",
       "stream": "stdout",
       "text": [
        " 1226 TQQQ 01\n",
        "3231"
       ]
      },
      {
       "output_type": "stream",
       "stream": "stdout",
       "text": [
        " 1227 TQQQ 01\n",
        "3232"
       ]
      },
      {
       "output_type": "stream",
       "stream": "stdout",
       "text": [
        " 1228 TQQQ 01\n",
        "3233"
       ]
      },
      {
       "output_type": "stream",
       "stream": "stdout",
       "text": [
        " 1229 TQQQ 01\n",
        "3234"
       ]
      },
      {
       "output_type": "stream",
       "stream": "stdout",
       "text": [
        " 1230 TQQQ 01\n",
        "3235"
       ]
      },
      {
       "output_type": "stream",
       "stream": "stdout",
       "text": [
        " 1231 TQQQ 01\n",
        "3236"
       ]
      },
      {
       "output_type": "stream",
       "stream": "stdout",
       "text": [
        " 1232 TQQQ 01\n",
        "3237"
       ]
      },
      {
       "output_type": "stream",
       "stream": "stdout",
       "text": [
        " 1233 TQQQ 01\n",
        "3238"
       ]
      },
      {
       "output_type": "stream",
       "stream": "stdout",
       "text": [
        " 1234 TQQQ 01\n",
        "3239"
       ]
      },
      {
       "output_type": "stream",
       "stream": "stdout",
       "text": [
        " 1235 TQQQ 01\n",
        "3240"
       ]
      },
      {
       "output_type": "stream",
       "stream": "stdout",
       "text": [
        " 1236 TQQQ 01\n",
        "3241"
       ]
      },
      {
       "output_type": "stream",
       "stream": "stdout",
       "text": [
        " 1237 TQQQ 01\n",
        "3242"
       ]
      },
      {
       "output_type": "stream",
       "stream": "stdout",
       "text": [
        " 1238 TQQQ 01\n",
        "3243"
       ]
      },
      {
       "output_type": "stream",
       "stream": "stdout",
       "text": [
        " 1239 TQQQ 01\n",
        "3244"
       ]
      },
      {
       "output_type": "stream",
       "stream": "stdout",
       "text": [
        " 1240 TQQQ 01\n",
        "3245"
       ]
      },
      {
       "output_type": "stream",
       "stream": "stdout",
       "text": [
        " 1241 TQQQ 01\n",
        "3246"
       ]
      },
      {
       "output_type": "stream",
       "stream": "stdout",
       "text": [
        " 1242 TQQQ 01\n",
        "3247"
       ]
      },
      {
       "output_type": "stream",
       "stream": "stdout",
       "text": [
        " 1243 TQQQ 01\n",
        "3248"
       ]
      },
      {
       "output_type": "stream",
       "stream": "stdout",
       "text": [
        " 1244 TQQQ 01\n",
        "3249"
       ]
      },
      {
       "output_type": "stream",
       "stream": "stdout",
       "text": [
        " 1245 TQQQ 01\n",
        "3250"
       ]
      },
      {
       "output_type": "stream",
       "stream": "stdout",
       "text": [
        " 1246 TQQQ 01\n",
        "3251"
       ]
      },
      {
       "output_type": "stream",
       "stream": "stdout",
       "text": [
        " 1247 TQQQ 01\n",
        "3252"
       ]
      },
      {
       "output_type": "stream",
       "stream": "stdout",
       "text": [
        " 1248 TQQQ 01\n",
        "3253"
       ]
      },
      {
       "output_type": "stream",
       "stream": "stdout",
       "text": [
        " 1249 TQQQ 01\n",
        "3254"
       ]
      },
      {
       "output_type": "stream",
       "stream": "stdout",
       "text": [
        " 1250 TQQQ 01\n",
        "3255"
       ]
      },
      {
       "output_type": "stream",
       "stream": "stdout",
       "text": [
        " 1251 TQQQ 01\n",
        "3256"
       ]
      },
      {
       "output_type": "stream",
       "stream": "stdout",
       "text": [
        " 1252 TQQQ 01\n",
        "3257"
       ]
      },
      {
       "output_type": "stream",
       "stream": "stdout",
       "text": [
        " 1253 TQQQ 01\n",
        "3258"
       ]
      },
      {
       "output_type": "stream",
       "stream": "stdout",
       "text": [
        " 1254 TQQQ 01\n",
        "3259"
       ]
      },
      {
       "output_type": "stream",
       "stream": "stdout",
       "text": [
        " 1255 TQQQ 01\n",
        "3260"
       ]
      },
      {
       "output_type": "stream",
       "stream": "stdout",
       "text": [
        " 1256 TQQQ 01\n",
        "3261"
       ]
      },
      {
       "output_type": "stream",
       "stream": "stdout",
       "text": [
        " 1257 TQQQ 01\n",
        "3262"
       ]
      },
      {
       "output_type": "stream",
       "stream": "stdout",
       "text": [
        " 1258 TQQQ 01\n",
        "3263"
       ]
      },
      {
       "output_type": "stream",
       "stream": "stdout",
       "text": [
        " 1259 TQQQ 01\n",
        "3264"
       ]
      },
      {
       "output_type": "stream",
       "stream": "stdout",
       "text": [
        " 1260 TQQQ 01\n",
        "3265"
       ]
      },
      {
       "output_type": "stream",
       "stream": "stdout",
       "text": [
        " 1261 TQQQ 01\n",
        "3266"
       ]
      },
      {
       "output_type": "stream",
       "stream": "stdout",
       "text": [
        " 1262 TQQQ 01\n",
        "3267"
       ]
      },
      {
       "output_type": "stream",
       "stream": "stdout",
       "text": [
        " 1263 TQQQ 01\n",
        "3268"
       ]
      },
      {
       "output_type": "stream",
       "stream": "stdout",
       "text": [
        " 1264 TQQQ 01\n",
        "3269"
       ]
      },
      {
       "output_type": "stream",
       "stream": "stdout",
       "text": [
        " 1265 TQQQ 01\n",
        "3270"
       ]
      },
      {
       "output_type": "stream",
       "stream": "stdout",
       "text": [
        " 1266 TQQQ 01\n",
        "3271"
       ]
      },
      {
       "output_type": "stream",
       "stream": "stdout",
       "text": [
        " 1267 TQQQ 01\n",
        "3272"
       ]
      },
      {
       "output_type": "stream",
       "stream": "stdout",
       "text": [
        " 1268 TQQQ 01\n",
        "3273"
       ]
      },
      {
       "output_type": "stream",
       "stream": "stdout",
       "text": [
        " 1269 TQQQ 01\n",
        "3274"
       ]
      },
      {
       "output_type": "stream",
       "stream": "stdout",
       "text": [
        " 1270 TQQQ 01\n",
        "3275"
       ]
      },
      {
       "output_type": "stream",
       "stream": "stdout",
       "text": [
        " 1271 TQQQ 01\n",
        "3276"
       ]
      },
      {
       "output_type": "stream",
       "stream": "stdout",
       "text": [
        " 1272 TQQQ 01\n",
        "3277"
       ]
      },
      {
       "output_type": "stream",
       "stream": "stdout",
       "text": [
        " 1273 TQQQ 01\n",
        "3278"
       ]
      },
      {
       "output_type": "stream",
       "stream": "stdout",
       "text": [
        " 1274 TQQQ 01\n",
        "3279"
       ]
      },
      {
       "output_type": "stream",
       "stream": "stdout",
       "text": [
        " 1275 TQQQ 01\n",
        "3280"
       ]
      },
      {
       "output_type": "stream",
       "stream": "stdout",
       "text": [
        " 1276 TQQQ 01\n",
        "3281"
       ]
      },
      {
       "output_type": "stream",
       "stream": "stdout",
       "text": [
        " 1277 TQQQ 01\n",
        "3282"
       ]
      },
      {
       "output_type": "stream",
       "stream": "stdout",
       "text": [
        " 1278 TQQQ 01\n",
        "3283"
       ]
      },
      {
       "output_type": "stream",
       "stream": "stdout",
       "text": [
        " 1279 TQQQ 01\n",
        "3284"
       ]
      },
      {
       "output_type": "stream",
       "stream": "stdout",
       "text": [
        " 1280 TQQQ 01\n",
        "3285"
       ]
      },
      {
       "output_type": "stream",
       "stream": "stdout",
       "text": [
        " 1281 TQQQ 01\n",
        "3286"
       ]
      },
      {
       "output_type": "stream",
       "stream": "stdout",
       "text": [
        " 1282 TQQQ 01\n",
        "3287"
       ]
      },
      {
       "output_type": "stream",
       "stream": "stdout",
       "text": [
        " 1283 TQQQ 01\n",
        "3288"
       ]
      },
      {
       "output_type": "stream",
       "stream": "stdout",
       "text": [
        " 1284 TQQQ 01\n",
        "3289"
       ]
      },
      {
       "output_type": "stream",
       "stream": "stdout",
       "text": [
        " 1285 TQQQ 01\n",
        "3290"
       ]
      },
      {
       "output_type": "stream",
       "stream": "stdout",
       "text": [
        " 1286 TQQQ 01\n",
        "3291"
       ]
      },
      {
       "output_type": "stream",
       "stream": "stdout",
       "text": [
        " 1287 TQQQ 01\n",
        "3292"
       ]
      },
      {
       "output_type": "stream",
       "stream": "stdout",
       "text": [
        " 1288 TQQQ 01\n",
        "3293"
       ]
      },
      {
       "output_type": "stream",
       "stream": "stdout",
       "text": [
        " 1289 TQQQ 01\n",
        "3294"
       ]
      },
      {
       "output_type": "stream",
       "stream": "stdout",
       "text": [
        " 1290 TQQQ 01\n",
        "3295"
       ]
      },
      {
       "output_type": "stream",
       "stream": "stdout",
       "text": [
        " 1291 TQQQ 01\n",
        "3296"
       ]
      },
      {
       "output_type": "stream",
       "stream": "stdout",
       "text": [
        " 1292 TQQQ 01\n",
        "3297"
       ]
      },
      {
       "output_type": "stream",
       "stream": "stdout",
       "text": [
        " 1293 TQQQ 01\n",
        "3298"
       ]
      },
      {
       "output_type": "stream",
       "stream": "stdout",
       "text": [
        " 1294 TQQQ 01\n",
        "3299"
       ]
      },
      {
       "output_type": "stream",
       "stream": "stdout",
       "text": [
        " 1295 TQQQ 01\n",
        "3300"
       ]
      },
      {
       "output_type": "stream",
       "stream": "stdout",
       "text": [
        " 1296 TQQQ 01\n",
        "3301"
       ]
      },
      {
       "output_type": "stream",
       "stream": "stdout",
       "text": [
        " 1297 TQQQ 01\n",
        "3302"
       ]
      },
      {
       "output_type": "stream",
       "stream": "stdout",
       "text": [
        " 1298 TQQQ 01\n",
        "3303"
       ]
      },
      {
       "output_type": "stream",
       "stream": "stdout",
       "text": [
        " 1299 TQQQ 01\n",
        "3304"
       ]
      },
      {
       "output_type": "stream",
       "stream": "stdout",
       "text": [
        " 1300 TQQQ 01\n",
        "3305"
       ]
      },
      {
       "output_type": "stream",
       "stream": "stdout",
       "text": [
        " 1301 TQQQ 01\n",
        "3306"
       ]
      },
      {
       "output_type": "stream",
       "stream": "stdout",
       "text": [
        " 1302 TQQQ 01\n",
        "3307"
       ]
      },
      {
       "output_type": "stream",
       "stream": "stdout",
       "text": [
        " 1303 TQQQ 01\n",
        "3308"
       ]
      },
      {
       "output_type": "stream",
       "stream": "stdout",
       "text": [
        " 1304 TQQQ 01\n",
        "3309"
       ]
      },
      {
       "output_type": "stream",
       "stream": "stdout",
       "text": [
        " 1305 TQQQ 01\n",
        "3310"
       ]
      },
      {
       "output_type": "stream",
       "stream": "stdout",
       "text": [
        " 1306 TQQQ 01\n",
        "3311"
       ]
      },
      {
       "output_type": "stream",
       "stream": "stdout",
       "text": [
        " 1307 TQQQ 01\n",
        "3312"
       ]
      },
      {
       "output_type": "stream",
       "stream": "stdout",
       "text": [
        " 1308 TQQQ 01\n",
        "3313"
       ]
      },
      {
       "output_type": "stream",
       "stream": "stdout",
       "text": [
        " 1309 TQQQ 01\n",
        "3314"
       ]
      },
      {
       "output_type": "stream",
       "stream": "stdout",
       "text": [
        " 1310 TQQQ 01\n",
        "3315"
       ]
      },
      {
       "output_type": "stream",
       "stream": "stdout",
       "text": [
        " 1311 TQQQ 01\n",
        "3316"
       ]
      },
      {
       "output_type": "stream",
       "stream": "stdout",
       "text": [
        " 1312 TQQQ 01\n",
        "3317"
       ]
      },
      {
       "output_type": "stream",
       "stream": "stdout",
       "text": [
        " 1313 TQQQ 01\n",
        "3318"
       ]
      },
      {
       "output_type": "stream",
       "stream": "stdout",
       "text": [
        " 1314 TQQQ 01\n",
        "3319"
       ]
      },
      {
       "output_type": "stream",
       "stream": "stdout",
       "text": [
        " 1315 TQQQ 01\n",
        "3320"
       ]
      },
      {
       "output_type": "stream",
       "stream": "stdout",
       "text": [
        " 1316 TQQQ 01\n",
        "3321"
       ]
      },
      {
       "output_type": "stream",
       "stream": "stdout",
       "text": [
        " 1317 TQQQ 01\n",
        "3322"
       ]
      },
      {
       "output_type": "stream",
       "stream": "stdout",
       "text": [
        " 1318 TQQQ 01\n",
        "3323"
       ]
      },
      {
       "output_type": "stream",
       "stream": "stdout",
       "text": [
        " 1319 TQQQ 01\n",
        "3324"
       ]
      },
      {
       "output_type": "stream",
       "stream": "stdout",
       "text": [
        " 1320 TQQQ 01\n",
        "3325"
       ]
      },
      {
       "output_type": "stream",
       "stream": "stdout",
       "text": [
        " 1321 TQQQ 01\n",
        "3326"
       ]
      },
      {
       "output_type": "stream",
       "stream": "stdout",
       "text": [
        " 1322 TQQQ 01\n",
        "3327"
       ]
      },
      {
       "output_type": "stream",
       "stream": "stdout",
       "text": [
        " 1323 TQQQ 01\n",
        "3328"
       ]
      },
      {
       "output_type": "stream",
       "stream": "stdout",
       "text": [
        " 1324 TQQQ 01\n",
        "3329"
       ]
      },
      {
       "output_type": "stream",
       "stream": "stdout",
       "text": [
        " 1325 TQQQ 01\n",
        "3330"
       ]
      },
      {
       "output_type": "stream",
       "stream": "stdout",
       "text": [
        " 1326 TQQQ 01\n",
        "3331"
       ]
      },
      {
       "output_type": "stream",
       "stream": "stdout",
       "text": [
        " 1327 TQQQ 01\n",
        "3332"
       ]
      },
      {
       "output_type": "stream",
       "stream": "stdout",
       "text": [
        " 1328 TQQQ 01\n",
        "3333"
       ]
      },
      {
       "output_type": "stream",
       "stream": "stdout",
       "text": [
        " 1329 TQQQ 01\n",
        "3334"
       ]
      },
      {
       "output_type": "stream",
       "stream": "stdout",
       "text": [
        " 1330 TQQQ 01\n",
        "3335"
       ]
      },
      {
       "output_type": "stream",
       "stream": "stdout",
       "text": [
        " 1331 TQQQ 01\n",
        "3336"
       ]
      },
      {
       "output_type": "stream",
       "stream": "stdout",
       "text": [
        " 1332 TQQQ 01\n",
        "3337"
       ]
      },
      {
       "output_type": "stream",
       "stream": "stdout",
       "text": [
        " 1333 TQQQ 01\n",
        "3338"
       ]
      },
      {
       "output_type": "stream",
       "stream": "stdout",
       "text": [
        " 1334 TQQQ 01\n",
        "3339"
       ]
      },
      {
       "output_type": "stream",
       "stream": "stdout",
       "text": [
        " 1335 TQQQ 01\n",
        "3340"
       ]
      },
      {
       "output_type": "stream",
       "stream": "stdout",
       "text": [
        " 1336 TQQQ 01\n",
        "3341"
       ]
      },
      {
       "output_type": "stream",
       "stream": "stdout",
       "text": [
        " 1337 TQQQ 01\n",
        "3342"
       ]
      },
      {
       "output_type": "stream",
       "stream": "stdout",
       "text": [
        " 1338 TQQQ 01\n",
        "3343"
       ]
      },
      {
       "output_type": "stream",
       "stream": "stdout",
       "text": [
        " 1339 TQQQ 01\n",
        "3344"
       ]
      },
      {
       "output_type": "stream",
       "stream": "stdout",
       "text": [
        " 1340 TQQQ 01\n",
        "3345"
       ]
      },
      {
       "output_type": "stream",
       "stream": "stdout",
       "text": [
        " 1341 TQQQ 01\n",
        "3346"
       ]
      },
      {
       "output_type": "stream",
       "stream": "stdout",
       "text": [
        " 1342 TQQQ 01\n",
        "3347"
       ]
      },
      {
       "output_type": "stream",
       "stream": "stdout",
       "text": [
        " 1343 TQQQ 01\n",
        "3348"
       ]
      },
      {
       "output_type": "stream",
       "stream": "stdout",
       "text": [
        " 1344 TQQQ 01\n",
        "3349"
       ]
      },
      {
       "output_type": "stream",
       "stream": "stdout",
       "text": [
        " 1345 TQQQ 01\n",
        "3350"
       ]
      },
      {
       "output_type": "stream",
       "stream": "stdout",
       "text": [
        " 1346 TQQQ 01\n",
        "3351"
       ]
      },
      {
       "output_type": "stream",
       "stream": "stdout",
       "text": [
        " 1347 TQQQ 01\n",
        "3352"
       ]
      },
      {
       "output_type": "stream",
       "stream": "stdout",
       "text": [
        " 1348 TQQQ 01\n",
        "3353"
       ]
      },
      {
       "output_type": "stream",
       "stream": "stdout",
       "text": [
        " 1349 TQQQ 01\n",
        "3354"
       ]
      },
      {
       "output_type": "stream",
       "stream": "stdout",
       "text": [
        " 1350 TQQQ 01\n",
        "3355"
       ]
      },
      {
       "output_type": "stream",
       "stream": "stdout",
       "text": [
        " 1351 TQQQ 01\n",
        "3356"
       ]
      },
      {
       "output_type": "stream",
       "stream": "stdout",
       "text": [
        " 1352 TQQQ 01\n",
        "3357"
       ]
      },
      {
       "output_type": "stream",
       "stream": "stdout",
       "text": [
        " 1353 TQQQ 01\n",
        "3358"
       ]
      },
      {
       "output_type": "stream",
       "stream": "stdout",
       "text": [
        " 1354 TQQQ 01\n",
        "3359"
       ]
      },
      {
       "output_type": "stream",
       "stream": "stdout",
       "text": [
        " 1355 TQQQ 01\n",
        "3360"
       ]
      },
      {
       "output_type": "stream",
       "stream": "stdout",
       "text": [
        " 1356 TQQQ 01\n",
        "3361"
       ]
      },
      {
       "output_type": "stream",
       "stream": "stdout",
       "text": [
        " 1357 TQQQ 01\n",
        "3362"
       ]
      },
      {
       "output_type": "stream",
       "stream": "stdout",
       "text": [
        " 1358 TQQQ 01\n",
        "3363"
       ]
      },
      {
       "output_type": "stream",
       "stream": "stdout",
       "text": [
        " 1359 TQQQ 01\n",
        "3364"
       ]
      },
      {
       "output_type": "stream",
       "stream": "stdout",
       "text": [
        " 1360 TQQQ 01\n",
        "3365"
       ]
      },
      {
       "output_type": "stream",
       "stream": "stdout",
       "text": [
        " 1361 TQQQ 01\n",
        "3366"
       ]
      },
      {
       "output_type": "stream",
       "stream": "stdout",
       "text": [
        " 1362 TQQQ 01\n",
        "3367"
       ]
      },
      {
       "output_type": "stream",
       "stream": "stdout",
       "text": [
        " 1363 TQQQ 01\n",
        "3368"
       ]
      },
      {
       "output_type": "stream",
       "stream": "stdout",
       "text": [
        " 1364 TQQQ 01\n",
        "3369"
       ]
      },
      {
       "output_type": "stream",
       "stream": "stdout",
       "text": [
        " 1365 TQQQ 01\n",
        "3370"
       ]
      },
      {
       "output_type": "stream",
       "stream": "stdout",
       "text": [
        " 1366 TQQQ 01\n",
        "3371"
       ]
      },
      {
       "output_type": "stream",
       "stream": "stdout",
       "text": [
        " 1367 TQQQ 01\n",
        "3372"
       ]
      },
      {
       "output_type": "stream",
       "stream": "stdout",
       "text": [
        " 1368 TQQQ 01\n",
        "3373"
       ]
      },
      {
       "output_type": "stream",
       "stream": "stdout",
       "text": [
        " 1369 TQQQ 01\n",
        "3374"
       ]
      },
      {
       "output_type": "stream",
       "stream": "stdout",
       "text": [
        " 1370 TQQQ 01\n",
        "3375"
       ]
      },
      {
       "output_type": "stream",
       "stream": "stdout",
       "text": [
        " 1371 TQQQ 01\n",
        "3376"
       ]
      },
      {
       "output_type": "stream",
       "stream": "stdout",
       "text": [
        " 1372 TQQQ 01\n",
        "3377"
       ]
      },
      {
       "output_type": "stream",
       "stream": "stdout",
       "text": [
        " 1373 TQQQ 01\n",
        "3378"
       ]
      },
      {
       "output_type": "stream",
       "stream": "stdout",
       "text": [
        " 1374 TQQQ 01\n",
        "3379"
       ]
      },
      {
       "output_type": "stream",
       "stream": "stdout",
       "text": [
        " 1375 TQQQ 01\n",
        "3380"
       ]
      },
      {
       "output_type": "stream",
       "stream": "stdout",
       "text": [
        " 1376 TQQQ 01\n",
        "3381"
       ]
      },
      {
       "output_type": "stream",
       "stream": "stdout",
       "text": [
        " 1377 TQQQ 01\n",
        "3382"
       ]
      },
      {
       "output_type": "stream",
       "stream": "stdout",
       "text": [
        " 1378 TQQQ 01\n",
        "3383"
       ]
      },
      {
       "output_type": "stream",
       "stream": "stdout",
       "text": [
        " 1379 TQQQ 01\n",
        "3384"
       ]
      },
      {
       "output_type": "stream",
       "stream": "stdout",
       "text": [
        " 1380 TQQQ 01\n",
        "3385"
       ]
      },
      {
       "output_type": "stream",
       "stream": "stdout",
       "text": [
        " 1381 TQQQ 01\n",
        "3386"
       ]
      },
      {
       "output_type": "stream",
       "stream": "stdout",
       "text": [
        " 1382 TQQQ 01\n",
        "3387"
       ]
      },
      {
       "output_type": "stream",
       "stream": "stdout",
       "text": [
        " 1383 TQQQ 01\n",
        "3388"
       ]
      },
      {
       "output_type": "stream",
       "stream": "stdout",
       "text": [
        " 1384 TQQQ 01\n",
        "3389"
       ]
      },
      {
       "output_type": "stream",
       "stream": "stdout",
       "text": [
        " 1385 TQQQ 01\n",
        "3390"
       ]
      },
      {
       "output_type": "stream",
       "stream": "stdout",
       "text": [
        " 1386 TQQQ 01\n",
        "3391"
       ]
      },
      {
       "output_type": "stream",
       "stream": "stdout",
       "text": [
        " 1387 TQQQ 01\n",
        "3392"
       ]
      },
      {
       "output_type": "stream",
       "stream": "stdout",
       "text": [
        " 1388 TQQQ 01\n",
        "3393"
       ]
      },
      {
       "output_type": "stream",
       "stream": "stdout",
       "text": [
        " 1389 TQQQ 01\n",
        "3394"
       ]
      },
      {
       "output_type": "stream",
       "stream": "stdout",
       "text": [
        " 1390 TQQQ 01\n",
        "3395"
       ]
      },
      {
       "output_type": "stream",
       "stream": "stdout",
       "text": [
        " 1391 TQQQ 01\n",
        "3396"
       ]
      },
      {
       "output_type": "stream",
       "stream": "stdout",
       "text": [
        " 1392 TQQQ 01\n",
        "3397"
       ]
      },
      {
       "output_type": "stream",
       "stream": "stdout",
       "text": [
        " 1393 TQQQ 01\n",
        "3398"
       ]
      },
      {
       "output_type": "stream",
       "stream": "stdout",
       "text": [
        " 1394 TQQQ 01\n",
        "3399"
       ]
      },
      {
       "output_type": "stream",
       "stream": "stdout",
       "text": [
        " 1395 TQQQ 01\n",
        "3400"
       ]
      },
      {
       "output_type": "stream",
       "stream": "stdout",
       "text": [
        " 1396 TQQQ 01\n",
        "3401"
       ]
      },
      {
       "output_type": "stream",
       "stream": "stdout",
       "text": [
        " 1397 TQQQ 01\n",
        "3402"
       ]
      },
      {
       "output_type": "stream",
       "stream": "stdout",
       "text": [
        " 1398 TQQQ 01\n",
        "3403"
       ]
      },
      {
       "output_type": "stream",
       "stream": "stdout",
       "text": [
        " 1399 TQQQ 01\n",
        "3404"
       ]
      },
      {
       "output_type": "stream",
       "stream": "stdout",
       "text": [
        " 1400 TQQQ 01\n",
        "3405"
       ]
      },
      {
       "output_type": "stream",
       "stream": "stdout",
       "text": [
        " 1401 TQQQ 01\n",
        "3406"
       ]
      },
      {
       "output_type": "stream",
       "stream": "stdout",
       "text": [
        " 1402 TQQQ 01\n",
        "3407"
       ]
      },
      {
       "output_type": "stream",
       "stream": "stdout",
       "text": [
        " 1403 TQQQ 01\n",
        "3408"
       ]
      },
      {
       "output_type": "stream",
       "stream": "stdout",
       "text": [
        " 1404 TQQQ 01\n",
        "3409"
       ]
      },
      {
       "output_type": "stream",
       "stream": "stdout",
       "text": [
        " 1405 TQQQ 01\n",
        "3410"
       ]
      },
      {
       "output_type": "stream",
       "stream": "stdout",
       "text": [
        " 1406 TQQQ 01\n",
        "3411"
       ]
      },
      {
       "output_type": "stream",
       "stream": "stdout",
       "text": [
        " 1407 TQQQ 01\n",
        "3412"
       ]
      },
      {
       "output_type": "stream",
       "stream": "stdout",
       "text": [
        " 1408 TQQQ 01\n",
        "3413"
       ]
      },
      {
       "output_type": "stream",
       "stream": "stdout",
       "text": [
        " 1409 TQQQ 01\n",
        "3414"
       ]
      },
      {
       "output_type": "stream",
       "stream": "stdout",
       "text": [
        " 1410 TQQQ 01\n",
        "3415"
       ]
      },
      {
       "output_type": "stream",
       "stream": "stdout",
       "text": [
        " 1411 TQQQ 01\n",
        "3416"
       ]
      },
      {
       "output_type": "stream",
       "stream": "stdout",
       "text": [
        " 1412 TQQQ 01\n",
        "3417"
       ]
      },
      {
       "output_type": "stream",
       "stream": "stdout",
       "text": [
        " 1413 TQQQ 01\n",
        "3418"
       ]
      },
      {
       "output_type": "stream",
       "stream": "stdout",
       "text": [
        " 1414 TQQQ 01\n",
        "3419"
       ]
      },
      {
       "output_type": "stream",
       "stream": "stdout",
       "text": [
        " 1415 TQQQ 01\n",
        "3420"
       ]
      },
      {
       "output_type": "stream",
       "stream": "stdout",
       "text": [
        " 1416 TQQQ 01\n",
        "3421"
       ]
      },
      {
       "output_type": "stream",
       "stream": "stdout",
       "text": [
        " 1417 TQQQ 01\n",
        "3422"
       ]
      },
      {
       "output_type": "stream",
       "stream": "stdout",
       "text": [
        " 1418 TQQQ 01\n",
        "3423"
       ]
      },
      {
       "output_type": "stream",
       "stream": "stdout",
       "text": [
        " 1419 TQQQ 01\n",
        "3424"
       ]
      },
      {
       "output_type": "stream",
       "stream": "stdout",
       "text": [
        " 1420 TQQQ 01\n",
        "3425"
       ]
      },
      {
       "output_type": "stream",
       "stream": "stdout",
       "text": [
        " 1421 TQQQ 01\n",
        "3426"
       ]
      },
      {
       "output_type": "stream",
       "stream": "stdout",
       "text": [
        " 1422 TQQQ 01\n",
        "3427"
       ]
      },
      {
       "output_type": "stream",
       "stream": "stdout",
       "text": [
        " 1423 TQQQ 01\n",
        "3428"
       ]
      },
      {
       "output_type": "stream",
       "stream": "stdout",
       "text": [
        " 1424 TQQQ 01\n",
        "3429"
       ]
      },
      {
       "output_type": "stream",
       "stream": "stdout",
       "text": [
        " 1425 TQQQ 01\n",
        "3430"
       ]
      },
      {
       "output_type": "stream",
       "stream": "stdout",
       "text": [
        " 1426 TQQQ 01\n",
        "3431"
       ]
      },
      {
       "output_type": "stream",
       "stream": "stdout",
       "text": [
        " 1427 TQQQ 01\n",
        "3432"
       ]
      },
      {
       "output_type": "stream",
       "stream": "stdout",
       "text": [
        " 1428 TQQQ 01\n",
        "3433"
       ]
      },
      {
       "output_type": "stream",
       "stream": "stdout",
       "text": [
        " 1429 TQQQ 01\n",
        "3434"
       ]
      },
      {
       "output_type": "stream",
       "stream": "stdout",
       "text": [
        " 1430 TQQQ 01\n",
        "3435"
       ]
      },
      {
       "output_type": "stream",
       "stream": "stdout",
       "text": [
        " 1431 TQQQ 01\n",
        "3436"
       ]
      },
      {
       "output_type": "stream",
       "stream": "stdout",
       "text": [
        " 1432 TQQQ 01\n",
        "3437"
       ]
      },
      {
       "output_type": "stream",
       "stream": "stdout",
       "text": [
        " 1433 TQQQ 01\n",
        "3438"
       ]
      },
      {
       "output_type": "stream",
       "stream": "stdout",
       "text": [
        " 1434 TQQQ 01\n",
        "3439"
       ]
      },
      {
       "output_type": "stream",
       "stream": "stdout",
       "text": [
        " 1435 TQQQ 01\n",
        "3440"
       ]
      },
      {
       "output_type": "stream",
       "stream": "stdout",
       "text": [
        " 1436 TQQQ 01\n",
        "3441"
       ]
      },
      {
       "output_type": "stream",
       "stream": "stdout",
       "text": [
        " 1437 TQQQ 01\n",
        "3442"
       ]
      },
      {
       "output_type": "stream",
       "stream": "stdout",
       "text": [
        " 1438 TQQQ 01\n",
        "3443"
       ]
      },
      {
       "output_type": "stream",
       "stream": "stdout",
       "text": [
        " 1439 TQQQ 01\n",
        "3444"
       ]
      },
      {
       "output_type": "stream",
       "stream": "stdout",
       "text": [
        " 1440 TQQQ 01\n",
        "3445"
       ]
      },
      {
       "output_type": "stream",
       "stream": "stdout",
       "text": [
        " 1441 TQQQ 01\n",
        "3446"
       ]
      },
      {
       "output_type": "stream",
       "stream": "stdout",
       "text": [
        " 1442 TQQQ 01\n",
        "3447"
       ]
      },
      {
       "output_type": "stream",
       "stream": "stdout",
       "text": [
        " 1443 TQQQ 01\n",
        "3448"
       ]
      },
      {
       "output_type": "stream",
       "stream": "stdout",
       "text": [
        " 1444 TQQQ 01\n",
        "3449"
       ]
      },
      {
       "output_type": "stream",
       "stream": "stdout",
       "text": [
        " 1445 TQQQ 01\n",
        "3450"
       ]
      },
      {
       "output_type": "stream",
       "stream": "stdout",
       "text": [
        " 1446 TQQQ 01\n",
        "3451"
       ]
      },
      {
       "output_type": "stream",
       "stream": "stdout",
       "text": [
        " 1447 TQQQ 01\n",
        "3452"
       ]
      },
      {
       "output_type": "stream",
       "stream": "stdout",
       "text": [
        " 1448 TQQQ 01\n",
        "3453"
       ]
      },
      {
       "output_type": "stream",
       "stream": "stdout",
       "text": [
        " 1449 TQQQ 01\n",
        "3454"
       ]
      },
      {
       "output_type": "stream",
       "stream": "stdout",
       "text": [
        " 1450 TQQQ 01\n",
        "3455"
       ]
      },
      {
       "output_type": "stream",
       "stream": "stdout",
       "text": [
        " 1451 TQQQ 01\n",
        "3456"
       ]
      },
      {
       "output_type": "stream",
       "stream": "stdout",
       "text": [
        " 1452 TQQQ 01\n",
        "3457"
       ]
      },
      {
       "output_type": "stream",
       "stream": "stdout",
       "text": [
        " 1453 TQQQ 01\n",
        "3458"
       ]
      },
      {
       "output_type": "stream",
       "stream": "stdout",
       "text": [
        " 1454 TQQQ 01\n",
        "3459"
       ]
      },
      {
       "output_type": "stream",
       "stream": "stdout",
       "text": [
        " 1455 TQQQ 01\n",
        "3460"
       ]
      },
      {
       "output_type": "stream",
       "stream": "stdout",
       "text": [
        " 1456 TQQQ 01\n",
        "3461"
       ]
      },
      {
       "output_type": "stream",
       "stream": "stdout",
       "text": [
        " 1457 TQQQ 01\n",
        "3462"
       ]
      },
      {
       "output_type": "stream",
       "stream": "stdout",
       "text": [
        " 1458 TQQQ 01\n",
        "3463"
       ]
      },
      {
       "output_type": "stream",
       "stream": "stdout",
       "text": [
        " 1459 TQQQ 01\n",
        "3464"
       ]
      },
      {
       "output_type": "stream",
       "stream": "stdout",
       "text": [
        " 1460 TQQQ 01\n",
        "3465"
       ]
      },
      {
       "output_type": "stream",
       "stream": "stdout",
       "text": [
        " 1461 TQQQ 01\n",
        "3466"
       ]
      },
      {
       "output_type": "stream",
       "stream": "stdout",
       "text": [
        " 1462 TQQQ 01\n",
        "3467"
       ]
      },
      {
       "output_type": "stream",
       "stream": "stdout",
       "text": [
        " 1463 TQQQ 01\n",
        "3468"
       ]
      },
      {
       "output_type": "stream",
       "stream": "stdout",
       "text": [
        " 1464 TQQQ 01\n",
        "3469"
       ]
      },
      {
       "output_type": "stream",
       "stream": "stdout",
       "text": [
        " 1465 TQQQ 01\n",
        "3470"
       ]
      },
      {
       "output_type": "stream",
       "stream": "stdout",
       "text": [
        " 1466 TQQQ 01\n",
        "3471"
       ]
      },
      {
       "output_type": "stream",
       "stream": "stdout",
       "text": [
        " 1467 TQQQ 01\n",
        "3472"
       ]
      },
      {
       "output_type": "stream",
       "stream": "stdout",
       "text": [
        " 1468 TQQQ 01\n",
        "3473"
       ]
      },
      {
       "output_type": "stream",
       "stream": "stdout",
       "text": [
        " 1469 TQQQ 01\n",
        "3474"
       ]
      },
      {
       "output_type": "stream",
       "stream": "stdout",
       "text": [
        " 1470 TQQQ 01\n",
        "3475"
       ]
      },
      {
       "output_type": "stream",
       "stream": "stdout",
       "text": [
        " 1471 TQQQ 01\n",
        "3476"
       ]
      },
      {
       "output_type": "stream",
       "stream": "stdout",
       "text": [
        " 1472 TQQQ 01\n",
        "3477"
       ]
      },
      {
       "output_type": "stream",
       "stream": "stdout",
       "text": [
        " 1473 TQQQ 01\n",
        "3478"
       ]
      },
      {
       "output_type": "stream",
       "stream": "stdout",
       "text": [
        " 1474 TQQQ 01\n",
        "3479"
       ]
      },
      {
       "output_type": "stream",
       "stream": "stdout",
       "text": [
        " 1475 TQQQ 01\n",
        "3480"
       ]
      },
      {
       "output_type": "stream",
       "stream": "stdout",
       "text": [
        " 1476 TQQQ 01\n",
        "3481"
       ]
      },
      {
       "output_type": "stream",
       "stream": "stdout",
       "text": [
        " 1477 TQQQ 01\n",
        "3482"
       ]
      },
      {
       "output_type": "stream",
       "stream": "stdout",
       "text": [
        " 1478 TQQQ 01\n",
        "3483"
       ]
      },
      {
       "output_type": "stream",
       "stream": "stdout",
       "text": [
        " 1479 TQQQ 01\n",
        "3484"
       ]
      },
      {
       "output_type": "stream",
       "stream": "stdout",
       "text": [
        " 1480 TQQQ 01\n",
        "3485"
       ]
      },
      {
       "output_type": "stream",
       "stream": "stdout",
       "text": [
        " 1481 TQQQ 01\n",
        "3486"
       ]
      },
      {
       "output_type": "stream",
       "stream": "stdout",
       "text": [
        " 1482 TQQQ 01\n",
        "3487"
       ]
      },
      {
       "output_type": "stream",
       "stream": "stdout",
       "text": [
        " 1483 TQQQ 01\n",
        "3488"
       ]
      },
      {
       "output_type": "stream",
       "stream": "stdout",
       "text": [
        " 1484 TQQQ 01\n",
        "3489"
       ]
      },
      {
       "output_type": "stream",
       "stream": "stdout",
       "text": [
        " 1485 TQQQ 01\n",
        "3490"
       ]
      },
      {
       "output_type": "stream",
       "stream": "stdout",
       "text": [
        " 1486 TQQQ 01\n",
        "3491"
       ]
      },
      {
       "output_type": "stream",
       "stream": "stdout",
       "text": [
        " 1487 TQQQ 01\n",
        "3492"
       ]
      },
      {
       "output_type": "stream",
       "stream": "stdout",
       "text": [
        " 1488 TQQQ 01\n",
        "3493"
       ]
      },
      {
       "output_type": "stream",
       "stream": "stdout",
       "text": [
        " 1489 TQQQ 01\n",
        "3494"
       ]
      },
      {
       "output_type": "stream",
       "stream": "stdout",
       "text": [
        " 1490 TQQQ 01\n",
        "3495"
       ]
      },
      {
       "output_type": "stream",
       "stream": "stdout",
       "text": [
        " 1491 TQQQ 01\n",
        "3496"
       ]
      },
      {
       "output_type": "stream",
       "stream": "stdout",
       "text": [
        " 1492 TQQQ 01\n",
        "3497"
       ]
      },
      {
       "output_type": "stream",
       "stream": "stdout",
       "text": [
        " 1493 TQQQ 01\n",
        "3498"
       ]
      },
      {
       "output_type": "stream",
       "stream": "stdout",
       "text": [
        " 1494 TQQQ 01\n",
        "3499"
       ]
      },
      {
       "output_type": "stream",
       "stream": "stdout",
       "text": [
        " 1495 TQQQ 01\n",
        "3500"
       ]
      },
      {
       "output_type": "stream",
       "stream": "stdout",
       "text": [
        " 1496 TQQQ 01\n",
        "3501"
       ]
      },
      {
       "output_type": "stream",
       "stream": "stdout",
       "text": [
        " 1497 TQQQ 01\n",
        "3502"
       ]
      },
      {
       "output_type": "stream",
       "stream": "stdout",
       "text": [
        " 1498 TQQQ 01\n",
        "3503"
       ]
      },
      {
       "output_type": "stream",
       "stream": "stdout",
       "text": [
        " 1499 TQQQ 01\n",
        "3504"
       ]
      },
      {
       "output_type": "stream",
       "stream": "stdout",
       "text": [
        " 1500 TQQQ 01\n",
        "3505"
       ]
      },
      {
       "output_type": "stream",
       "stream": "stdout",
       "text": [
        " 1501 TQQQ 01\n",
        "3506"
       ]
      },
      {
       "output_type": "stream",
       "stream": "stdout",
       "text": [
        " 1502 TQQQ 01\n",
        "3507"
       ]
      },
      {
       "output_type": "stream",
       "stream": "stdout",
       "text": [
        " 1503 TQQQ 01\n",
        "3508"
       ]
      },
      {
       "output_type": "stream",
       "stream": "stdout",
       "text": [
        " 1504 TQQQ 01\n",
        "3509"
       ]
      },
      {
       "output_type": "stream",
       "stream": "stdout",
       "text": [
        " 1505 TQQQ 01\n",
        "3510"
       ]
      },
      {
       "output_type": "stream",
       "stream": "stdout",
       "text": [
        " 1506 TQQQ 01\n",
        "3511"
       ]
      },
      {
       "output_type": "stream",
       "stream": "stdout",
       "text": [
        " 1507 TQQQ 01\n",
        "3512"
       ]
      },
      {
       "output_type": "stream",
       "stream": "stdout",
       "text": [
        " 1508 TQQQ 01\n",
        "3513"
       ]
      },
      {
       "output_type": "stream",
       "stream": "stdout",
       "text": [
        " 1509 TQQQ 01\n",
        "3514"
       ]
      },
      {
       "output_type": "stream",
       "stream": "stdout",
       "text": [
        " 1510 TQQQ 01\n",
        "3515"
       ]
      },
      {
       "output_type": "stream",
       "stream": "stdout",
       "text": [
        " 1511 TQQQ 01\n",
        "3516"
       ]
      },
      {
       "output_type": "stream",
       "stream": "stdout",
       "text": [
        " 1512 TQQQ 01\n",
        "3517"
       ]
      },
      {
       "output_type": "stream",
       "stream": "stdout",
       "text": [
        " 1513 TQQQ 01\n",
        "3518"
       ]
      },
      {
       "output_type": "stream",
       "stream": "stdout",
       "text": [
        " 1514 TQQQ 01\n",
        "3519"
       ]
      },
      {
       "output_type": "stream",
       "stream": "stdout",
       "text": [
        " 1515 TQQQ 01\n",
        "3520"
       ]
      },
      {
       "output_type": "stream",
       "stream": "stdout",
       "text": [
        " 1516 TQQQ 01\n",
        "3521"
       ]
      },
      {
       "output_type": "stream",
       "stream": "stdout",
       "text": [
        " 1517 TQQQ 01\n",
        "3522"
       ]
      },
      {
       "output_type": "stream",
       "stream": "stdout",
       "text": [
        " 1518 TQQQ 01\n",
        "3523"
       ]
      },
      {
       "output_type": "stream",
       "stream": "stdout",
       "text": [
        " 1519 TQQQ 01\n",
        "3524"
       ]
      },
      {
       "output_type": "stream",
       "stream": "stdout",
       "text": [
        " 1520 TQQQ 01\n",
        "3525"
       ]
      },
      {
       "output_type": "stream",
       "stream": "stdout",
       "text": [
        " 1521 TQQQ 01\n",
        "3526"
       ]
      },
      {
       "output_type": "stream",
       "stream": "stdout",
       "text": [
        " 1522 TQQQ 01\n",
        "3527"
       ]
      },
      {
       "output_type": "stream",
       "stream": "stdout",
       "text": [
        " 1523 TQQQ 01\n",
        "3528"
       ]
      },
      {
       "output_type": "stream",
       "stream": "stdout",
       "text": [
        " 1524 TQQQ 01\n",
        "3529"
       ]
      },
      {
       "output_type": "stream",
       "stream": "stdout",
       "text": [
        " 1525 TQQQ 01\n",
        "3530"
       ]
      },
      {
       "output_type": "stream",
       "stream": "stdout",
       "text": [
        " 1526 TQQQ 01\n",
        "3531"
       ]
      },
      {
       "output_type": "stream",
       "stream": "stdout",
       "text": [
        " 1527 TQQQ 01\n",
        "3532"
       ]
      },
      {
       "output_type": "stream",
       "stream": "stdout",
       "text": [
        " 1528 TQQQ 01\n",
        "3533"
       ]
      },
      {
       "output_type": "stream",
       "stream": "stdout",
       "text": [
        " 1529 TQQQ 01\n",
        "3534"
       ]
      },
      {
       "output_type": "stream",
       "stream": "stdout",
       "text": [
        " 1530 TQQQ 01\n",
        "3535"
       ]
      },
      {
       "output_type": "stream",
       "stream": "stdout",
       "text": [
        " 1531 TQQQ 01\n",
        "3536"
       ]
      },
      {
       "output_type": "stream",
       "stream": "stdout",
       "text": [
        " 1532 TQQQ 01\n",
        "3537"
       ]
      },
      {
       "output_type": "stream",
       "stream": "stdout",
       "text": [
        " 1533 TQQQ 01\n",
        "3538"
       ]
      },
      {
       "output_type": "stream",
       "stream": "stdout",
       "text": [
        " 1534 TQQQ 01\n",
        "3539"
       ]
      },
      {
       "output_type": "stream",
       "stream": "stdout",
       "text": [
        " 1535 TQQQ 01\n",
        "3540"
       ]
      },
      {
       "output_type": "stream",
       "stream": "stdout",
       "text": [
        " 1536 TQQQ 01\n",
        "3541"
       ]
      },
      {
       "output_type": "stream",
       "stream": "stdout",
       "text": [
        " 1537 TQQQ 01\n",
        "3542"
       ]
      },
      {
       "output_type": "stream",
       "stream": "stdout",
       "text": [
        " 1538 TQQQ 01\n",
        "3543"
       ]
      },
      {
       "output_type": "stream",
       "stream": "stdout",
       "text": [
        " 1539 TQQQ 01\n",
        "3544"
       ]
      },
      {
       "output_type": "stream",
       "stream": "stdout",
       "text": [
        " 1540 TQQQ 01\n",
        "3545"
       ]
      },
      {
       "output_type": "stream",
       "stream": "stdout",
       "text": [
        " 1541 TQQQ 01\n",
        "3546"
       ]
      },
      {
       "output_type": "stream",
       "stream": "stdout",
       "text": [
        " 1542 TQQQ 01\n",
        "3547"
       ]
      },
      {
       "output_type": "stream",
       "stream": "stdout",
       "text": [
        " 1543 TQQQ 01\n",
        "3548"
       ]
      },
      {
       "output_type": "stream",
       "stream": "stdout",
       "text": [
        " 1544 TQQQ 01\n",
        "3549"
       ]
      },
      {
       "output_type": "stream",
       "stream": "stdout",
       "text": [
        " 1545 TQQQ 01\n",
        "3550"
       ]
      },
      {
       "output_type": "stream",
       "stream": "stdout",
       "text": [
        " 1546 TQQQ 01\n",
        "3551"
       ]
      },
      {
       "output_type": "stream",
       "stream": "stdout",
       "text": [
        " 1547 TQQQ 01\n",
        "3552"
       ]
      },
      {
       "output_type": "stream",
       "stream": "stdout",
       "text": [
        " 1548 TQQQ 01\n",
        "3553"
       ]
      },
      {
       "output_type": "stream",
       "stream": "stdout",
       "text": [
        " 1549 TQQQ 01\n",
        "3554"
       ]
      },
      {
       "output_type": "stream",
       "stream": "stdout",
       "text": [
        " 1550 TQQQ 01\n",
        "3555"
       ]
      },
      {
       "output_type": "stream",
       "stream": "stdout",
       "text": [
        " 1551 TQQQ 01\n",
        "3556"
       ]
      },
      {
       "output_type": "stream",
       "stream": "stdout",
       "text": [
        " 1552 TQQQ 01\n",
        "3557"
       ]
      },
      {
       "output_type": "stream",
       "stream": "stdout",
       "text": [
        " 1553 TQQQ 01\n",
        "3558"
       ]
      },
      {
       "output_type": "stream",
       "stream": "stdout",
       "text": [
        " 1554 TQQQ 01\n",
        "3559"
       ]
      },
      {
       "output_type": "stream",
       "stream": "stdout",
       "text": [
        " 1555 TQQQ 01\n",
        "3560"
       ]
      },
      {
       "output_type": "stream",
       "stream": "stdout",
       "text": [
        " 1556 TQQQ 01\n",
        "3561"
       ]
      },
      {
       "output_type": "stream",
       "stream": "stdout",
       "text": [
        " 1557 TQQQ 01\n",
        "3562"
       ]
      },
      {
       "output_type": "stream",
       "stream": "stdout",
       "text": [
        " 1558 TQQQ 01\n",
        "3563"
       ]
      },
      {
       "output_type": "stream",
       "stream": "stdout",
       "text": [
        " 1559 TQQQ 01\n",
        "3564"
       ]
      },
      {
       "output_type": "stream",
       "stream": "stdout",
       "text": [
        " 1560 TQQQ 01\n",
        "3565"
       ]
      },
      {
       "output_type": "stream",
       "stream": "stdout",
       "text": [
        " 1561 TQQQ 01\n",
        "3566"
       ]
      },
      {
       "output_type": "stream",
       "stream": "stdout",
       "text": [
        " 1562 TQQQ 01\n",
        "3567"
       ]
      },
      {
       "output_type": "stream",
       "stream": "stdout",
       "text": [
        " 1563 TQQQ 01\n",
        "3568"
       ]
      },
      {
       "output_type": "stream",
       "stream": "stdout",
       "text": [
        " 1564 TQQQ 01\n",
        "3569"
       ]
      },
      {
       "output_type": "stream",
       "stream": "stdout",
       "text": [
        " 1565 TQQQ 01\n",
        "3570"
       ]
      },
      {
       "output_type": "stream",
       "stream": "stdout",
       "text": [
        " 1566 TQQQ 01\n",
        "3571"
       ]
      },
      {
       "output_type": "stream",
       "stream": "stdout",
       "text": [
        " 1567 TQQQ 01\n",
        "3572"
       ]
      },
      {
       "output_type": "stream",
       "stream": "stdout",
       "text": [
        " 1568 TQQQ 01\n",
        "3573"
       ]
      },
      {
       "output_type": "stream",
       "stream": "stdout",
       "text": [
        " 1569 TQQQ 01\n",
        "3574"
       ]
      },
      {
       "output_type": "stream",
       "stream": "stdout",
       "text": [
        " 1570 TQQQ 01\n",
        "3575"
       ]
      },
      {
       "output_type": "stream",
       "stream": "stdout",
       "text": [
        " 1571 TQQQ 01\n",
        "3576"
       ]
      },
      {
       "output_type": "stream",
       "stream": "stdout",
       "text": [
        " 1572 TQQQ 01\n",
        "3577"
       ]
      },
      {
       "output_type": "stream",
       "stream": "stdout",
       "text": [
        " 1573 TQQQ 01\n",
        "3578"
       ]
      },
      {
       "output_type": "stream",
       "stream": "stdout",
       "text": [
        " 1574 TQQQ 01\n",
        "3579"
       ]
      },
      {
       "output_type": "stream",
       "stream": "stdout",
       "text": [
        " 1575 TQQQ 01\n",
        "3580"
       ]
      },
      {
       "output_type": "stream",
       "stream": "stdout",
       "text": [
        " 1576 TQQQ 01\n",
        "3581"
       ]
      },
      {
       "output_type": "stream",
       "stream": "stdout",
       "text": [
        " 1577 TQQQ 01\n",
        "3582"
       ]
      },
      {
       "output_type": "stream",
       "stream": "stdout",
       "text": [
        " 1578 TQQQ 01\n",
        "3583"
       ]
      },
      {
       "output_type": "stream",
       "stream": "stdout",
       "text": [
        " 1579 TQQQ 01\n",
        "3584"
       ]
      },
      {
       "output_type": "stream",
       "stream": "stdout",
       "text": [
        " 1580 TQQQ 01\n",
        "3585"
       ]
      },
      {
       "output_type": "stream",
       "stream": "stdout",
       "text": [
        " 1581 TQQQ 01\n",
        "3586"
       ]
      },
      {
       "output_type": "stream",
       "stream": "stdout",
       "text": [
        " 1582 TQQQ 01\n",
        "3587"
       ]
      },
      {
       "output_type": "stream",
       "stream": "stdout",
       "text": [
        " 1583 TQQQ 01\n",
        "3588"
       ]
      },
      {
       "output_type": "stream",
       "stream": "stdout",
       "text": [
        " 1584 TQQQ 01\n",
        "3589"
       ]
      },
      {
       "output_type": "stream",
       "stream": "stdout",
       "text": [
        " 1585 TQQQ 01\n",
        "3590"
       ]
      },
      {
       "output_type": "stream",
       "stream": "stdout",
       "text": [
        " 1586 TQQQ 01\n",
        "3591"
       ]
      },
      {
       "output_type": "stream",
       "stream": "stdout",
       "text": [
        " 1587 TQQQ 01\n",
        "3592"
       ]
      },
      {
       "output_type": "stream",
       "stream": "stdout",
       "text": [
        " 1588 TQQQ 01\n",
        "3593"
       ]
      },
      {
       "output_type": "stream",
       "stream": "stdout",
       "text": [
        " 1589 TQQQ 01\n",
        "3594"
       ]
      },
      {
       "output_type": "stream",
       "stream": "stdout",
       "text": [
        " 1590 TQQQ 01\n",
        "3595"
       ]
      },
      {
       "output_type": "stream",
       "stream": "stdout",
       "text": [
        " 1591 TQQQ 01\n",
        "3596"
       ]
      },
      {
       "output_type": "stream",
       "stream": "stdout",
       "text": [
        " 1592 TQQQ 01\n",
        "3597"
       ]
      },
      {
       "output_type": "stream",
       "stream": "stdout",
       "text": [
        " 1593 TQQQ 01\n",
        "3598"
       ]
      },
      {
       "output_type": "stream",
       "stream": "stdout",
       "text": [
        " 1594 TQQQ 01\n",
        "3599"
       ]
      },
      {
       "output_type": "stream",
       "stream": "stdout",
       "text": [
        " 1595 TQQQ 01\n",
        "3600"
       ]
      },
      {
       "output_type": "stream",
       "stream": "stdout",
       "text": [
        " 1596 TQQQ 01\n",
        "3601"
       ]
      },
      {
       "output_type": "stream",
       "stream": "stdout",
       "text": [
        " 1597 TQQQ 01\n",
        "3602"
       ]
      },
      {
       "output_type": "stream",
       "stream": "stdout",
       "text": [
        " 1598 TQQQ 01\n",
        "3603"
       ]
      },
      {
       "output_type": "stream",
       "stream": "stdout",
       "text": [
        " 1599 TQQQ 01\n",
        "3604"
       ]
      },
      {
       "output_type": "stream",
       "stream": "stdout",
       "text": [
        " 1600 TQQQ 01\n",
        "3605"
       ]
      },
      {
       "output_type": "stream",
       "stream": "stdout",
       "text": [
        " 1601 TQQQ 01\n",
        "3606"
       ]
      },
      {
       "output_type": "stream",
       "stream": "stdout",
       "text": [
        " 1602 TQQQ 01\n",
        "3607"
       ]
      },
      {
       "output_type": "stream",
       "stream": "stdout",
       "text": [
        " 1603 TQQQ 01\n",
        "3608"
       ]
      },
      {
       "output_type": "stream",
       "stream": "stdout",
       "text": [
        " 1604 TQQQ 01\n",
        "3609"
       ]
      },
      {
       "output_type": "stream",
       "stream": "stdout",
       "text": [
        " 1605 TQQQ 01\n",
        "3610"
       ]
      },
      {
       "output_type": "stream",
       "stream": "stdout",
       "text": [
        " 1606 TQQQ 01\n",
        "3611"
       ]
      },
      {
       "output_type": "stream",
       "stream": "stdout",
       "text": [
        " 1607 TQQQ 01\n",
        "3612"
       ]
      },
      {
       "output_type": "stream",
       "stream": "stdout",
       "text": [
        " 1608 TQQQ 01\n",
        "3613"
       ]
      },
      {
       "output_type": "stream",
       "stream": "stdout",
       "text": [
        " 1609 TQQQ 01\n",
        "3614"
       ]
      },
      {
       "output_type": "stream",
       "stream": "stdout",
       "text": [
        " 1610 TQQQ 01\n",
        "3615"
       ]
      },
      {
       "output_type": "stream",
       "stream": "stdout",
       "text": [
        " 1611 TQQQ 01\n",
        "3616"
       ]
      },
      {
       "output_type": "stream",
       "stream": "stdout",
       "text": [
        " 1612 TQQQ 01\n",
        "3617"
       ]
      },
      {
       "output_type": "stream",
       "stream": "stdout",
       "text": [
        " 1613 TQQQ 01\n",
        "3618"
       ]
      },
      {
       "output_type": "stream",
       "stream": "stdout",
       "text": [
        " 1614 TQQQ 01\n",
        "3619"
       ]
      },
      {
       "output_type": "stream",
       "stream": "stdout",
       "text": [
        " 1615 TQQQ 01\n",
        "3620"
       ]
      },
      {
       "output_type": "stream",
       "stream": "stdout",
       "text": [
        " 1616 TQQQ 01\n",
        "3621"
       ]
      },
      {
       "output_type": "stream",
       "stream": "stdout",
       "text": [
        " 1617 TQQQ 01\n",
        "3622"
       ]
      },
      {
       "output_type": "stream",
       "stream": "stdout",
       "text": [
        " 1618 TQQQ 01\n",
        "3623"
       ]
      },
      {
       "output_type": "stream",
       "stream": "stdout",
       "text": [
        " 1619 TQQQ 01\n",
        "3624"
       ]
      },
      {
       "output_type": "stream",
       "stream": "stdout",
       "text": [
        " 1620 TQQQ 01\n",
        "3625"
       ]
      },
      {
       "output_type": "stream",
       "stream": "stdout",
       "text": [
        " 1621 TQQQ 01\n",
        "3626"
       ]
      },
      {
       "output_type": "stream",
       "stream": "stdout",
       "text": [
        " 1622 TQQQ 01\n",
        "3627"
       ]
      },
      {
       "output_type": "stream",
       "stream": "stdout",
       "text": [
        " 1623 TQQQ 01\n",
        "3628"
       ]
      },
      {
       "output_type": "stream",
       "stream": "stdout",
       "text": [
        " 1624 TQQQ 01\n",
        "3629"
       ]
      },
      {
       "output_type": "stream",
       "stream": "stdout",
       "text": [
        " 1625 TQQQ 01\n",
        "3630"
       ]
      },
      {
       "output_type": "stream",
       "stream": "stdout",
       "text": [
        " 1626 TQQQ 01\n",
        "3631"
       ]
      },
      {
       "output_type": "stream",
       "stream": "stdout",
       "text": [
        " 1627 TQQQ 01\n",
        "3632"
       ]
      },
      {
       "output_type": "stream",
       "stream": "stdout",
       "text": [
        " 1628 TQQQ 01\n",
        "3633"
       ]
      },
      {
       "output_type": "stream",
       "stream": "stdout",
       "text": [
        " 1629 TQQQ 01\n",
        "3634"
       ]
      },
      {
       "output_type": "stream",
       "stream": "stdout",
       "text": [
        " 1630 TQQQ 01\n",
        "3635"
       ]
      },
      {
       "output_type": "stream",
       "stream": "stdout",
       "text": [
        " 1631 TQQQ 01\n",
        "3636"
       ]
      },
      {
       "output_type": "stream",
       "stream": "stdout",
       "text": [
        " 1632 TQQQ 01\n",
        "3637"
       ]
      },
      {
       "output_type": "stream",
       "stream": "stdout",
       "text": [
        " 1633 TQQQ 01\n",
        "3638"
       ]
      },
      {
       "output_type": "stream",
       "stream": "stdout",
       "text": [
        " 1634 TQQQ 01\n",
        "3639"
       ]
      },
      {
       "output_type": "stream",
       "stream": "stdout",
       "text": [
        " 1635 TQQQ 01\n",
        "3640"
       ]
      },
      {
       "output_type": "stream",
       "stream": "stdout",
       "text": [
        " 1636 TQQQ 01\n",
        "3641"
       ]
      },
      {
       "output_type": "stream",
       "stream": "stdout",
       "text": [
        " 1637 TQQQ 01\n",
        "3642"
       ]
      },
      {
       "output_type": "stream",
       "stream": "stdout",
       "text": [
        " 1638 TQQQ 01\n",
        "3643"
       ]
      },
      {
       "output_type": "stream",
       "stream": "stdout",
       "text": [
        " 1639 TQQQ 01\n",
        "3644"
       ]
      },
      {
       "output_type": "stream",
       "stream": "stdout",
       "text": [
        " 1640 TQQQ 01\n",
        "3645"
       ]
      },
      {
       "output_type": "stream",
       "stream": "stdout",
       "text": [
        " 1641 TQQQ 01\n",
        "3646"
       ]
      },
      {
       "output_type": "stream",
       "stream": "stdout",
       "text": [
        " 1642 TQQQ 01\n",
        "3647"
       ]
      },
      {
       "output_type": "stream",
       "stream": "stdout",
       "text": [
        " 1643 TQQQ 01\n",
        "3648"
       ]
      },
      {
       "output_type": "stream",
       "stream": "stdout",
       "text": [
        " 1644 TQQQ 01\n",
        "3649"
       ]
      },
      {
       "output_type": "stream",
       "stream": "stdout",
       "text": [
        " 1645 TQQQ 01\n",
        "3650"
       ]
      },
      {
       "output_type": "stream",
       "stream": "stdout",
       "text": [
        " 1646 TQQQ 01\n",
        "3651"
       ]
      },
      {
       "output_type": "stream",
       "stream": "stdout",
       "text": [
        " 1647 TQQQ 01\n",
        "3652"
       ]
      },
      {
       "output_type": "stream",
       "stream": "stdout",
       "text": [
        " 1648 TQQQ 01\n",
        "3653"
       ]
      },
      {
       "output_type": "stream",
       "stream": "stdout",
       "text": [
        " 1649 TQQQ 01\n",
        "3654"
       ]
      },
      {
       "output_type": "stream",
       "stream": "stdout",
       "text": [
        " 1650 TQQQ 01\n",
        "3655"
       ]
      },
      {
       "output_type": "stream",
       "stream": "stdout",
       "text": [
        " 1651 TQQQ 01\n",
        "3656"
       ]
      },
      {
       "output_type": "stream",
       "stream": "stdout",
       "text": [
        " 1652 TQQQ 01\n",
        "3657"
       ]
      },
      {
       "output_type": "stream",
       "stream": "stdout",
       "text": [
        " 1653 TQQQ 01\n",
        "3658"
       ]
      },
      {
       "output_type": "stream",
       "stream": "stdout",
       "text": [
        " 1654 TQQQ 01\n",
        "3659"
       ]
      },
      {
       "output_type": "stream",
       "stream": "stdout",
       "text": [
        " 1655 TQQQ 01\n",
        "3660"
       ]
      },
      {
       "output_type": "stream",
       "stream": "stdout",
       "text": [
        " 1656 TQQQ 01\n",
        "3661"
       ]
      },
      {
       "output_type": "stream",
       "stream": "stdout",
       "text": [
        " 1657 TQQQ 01\n",
        "3662"
       ]
      },
      {
       "output_type": "stream",
       "stream": "stdout",
       "text": [
        " 1658 TQQQ 01\n",
        "3663"
       ]
      },
      {
       "output_type": "stream",
       "stream": "stdout",
       "text": [
        " 1659 TQQQ 01\n",
        "3664"
       ]
      },
      {
       "output_type": "stream",
       "stream": "stdout",
       "text": [
        " 1660 TQQQ 01\n",
        "3665"
       ]
      },
      {
       "output_type": "stream",
       "stream": "stdout",
       "text": [
        " 1661 TQQQ 01\n",
        "3666"
       ]
      },
      {
       "output_type": "stream",
       "stream": "stdout",
       "text": [
        " 1662 TQQQ 01\n",
        "3667"
       ]
      },
      {
       "output_type": "stream",
       "stream": "stdout",
       "text": [
        " 1663 TQQQ 01\n",
        "3668"
       ]
      },
      {
       "output_type": "stream",
       "stream": "stdout",
       "text": [
        " 1664 TQQQ 01\n",
        "3669"
       ]
      },
      {
       "output_type": "stream",
       "stream": "stdout",
       "text": [
        " 1665 TQQQ 01\n",
        "3670"
       ]
      },
      {
       "output_type": "stream",
       "stream": "stdout",
       "text": [
        " 1666 TQQQ 01\n",
        "3671"
       ]
      },
      {
       "output_type": "stream",
       "stream": "stdout",
       "text": [
        " 1667 TQQQ 01\n",
        "3672"
       ]
      },
      {
       "output_type": "stream",
       "stream": "stdout",
       "text": [
        " 1668 TQQQ 01\n",
        "3673"
       ]
      },
      {
       "output_type": "stream",
       "stream": "stdout",
       "text": [
        " 1669 TQQQ 01\n",
        "3674"
       ]
      },
      {
       "output_type": "stream",
       "stream": "stdout",
       "text": [
        " 1670 TQQQ 01\n",
        "3675"
       ]
      },
      {
       "output_type": "stream",
       "stream": "stdout",
       "text": [
        " 1671 TQQQ 01\n",
        "3676"
       ]
      },
      {
       "output_type": "stream",
       "stream": "stdout",
       "text": [
        " 1672 TQQQ 01\n",
        "3677"
       ]
      },
      {
       "output_type": "stream",
       "stream": "stdout",
       "text": [
        " 1673 TQQQ 01\n",
        "3678"
       ]
      },
      {
       "output_type": "stream",
       "stream": "stdout",
       "text": [
        " 1674 TQQQ 01\n",
        "3679"
       ]
      },
      {
       "output_type": "stream",
       "stream": "stdout",
       "text": [
        " 1675 TQQQ 01\n",
        "3680"
       ]
      },
      {
       "output_type": "stream",
       "stream": "stdout",
       "text": [
        " 1676 TQQQ 01\n",
        "3681"
       ]
      },
      {
       "output_type": "stream",
       "stream": "stdout",
       "text": [
        " 1677 TQQQ 01\n",
        "3682"
       ]
      },
      {
       "output_type": "stream",
       "stream": "stdout",
       "text": [
        " 1678 TQQQ 01\n",
        "3683"
       ]
      },
      {
       "output_type": "stream",
       "stream": "stdout",
       "text": [
        " 1679 TQQQ 01\n",
        "3684"
       ]
      },
      {
       "output_type": "stream",
       "stream": "stdout",
       "text": [
        " 1680 TQQQ 01\n",
        "3685"
       ]
      },
      {
       "output_type": "stream",
       "stream": "stdout",
       "text": [
        " 1681 TQQQ 01\n",
        "3686"
       ]
      },
      {
       "output_type": "stream",
       "stream": "stdout",
       "text": [
        " 1682 TQQQ 01\n",
        "3687"
       ]
      },
      {
       "output_type": "stream",
       "stream": "stdout",
       "text": [
        " 1683 TQQQ 01\n",
        "3688"
       ]
      },
      {
       "output_type": "stream",
       "stream": "stdout",
       "text": [
        " 1684 TQQQ 01\n",
        "3689"
       ]
      },
      {
       "output_type": "stream",
       "stream": "stdout",
       "text": [
        " 1685 TQQQ 01\n",
        "3690"
       ]
      },
      {
       "output_type": "stream",
       "stream": "stdout",
       "text": [
        " 1686 TQQQ 01\n",
        "3691"
       ]
      },
      {
       "output_type": "stream",
       "stream": "stdout",
       "text": [
        " 1687 TQQQ 01\n",
        "3692"
       ]
      },
      {
       "output_type": "stream",
       "stream": "stdout",
       "text": [
        " 1688 TQQQ 01\n",
        "3693"
       ]
      },
      {
       "output_type": "stream",
       "stream": "stdout",
       "text": [
        " 1689 TQQQ 01\n",
        "3694"
       ]
      },
      {
       "output_type": "stream",
       "stream": "stdout",
       "text": [
        " 1690 TQQQ 01\n",
        "3695"
       ]
      },
      {
       "output_type": "stream",
       "stream": "stdout",
       "text": [
        " 1691 TQQQ 01\n",
        "3696"
       ]
      },
      {
       "output_type": "stream",
       "stream": "stdout",
       "text": [
        " 1692 TQQQ 01\n",
        "3697"
       ]
      },
      {
       "output_type": "stream",
       "stream": "stdout",
       "text": [
        " 1693 TQQQ 01\n",
        "3698"
       ]
      },
      {
       "output_type": "stream",
       "stream": "stdout",
       "text": [
        " 1694 TQQQ 01\n",
        "3699"
       ]
      },
      {
       "output_type": "stream",
       "stream": "stdout",
       "text": [
        " 1695 TQQQ 01\n",
        "3700"
       ]
      },
      {
       "output_type": "stream",
       "stream": "stdout",
       "text": [
        " 1696 TQQQ 01\n",
        "3701"
       ]
      },
      {
       "output_type": "stream",
       "stream": "stdout",
       "text": [
        " 1697 TQQQ 01\n",
        "3702"
       ]
      },
      {
       "output_type": "stream",
       "stream": "stdout",
       "text": [
        " 1698 TQQQ 01\n",
        "3703"
       ]
      },
      {
       "output_type": "stream",
       "stream": "stdout",
       "text": [
        " 1699 TQQQ 01\n",
        "3704"
       ]
      },
      {
       "output_type": "stream",
       "stream": "stdout",
       "text": [
        " 1700 TQQQ 01\n",
        "3705"
       ]
      },
      {
       "output_type": "stream",
       "stream": "stdout",
       "text": [
        " 1701 TQQQ 01\n",
        "3706"
       ]
      },
      {
       "output_type": "stream",
       "stream": "stdout",
       "text": [
        " 1702 TQQQ 01\n",
        "3707"
       ]
      },
      {
       "output_type": "stream",
       "stream": "stdout",
       "text": [
        " 1703 TQQQ 01\n",
        "3708"
       ]
      },
      {
       "output_type": "stream",
       "stream": "stdout",
       "text": [
        " 1704 TQQQ 01\n",
        "3709"
       ]
      },
      {
       "output_type": "stream",
       "stream": "stdout",
       "text": [
        " 1705 TQQQ 01\n",
        "3710"
       ]
      },
      {
       "output_type": "stream",
       "stream": "stdout",
       "text": [
        " 1706 TQQQ 01\n",
        "3711"
       ]
      },
      {
       "output_type": "stream",
       "stream": "stdout",
       "text": [
        " 1707 TQQQ 01\n",
        "3712"
       ]
      },
      {
       "output_type": "stream",
       "stream": "stdout",
       "text": [
        " 1708 TQQQ 01\n",
        "3713"
       ]
      },
      {
       "output_type": "stream",
       "stream": "stdout",
       "text": [
        " 1709 TQQQ 01\n",
        "3714"
       ]
      },
      {
       "output_type": "stream",
       "stream": "stdout",
       "text": [
        " 1710 TQQQ 01\n",
        "3715"
       ]
      },
      {
       "output_type": "stream",
       "stream": "stdout",
       "text": [
        " 1711 TQQQ 01\n",
        "3716"
       ]
      },
      {
       "output_type": "stream",
       "stream": "stdout",
       "text": [
        " 1712 TQQQ 01\n",
        "3717"
       ]
      },
      {
       "output_type": "stream",
       "stream": "stdout",
       "text": [
        " 1713 TQQQ 01\n",
        "3718"
       ]
      },
      {
       "output_type": "stream",
       "stream": "stdout",
       "text": [
        " 1714 TQQQ 01\n",
        "3719"
       ]
      },
      {
       "output_type": "stream",
       "stream": "stdout",
       "text": [
        " 1715 TQQQ 01\n",
        "3720"
       ]
      },
      {
       "output_type": "stream",
       "stream": "stdout",
       "text": [
        " 1716 TQQQ 01\n",
        "3721"
       ]
      },
      {
       "output_type": "stream",
       "stream": "stdout",
       "text": [
        " 1717 TQQQ 01\n",
        "3722"
       ]
      },
      {
       "output_type": "stream",
       "stream": "stdout",
       "text": [
        " 1718 TQQQ 01\n",
        "3723"
       ]
      },
      {
       "output_type": "stream",
       "stream": "stdout",
       "text": [
        " 1719 TQQQ 01\n",
        "3724"
       ]
      },
      {
       "output_type": "stream",
       "stream": "stdout",
       "text": [
        " 1720 TQQQ 01\n",
        "3725"
       ]
      },
      {
       "output_type": "stream",
       "stream": "stdout",
       "text": [
        " 1721 TQQQ 01\n",
        "3726"
       ]
      },
      {
       "output_type": "stream",
       "stream": "stdout",
       "text": [
        " 1722 TQQQ 01\n",
        "3727"
       ]
      },
      {
       "output_type": "stream",
       "stream": "stdout",
       "text": [
        " 1723 TQQQ 01\n",
        "3728"
       ]
      },
      {
       "output_type": "stream",
       "stream": "stdout",
       "text": [
        " 1724 TQQQ 01\n",
        "3729"
       ]
      },
      {
       "output_type": "stream",
       "stream": "stdout",
       "text": [
        " 1725 TQQQ 01\n",
        "3730"
       ]
      },
      {
       "output_type": "stream",
       "stream": "stdout",
       "text": [
        " 1726 TQQQ 01\n",
        "3731"
       ]
      },
      {
       "output_type": "stream",
       "stream": "stdout",
       "text": [
        " 1727 TQQQ 01\n",
        "3732"
       ]
      },
      {
       "output_type": "stream",
       "stream": "stdout",
       "text": [
        " 1728 TQQQ 01\n",
        "3733"
       ]
      },
      {
       "output_type": "stream",
       "stream": "stdout",
       "text": [
        " 1729 TQQQ 01\n",
        "3734"
       ]
      },
      {
       "output_type": "stream",
       "stream": "stdout",
       "text": [
        " 1730 TQQQ 01\n",
        "3735"
       ]
      },
      {
       "output_type": "stream",
       "stream": "stdout",
       "text": [
        " 1731 TQQQ 01\n",
        "3736"
       ]
      },
      {
       "output_type": "stream",
       "stream": "stdout",
       "text": [
        " 1732 TQQQ 01\n",
        "3737"
       ]
      },
      {
       "output_type": "stream",
       "stream": "stdout",
       "text": [
        " 1733 TQQQ 01\n",
        "3738"
       ]
      },
      {
       "output_type": "stream",
       "stream": "stdout",
       "text": [
        " 1734 TQQQ 01\n",
        "3739"
       ]
      },
      {
       "output_type": "stream",
       "stream": "stdout",
       "text": [
        " 1735 TQQQ 01\n",
        "3740"
       ]
      },
      {
       "output_type": "stream",
       "stream": "stdout",
       "text": [
        " 1736 TQQQ 01\n",
        "3741"
       ]
      },
      {
       "output_type": "stream",
       "stream": "stdout",
       "text": [
        " 1737 TQQQ 01\n",
        "3742"
       ]
      },
      {
       "output_type": "stream",
       "stream": "stdout",
       "text": [
        " 1738 TQQQ 01\n",
        "3743"
       ]
      },
      {
       "output_type": "stream",
       "stream": "stdout",
       "text": [
        " 1739 TQQQ 01\n",
        "3744"
       ]
      },
      {
       "output_type": "stream",
       "stream": "stdout",
       "text": [
        " 1740 TQQQ 01\n",
        "3745"
       ]
      },
      {
       "output_type": "stream",
       "stream": "stdout",
       "text": [
        " 1741 TQQQ 01\n",
        "3746"
       ]
      },
      {
       "output_type": "stream",
       "stream": "stdout",
       "text": [
        " 1742 TQQQ 01\n",
        "3747"
       ]
      },
      {
       "output_type": "stream",
       "stream": "stdout",
       "text": [
        " 1743 TQQQ 01\n",
        "3748"
       ]
      },
      {
       "output_type": "stream",
       "stream": "stdout",
       "text": [
        " 1744 TQQQ 01\n",
        "3749"
       ]
      },
      {
       "output_type": "stream",
       "stream": "stdout",
       "text": [
        " 1745 TQQQ 01\n",
        "3750"
       ]
      },
      {
       "output_type": "stream",
       "stream": "stdout",
       "text": [
        " 1746 TQQQ 01\n",
        "3751"
       ]
      },
      {
       "output_type": "stream",
       "stream": "stdout",
       "text": [
        " 1747 TQQQ 01\n",
        "3752"
       ]
      },
      {
       "output_type": "stream",
       "stream": "stdout",
       "text": [
        " 1748 TQQQ 01\n",
        "3753"
       ]
      },
      {
       "output_type": "stream",
       "stream": "stdout",
       "text": [
        " 1749 TQQQ 01\n",
        "3754"
       ]
      },
      {
       "output_type": "stream",
       "stream": "stdout",
       "text": [
        " 1750 TQQQ 01\n",
        "3755"
       ]
      },
      {
       "output_type": "stream",
       "stream": "stdout",
       "text": [
        " 1751 TQQQ 01\n",
        "3756"
       ]
      },
      {
       "output_type": "stream",
       "stream": "stdout",
       "text": [
        " 1752 TQQQ 01\n",
        "3757"
       ]
      },
      {
       "output_type": "stream",
       "stream": "stdout",
       "text": [
        " 1753 TQQQ 01\n",
        "3758"
       ]
      },
      {
       "output_type": "stream",
       "stream": "stdout",
       "text": [
        " 1754 TQQQ 01\n",
        "3759"
       ]
      },
      {
       "output_type": "stream",
       "stream": "stdout",
       "text": [
        " 1755 TQQQ 01\n",
        "3760"
       ]
      },
      {
       "output_type": "stream",
       "stream": "stdout",
       "text": [
        " 1756 TQQQ 01\n",
        "3761"
       ]
      },
      {
       "output_type": "stream",
       "stream": "stdout",
       "text": [
        " 1757 TQQQ 01\n",
        "3762"
       ]
      },
      {
       "output_type": "stream",
       "stream": "stdout",
       "text": [
        " 1758 TQQQ 01\n",
        "3763"
       ]
      },
      {
       "output_type": "stream",
       "stream": "stdout",
       "text": [
        " 1759 TQQQ 01\n",
        "3764"
       ]
      },
      {
       "output_type": "stream",
       "stream": "stdout",
       "text": [
        " 1760 TQQQ 01\n",
        "3765"
       ]
      },
      {
       "output_type": "stream",
       "stream": "stdout",
       "text": [
        " 1761 TQQQ 01\n",
        "3766"
       ]
      },
      {
       "output_type": "stream",
       "stream": "stdout",
       "text": [
        " 1762 TQQQ 01\n",
        "3767"
       ]
      },
      {
       "output_type": "stream",
       "stream": "stdout",
       "text": [
        " 1763 TQQQ 01\n",
        "3768"
       ]
      },
      {
       "output_type": "stream",
       "stream": "stdout",
       "text": [
        " 1764 TQQQ 01\n",
        "3769"
       ]
      },
      {
       "output_type": "stream",
       "stream": "stdout",
       "text": [
        " 1765 TQQQ 01\n",
        "3770"
       ]
      },
      {
       "output_type": "stream",
       "stream": "stdout",
       "text": [
        " 1766 TQQQ 01\n",
        "3771"
       ]
      },
      {
       "output_type": "stream",
       "stream": "stdout",
       "text": [
        " 1767 TQQQ 01\n",
        "3772"
       ]
      },
      {
       "output_type": "stream",
       "stream": "stdout",
       "text": [
        " 1768 TQQQ 01\n",
        "3773"
       ]
      },
      {
       "output_type": "stream",
       "stream": "stdout",
       "text": [
        " 1769 TQQQ 01\n",
        "3774"
       ]
      },
      {
       "output_type": "stream",
       "stream": "stdout",
       "text": [
        " 1770 TQQQ 01\n",
        "3775"
       ]
      },
      {
       "output_type": "stream",
       "stream": "stdout",
       "text": [
        " 1771 TQQQ 01\n",
        "3776"
       ]
      },
      {
       "output_type": "stream",
       "stream": "stdout",
       "text": [
        " 1772 TQQQ 01\n",
        "3777"
       ]
      },
      {
       "output_type": "stream",
       "stream": "stdout",
       "text": [
        " 1773 TQQQ 01\n",
        "3778"
       ]
      },
      {
       "output_type": "stream",
       "stream": "stdout",
       "text": [
        " 1774 TQQQ 01\n",
        "3779"
       ]
      },
      {
       "output_type": "stream",
       "stream": "stdout",
       "text": [
        " 1775 TQQQ 02\n",
        "3780"
       ]
      },
      {
       "output_type": "stream",
       "stream": "stdout",
       "text": [
        " 1776 TQQQ 02\n",
        "3781"
       ]
      },
      {
       "output_type": "stream",
       "stream": "stdout",
       "text": [
        " 1777 TQQQ 02\n",
        "3782"
       ]
      },
      {
       "output_type": "stream",
       "stream": "stdout",
       "text": [
        " 1778 TQQQ 02\n",
        "3783"
       ]
      },
      {
       "output_type": "stream",
       "stream": "stdout",
       "text": [
        " 1779 TQQQ 02\n",
        "3784"
       ]
      },
      {
       "output_type": "stream",
       "stream": "stdout",
       "text": [
        " 1780 TQQQ 02\n",
        "3785"
       ]
      },
      {
       "output_type": "stream",
       "stream": "stdout",
       "text": [
        " 1781 TQQQ 02\n",
        "3786"
       ]
      },
      {
       "output_type": "stream",
       "stream": "stdout",
       "text": [
        " 1782 TQQQ 02\n",
        "3787"
       ]
      },
      {
       "output_type": "stream",
       "stream": "stdout",
       "text": [
        " 1783 TQQQ 02\n",
        "3788"
       ]
      },
      {
       "output_type": "stream",
       "stream": "stdout",
       "text": [
        " 1784 TQQQ 02\n",
        "3789"
       ]
      },
      {
       "output_type": "stream",
       "stream": "stdout",
       "text": [
        " 1785 TQQQ 02\n",
        "3790"
       ]
      },
      {
       "output_type": "stream",
       "stream": "stdout",
       "text": [
        " 1786 TQQQ 02\n",
        "3791"
       ]
      },
      {
       "output_type": "stream",
       "stream": "stdout",
       "text": [
        " 1787 TQQQ 02\n",
        "3792"
       ]
      },
      {
       "output_type": "stream",
       "stream": "stdout",
       "text": [
        " 1788 TQQQ 02\n",
        "3793"
       ]
      },
      {
       "output_type": "stream",
       "stream": "stdout",
       "text": [
        " 1789 TQQQ 02\n",
        "3794"
       ]
      },
      {
       "output_type": "stream",
       "stream": "stdout",
       "text": [
        " 1790 TQQQ 02\n",
        "3795"
       ]
      },
      {
       "output_type": "stream",
       "stream": "stdout",
       "text": [
        " 1791 TQQQ 02\n",
        "3796"
       ]
      },
      {
       "output_type": "stream",
       "stream": "stdout",
       "text": [
        " 1792 TQQQ 02\n",
        "3797"
       ]
      },
      {
       "output_type": "stream",
       "stream": "stdout",
       "text": [
        " 1793 TQQQ 02\n",
        "3798"
       ]
      },
      {
       "output_type": "stream",
       "stream": "stdout",
       "text": [
        " 1794 TQQQ 02\n",
        "3799"
       ]
      },
      {
       "output_type": "stream",
       "stream": "stdout",
       "text": [
        " 1795 TQQQ 02\n",
        "3800"
       ]
      },
      {
       "output_type": "stream",
       "stream": "stdout",
       "text": [
        " 1796 TQQQ 02\n",
        "3801"
       ]
      },
      {
       "output_type": "stream",
       "stream": "stdout",
       "text": [
        " 1797 TQQQ 02\n",
        "3802"
       ]
      },
      {
       "output_type": "stream",
       "stream": "stdout",
       "text": [
        " 1798 TQQQ 02\n",
        "3803"
       ]
      },
      {
       "output_type": "stream",
       "stream": "stdout",
       "text": [
        " 1799 TQQQ 02\n",
        "3804"
       ]
      },
      {
       "output_type": "stream",
       "stream": "stdout",
       "text": [
        " 1800 TQQQ 02\n",
        "3805"
       ]
      },
      {
       "output_type": "stream",
       "stream": "stdout",
       "text": [
        " 1801 TQQQ 02\n",
        "3806"
       ]
      },
      {
       "output_type": "stream",
       "stream": "stdout",
       "text": [
        " 1802 TQQQ 02\n",
        "3807"
       ]
      },
      {
       "output_type": "stream",
       "stream": "stdout",
       "text": [
        " 1803 TQQQ 02\n",
        "3808"
       ]
      },
      {
       "output_type": "stream",
       "stream": "stdout",
       "text": [
        " 1804 TQQQ 02\n",
        "3809"
       ]
      },
      {
       "output_type": "stream",
       "stream": "stdout",
       "text": [
        " 1805 TQQQ 02\n",
        "3810"
       ]
      },
      {
       "output_type": "stream",
       "stream": "stdout",
       "text": [
        " 1806 TQQQ 02\n",
        "3811"
       ]
      },
      {
       "output_type": "stream",
       "stream": "stdout",
       "text": [
        " 1807 TQQQ 02\n",
        "3812"
       ]
      },
      {
       "output_type": "stream",
       "stream": "stdout",
       "text": [
        " 1808 TQQQ 02\n",
        "3813"
       ]
      },
      {
       "output_type": "stream",
       "stream": "stdout",
       "text": [
        " 1809 TQQQ 02\n",
        "3814"
       ]
      },
      {
       "output_type": "stream",
       "stream": "stdout",
       "text": [
        " 1810 TQQQ 02\n",
        "3815"
       ]
      },
      {
       "output_type": "stream",
       "stream": "stdout",
       "text": [
        " 1811 TQQQ 02\n",
        "3816"
       ]
      },
      {
       "output_type": "stream",
       "stream": "stdout",
       "text": [
        " 1812 TQQQ 02\n",
        "3817"
       ]
      },
      {
       "output_type": "stream",
       "stream": "stdout",
       "text": [
        " 1813 TQQQ 02\n",
        "3818"
       ]
      },
      {
       "output_type": "stream",
       "stream": "stdout",
       "text": [
        " 1814 TQQQ 02\n",
        "3819"
       ]
      },
      {
       "output_type": "stream",
       "stream": "stdout",
       "text": [
        " 1815 TQQQ 02\n",
        "3820"
       ]
      },
      {
       "output_type": "stream",
       "stream": "stdout",
       "text": [
        " 1816 TQQQ 02\n",
        "3821"
       ]
      },
      {
       "output_type": "stream",
       "stream": "stdout",
       "text": [
        " 1817 TQQQ 02\n",
        "3822"
       ]
      },
      {
       "output_type": "stream",
       "stream": "stdout",
       "text": [
        " 1818 TQQQ 02\n",
        "3823"
       ]
      },
      {
       "output_type": "stream",
       "stream": "stdout",
       "text": [
        " 1819 TQQQ 02\n",
        "3824"
       ]
      },
      {
       "output_type": "stream",
       "stream": "stdout",
       "text": [
        " 1820 TQQQ 02\n",
        "3825"
       ]
      },
      {
       "output_type": "stream",
       "stream": "stdout",
       "text": [
        " 1821 TQQQ 02\n",
        "3826"
       ]
      },
      {
       "output_type": "stream",
       "stream": "stdout",
       "text": [
        " 1822 TQQQ 02\n",
        "3827"
       ]
      },
      {
       "output_type": "stream",
       "stream": "stdout",
       "text": [
        " 1823 TQQQ 02\n",
        "3828"
       ]
      },
      {
       "output_type": "stream",
       "stream": "stdout",
       "text": [
        " 1824 TQQQ 02\n",
        "3829"
       ]
      },
      {
       "output_type": "stream",
       "stream": "stdout",
       "text": [
        " 1825 TQQQ 02\n",
        "3830"
       ]
      },
      {
       "output_type": "stream",
       "stream": "stdout",
       "text": [
        " 1826 TQQQ 02\n",
        "3831"
       ]
      },
      {
       "output_type": "stream",
       "stream": "stdout",
       "text": [
        " 1827 TQQQ 02\n",
        "3832"
       ]
      },
      {
       "output_type": "stream",
       "stream": "stdout",
       "text": [
        " 1828 TQQQ 02\n",
        "3833"
       ]
      },
      {
       "output_type": "stream",
       "stream": "stdout",
       "text": [
        " 1829 TQQQ 02\n",
        "3834"
       ]
      },
      {
       "output_type": "stream",
       "stream": "stdout",
       "text": [
        " 1830 TQQQ 02\n",
        "3835"
       ]
      },
      {
       "output_type": "stream",
       "stream": "stdout",
       "text": [
        " 1831 TQQQ 02\n",
        "3836"
       ]
      },
      {
       "output_type": "stream",
       "stream": "stdout",
       "text": [
        " 1832 TQQQ 02\n",
        "3837"
       ]
      },
      {
       "output_type": "stream",
       "stream": "stdout",
       "text": [
        " 1833 TQQQ 02\n",
        "3838"
       ]
      },
      {
       "output_type": "stream",
       "stream": "stdout",
       "text": [
        " 1834 TQQQ 02\n",
        "3839"
       ]
      },
      {
       "output_type": "stream",
       "stream": "stdout",
       "text": [
        " 1835 TQQQ 02\n",
        "3840"
       ]
      },
      {
       "output_type": "stream",
       "stream": "stdout",
       "text": [
        " 1836 TQQQ 02\n",
        "3841"
       ]
      },
      {
       "output_type": "stream",
       "stream": "stdout",
       "text": [
        " 1837 TQQQ 02\n",
        "3842"
       ]
      },
      {
       "output_type": "stream",
       "stream": "stdout",
       "text": [
        " 1838 TQQQ 02\n",
        "3843"
       ]
      },
      {
       "output_type": "stream",
       "stream": "stdout",
       "text": [
        " 1839 TQQQ 02\n",
        "3844"
       ]
      },
      {
       "output_type": "stream",
       "stream": "stdout",
       "text": [
        " 1840 TQQQ 02\n",
        "3845"
       ]
      },
      {
       "output_type": "stream",
       "stream": "stdout",
       "text": [
        " 1841 TQQQ 02\n",
        "3846"
       ]
      },
      {
       "output_type": "stream",
       "stream": "stdout",
       "text": [
        " 1842 TQQQ 02\n",
        "3847"
       ]
      },
      {
       "output_type": "stream",
       "stream": "stdout",
       "text": [
        " 1843 TQQQ 02\n",
        "3848"
       ]
      },
      {
       "output_type": "stream",
       "stream": "stdout",
       "text": [
        " 1844 TQQQ 02\n",
        "3849"
       ]
      },
      {
       "output_type": "stream",
       "stream": "stdout",
       "text": [
        " 1845 TQQQ 02\n",
        "3850"
       ]
      },
      {
       "output_type": "stream",
       "stream": "stdout",
       "text": [
        " 1846 TQQQ 02\n",
        "3851"
       ]
      },
      {
       "output_type": "stream",
       "stream": "stdout",
       "text": [
        " 1847 TQQQ 02\n",
        "3852"
       ]
      },
      {
       "output_type": "stream",
       "stream": "stdout",
       "text": [
        " 1848 TQQQ 02\n",
        "3853"
       ]
      },
      {
       "output_type": "stream",
       "stream": "stdout",
       "text": [
        " 1849 TQQQ 02\n",
        "3854"
       ]
      },
      {
       "output_type": "stream",
       "stream": "stdout",
       "text": [
        " 1850 TQQQ 02\n",
        "3855"
       ]
      },
      {
       "output_type": "stream",
       "stream": "stdout",
       "text": [
        " 1851 TQQQ 02\n",
        "3856"
       ]
      },
      {
       "output_type": "stream",
       "stream": "stdout",
       "text": [
        " 1852 TQQQ 02\n",
        "3857"
       ]
      },
      {
       "output_type": "stream",
       "stream": "stdout",
       "text": [
        " 1853 TQQQ 02\n",
        "3858"
       ]
      },
      {
       "output_type": "stream",
       "stream": "stdout",
       "text": [
        " 1854 TQQQ 02\n",
        "3859"
       ]
      },
      {
       "output_type": "stream",
       "stream": "stdout",
       "text": [
        " 1855 TQQQ 02\n",
        "3860"
       ]
      },
      {
       "output_type": "stream",
       "stream": "stdout",
       "text": [
        " 1856 TQQQ 02\n",
        "3861"
       ]
      },
      {
       "output_type": "stream",
       "stream": "stdout",
       "text": [
        " 1857 TQQQ 02\n",
        "3862"
       ]
      },
      {
       "output_type": "stream",
       "stream": "stdout",
       "text": [
        " 1858 TQQQ 02\n",
        "3863"
       ]
      },
      {
       "output_type": "stream",
       "stream": "stdout",
       "text": [
        " 1859 TQQQ 02\n",
        "3864"
       ]
      },
      {
       "output_type": "stream",
       "stream": "stdout",
       "text": [
        " 1860 TQQQ 02\n",
        "3865"
       ]
      },
      {
       "output_type": "stream",
       "stream": "stdout",
       "text": [
        " 1861 TQQQ 02\n",
        "3866"
       ]
      },
      {
       "output_type": "stream",
       "stream": "stdout",
       "text": [
        " 1862 TQQQ 02\n",
        "3867"
       ]
      },
      {
       "output_type": "stream",
       "stream": "stdout",
       "text": [
        " 1863 TQQQ 02\n",
        "3868"
       ]
      },
      {
       "output_type": "stream",
       "stream": "stdout",
       "text": [
        " 1864 TQQQ 02\n",
        "3869"
       ]
      },
      {
       "output_type": "stream",
       "stream": "stdout",
       "text": [
        " 1865 TQQQ 02\n",
        "3870"
       ]
      },
      {
       "output_type": "stream",
       "stream": "stdout",
       "text": [
        " 1866 TQQQ 02\n",
        "3871"
       ]
      },
      {
       "output_type": "stream",
       "stream": "stdout",
       "text": [
        " 1867 TQQQ 02\n",
        "3872"
       ]
      },
      {
       "output_type": "stream",
       "stream": "stdout",
       "text": [
        " 1868 TQQQ 02\n",
        "3873"
       ]
      },
      {
       "output_type": "stream",
       "stream": "stdout",
       "text": [
        " 1869 TQQQ 02\n",
        "3874"
       ]
      },
      {
       "output_type": "stream",
       "stream": "stdout",
       "text": [
        " 1870 TQQQ 02\n",
        "3875"
       ]
      },
      {
       "output_type": "stream",
       "stream": "stdout",
       "text": [
        " 1871 TQQQ 02\n",
        "3876"
       ]
      },
      {
       "output_type": "stream",
       "stream": "stdout",
       "text": [
        " 1872 TQQQ 02\n",
        "3877"
       ]
      },
      {
       "output_type": "stream",
       "stream": "stdout",
       "text": [
        " 1873 TQQQ 02\n",
        "3878"
       ]
      },
      {
       "output_type": "stream",
       "stream": "stdout",
       "text": [
        " 1874 TQQQ 02\n",
        "3879"
       ]
      },
      {
       "output_type": "stream",
       "stream": "stdout",
       "text": [
        " 1875 TQQQ 02\n",
        "3880"
       ]
      },
      {
       "output_type": "stream",
       "stream": "stdout",
       "text": [
        " 1876 TQQQ 02\n",
        "3881"
       ]
      },
      {
       "output_type": "stream",
       "stream": "stdout",
       "text": [
        " 1877 TQQQ 02\n",
        "3882"
       ]
      },
      {
       "output_type": "stream",
       "stream": "stdout",
       "text": [
        " 1878 TQQQ 02\n",
        "3883"
       ]
      },
      {
       "output_type": "stream",
       "stream": "stdout",
       "text": [
        " 1879 TQQQ 02\n",
        "3884"
       ]
      },
      {
       "output_type": "stream",
       "stream": "stdout",
       "text": [
        " 1880 TQQQ 02\n",
        "3885"
       ]
      },
      {
       "output_type": "stream",
       "stream": "stdout",
       "text": [
        " 1881 TQQQ 02\n",
        "3886"
       ]
      },
      {
       "output_type": "stream",
       "stream": "stdout",
       "text": [
        " 1882 TQQQ 02\n",
        "3887"
       ]
      },
      {
       "output_type": "stream",
       "stream": "stdout",
       "text": [
        " 1883 TQQQ 02\n",
        "3888"
       ]
      },
      {
       "output_type": "stream",
       "stream": "stdout",
       "text": [
        " 1884 TQQQ 02\n",
        "3889"
       ]
      },
      {
       "output_type": "stream",
       "stream": "stdout",
       "text": [
        " 1885 TQQQ 02\n",
        "3890"
       ]
      },
      {
       "output_type": "stream",
       "stream": "stdout",
       "text": [
        " 1886 TQQQ 02\n",
        "3891"
       ]
      },
      {
       "output_type": "stream",
       "stream": "stdout",
       "text": [
        " 1887 TQQQ 02\n",
        "3892"
       ]
      },
      {
       "output_type": "stream",
       "stream": "stdout",
       "text": [
        " 1888 TQQQ 02\n",
        "3893"
       ]
      },
      {
       "output_type": "stream",
       "stream": "stdout",
       "text": [
        " 1889 TQQQ 02\n",
        "3894"
       ]
      },
      {
       "output_type": "stream",
       "stream": "stdout",
       "text": [
        " 1890 TQQQ 02\n",
        "3895"
       ]
      },
      {
       "output_type": "stream",
       "stream": "stdout",
       "text": [
        " 1891 TQQQ 02\n",
        "3896"
       ]
      },
      {
       "output_type": "stream",
       "stream": "stdout",
       "text": [
        " 1892 TQQQ 02\n",
        "3897"
       ]
      },
      {
       "output_type": "stream",
       "stream": "stdout",
       "text": [
        " 1893 TQQQ 02\n",
        "3898"
       ]
      },
      {
       "output_type": "stream",
       "stream": "stdout",
       "text": [
        " 1894 TQQQ 02\n",
        "3899"
       ]
      },
      {
       "output_type": "stream",
       "stream": "stdout",
       "text": [
        " 1895 TQQQ 02\n",
        "3900"
       ]
      },
      {
       "output_type": "stream",
       "stream": "stdout",
       "text": [
        " 1896 TQQQ 02\n",
        "3901"
       ]
      },
      {
       "output_type": "stream",
       "stream": "stdout",
       "text": [
        " 1897 TQQQ 02\n",
        "3902"
       ]
      },
      {
       "output_type": "stream",
       "stream": "stdout",
       "text": [
        " 1898 TQQQ 02\n",
        "3903"
       ]
      },
      {
       "output_type": "stream",
       "stream": "stdout",
       "text": [
        " 1899 TQQQ 02\n",
        "3904"
       ]
      },
      {
       "output_type": "stream",
       "stream": "stdout",
       "text": [
        " 1900 TQQQ 02\n",
        "3905"
       ]
      },
      {
       "output_type": "stream",
       "stream": "stdout",
       "text": [
        " 1901 TQQQ 02\n",
        "3906"
       ]
      },
      {
       "output_type": "stream",
       "stream": "stdout",
       "text": [
        " 1902 TQQQ 02\n",
        "3907"
       ]
      },
      {
       "output_type": "stream",
       "stream": "stdout",
       "text": [
        " 1903 TQQQ 02\n",
        "3908"
       ]
      },
      {
       "output_type": "stream",
       "stream": "stdout",
       "text": [
        " 1904 TQQQ 02\n",
        "3909"
       ]
      },
      {
       "output_type": "stream",
       "stream": "stdout",
       "text": [
        " 1905 TQQQ 02\n",
        "3910"
       ]
      },
      {
       "output_type": "stream",
       "stream": "stdout",
       "text": [
        " 1906 TQQQ 02\n",
        "3911"
       ]
      },
      {
       "output_type": "stream",
       "stream": "stdout",
       "text": [
        " 1907 TQQQ 02\n",
        "3912"
       ]
      },
      {
       "output_type": "stream",
       "stream": "stdout",
       "text": [
        " 1908 TQQQ 02\n",
        "3913"
       ]
      },
      {
       "output_type": "stream",
       "stream": "stdout",
       "text": [
        " 1909 TQQQ 02\n",
        "3914"
       ]
      },
      {
       "output_type": "stream",
       "stream": "stdout",
       "text": [
        " 1910 TQQQ 02\n",
        "3915"
       ]
      },
      {
       "output_type": "stream",
       "stream": "stdout",
       "text": [
        " 1911 TQQQ 02\n",
        "3916"
       ]
      },
      {
       "output_type": "stream",
       "stream": "stdout",
       "text": [
        " 1912 TQQQ 02\n",
        "3917"
       ]
      },
      {
       "output_type": "stream",
       "stream": "stdout",
       "text": [
        " 1913 TQQQ 02\n",
        "3918"
       ]
      },
      {
       "output_type": "stream",
       "stream": "stdout",
       "text": [
        " 1914 TQQQ 02\n",
        "3919"
       ]
      },
      {
       "output_type": "stream",
       "stream": "stdout",
       "text": [
        " 1915 TQQQ 02\n",
        "3920"
       ]
      },
      {
       "output_type": "stream",
       "stream": "stdout",
       "text": [
        " 1916 TQQQ 02\n",
        "3921"
       ]
      },
      {
       "output_type": "stream",
       "stream": "stdout",
       "text": [
        " 1917 TQQQ 02\n",
        "3922"
       ]
      },
      {
       "output_type": "stream",
       "stream": "stdout",
       "text": [
        " 1918 TQQQ 02\n",
        "3923"
       ]
      },
      {
       "output_type": "stream",
       "stream": "stdout",
       "text": [
        " 1919 TQQQ 02\n",
        "3924"
       ]
      },
      {
       "output_type": "stream",
       "stream": "stdout",
       "text": [
        " 1920 TQQQ 02\n",
        "3925"
       ]
      },
      {
       "output_type": "stream",
       "stream": "stdout",
       "text": [
        " 1921 TQQQ 02\n",
        "3926"
       ]
      },
      {
       "output_type": "stream",
       "stream": "stdout",
       "text": [
        " 1922 TQQQ 02\n",
        "3927"
       ]
      },
      {
       "output_type": "stream",
       "stream": "stdout",
       "text": [
        " 1923 TQQQ 02\n",
        "3928"
       ]
      },
      {
       "output_type": "stream",
       "stream": "stdout",
       "text": [
        " 1924 TQQQ 02\n",
        "3929"
       ]
      },
      {
       "output_type": "stream",
       "stream": "stdout",
       "text": [
        " 1925 TQQQ 02\n",
        "3930"
       ]
      },
      {
       "output_type": "stream",
       "stream": "stdout",
       "text": [
        " 1926 TQQQ 02\n",
        "3931"
       ]
      },
      {
       "output_type": "stream",
       "stream": "stdout",
       "text": [
        " 1927 TQQQ 02\n",
        "3932"
       ]
      },
      {
       "output_type": "stream",
       "stream": "stdout",
       "text": [
        " 1928 TQQQ 02\n",
        "3933"
       ]
      },
      {
       "output_type": "stream",
       "stream": "stdout",
       "text": [
        " 1929 TQQQ 02\n",
        "3934"
       ]
      },
      {
       "output_type": "stream",
       "stream": "stdout",
       "text": [
        " 1930 TQQQ 02\n",
        "3935"
       ]
      },
      {
       "output_type": "stream",
       "stream": "stdout",
       "text": [
        " 1931 TQQQ 02\n",
        "3936"
       ]
      },
      {
       "output_type": "stream",
       "stream": "stdout",
       "text": [
        " 1932 TQQQ 02\n",
        "3937"
       ]
      },
      {
       "output_type": "stream",
       "stream": "stdout",
       "text": [
        " 1933 TQQQ 02\n",
        "3938"
       ]
      },
      {
       "output_type": "stream",
       "stream": "stdout",
       "text": [
        " 1934 TQQQ 02\n",
        "3939"
       ]
      },
      {
       "output_type": "stream",
       "stream": "stdout",
       "text": [
        " 1935 TQQQ 02\n",
        "3940"
       ]
      },
      {
       "output_type": "stream",
       "stream": "stdout",
       "text": [
        " 1936 TQQQ 02\n",
        "3941"
       ]
      },
      {
       "output_type": "stream",
       "stream": "stdout",
       "text": [
        " 1937 TQQQ 02\n",
        "3942"
       ]
      },
      {
       "output_type": "stream",
       "stream": "stdout",
       "text": [
        " 1938 TQQQ 02\n",
        "3943"
       ]
      },
      {
       "output_type": "stream",
       "stream": "stdout",
       "text": [
        " 1939 TQQQ 02\n",
        "3944"
       ]
      },
      {
       "output_type": "stream",
       "stream": "stdout",
       "text": [
        " 1940 TQQQ 02\n",
        "3945"
       ]
      },
      {
       "output_type": "stream",
       "stream": "stdout",
       "text": [
        " 1941 TQQQ 02\n",
        "3946"
       ]
      },
      {
       "output_type": "stream",
       "stream": "stdout",
       "text": [
        " 1942 TQQQ 02\n",
        "3947"
       ]
      },
      {
       "output_type": "stream",
       "stream": "stdout",
       "text": [
        " 1943 TQQQ 02\n",
        "3948"
       ]
      },
      {
       "output_type": "stream",
       "stream": "stdout",
       "text": [
        " 1944 TQQQ 02\n",
        "3949"
       ]
      },
      {
       "output_type": "stream",
       "stream": "stdout",
       "text": [
        " 1945 TQQQ 02\n",
        "3950"
       ]
      },
      {
       "output_type": "stream",
       "stream": "stdout",
       "text": [
        " 1946 TQQQ 02\n",
        "3951"
       ]
      },
      {
       "output_type": "stream",
       "stream": "stdout",
       "text": [
        " 1947 TQQQ 02\n",
        "3952"
       ]
      },
      {
       "output_type": "stream",
       "stream": "stdout",
       "text": [
        " 1948 TQQQ 02\n",
        "3953"
       ]
      },
      {
       "output_type": "stream",
       "stream": "stdout",
       "text": [
        " 1949 TQQQ 02\n",
        "3954"
       ]
      },
      {
       "output_type": "stream",
       "stream": "stdout",
       "text": [
        " 1950 TQQQ 02\n",
        "3955"
       ]
      },
      {
       "output_type": "stream",
       "stream": "stdout",
       "text": [
        " 1951 TQQQ 02\n",
        "3956"
       ]
      },
      {
       "output_type": "stream",
       "stream": "stdout",
       "text": [
        " 1952 TQQQ 02\n",
        "3957"
       ]
      },
      {
       "output_type": "stream",
       "stream": "stdout",
       "text": [
        " 1953 TQQQ 02\n",
        "3958"
       ]
      },
      {
       "output_type": "stream",
       "stream": "stdout",
       "text": [
        " 1954 TQQQ 02\n",
        "3959"
       ]
      },
      {
       "output_type": "stream",
       "stream": "stdout",
       "text": [
        " 1955 TQQQ 02\n",
        "3960"
       ]
      },
      {
       "output_type": "stream",
       "stream": "stdout",
       "text": [
        " 1956 TQQQ 02\n",
        "3961"
       ]
      },
      {
       "output_type": "stream",
       "stream": "stdout",
       "text": [
        " 1957 TQQQ 02\n",
        "3962"
       ]
      },
      {
       "output_type": "stream",
       "stream": "stdout",
       "text": [
        " 1958 TQQQ 02\n",
        "3963"
       ]
      },
      {
       "output_type": "stream",
       "stream": "stdout",
       "text": [
        " 1959 TQQQ 02\n",
        "3964"
       ]
      },
      {
       "output_type": "stream",
       "stream": "stdout",
       "text": [
        " 1960 TQQQ 02\n",
        "3965"
       ]
      },
      {
       "output_type": "stream",
       "stream": "stdout",
       "text": [
        " 1961 TQQQ 02\n",
        "3966"
       ]
      },
      {
       "output_type": "stream",
       "stream": "stdout",
       "text": [
        " 1962 TQQQ 02\n",
        "3967"
       ]
      },
      {
       "output_type": "stream",
       "stream": "stdout",
       "text": [
        " 1963 TQQQ 03\n",
        "3968"
       ]
      },
      {
       "output_type": "stream",
       "stream": "stdout",
       "text": [
        " 1964 TQQQ 03\n",
        "3969"
       ]
      },
      {
       "output_type": "stream",
       "stream": "stdout",
       "text": [
        " 1965 TQQQ 03\n",
        "3970"
       ]
      },
      {
       "output_type": "stream",
       "stream": "stdout",
       "text": [
        " 1966 TQQQ 03\n",
        "3971"
       ]
      },
      {
       "output_type": "stream",
       "stream": "stdout",
       "text": [
        " 1967 TQQQ 03\n",
        "3972"
       ]
      },
      {
       "output_type": "stream",
       "stream": "stdout",
       "text": [
        " 1968 TQQQ 03\n",
        "3973"
       ]
      },
      {
       "output_type": "stream",
       "stream": "stdout",
       "text": [
        " 1969 TQQQ 03\n",
        "3974"
       ]
      },
      {
       "output_type": "stream",
       "stream": "stdout",
       "text": [
        " 1970 TQQQ 03\n",
        "3975"
       ]
      },
      {
       "output_type": "stream",
       "stream": "stdout",
       "text": [
        " 1971 TQQQ 03\n",
        "3976"
       ]
      },
      {
       "output_type": "stream",
       "stream": "stdout",
       "text": [
        " 1972 TQQQ 03\n",
        "3977"
       ]
      },
      {
       "output_type": "stream",
       "stream": "stdout",
       "text": [
        " 1973 TQQQ 03\n",
        "3978"
       ]
      },
      {
       "output_type": "stream",
       "stream": "stdout",
       "text": [
        " 1974 TQQQ 03\n",
        "3979"
       ]
      },
      {
       "output_type": "stream",
       "stream": "stdout",
       "text": [
        " 1975 TQQQ 03\n",
        "3980"
       ]
      },
      {
       "output_type": "stream",
       "stream": "stdout",
       "text": [
        " 1976 TQQQ 03\n",
        "3981"
       ]
      },
      {
       "output_type": "stream",
       "stream": "stdout",
       "text": [
        " 1977 TQQQ 03\n",
        "3982"
       ]
      },
      {
       "output_type": "stream",
       "stream": "stdout",
       "text": [
        " 1978 TQQQ 03\n",
        "3983"
       ]
      },
      {
       "output_type": "stream",
       "stream": "stdout",
       "text": [
        " 1979 TQQQ 03\n",
        "3984"
       ]
      },
      {
       "output_type": "stream",
       "stream": "stdout",
       "text": [
        " 1980 TQQQ 03\n",
        "3985"
       ]
      },
      {
       "output_type": "stream",
       "stream": "stdout",
       "text": [
        " 1981 TQQQ 03\n",
        "3986"
       ]
      },
      {
       "output_type": "stream",
       "stream": "stdout",
       "text": [
        " 1982 TQQQ 03\n",
        "3987"
       ]
      },
      {
       "output_type": "stream",
       "stream": "stdout",
       "text": [
        " 1983 TQQQ 03\n",
        "3988"
       ]
      },
      {
       "output_type": "stream",
       "stream": "stdout",
       "text": [
        " 1984 TQQQ 03\n",
        "3989"
       ]
      },
      {
       "output_type": "stream",
       "stream": "stdout",
       "text": [
        " 1985 TQQQ 03\n",
        "3990"
       ]
      },
      {
       "output_type": "stream",
       "stream": "stdout",
       "text": [
        " 1986 TQQQ 03\n",
        "3991"
       ]
      },
      {
       "output_type": "stream",
       "stream": "stdout",
       "text": [
        " 1987 TQQQ 03\n",
        "3992"
       ]
      },
      {
       "output_type": "stream",
       "stream": "stdout",
       "text": [
        " 1988 TQQQ 03\n",
        "3993"
       ]
      },
      {
       "output_type": "stream",
       "stream": "stdout",
       "text": [
        " 1989 TQQQ 03\n",
        "3994"
       ]
      },
      {
       "output_type": "stream",
       "stream": "stdout",
       "text": [
        " 1990 TQQQ 03\n",
        "3995"
       ]
      },
      {
       "output_type": "stream",
       "stream": "stdout",
       "text": [
        " 1991 TQQQ 03\n",
        "3996"
       ]
      },
      {
       "output_type": "stream",
       "stream": "stdout",
       "text": [
        " 1992 TQQQ 03\n",
        "3997"
       ]
      },
      {
       "output_type": "stream",
       "stream": "stdout",
       "text": [
        " 1993 TQQQ 03\n",
        "3998"
       ]
      },
      {
       "output_type": "stream",
       "stream": "stdout",
       "text": [
        " 1994 TQQQ 03\n",
        "3999"
       ]
      },
      {
       "output_type": "stream",
       "stream": "stdout",
       "text": [
        " 1995 TQQQ 03\n",
        "4000"
       ]
      },
      {
       "output_type": "stream",
       "stream": "stdout",
       "text": [
        " 1996 TQQQ 03\n",
        "4001"
       ]
      },
      {
       "output_type": "stream",
       "stream": "stdout",
       "text": [
        " 1997 TQQQ 03\n",
        "4002"
       ]
      },
      {
       "output_type": "stream",
       "stream": "stdout",
       "text": [
        " 1998 TQQQ 03\n",
        "4003"
       ]
      },
      {
       "output_type": "stream",
       "stream": "stdout",
       "text": [
        " 1999 TQQQ 03\n",
        "4004"
       ]
      },
      {
       "output_type": "stream",
       "stream": "stdout",
       "text": [
        " 2000 TQQQ 03\n",
        "4005"
       ]
      },
      {
       "output_type": "stream",
       "stream": "stdout",
       "text": [
        " 2001 TQQQ 03\n",
        "4006"
       ]
      },
      {
       "output_type": "stream",
       "stream": "stdout",
       "text": [
        " 2002 TQQQ 03\n",
        "4007"
       ]
      },
      {
       "output_type": "stream",
       "stream": "stdout",
       "text": [
        " 2003 TQQQ 03\n",
        "4008"
       ]
      },
      {
       "output_type": "stream",
       "stream": "stdout",
       "text": [
        " 2004 TQQQ 03\n",
        "4009"
       ]
      },
      {
       "output_type": "stream",
       "stream": "stdout",
       "text": [
        " 2005 TQQQ 03\n",
        "4010"
       ]
      },
      {
       "output_type": "stream",
       "stream": "stdout",
       "text": [
        " 2006 TQQQ 03\n",
        "4011"
       ]
      },
      {
       "output_type": "stream",
       "stream": "stdout",
       "text": [
        " 2007 TQQQ 03\n",
        "4012"
       ]
      },
      {
       "output_type": "stream",
       "stream": "stdout",
       "text": [
        " 2008 TQQQ 03\n",
        "4013"
       ]
      },
      {
       "output_type": "stream",
       "stream": "stdout",
       "text": [
        " 2009 TQQQ 03\n",
        "4014"
       ]
      },
      {
       "output_type": "stream",
       "stream": "stdout",
       "text": [
        " 2010 TQQQ 03\n",
        "4015"
       ]
      },
      {
       "output_type": "stream",
       "stream": "stdout",
       "text": [
        " 2011 TQQQ 03\n",
        "4016"
       ]
      },
      {
       "output_type": "stream",
       "stream": "stdout",
       "text": [
        " 2012 TQQQ 03\n",
        "4017"
       ]
      },
      {
       "output_type": "stream",
       "stream": "stdout",
       "text": [
        " 2013 TQQQ 03\n",
        "4018"
       ]
      },
      {
       "output_type": "stream",
       "stream": "stdout",
       "text": [
        " 2014 TQQQ 03\n",
        "4019"
       ]
      },
      {
       "output_type": "stream",
       "stream": "stdout",
       "text": [
        " 2015 TQQQ 03\n",
        "4020"
       ]
      },
      {
       "output_type": "stream",
       "stream": "stdout",
       "text": [
        " 2016 TQQQ 03\n",
        "4021"
       ]
      },
      {
       "output_type": "stream",
       "stream": "stdout",
       "text": [
        " 2017 TQQQ 03\n",
        "4022"
       ]
      },
      {
       "output_type": "stream",
       "stream": "stdout",
       "text": [
        " 2018 TQQQ 03\n",
        "4023"
       ]
      },
      {
       "output_type": "stream",
       "stream": "stdout",
       "text": [
        " 2019 TQQQ 03\n",
        "4024"
       ]
      },
      {
       "output_type": "stream",
       "stream": "stdout",
       "text": [
        " 2020 TQQQ 03\n",
        "4025"
       ]
      },
      {
       "output_type": "stream",
       "stream": "stdout",
       "text": [
        " 2021 TQQQ 03\n",
        "4026"
       ]
      },
      {
       "output_type": "stream",
       "stream": "stdout",
       "text": [
        " 2022 TQQQ 03\n",
        "4027"
       ]
      },
      {
       "output_type": "stream",
       "stream": "stdout",
       "text": [
        " 2023 TQQQ 03\n",
        "4028"
       ]
      },
      {
       "output_type": "stream",
       "stream": "stdout",
       "text": [
        " 2024 TQQQ 03\n",
        "4029"
       ]
      },
      {
       "output_type": "stream",
       "stream": "stdout",
       "text": [
        " 2025 TQQQ 03\n",
        "4030"
       ]
      },
      {
       "output_type": "stream",
       "stream": "stdout",
       "text": [
        " 2026 TQQQ 03\n",
        "4031"
       ]
      },
      {
       "output_type": "stream",
       "stream": "stdout",
       "text": [
        " 2027 TQQQ 03\n",
        "4032"
       ]
      },
      {
       "output_type": "stream",
       "stream": "stdout",
       "text": [
        " 2028 TQQQ 03\n",
        "4033"
       ]
      },
      {
       "output_type": "stream",
       "stream": "stdout",
       "text": [
        " 2029 TQQQ 03\n",
        "4034"
       ]
      },
      {
       "output_type": "stream",
       "stream": "stdout",
       "text": [
        " 2030 TQQQ 03\n",
        "4035"
       ]
      },
      {
       "output_type": "stream",
       "stream": "stdout",
       "text": [
        " 2031 TQQQ 03\n",
        "4036"
       ]
      },
      {
       "output_type": "stream",
       "stream": "stdout",
       "text": [
        " 2032 TQQQ 03\n",
        "4037"
       ]
      },
      {
       "output_type": "stream",
       "stream": "stdout",
       "text": [
        " 2033 TQQQ 03\n",
        "4038"
       ]
      },
      {
       "output_type": "stream",
       "stream": "stdout",
       "text": [
        " 2034 TQQQ 03\n",
        "4039"
       ]
      },
      {
       "output_type": "stream",
       "stream": "stdout",
       "text": [
        " 2035 TQQQ 03\n",
        "4040"
       ]
      },
      {
       "output_type": "stream",
       "stream": "stdout",
       "text": [
        " 2036 TQQQ 03\n",
        "4041"
       ]
      },
      {
       "output_type": "stream",
       "stream": "stdout",
       "text": [
        " 2037 TQQQ 03\n",
        "4042"
       ]
      },
      {
       "output_type": "stream",
       "stream": "stdout",
       "text": [
        " 2038 TQQQ 03\n",
        "4043"
       ]
      },
      {
       "output_type": "stream",
       "stream": "stdout",
       "text": [
        " 2039 TQQQ 03\n",
        "4044"
       ]
      },
      {
       "output_type": "stream",
       "stream": "stdout",
       "text": [
        " 2040 TQQQ 03\n",
        "4045"
       ]
      },
      {
       "output_type": "stream",
       "stream": "stdout",
       "text": [
        " 2041 TQQQ 03\n",
        "4046"
       ]
      },
      {
       "output_type": "stream",
       "stream": "stdout",
       "text": [
        " 2042 TQQQ 03\n",
        "4047"
       ]
      },
      {
       "output_type": "stream",
       "stream": "stdout",
       "text": [
        " 2043 TQQQ 03\n",
        "4048"
       ]
      },
      {
       "output_type": "stream",
       "stream": "stdout",
       "text": [
        " 2044 TQQQ 03\n",
        "4049"
       ]
      },
      {
       "output_type": "stream",
       "stream": "stdout",
       "text": [
        " 2045 TQQQ 03\n",
        "4050"
       ]
      },
      {
       "output_type": "stream",
       "stream": "stdout",
       "text": [
        " 2046 TQQQ 03\n",
        "4051"
       ]
      },
      {
       "output_type": "stream",
       "stream": "stdout",
       "text": [
        " 2047 TQQQ 03\n",
        "4052"
       ]
      },
      {
       "output_type": "stream",
       "stream": "stdout",
       "text": [
        " 2048 TQQQ 03\n",
        "4053"
       ]
      },
      {
       "output_type": "stream",
       "stream": "stdout",
       "text": [
        " 2049 TQQQ 03\n",
        "4054"
       ]
      },
      {
       "output_type": "stream",
       "stream": "stdout",
       "text": [
        " 2050 TQQQ 03\n",
        "4055"
       ]
      },
      {
       "output_type": "stream",
       "stream": "stdout",
       "text": [
        " 2051 TQQQ 03\n",
        "4056"
       ]
      },
      {
       "output_type": "stream",
       "stream": "stdout",
       "text": [
        " 2052 TQQQ 03\n",
        "4057"
       ]
      },
      {
       "output_type": "stream",
       "stream": "stdout",
       "text": [
        " 2053 TQQQ 03\n",
        "4058"
       ]
      },
      {
       "output_type": "stream",
       "stream": "stdout",
       "text": [
        " 2054 TQQQ 03\n",
        "4059"
       ]
      },
      {
       "output_type": "stream",
       "stream": "stdout",
       "text": [
        " 2055 TQQQ 03\n",
        "4060"
       ]
      },
      {
       "output_type": "stream",
       "stream": "stdout",
       "text": [
        " 2056 TQQQ 03\n",
        "4061"
       ]
      },
      {
       "output_type": "stream",
       "stream": "stdout",
       "text": [
        " 2057 TQQQ 03\n",
        "4062"
       ]
      },
      {
       "output_type": "stream",
       "stream": "stdout",
       "text": [
        " 2058 TQQQ 03\n",
        "4063"
       ]
      },
      {
       "output_type": "stream",
       "stream": "stdout",
       "text": [
        " 2059 TQQQ 03\n",
        "4064"
       ]
      },
      {
       "output_type": "stream",
       "stream": "stdout",
       "text": [
        " 2060 TQQQ 03\n",
        "4065"
       ]
      },
      {
       "output_type": "stream",
       "stream": "stdout",
       "text": [
        " 2061 TQQQ 03\n",
        "4066"
       ]
      },
      {
       "output_type": "stream",
       "stream": "stdout",
       "text": [
        " 2062 TQQQ 03\n",
        "4067"
       ]
      },
      {
       "output_type": "stream",
       "stream": "stdout",
       "text": [
        " 2063 TQQQ 03\n",
        "4068"
       ]
      },
      {
       "output_type": "stream",
       "stream": "stdout",
       "text": [
        " 2064 TQQQ 03\n",
        "4069"
       ]
      },
      {
       "output_type": "stream",
       "stream": "stdout",
       "text": [
        " 2065 TQQQ 03\n",
        "4070"
       ]
      },
      {
       "output_type": "stream",
       "stream": "stdout",
       "text": [
        " 2066 TQQQ 03\n",
        "4071"
       ]
      },
      {
       "output_type": "stream",
       "stream": "stdout",
       "text": [
        " 2067 TQQQ 03\n",
        "4072"
       ]
      },
      {
       "output_type": "stream",
       "stream": "stdout",
       "text": [
        " 2068 TQQQ 03\n",
        "4073"
       ]
      },
      {
       "output_type": "stream",
       "stream": "stdout",
       "text": [
        " 2069 TQQQ 03\n",
        "4074"
       ]
      },
      {
       "output_type": "stream",
       "stream": "stdout",
       "text": [
        " 2070 TQQQ 03\n",
        "4075"
       ]
      },
      {
       "output_type": "stream",
       "stream": "stdout",
       "text": [
        " 2071 TQQQ 03\n",
        "4076"
       ]
      },
      {
       "output_type": "stream",
       "stream": "stdout",
       "text": [
        " 2072 TQQQ 03\n",
        "4077"
       ]
      },
      {
       "output_type": "stream",
       "stream": "stdout",
       "text": [
        " 2073 TQQQ 03\n",
        "4078"
       ]
      },
      {
       "output_type": "stream",
       "stream": "stdout",
       "text": [
        " 2074 TQQQ 03\n",
        "4079"
       ]
      },
      {
       "output_type": "stream",
       "stream": "stdout",
       "text": [
        " 2075 TQQQ 03\n",
        "4080"
       ]
      },
      {
       "output_type": "stream",
       "stream": "stdout",
       "text": [
        " 2076 TQQQ 03\n",
        "4081"
       ]
      },
      {
       "output_type": "stream",
       "stream": "stdout",
       "text": [
        " 2077 TQQQ 03\n",
        "4082"
       ]
      },
      {
       "output_type": "stream",
       "stream": "stdout",
       "text": [
        " 2078 TQQQ 03\n",
        "4083"
       ]
      },
      {
       "output_type": "stream",
       "stream": "stdout",
       "text": [
        " 2079 TQQQ 03\n",
        "4084"
       ]
      },
      {
       "output_type": "stream",
       "stream": "stdout",
       "text": [
        " 2080 TQQQ 03\n",
        "4085"
       ]
      },
      {
       "output_type": "stream",
       "stream": "stdout",
       "text": [
        " 2081 TQQQ 03\n",
        "4086"
       ]
      },
      {
       "output_type": "stream",
       "stream": "stdout",
       "text": [
        " 2082 TQQQ 03\n",
        "4087"
       ]
      },
      {
       "output_type": "stream",
       "stream": "stdout",
       "text": [
        " 2083 TQQQ 03\n",
        "4088"
       ]
      },
      {
       "output_type": "stream",
       "stream": "stdout",
       "text": [
        " 2084 TQQQ 03\n",
        "4089"
       ]
      },
      {
       "output_type": "stream",
       "stream": "stdout",
       "text": [
        " 2085 TQQQ 03\n",
        "4090"
       ]
      },
      {
       "output_type": "stream",
       "stream": "stdout",
       "text": [
        " 2086 TQQQ 03\n",
        "4091"
       ]
      },
      {
       "output_type": "stream",
       "stream": "stdout",
       "text": [
        " 2087 TQQQ 03\n",
        "4092"
       ]
      },
      {
       "output_type": "stream",
       "stream": "stdout",
       "text": [
        " 2088 TQQQ 03\n",
        "4093"
       ]
      },
      {
       "output_type": "stream",
       "stream": "stdout",
       "text": [
        " 2089 TQQQ 03\n",
        "4094"
       ]
      },
      {
       "output_type": "stream",
       "stream": "stdout",
       "text": [
        " 2090 TQQQ 03\n",
        "4095"
       ]
      },
      {
       "output_type": "stream",
       "stream": "stdout",
       "text": [
        " 2091 TQQQ 03\n",
        "4096"
       ]
      },
      {
       "output_type": "stream",
       "stream": "stdout",
       "text": [
        " 2092 TQQQ 03\n",
        "4097"
       ]
      },
      {
       "output_type": "stream",
       "stream": "stdout",
       "text": [
        " 2093 TQQQ 03\n",
        "4098"
       ]
      },
      {
       "output_type": "stream",
       "stream": "stdout",
       "text": [
        " 2094 TQQQ 03\n",
        "4099"
       ]
      },
      {
       "output_type": "stream",
       "stream": "stdout",
       "text": [
        " 2095 TQQQ 03\n",
        "4100"
       ]
      },
      {
       "output_type": "stream",
       "stream": "stdout",
       "text": [
        " 2096 TQQQ 03\n",
        "4101"
       ]
      },
      {
       "output_type": "stream",
       "stream": "stdout",
       "text": [
        " 2097 TQQQ 03\n",
        "4102"
       ]
      },
      {
       "output_type": "stream",
       "stream": "stdout",
       "text": [
        " 2098 TQQQ 03\n",
        "4103"
       ]
      },
      {
       "output_type": "stream",
       "stream": "stdout",
       "text": [
        " 2099 TQQQ 03\n",
        "4104"
       ]
      },
      {
       "output_type": "stream",
       "stream": "stdout",
       "text": [
        " 2100 TQQQ 03\n",
        "4105"
       ]
      },
      {
       "output_type": "stream",
       "stream": "stdout",
       "text": [
        " 2101 TQQQ 03\n",
        "4106"
       ]
      },
      {
       "output_type": "stream",
       "stream": "stdout",
       "text": [
        " 2102 TQQQ 03\n",
        "4107"
       ]
      },
      {
       "output_type": "stream",
       "stream": "stdout",
       "text": [
        " 2103 TQQQ 03\n",
        "4108"
       ]
      },
      {
       "output_type": "stream",
       "stream": "stdout",
       "text": [
        " 2104 TQQQ 03\n",
        "4109"
       ]
      },
      {
       "output_type": "stream",
       "stream": "stdout",
       "text": [
        " 2105 TQQQ 06\n",
        "4110"
       ]
      },
      {
       "output_type": "stream",
       "stream": "stdout",
       "text": [
        " 2106 TQQQ 06\n",
        "4111"
       ]
      },
      {
       "output_type": "stream",
       "stream": "stdout",
       "text": [
        " 2107 TQQQ 06\n",
        "4112"
       ]
      },
      {
       "output_type": "stream",
       "stream": "stdout",
       "text": [
        " 2108 TQQQ 06\n",
        "4113"
       ]
      },
      {
       "output_type": "stream",
       "stream": "stdout",
       "text": [
        " 2109 TQQQ 06\n",
        "4114"
       ]
      },
      {
       "output_type": "stream",
       "stream": "stdout",
       "text": [
        " 2110 TQQQ 06\n",
        "4115"
       ]
      },
      {
       "output_type": "stream",
       "stream": "stdout",
       "text": [
        " 2111 TQQQ 06\n",
        "4116"
       ]
      },
      {
       "output_type": "stream",
       "stream": "stdout",
       "text": [
        " 2112 TQQQ 06\n",
        "4117"
       ]
      },
      {
       "output_type": "stream",
       "stream": "stdout",
       "text": [
        " 2113 TQQQ 06\n",
        "4118"
       ]
      },
      {
       "output_type": "stream",
       "stream": "stdout",
       "text": [
        " 2114 TQQQ 06\n",
        "4119"
       ]
      },
      {
       "output_type": "stream",
       "stream": "stdout",
       "text": [
        " 2115 TQQQ 06\n",
        "4120"
       ]
      },
      {
       "output_type": "stream",
       "stream": "stdout",
       "text": [
        " 2116 TQQQ 06\n",
        "4121"
       ]
      },
      {
       "output_type": "stream",
       "stream": "stdout",
       "text": [
        " 2117 TQQQ 06\n",
        "4122"
       ]
      },
      {
       "output_type": "stream",
       "stream": "stdout",
       "text": [
        " 2118 TQQQ 06\n",
        "4123"
       ]
      },
      {
       "output_type": "stream",
       "stream": "stdout",
       "text": [
        " 2119 TQQQ 06\n",
        "4124"
       ]
      },
      {
       "output_type": "stream",
       "stream": "stdout",
       "text": [
        " 2120 TQQQ 06\n",
        "4125"
       ]
      },
      {
       "output_type": "stream",
       "stream": "stdout",
       "text": [
        " 2121 TQQQ 06\n",
        "4126"
       ]
      },
      {
       "output_type": "stream",
       "stream": "stdout",
       "text": [
        " 2122 TQQQ 06\n",
        "4127"
       ]
      },
      {
       "output_type": "stream",
       "stream": "stdout",
       "text": [
        " 2123 TQQQ 06\n",
        "4128"
       ]
      },
      {
       "output_type": "stream",
       "stream": "stdout",
       "text": [
        " 2124 TQQQ 06\n",
        "4129"
       ]
      },
      {
       "output_type": "stream",
       "stream": "stdout",
       "text": [
        " 2125 TQQQ 06\n",
        "4130"
       ]
      },
      {
       "output_type": "stream",
       "stream": "stdout",
       "text": [
        " 2126 TQQQ 06\n",
        "4131"
       ]
      },
      {
       "output_type": "stream",
       "stream": "stdout",
       "text": [
        " 2127 TQQQ 06\n",
        "4132"
       ]
      },
      {
       "output_type": "stream",
       "stream": "stdout",
       "text": [
        " 2128 TQQQ 06\n",
        "4133"
       ]
      },
      {
       "output_type": "stream",
       "stream": "stdout",
       "text": [
        " 2129 TQQQ 06\n",
        "4134"
       ]
      },
      {
       "output_type": "stream",
       "stream": "stdout",
       "text": [
        " 2130 TQQQ 06\n",
        "4135"
       ]
      },
      {
       "output_type": "stream",
       "stream": "stdout",
       "text": [
        " 2131 TQQQ 06\n",
        "4136"
       ]
      },
      {
       "output_type": "stream",
       "stream": "stdout",
       "text": [
        " 2132 TQQQ 06\n",
        "4137"
       ]
      },
      {
       "output_type": "stream",
       "stream": "stdout",
       "text": [
        " 2133 TQQQ 06\n",
        "4138"
       ]
      },
      {
       "output_type": "stream",
       "stream": "stdout",
       "text": [
        " 2134 TQQQ 06\n",
        "4139"
       ]
      },
      {
       "output_type": "stream",
       "stream": "stdout",
       "text": [
        " 2135 TQQQ 06\n",
        "4140"
       ]
      },
      {
       "output_type": "stream",
       "stream": "stdout",
       "text": [
        " 2136 TQQQ 06\n",
        "4141"
       ]
      },
      {
       "output_type": "stream",
       "stream": "stdout",
       "text": [
        " 2137 TQQQ 06\n",
        "4142"
       ]
      },
      {
       "output_type": "stream",
       "stream": "stdout",
       "text": [
        " 2138 TQQQ 06\n",
        "4143"
       ]
      },
      {
       "output_type": "stream",
       "stream": "stdout",
       "text": [
        " 2139 TQQQ 06\n",
        "4144"
       ]
      },
      {
       "output_type": "stream",
       "stream": "stdout",
       "text": [
        " 2140 TQQQ 06\n",
        "4145"
       ]
      },
      {
       "output_type": "stream",
       "stream": "stdout",
       "text": [
        " 2141 TQQQ 06\n",
        "4146"
       ]
      },
      {
       "output_type": "stream",
       "stream": "stdout",
       "text": [
        " 2142 TQQQ 06\n",
        "4147"
       ]
      },
      {
       "output_type": "stream",
       "stream": "stdout",
       "text": [
        " 2143 TQQQ 06\n",
        "4148"
       ]
      },
      {
       "output_type": "stream",
       "stream": "stdout",
       "text": [
        " 2144 TQQQ 06\n",
        "4149"
       ]
      },
      {
       "output_type": "stream",
       "stream": "stdout",
       "text": [
        " 2145 TQQQ 06\n",
        "4150"
       ]
      },
      {
       "output_type": "stream",
       "stream": "stdout",
       "text": [
        " 2146 TQQQ 06\n",
        "4151"
       ]
      },
      {
       "output_type": "stream",
       "stream": "stdout",
       "text": [
        " 2147 TQQQ 06\n",
        "4152"
       ]
      },
      {
       "output_type": "stream",
       "stream": "stdout",
       "text": [
        " 2148 TQQQ 06\n",
        "4153"
       ]
      },
      {
       "output_type": "stream",
       "stream": "stdout",
       "text": [
        " 2149 TQQQ 06\n",
        "4154"
       ]
      },
      {
       "output_type": "stream",
       "stream": "stdout",
       "text": [
        " 2150 TQQQ 06\n",
        "4155"
       ]
      },
      {
       "output_type": "stream",
       "stream": "stdout",
       "text": [
        " 2151 TQQQ 06\n",
        "4156"
       ]
      },
      {
       "output_type": "stream",
       "stream": "stdout",
       "text": [
        " 2152 TQQQ 06\n",
        "4157"
       ]
      },
      {
       "output_type": "stream",
       "stream": "stdout",
       "text": [
        " 2153 TQQQ 06\n",
        "4158"
       ]
      },
      {
       "output_type": "stream",
       "stream": "stdout",
       "text": [
        " 2154 TQQQ 06\n",
        "4159"
       ]
      },
      {
       "output_type": "stream",
       "stream": "stdout",
       "text": [
        " 2155 TQQQ 06\n",
        "4160"
       ]
      },
      {
       "output_type": "stream",
       "stream": "stdout",
       "text": [
        " 2156 TQQQ 06\n",
        "4161"
       ]
      },
      {
       "output_type": "stream",
       "stream": "stdout",
       "text": [
        " 2157 TQQQ 06\n",
        "4162"
       ]
      },
      {
       "output_type": "stream",
       "stream": "stdout",
       "text": [
        " 2158 TQQQ 06\n",
        "4163"
       ]
      },
      {
       "output_type": "stream",
       "stream": "stdout",
       "text": [
        " 2159 TQQQ 06\n",
        "4164"
       ]
      },
      {
       "output_type": "stream",
       "stream": "stdout",
       "text": [
        " 2160 TQQQ 06\n",
        "4165"
       ]
      },
      {
       "output_type": "stream",
       "stream": "stdout",
       "text": [
        " 2161 TQQQ 06\n",
        "4166"
       ]
      },
      {
       "output_type": "stream",
       "stream": "stdout",
       "text": [
        " 2162 TQQQ 06\n",
        "4167"
       ]
      },
      {
       "output_type": "stream",
       "stream": "stdout",
       "text": [
        " 2163 TQQQ 06\n",
        "4168"
       ]
      },
      {
       "output_type": "stream",
       "stream": "stdout",
       "text": [
        " 2164 TQQQ 06\n",
        "4169"
       ]
      },
      {
       "output_type": "stream",
       "stream": "stdout",
       "text": [
        " 2165 TQQQ 06\n",
        "4170"
       ]
      },
      {
       "output_type": "stream",
       "stream": "stdout",
       "text": [
        " 2166 TQQQ 06\n",
        "4171"
       ]
      },
      {
       "output_type": "stream",
       "stream": "stdout",
       "text": [
        " 2167 TQQQ 06\n",
        "4172"
       ]
      },
      {
       "output_type": "stream",
       "stream": "stdout",
       "text": [
        " 2168 TQQQ 06\n",
        "4173"
       ]
      },
      {
       "output_type": "stream",
       "stream": "stdout",
       "text": [
        " 2169 TQQQ 06\n",
        "4174"
       ]
      },
      {
       "output_type": "stream",
       "stream": "stdout",
       "text": [
        " 2170 TQQQ 06\n",
        "4175"
       ]
      },
      {
       "output_type": "stream",
       "stream": "stdout",
       "text": [
        " 2171 TQQQ 06\n",
        "4176"
       ]
      },
      {
       "output_type": "stream",
       "stream": "stdout",
       "text": [
        " 2172 TQQQ 06\n",
        "4177"
       ]
      },
      {
       "output_type": "stream",
       "stream": "stdout",
       "text": [
        " 2173 TQQQ 06\n",
        "4178"
       ]
      },
      {
       "output_type": "stream",
       "stream": "stdout",
       "text": [
        " 2174 TQQQ 06\n",
        "4179"
       ]
      },
      {
       "output_type": "stream",
       "stream": "stdout",
       "text": [
        " 2175 TQQQ 06\n",
        "4180"
       ]
      },
      {
       "output_type": "stream",
       "stream": "stdout",
       "text": [
        " 2176 TQQQ 06\n",
        "4181"
       ]
      },
      {
       "output_type": "stream",
       "stream": "stdout",
       "text": [
        " 2177 TQQQ 06\n",
        "4182"
       ]
      },
      {
       "output_type": "stream",
       "stream": "stdout",
       "text": [
        " 2178 TQQQ 06\n",
        "4183"
       ]
      },
      {
       "output_type": "stream",
       "stream": "stdout",
       "text": [
        " 2179 TQQQ 06\n",
        "4184"
       ]
      },
      {
       "output_type": "stream",
       "stream": "stdout",
       "text": [
        " 2180 TQQQ 06\n",
        "4185"
       ]
      },
      {
       "output_type": "stream",
       "stream": "stdout",
       "text": [
        " 2181 TQQQ 06\n",
        "4186"
       ]
      },
      {
       "output_type": "stream",
       "stream": "stdout",
       "text": [
        " 2182 TQQQ 06\n",
        "4187"
       ]
      },
      {
       "output_type": "stream",
       "stream": "stdout",
       "text": [
        " 2183 TQQQ 06\n",
        "4188"
       ]
      },
      {
       "output_type": "stream",
       "stream": "stdout",
       "text": [
        " 2184 TQQQ 06\n",
        "4189"
       ]
      },
      {
       "output_type": "stream",
       "stream": "stdout",
       "text": [
        " 2185 TQQQ 06\n",
        "4190"
       ]
      },
      {
       "output_type": "stream",
       "stream": "stdout",
       "text": [
        " 2186 TQQQ 06\n",
        "4191"
       ]
      },
      {
       "output_type": "stream",
       "stream": "stdout",
       "text": [
        " 2187 TQQQ 06\n",
        "4192"
       ]
      },
      {
       "output_type": "stream",
       "stream": "stdout",
       "text": [
        " 2188 TQQQ 06\n",
        "4193"
       ]
      },
      {
       "output_type": "stream",
       "stream": "stdout",
       "text": [
        " 2189 TQQQ 06\n",
        "4194"
       ]
      },
      {
       "output_type": "stream",
       "stream": "stdout",
       "text": [
        " 2190 TQQQ 06\n",
        "4195"
       ]
      },
      {
       "output_type": "stream",
       "stream": "stdout",
       "text": [
        " 2191 TQQQ 06\n",
        "4196"
       ]
      },
      {
       "output_type": "stream",
       "stream": "stdout",
       "text": [
        " 2192 TQQQ 06\n",
        "4197"
       ]
      },
      {
       "output_type": "stream",
       "stream": "stdout",
       "text": [
        " 2193 TQQQ 06\n",
        "4198"
       ]
      },
      {
       "output_type": "stream",
       "stream": "stdout",
       "text": [
        " 2194 TQQQ 06\n",
        "4199"
       ]
      },
      {
       "output_type": "stream",
       "stream": "stdout",
       "text": [
        " 2195 TQQQ 06\n",
        "4200"
       ]
      },
      {
       "output_type": "stream",
       "stream": "stdout",
       "text": [
        " 2196 TQQQ 06\n",
        "4201"
       ]
      },
      {
       "output_type": "stream",
       "stream": "stdout",
       "text": [
        " 2197 TQQQ 06\n",
        "4202"
       ]
      },
      {
       "output_type": "stream",
       "stream": "stdout",
       "text": [
        " 2198 TQQQ 06\n",
        "4203"
       ]
      },
      {
       "output_type": "stream",
       "stream": "stdout",
       "text": [
        " 2199 TQQQ 06\n",
        "4204"
       ]
      },
      {
       "output_type": "stream",
       "stream": "stdout",
       "text": [
        " 2200 TQQQ 06\n",
        "4205"
       ]
      },
      {
       "output_type": "stream",
       "stream": "stdout",
       "text": [
        " 2201 TQQQ 06\n",
        "4206"
       ]
      },
      {
       "output_type": "stream",
       "stream": "stdout",
       "text": [
        " 2202 TQQQ 06\n",
        "4207"
       ]
      },
      {
       "output_type": "stream",
       "stream": "stdout",
       "text": [
        " 2203 TQQQ 06\n",
        "4208"
       ]
      },
      {
       "output_type": "stream",
       "stream": "stdout",
       "text": [
        " 2204 TQQQ 06\n",
        "4209"
       ]
      },
      {
       "output_type": "stream",
       "stream": "stdout",
       "text": [
        " 2205 TQQQ 06\n",
        "4210"
       ]
      },
      {
       "output_type": "stream",
       "stream": "stdout",
       "text": [
        " 2206 TQQQ 06\n",
        "4211"
       ]
      },
      {
       "output_type": "stream",
       "stream": "stdout",
       "text": [
        " 2207 TQQQ 06\n",
        "4212"
       ]
      },
      {
       "output_type": "stream",
       "stream": "stdout",
       "text": [
        " 2208 TQQQ 06\n",
        "4213"
       ]
      },
      {
       "output_type": "stream",
       "stream": "stdout",
       "text": [
        " 2209 TQQQ 06\n",
        "4214"
       ]
      },
      {
       "output_type": "stream",
       "stream": "stdout",
       "text": [
        " 2210 TQQQ 06\n",
        "4215"
       ]
      },
      {
       "output_type": "stream",
       "stream": "stdout",
       "text": [
        " 2211 TQQQ 01\n",
        "4216"
       ]
      },
      {
       "output_type": "stream",
       "stream": "stdout",
       "text": [
        " 2212 TQQQ 01\n",
        "4217"
       ]
      },
      {
       "output_type": "stream",
       "stream": "stdout",
       "text": [
        " 2213 TQQQ 01\n",
        "4218"
       ]
      },
      {
       "output_type": "stream",
       "stream": "stdout",
       "text": [
        " 2214 TQQQ 01\n",
        "4219"
       ]
      },
      {
       "output_type": "stream",
       "stream": "stdout",
       "text": [
        " 2215 TQQQ 01\n",
        "4220"
       ]
      },
      {
       "output_type": "stream",
       "stream": "stdout",
       "text": [
        " 2216 TQQQ 01\n",
        "4221"
       ]
      },
      {
       "output_type": "stream",
       "stream": "stdout",
       "text": [
        " 2217 TQQQ 01\n",
        "4222"
       ]
      },
      {
       "output_type": "stream",
       "stream": "stdout",
       "text": [
        " 2218 TQQQ 01\n",
        "4223"
       ]
      },
      {
       "output_type": "stream",
       "stream": "stdout",
       "text": [
        " 2219 TQQQ 01\n",
        "4224"
       ]
      },
      {
       "output_type": "stream",
       "stream": "stdout",
       "text": [
        " 2220 TQQQ 01\n",
        "4225"
       ]
      },
      {
       "output_type": "stream",
       "stream": "stdout",
       "text": [
        " 2221 TQQQ 01\n",
        "4226"
       ]
      },
      {
       "output_type": "stream",
       "stream": "stdout",
       "text": [
        " 2222 TQQQ 01\n",
        "4227"
       ]
      },
      {
       "output_type": "stream",
       "stream": "stdout",
       "text": [
        " 2223 TQQQ 01\n",
        "4228"
       ]
      },
      {
       "output_type": "stream",
       "stream": "stdout",
       "text": [
        " 2224 TQQQ 01\n",
        "4229"
       ]
      },
      {
       "output_type": "stream",
       "stream": "stdout",
       "text": [
        " 2225 TQQQ 01\n",
        "4230"
       ]
      },
      {
       "output_type": "stream",
       "stream": "stdout",
       "text": [
        " 2226 TQQQ 01\n",
        "4231"
       ]
      },
      {
       "output_type": "stream",
       "stream": "stdout",
       "text": [
        " 2227 TQQQ 01\n",
        "4232"
       ]
      },
      {
       "output_type": "stream",
       "stream": "stdout",
       "text": [
        " 2228 TQQQ 01\n",
        "4233"
       ]
      },
      {
       "output_type": "stream",
       "stream": "stdout",
       "text": [
        " 2229 TQQQ 01\n",
        "4234"
       ]
      },
      {
       "output_type": "stream",
       "stream": "stdout",
       "text": [
        " 2230 TQQQ 01\n",
        "4235"
       ]
      },
      {
       "output_type": "stream",
       "stream": "stdout",
       "text": [
        " 2231 TQQQ 01\n",
        "4236"
       ]
      },
      {
       "output_type": "stream",
       "stream": "stdout",
       "text": [
        " 2232 TQQQ 01\n",
        "4237"
       ]
      },
      {
       "output_type": "stream",
       "stream": "stdout",
       "text": [
        " 2233 TQQQ 01\n",
        "4238"
       ]
      },
      {
       "output_type": "stream",
       "stream": "stdout",
       "text": [
        " 2234 TQQQ 01\n",
        "4239"
       ]
      },
      {
       "output_type": "stream",
       "stream": "stdout",
       "text": [
        " 2235 TQQQ 01\n",
        "4240"
       ]
      },
      {
       "output_type": "stream",
       "stream": "stdout",
       "text": [
        " 2236 TQQQ 01\n",
        "4241"
       ]
      },
      {
       "output_type": "stream",
       "stream": "stdout",
       "text": [
        " 2237 TQQQ 01\n",
        "4242"
       ]
      },
      {
       "output_type": "stream",
       "stream": "stdout",
       "text": [
        " 2238 TQQQ 01\n",
        "4243"
       ]
      },
      {
       "output_type": "stream",
       "stream": "stdout",
       "text": [
        " 2239 TQQQ 01\n",
        "4244"
       ]
      },
      {
       "output_type": "stream",
       "stream": "stdout",
       "text": [
        " 2240 TQQQ 01\n",
        "4245"
       ]
      },
      {
       "output_type": "stream",
       "stream": "stdout",
       "text": [
        " 2241 TQQQ 01\n",
        "4246"
       ]
      },
      {
       "output_type": "stream",
       "stream": "stdout",
       "text": [
        " 2242 TQQQ 01\n",
        "4247"
       ]
      },
      {
       "output_type": "stream",
       "stream": "stdout",
       "text": [
        " 2243 TQQQ 01\n",
        "4248"
       ]
      },
      {
       "output_type": "stream",
       "stream": "stdout",
       "text": [
        " 2244 TQQQ 01\n",
        "4249"
       ]
      },
      {
       "output_type": "stream",
       "stream": "stdout",
       "text": [
        " 2245 TQQQ 01\n",
        "4250"
       ]
      },
      {
       "output_type": "stream",
       "stream": "stdout",
       "text": [
        " 2246 TQQQ 01\n",
        "4251"
       ]
      },
      {
       "output_type": "stream",
       "stream": "stdout",
       "text": [
        " 2247 TQQQ 01\n",
        "4252"
       ]
      },
      {
       "output_type": "stream",
       "stream": "stdout",
       "text": [
        " 2248 TQQQ 01\n",
        "4253"
       ]
      },
      {
       "output_type": "stream",
       "stream": "stdout",
       "text": [
        " 2249 TQQQ 01\n",
        "4254"
       ]
      },
      {
       "output_type": "stream",
       "stream": "stdout",
       "text": [
        " 2250 TQQQ 01\n",
        "4255"
       ]
      },
      {
       "output_type": "stream",
       "stream": "stdout",
       "text": [
        " 2251 TQQQ 01\n",
        "4256"
       ]
      },
      {
       "output_type": "stream",
       "stream": "stdout",
       "text": [
        " 2252 TQQQ 01\n",
        "4257"
       ]
      },
      {
       "output_type": "stream",
       "stream": "stdout",
       "text": [
        " 2253 TQQQ 01\n",
        "4258"
       ]
      },
      {
       "output_type": "stream",
       "stream": "stdout",
       "text": [
        " 2254 TQQQ 01\n",
        "4259"
       ]
      },
      {
       "output_type": "stream",
       "stream": "stdout",
       "text": [
        " 2255 TQQQ 01\n",
        "4260"
       ]
      },
      {
       "output_type": "stream",
       "stream": "stdout",
       "text": [
        " 2256 TQQQ 01\n",
        "4261"
       ]
      },
      {
       "output_type": "stream",
       "stream": "stdout",
       "text": [
        " 2257 TQQQ 01\n",
        "4262"
       ]
      },
      {
       "output_type": "stream",
       "stream": "stdout",
       "text": [
        " 2258 TQQQ 01\n",
        "4263"
       ]
      },
      {
       "output_type": "stream",
       "stream": "stdout",
       "text": [
        " 2259 TQQQ 01\n",
        "4264"
       ]
      },
      {
       "output_type": "stream",
       "stream": "stdout",
       "text": [
        " 2260 TQQQ 01\n",
        "4265"
       ]
      },
      {
       "output_type": "stream",
       "stream": "stdout",
       "text": [
        " 2261 TQQQ 01\n",
        "4266"
       ]
      },
      {
       "output_type": "stream",
       "stream": "stdout",
       "text": [
        " 2262 TQQQ 01\n",
        "4267"
       ]
      },
      {
       "output_type": "stream",
       "stream": "stdout",
       "text": [
        " 2263 TQQQ 01\n",
        "4268"
       ]
      },
      {
       "output_type": "stream",
       "stream": "stdout",
       "text": [
        " 2264 TQQQ 01\n",
        "4269"
       ]
      },
      {
       "output_type": "stream",
       "stream": "stdout",
       "text": [
        " 2265 TQQQ 01\n",
        "4270"
       ]
      },
      {
       "output_type": "stream",
       "stream": "stdout",
       "text": [
        " 2266 TQQQ 01\n",
        "4271"
       ]
      },
      {
       "output_type": "stream",
       "stream": "stdout",
       "text": [
        " 2267 TQQQ 01\n",
        "4272"
       ]
      },
      {
       "output_type": "stream",
       "stream": "stdout",
       "text": [
        " 2268 TQQQ 01\n",
        "4273"
       ]
      },
      {
       "output_type": "stream",
       "stream": "stdout",
       "text": [
        " 2269 TQQQ 01\n",
        "4274"
       ]
      },
      {
       "output_type": "stream",
       "stream": "stdout",
       "text": [
        " 2270 TQQQ 01\n",
        "4275"
       ]
      },
      {
       "output_type": "stream",
       "stream": "stdout",
       "text": [
        " 2271 TQQQ 01\n",
        "4276"
       ]
      },
      {
       "output_type": "stream",
       "stream": "stdout",
       "text": [
        " 2272 TQQQ 01\n",
        "4277"
       ]
      },
      {
       "output_type": "stream",
       "stream": "stdout",
       "text": [
        " 2273 TQQQ 01\n",
        "4278"
       ]
      },
      {
       "output_type": "stream",
       "stream": "stdout",
       "text": [
        " 2274 TQQQ 01\n",
        "4279"
       ]
      },
      {
       "output_type": "stream",
       "stream": "stdout",
       "text": [
        " 2275 TQQQ 01\n",
        "4280"
       ]
      },
      {
       "output_type": "stream",
       "stream": "stdout",
       "text": [
        " 2276 TQQQ 01\n",
        "4281"
       ]
      },
      {
       "output_type": "stream",
       "stream": "stdout",
       "text": [
        " 2277 TQQQ 01\n",
        "4282"
       ]
      },
      {
       "output_type": "stream",
       "stream": "stdout",
       "text": [
        " 2278 TQQQ 01\n",
        "4283"
       ]
      },
      {
       "output_type": "stream",
       "stream": "stdout",
       "text": [
        " 2279 TQQQ 01\n",
        "4284"
       ]
      },
      {
       "output_type": "stream",
       "stream": "stdout",
       "text": [
        " 2280 TQQQ 01\n",
        "4285"
       ]
      },
      {
       "output_type": "stream",
       "stream": "stdout",
       "text": [
        " 2281 TQQQ 01\n",
        "4286"
       ]
      },
      {
       "output_type": "stream",
       "stream": "stdout",
       "text": [
        " 2282 TQQQ 01\n",
        "4287"
       ]
      },
      {
       "output_type": "stream",
       "stream": "stdout",
       "text": [
        " 2283 TQQQ 01\n",
        "4288"
       ]
      },
      {
       "output_type": "stream",
       "stream": "stdout",
       "text": [
        " 2284 TQQQ 01\n",
        "4289"
       ]
      },
      {
       "output_type": "stream",
       "stream": "stdout",
       "text": [
        " 2285 TQQQ 01\n",
        "4290"
       ]
      },
      {
       "output_type": "stream",
       "stream": "stdout",
       "text": [
        " 2286 TQQQ 01\n",
        "4291"
       ]
      },
      {
       "output_type": "stream",
       "stream": "stdout",
       "text": [
        " 2287 TQQQ 01\n",
        "4292"
       ]
      },
      {
       "output_type": "stream",
       "stream": "stdout",
       "text": [
        " 2288 TQQQ 01\n",
        "4293"
       ]
      },
      {
       "output_type": "stream",
       "stream": "stdout",
       "text": [
        " 2289 TQQQ 01\n",
        "4294"
       ]
      },
      {
       "output_type": "stream",
       "stream": "stdout",
       "text": [
        " 2290 TQQQ 01\n",
        "4295"
       ]
      },
      {
       "output_type": "stream",
       "stream": "stdout",
       "text": [
        " 2291 TQQQ 01\n",
        "4296"
       ]
      },
      {
       "output_type": "stream",
       "stream": "stdout",
       "text": [
        " 2292 TQQQ 01\n",
        "4297"
       ]
      },
      {
       "output_type": "stream",
       "stream": "stdout",
       "text": [
        " 2293 TQQQ 01\n",
        "4298"
       ]
      },
      {
       "output_type": "stream",
       "stream": "stdout",
       "text": [
        " 2294 TQQQ 01\n",
        "4299"
       ]
      },
      {
       "output_type": "stream",
       "stream": "stdout",
       "text": [
        " 2295 TQQQ 01\n",
        "4300"
       ]
      },
      {
       "output_type": "stream",
       "stream": "stdout",
       "text": [
        " 2296 TQQQ 01\n",
        "4301"
       ]
      },
      {
       "output_type": "stream",
       "stream": "stdout",
       "text": [
        " 2297 TQQQ 01\n",
        "4302"
       ]
      },
      {
       "output_type": "stream",
       "stream": "stdout",
       "text": [
        " 2298 TQQQ 01\n",
        "4303"
       ]
      },
      {
       "output_type": "stream",
       "stream": "stdout",
       "text": [
        " 2299 TQQQ 01\n",
        "4304"
       ]
      },
      {
       "output_type": "stream",
       "stream": "stdout",
       "text": [
        " 2300 TQQQ 01\n",
        "4305"
       ]
      },
      {
       "output_type": "stream",
       "stream": "stdout",
       "text": [
        " 2301 TQQQ 01\n",
        "4306"
       ]
      },
      {
       "output_type": "stream",
       "stream": "stdout",
       "text": [
        " 2302 TQQQ 01\n",
        "4307"
       ]
      },
      {
       "output_type": "stream",
       "stream": "stdout",
       "text": [
        " 2303 TQQQ 01\n",
        "4308"
       ]
      },
      {
       "output_type": "stream",
       "stream": "stdout",
       "text": [
        " 2304 TQQQ 01\n",
        "4309"
       ]
      },
      {
       "output_type": "stream",
       "stream": "stdout",
       "text": [
        " 2305 TQQQ 01\n",
        "4310"
       ]
      },
      {
       "output_type": "stream",
       "stream": "stdout",
       "text": [
        " 2306 TQQQ 01\n",
        "4311"
       ]
      },
      {
       "output_type": "stream",
       "stream": "stdout",
       "text": [
        " 2307 TQQQ 01\n",
        "4312"
       ]
      },
      {
       "output_type": "stream",
       "stream": "stdout",
       "text": [
        " 2308 TQQQ 01\n",
        "4313"
       ]
      },
      {
       "output_type": "stream",
       "stream": "stdout",
       "text": [
        " 2309 TQQQ 01\n",
        "4314"
       ]
      },
      {
       "output_type": "stream",
       "stream": "stdout",
       "text": [
        " 2310 TQQQ 01\n",
        "4315"
       ]
      },
      {
       "output_type": "stream",
       "stream": "stdout",
       "text": [
        " 2311 TQQQ 01\n",
        "4316"
       ]
      },
      {
       "output_type": "stream",
       "stream": "stdout",
       "text": [
        " 2312 TQQQ 01\n",
        "4317"
       ]
      },
      {
       "output_type": "stream",
       "stream": "stdout",
       "text": [
        " 2313 TQQQ 01\n",
        "4318"
       ]
      },
      {
       "output_type": "stream",
       "stream": "stdout",
       "text": [
        " 2314 TQQQ 01\n",
        "4319"
       ]
      },
      {
       "output_type": "stream",
       "stream": "stdout",
       "text": [
        " 2315 TQQQ 01\n",
        "4320"
       ]
      },
      {
       "output_type": "stream",
       "stream": "stdout",
       "text": [
        " 2316 TQQQ 01\n",
        "4321"
       ]
      },
      {
       "output_type": "stream",
       "stream": "stdout",
       "text": [
        " 2317 TQQQ 01\n",
        "4322"
       ]
      },
      {
       "output_type": "stream",
       "stream": "stdout",
       "text": [
        " 2318 TQQQ 01\n",
        "4323"
       ]
      },
      {
       "output_type": "stream",
       "stream": "stdout",
       "text": [
        " 2319 TQQQ 01\n",
        "4324"
       ]
      },
      {
       "output_type": "stream",
       "stream": "stdout",
       "text": [
        " 2320 TQQQ 01\n",
        "4325"
       ]
      },
      {
       "output_type": "stream",
       "stream": "stdout",
       "text": [
        " 2321 TQQQ 01\n",
        "4326"
       ]
      },
      {
       "output_type": "stream",
       "stream": "stdout",
       "text": [
        " 2322 TQQQ 01\n",
        "4327"
       ]
      },
      {
       "output_type": "stream",
       "stream": "stdout",
       "text": [
        " 2323 TQQQ 01\n",
        "4328"
       ]
      },
      {
       "output_type": "stream",
       "stream": "stdout",
       "text": [
        " 2324 TQQQ 01\n",
        "4329"
       ]
      },
      {
       "output_type": "stream",
       "stream": "stdout",
       "text": [
        " 2325 TQQQ 01\n",
        "4330"
       ]
      },
      {
       "output_type": "stream",
       "stream": "stdout",
       "text": [
        " 2326 TQQQ 01\n",
        "4331"
       ]
      },
      {
       "output_type": "stream",
       "stream": "stdout",
       "text": [
        " 2327 TQQQ 01\n",
        "4332"
       ]
      },
      {
       "output_type": "stream",
       "stream": "stdout",
       "text": [
        " 2328 TQQQ 01\n",
        "4333"
       ]
      },
      {
       "output_type": "stream",
       "stream": "stdout",
       "text": [
        " 2329 TQQQ 01\n",
        "4334"
       ]
      },
      {
       "output_type": "stream",
       "stream": "stdout",
       "text": [
        " 2330 TQQQ 01\n",
        "4335"
       ]
      },
      {
       "output_type": "stream",
       "stream": "stdout",
       "text": [
        " 2331 TQQQ 01\n",
        "4336"
       ]
      },
      {
       "output_type": "stream",
       "stream": "stdout",
       "text": [
        " 2332 TQQQ 01\n",
        "4337"
       ]
      },
      {
       "output_type": "stream",
       "stream": "stdout",
       "text": [
        " 2333 TQQQ 01\n",
        "4338"
       ]
      },
      {
       "output_type": "stream",
       "stream": "stdout",
       "text": [
        " 2334 TQQQ 01\n",
        "4339"
       ]
      },
      {
       "output_type": "stream",
       "stream": "stdout",
       "text": [
        " 2335 TQQQ 01\n",
        "4340"
       ]
      },
      {
       "output_type": "stream",
       "stream": "stdout",
       "text": [
        " 2336 TQQQ 01\n",
        "4341"
       ]
      },
      {
       "output_type": "stream",
       "stream": "stdout",
       "text": [
        " 2337 TQQQ 01\n",
        "4342"
       ]
      },
      {
       "output_type": "stream",
       "stream": "stdout",
       "text": [
        " 2338 TQQQ 01\n",
        "4343"
       ]
      },
      {
       "output_type": "stream",
       "stream": "stdout",
       "text": [
        " 2339 TQQQ 01\n",
        "4344"
       ]
      },
      {
       "output_type": "stream",
       "stream": "stdout",
       "text": [
        " 2340 TQQQ 01\n",
        "4345"
       ]
      },
      {
       "output_type": "stream",
       "stream": "stdout",
       "text": [
        " 2341 TQQQ 01\n",
        "4346"
       ]
      },
      {
       "output_type": "stream",
       "stream": "stdout",
       "text": [
        " 2342 TQQQ 01\n",
        "4347"
       ]
      },
      {
       "output_type": "stream",
       "stream": "stdout",
       "text": [
        " 2343 TQQQ 01\n",
        "4348"
       ]
      },
      {
       "output_type": "stream",
       "stream": "stdout",
       "text": [
        " 2344 TQQQ 01\n",
        "4349"
       ]
      },
      {
       "output_type": "stream",
       "stream": "stdout",
       "text": [
        " 2345 TQQQ 01\n",
        "4350"
       ]
      },
      {
       "output_type": "stream",
       "stream": "stdout",
       "text": [
        " 2346 TQQQ 01\n",
        "4351"
       ]
      },
      {
       "output_type": "stream",
       "stream": "stdout",
       "text": [
        " 2347 TQQQ 01\n",
        "4352"
       ]
      },
      {
       "output_type": "stream",
       "stream": "stdout",
       "text": [
        " 2348 TQQQ 01\n",
        "4353"
       ]
      },
      {
       "output_type": "stream",
       "stream": "stdout",
       "text": [
        " 2349 TQQQ 01\n",
        "4354"
       ]
      },
      {
       "output_type": "stream",
       "stream": "stdout",
       "text": [
        " 2350 TQQQ 01\n",
        "4355"
       ]
      },
      {
       "output_type": "stream",
       "stream": "stdout",
       "text": [
        " 2351 TQQQ 01\n",
        "4356"
       ]
      },
      {
       "output_type": "stream",
       "stream": "stdout",
       "text": [
        " 2352 TQQQ 01\n",
        "4357"
       ]
      },
      {
       "output_type": "stream",
       "stream": "stdout",
       "text": [
        " 2353 TQQQ 01\n",
        "4358"
       ]
      },
      {
       "output_type": "stream",
       "stream": "stdout",
       "text": [
        " 2354 TQQQ 01\n",
        "4359"
       ]
      },
      {
       "output_type": "stream",
       "stream": "stdout",
       "text": [
        " 2355 TQQQ 01\n",
        "4360"
       ]
      },
      {
       "output_type": "stream",
       "stream": "stdout",
       "text": [
        " 2356 TQQQ 01\n",
        "4361"
       ]
      },
      {
       "output_type": "stream",
       "stream": "stdout",
       "text": [
        " 2357 TQQQ 01\n",
        "4362"
       ]
      },
      {
       "output_type": "stream",
       "stream": "stdout",
       "text": [
        " 2358 TQQQ 01\n",
        "4363"
       ]
      },
      {
       "output_type": "stream",
       "stream": "stdout",
       "text": [
        " 2359 TQQQ 01\n",
        "4364"
       ]
      },
      {
       "output_type": "stream",
       "stream": "stdout",
       "text": [
        " 2360 TQQQ 01\n",
        "4365"
       ]
      },
      {
       "output_type": "stream",
       "stream": "stdout",
       "text": [
        " 2361 TQQQ 01\n",
        "4366"
       ]
      },
      {
       "output_type": "stream",
       "stream": "stdout",
       "text": [
        " 2362 TQQQ 01\n",
        "4367"
       ]
      },
      {
       "output_type": "stream",
       "stream": "stdout",
       "text": [
        " 2363 TQQQ 01\n",
        "4368"
       ]
      },
      {
       "output_type": "stream",
       "stream": "stdout",
       "text": [
        " 2364 TQQQ 01\n",
        "4369"
       ]
      },
      {
       "output_type": "stream",
       "stream": "stdout",
       "text": [
        " 2365 TQQQ 01\n",
        "4370"
       ]
      },
      {
       "output_type": "stream",
       "stream": "stdout",
       "text": [
        " 2366 TQQQ 01\n",
        "4371"
       ]
      },
      {
       "output_type": "stream",
       "stream": "stdout",
       "text": [
        " 2367 TQQQ 01\n",
        "4372"
       ]
      },
      {
       "output_type": "stream",
       "stream": "stdout",
       "text": [
        " 2368 TQQQ 01\n",
        "4373"
       ]
      },
      {
       "output_type": "stream",
       "stream": "stdout",
       "text": [
        " 2369 TQQQ 01\n",
        "4374"
       ]
      },
      {
       "output_type": "stream",
       "stream": "stdout",
       "text": [
        " 2370 TQQQ 01\n",
        "4375"
       ]
      },
      {
       "output_type": "stream",
       "stream": "stdout",
       "text": [
        " 2371 TQQQ 01\n",
        "4376"
       ]
      },
      {
       "output_type": "stream",
       "stream": "stdout",
       "text": [
        " 2372 TQQQ 01\n",
        "4377"
       ]
      },
      {
       "output_type": "stream",
       "stream": "stdout",
       "text": [
        " 2373 TQQQ 01\n",
        "4378"
       ]
      },
      {
       "output_type": "stream",
       "stream": "stdout",
       "text": [
        " 2374 TQQQ 01\n",
        "4379"
       ]
      },
      {
       "output_type": "stream",
       "stream": "stdout",
       "text": [
        " 2375 TQQQ 01\n",
        "4380"
       ]
      },
      {
       "output_type": "stream",
       "stream": "stdout",
       "text": [
        " 2376 TQQQ 01\n",
        "4381"
       ]
      },
      {
       "output_type": "stream",
       "stream": "stdout",
       "text": [
        " 2377 TQQQ 01\n",
        "4382"
       ]
      },
      {
       "output_type": "stream",
       "stream": "stdout",
       "text": [
        " 2378 TQQQ 01\n",
        "4383"
       ]
      },
      {
       "output_type": "stream",
       "stream": "stdout",
       "text": [
        " 2379 TQQQ 01\n",
        "4384"
       ]
      },
      {
       "output_type": "stream",
       "stream": "stdout",
       "text": [
        " 2380 TQQQ 01\n",
        "4385"
       ]
      },
      {
       "output_type": "stream",
       "stream": "stdout",
       "text": [
        " 2381 TQQQ 01\n",
        "4386"
       ]
      },
      {
       "output_type": "stream",
       "stream": "stdout",
       "text": [
        " 2382 TQQQ 01\n",
        "4387"
       ]
      },
      {
       "output_type": "stream",
       "stream": "stdout",
       "text": [
        " 2383 TQQQ 01\n",
        "4388"
       ]
      },
      {
       "output_type": "stream",
       "stream": "stdout",
       "text": [
        " 2384 TQQQ 01\n",
        "4389"
       ]
      },
      {
       "output_type": "stream",
       "stream": "stdout",
       "text": [
        " 2385 TQQQ 01\n",
        "4390"
       ]
      },
      {
       "output_type": "stream",
       "stream": "stdout",
       "text": [
        " 2386 TQQQ 01\n",
        "4391"
       ]
      },
      {
       "output_type": "stream",
       "stream": "stdout",
       "text": [
        " 2387 TQQQ 01\n",
        "4392"
       ]
      },
      {
       "output_type": "stream",
       "stream": "stdout",
       "text": [
        " 2388 TQQQ 01\n",
        "4393"
       ]
      },
      {
       "output_type": "stream",
       "stream": "stdout",
       "text": [
        " 2389 TQQQ 01\n",
        "4394"
       ]
      },
      {
       "output_type": "stream",
       "stream": "stdout",
       "text": [
        " 2390 TQQQ 01\n",
        "4395"
       ]
      },
      {
       "output_type": "stream",
       "stream": "stdout",
       "text": [
        " 2391 TQQQ 01\n",
        "4396"
       ]
      },
      {
       "output_type": "stream",
       "stream": "stdout",
       "text": [
        " 2392 TQQQ 01\n",
        "4397"
       ]
      },
      {
       "output_type": "stream",
       "stream": "stdout",
       "text": [
        " 2393 TQQQ 01\n",
        "4398"
       ]
      },
      {
       "output_type": "stream",
       "stream": "stdout",
       "text": [
        " 2394 TQQQ 01\n",
        "4399"
       ]
      },
      {
       "output_type": "stream",
       "stream": "stdout",
       "text": [
        " 2395 TQQQ 01\n",
        "4400"
       ]
      },
      {
       "output_type": "stream",
       "stream": "stdout",
       "text": [
        " 2396 TQQQ 01\n",
        "4401"
       ]
      },
      {
       "output_type": "stream",
       "stream": "stdout",
       "text": [
        " 2397 TQQQ 01\n",
        "4402"
       ]
      },
      {
       "output_type": "stream",
       "stream": "stdout",
       "text": [
        " 2398 TQQQ 01\n",
        "4403"
       ]
      },
      {
       "output_type": "stream",
       "stream": "stdout",
       "text": [
        " 2399 TQQQ 01\n",
        "4404"
       ]
      },
      {
       "output_type": "stream",
       "stream": "stdout",
       "text": [
        " 2400 TQQQ 01\n",
        "4405"
       ]
      },
      {
       "output_type": "stream",
       "stream": "stdout",
       "text": [
        " 2401 TQQQ 01\n",
        "4406"
       ]
      },
      {
       "output_type": "stream",
       "stream": "stdout",
       "text": [
        " 2402 TQQQ 01\n",
        "4407"
       ]
      },
      {
       "output_type": "stream",
       "stream": "stdout",
       "text": [
        " 2403 TQQQ 01\n",
        "4408"
       ]
      },
      {
       "output_type": "stream",
       "stream": "stdout",
       "text": [
        " 2404 TQQQ 01\n",
        "4409"
       ]
      },
      {
       "output_type": "stream",
       "stream": "stdout",
       "text": [
        " 2405 TQQQ 01\n",
        "4410"
       ]
      },
      {
       "output_type": "stream",
       "stream": "stdout",
       "text": [
        " 2406 TQQQ 01\n",
        "4411"
       ]
      },
      {
       "output_type": "stream",
       "stream": "stdout",
       "text": [
        " 2407 TQQQ 01\n",
        "4412"
       ]
      },
      {
       "output_type": "stream",
       "stream": "stdout",
       "text": [
        " 2408 TQQQ 01\n",
        "4413"
       ]
      },
      {
       "output_type": "stream",
       "stream": "stdout",
       "text": [
        " 2409 TQQQ 01\n",
        "4414"
       ]
      },
      {
       "output_type": "stream",
       "stream": "stdout",
       "text": [
        " 2410 TQQQ 01\n",
        "4415"
       ]
      },
      {
       "output_type": "stream",
       "stream": "stdout",
       "text": [
        " 2411 TQQQ 01\n",
        "4416"
       ]
      },
      {
       "output_type": "stream",
       "stream": "stdout",
       "text": [
        " 2412 TQQQ 01\n",
        "4417"
       ]
      },
      {
       "output_type": "stream",
       "stream": "stdout",
       "text": [
        " 2413 TQQQ 01\n",
        "4418"
       ]
      },
      {
       "output_type": "stream",
       "stream": "stdout",
       "text": [
        " 2414 TQQQ 01\n",
        "4419"
       ]
      },
      {
       "output_type": "stream",
       "stream": "stdout",
       "text": [
        " 2415 TQQQ 01\n",
        "4420"
       ]
      },
      {
       "output_type": "stream",
       "stream": "stdout",
       "text": [
        " 2416 TQQQ 01\n",
        "4421"
       ]
      },
      {
       "output_type": "stream",
       "stream": "stdout",
       "text": [
        " 2417 TQQQ 01\n",
        "4422"
       ]
      },
      {
       "output_type": "stream",
       "stream": "stdout",
       "text": [
        " 2418 TQQQ 01\n",
        "4423"
       ]
      },
      {
       "output_type": "stream",
       "stream": "stdout",
       "text": [
        " 2419 TQQQ 01\n",
        "4424"
       ]
      },
      {
       "output_type": "stream",
       "stream": "stdout",
       "text": [
        " 2420 TQQQ 01\n",
        "4425"
       ]
      },
      {
       "output_type": "stream",
       "stream": "stdout",
       "text": [
        " 2421 TQQQ 01\n",
        "4426"
       ]
      },
      {
       "output_type": "stream",
       "stream": "stdout",
       "text": [
        " 2422 TQQQ 01\n",
        "4427"
       ]
      },
      {
       "output_type": "stream",
       "stream": "stdout",
       "text": [
        " 2423 TQQQ 01\n",
        "4428"
       ]
      },
      {
       "output_type": "stream",
       "stream": "stdout",
       "text": [
        " 2424 TQQQ 01\n",
        "4429"
       ]
      },
      {
       "output_type": "stream",
       "stream": "stdout",
       "text": [
        " 2425 TQQQ 01\n",
        "4430"
       ]
      },
      {
       "output_type": "stream",
       "stream": "stdout",
       "text": [
        " 2426 TQQQ 01\n",
        "4431"
       ]
      },
      {
       "output_type": "stream",
       "stream": "stdout",
       "text": [
        " 2427 TQQQ 01\n",
        "4432"
       ]
      },
      {
       "output_type": "stream",
       "stream": "stdout",
       "text": [
        " 2428 TQQQ 01\n",
        "4433"
       ]
      },
      {
       "output_type": "stream",
       "stream": "stdout",
       "text": [
        " 2429 TQQQ 01\n",
        "4434"
       ]
      },
      {
       "output_type": "stream",
       "stream": "stdout",
       "text": [
        " 2430 TQQQ 01\n",
        "4435"
       ]
      },
      {
       "output_type": "stream",
       "stream": "stdout",
       "text": [
        " 2431 TQQQ 01\n",
        "4436"
       ]
      },
      {
       "output_type": "stream",
       "stream": "stdout",
       "text": [
        " 2432 TQQQ 01\n",
        "4437"
       ]
      },
      {
       "output_type": "stream",
       "stream": "stdout",
       "text": [
        " 2433 TQQQ 01\n",
        "4438"
       ]
      },
      {
       "output_type": "stream",
       "stream": "stdout",
       "text": [
        " 2434 TQQQ 01\n",
        "4439"
       ]
      },
      {
       "output_type": "stream",
       "stream": "stdout",
       "text": [
        " 2435 TQQQ 01\n",
        "4440"
       ]
      },
      {
       "output_type": "stream",
       "stream": "stdout",
       "text": [
        " 2436 TQQQ 01\n",
        "4441"
       ]
      },
      {
       "output_type": "stream",
       "stream": "stdout",
       "text": [
        " 2437 TQQQ 01\n",
        "4442"
       ]
      },
      {
       "output_type": "stream",
       "stream": "stdout",
       "text": [
        " 2438 TQQQ 01\n",
        "4443"
       ]
      },
      {
       "output_type": "stream",
       "stream": "stdout",
       "text": [
        " 2439 TQQQ 01\n",
        "4444"
       ]
      },
      {
       "output_type": "stream",
       "stream": "stdout",
       "text": [
        " 2440 TQQQ 01\n",
        "4445"
       ]
      },
      {
       "output_type": "stream",
       "stream": "stdout",
       "text": [
        " 2441 TQQQ 01\n",
        "4446"
       ]
      },
      {
       "output_type": "stream",
       "stream": "stdout",
       "text": [
        " 2442 TQQQ 01\n",
        "4447"
       ]
      },
      {
       "output_type": "stream",
       "stream": "stdout",
       "text": [
        " 2443 TQQQ 01\n",
        "4448"
       ]
      },
      {
       "output_type": "stream",
       "stream": "stdout",
       "text": [
        " 2444 TQQQ 01\n",
        "4449"
       ]
      },
      {
       "output_type": "stream",
       "stream": "stdout",
       "text": [
        " 2445 TQQQ 01\n",
        "4450"
       ]
      },
      {
       "output_type": "stream",
       "stream": "stdout",
       "text": [
        " 2446 TQQQ 01\n",
        "4451"
       ]
      },
      {
       "output_type": "stream",
       "stream": "stdout",
       "text": [
        " 2447 TQQQ 01\n",
        "4452"
       ]
      },
      {
       "output_type": "stream",
       "stream": "stdout",
       "text": [
        " 2448 TQQQ 01\n",
        "4453"
       ]
      },
      {
       "output_type": "stream",
       "stream": "stdout",
       "text": [
        " 2449 TQQQ 01\n",
        "4454"
       ]
      },
      {
       "output_type": "stream",
       "stream": "stdout",
       "text": [
        " 2450 TQQQ 01\n",
        "4455"
       ]
      },
      {
       "output_type": "stream",
       "stream": "stdout",
       "text": [
        " 2451 TQQQ 01\n",
        "4456"
       ]
      },
      {
       "output_type": "stream",
       "stream": "stdout",
       "text": [
        " 2452 TQQQ 01\n",
        "4457"
       ]
      },
      {
       "output_type": "stream",
       "stream": "stdout",
       "text": [
        " 2453 TQQQ 01\n",
        "4458"
       ]
      },
      {
       "output_type": "stream",
       "stream": "stdout",
       "text": [
        " 2454 TQQQ 01\n",
        "4459"
       ]
      },
      {
       "output_type": "stream",
       "stream": "stdout",
       "text": [
        " 2455 TQQQ 01\n",
        "4460"
       ]
      },
      {
       "output_type": "stream",
       "stream": "stdout",
       "text": [
        " 2456 TQQQ 01\n",
        "4461"
       ]
      },
      {
       "output_type": "stream",
       "stream": "stdout",
       "text": [
        " 2457 TQQQ 01\n",
        "4462"
       ]
      },
      {
       "output_type": "stream",
       "stream": "stdout",
       "text": [
        " 2458 TQQQ 01\n",
        "4463"
       ]
      },
      {
       "output_type": "stream",
       "stream": "stdout",
       "text": [
        " 2459 TQQQ 01\n",
        "4464"
       ]
      },
      {
       "output_type": "stream",
       "stream": "stdout",
       "text": [
        " 2460 TQQQ 01\n",
        "4465"
       ]
      },
      {
       "output_type": "stream",
       "stream": "stdout",
       "text": [
        " 2461 TQQQ 01\n",
        "4466"
       ]
      },
      {
       "output_type": "stream",
       "stream": "stdout",
       "text": [
        " 2462 TQQQ 01\n",
        "4467"
       ]
      },
      {
       "output_type": "stream",
       "stream": "stdout",
       "text": [
        " 2463 TQQQ 01\n",
        "4468"
       ]
      },
      {
       "output_type": "stream",
       "stream": "stdout",
       "text": [
        " 2464 TQQQ 01\n",
        "4469"
       ]
      },
      {
       "output_type": "stream",
       "stream": "stdout",
       "text": [
        " 2465 TQQQ 01\n",
        "4470"
       ]
      },
      {
       "output_type": "stream",
       "stream": "stdout",
       "text": [
        " 2466 TQQQ 01\n",
        "4471"
       ]
      },
      {
       "output_type": "stream",
       "stream": "stdout",
       "text": [
        " 2467 SQQQ1 01\n",
        "4472"
       ]
      },
      {
       "output_type": "stream",
       "stream": "stdout",
       "text": [
        " 2468 SQQQ1 01\n",
        "4473"
       ]
      },
      {
       "output_type": "stream",
       "stream": "stdout",
       "text": [
        " 2469 SQQQ1 01\n",
        "4474"
       ]
      },
      {
       "output_type": "stream",
       "stream": "stdout",
       "text": [
        " 2470 SQQQ1 01\n",
        "4475"
       ]
      },
      {
       "output_type": "stream",
       "stream": "stdout",
       "text": [
        " 2471 SQQQ1 01\n",
        "4476"
       ]
      },
      {
       "output_type": "stream",
       "stream": "stdout",
       "text": [
        " 2472 SQQQ1 01\n",
        "4477"
       ]
      },
      {
       "output_type": "stream",
       "stream": "stdout",
       "text": [
        " 2473 SQQQ1 01\n",
        "4478"
       ]
      },
      {
       "output_type": "stream",
       "stream": "stdout",
       "text": [
        " 2474 SQQQ1 01\n",
        "4479"
       ]
      },
      {
       "output_type": "stream",
       "stream": "stdout",
       "text": [
        " 2475 SQQQ1 01\n",
        "4480"
       ]
      },
      {
       "output_type": "stream",
       "stream": "stdout",
       "text": [
        " 2476 SQQQ1 01\n",
        "4481"
       ]
      },
      {
       "output_type": "stream",
       "stream": "stdout",
       "text": [
        " 2477 SQQQ1 01\n",
        "4482"
       ]
      },
      {
       "output_type": "stream",
       "stream": "stdout",
       "text": [
        " 2478 SQQQ1 01\n",
        "4483"
       ]
      },
      {
       "output_type": "stream",
       "stream": "stdout",
       "text": [
        " 2479 SQQQ1 01\n",
        "4484"
       ]
      },
      {
       "output_type": "stream",
       "stream": "stdout",
       "text": [
        " 2480 SQQQ1 01\n",
        "4485"
       ]
      },
      {
       "output_type": "stream",
       "stream": "stdout",
       "text": [
        " 2481 SQQQ1 01\n",
        "4486"
       ]
      },
      {
       "output_type": "stream",
       "stream": "stdout",
       "text": [
        " 2482 SQQQ1 01\n",
        "4487"
       ]
      },
      {
       "output_type": "stream",
       "stream": "stdout",
       "text": [
        " 2483 SQQQ1 01\n",
        "4488"
       ]
      },
      {
       "output_type": "stream",
       "stream": "stdout",
       "text": [
        " 2484 SQQQ1 01\n",
        "4489"
       ]
      },
      {
       "output_type": "stream",
       "stream": "stdout",
       "text": [
        " 2485 SQQQ1 01\n",
        "4490"
       ]
      },
      {
       "output_type": "stream",
       "stream": "stdout",
       "text": [
        " 2486 SQQQ1 01\n",
        "4491"
       ]
      },
      {
       "output_type": "stream",
       "stream": "stdout",
       "text": [
        " 2487 SQQQ1 01\n",
        "4492"
       ]
      },
      {
       "output_type": "stream",
       "stream": "stdout",
       "text": [
        " 2488 SQQQ1 01\n",
        "4493"
       ]
      },
      {
       "output_type": "stream",
       "stream": "stdout",
       "text": [
        " 2489 SQQQ1 01\n",
        "4494"
       ]
      },
      {
       "output_type": "stream",
       "stream": "stdout",
       "text": [
        " 2490 SQQQ1 01\n",
        "4495"
       ]
      },
      {
       "output_type": "stream",
       "stream": "stdout",
       "text": [
        " 2491 SQQQ1 01\n",
        "4496"
       ]
      },
      {
       "output_type": "stream",
       "stream": "stdout",
       "text": [
        " 2492 SQQQ1 01\n",
        "4497"
       ]
      },
      {
       "output_type": "stream",
       "stream": "stdout",
       "text": [
        " 2493 SQQQ1 01\n",
        "4498"
       ]
      },
      {
       "output_type": "stream",
       "stream": "stdout",
       "text": [
        " 2494 SQQQ1 01\n",
        "4499"
       ]
      },
      {
       "output_type": "stream",
       "stream": "stdout",
       "text": [
        " 2495 SQQQ1 01\n",
        "4500"
       ]
      },
      {
       "output_type": "stream",
       "stream": "stdout",
       "text": [
        " 2496 SQQQ1 01\n",
        "4501"
       ]
      },
      {
       "output_type": "stream",
       "stream": "stdout",
       "text": [
        " 2497 SQQQ1 01\n",
        "4502"
       ]
      },
      {
       "output_type": "stream",
       "stream": "stdout",
       "text": [
        " 2498 SQQQ1 01\n",
        "4503"
       ]
      },
      {
       "output_type": "stream",
       "stream": "stdout",
       "text": [
        " 2499 SQQQ1 01\n",
        "4504"
       ]
      },
      {
       "output_type": "stream",
       "stream": "stdout",
       "text": [
        " 2500 SQQQ1 01\n",
        "4505"
       ]
      },
      {
       "output_type": "stream",
       "stream": "stdout",
       "text": [
        " 2501 SQQQ1 01\n",
        "4506"
       ]
      },
      {
       "output_type": "stream",
       "stream": "stdout",
       "text": [
        " 2502 SQQQ1 01\n",
        "4507"
       ]
      },
      {
       "output_type": "stream",
       "stream": "stdout",
       "text": [
        " 2503 SQQQ1 01\n",
        "4508"
       ]
      },
      {
       "output_type": "stream",
       "stream": "stdout",
       "text": [
        " 2504 SQQQ1 01\n",
        "4509"
       ]
      },
      {
       "output_type": "stream",
       "stream": "stdout",
       "text": [
        " 2505 SQQQ1 01\n",
        "4510"
       ]
      },
      {
       "output_type": "stream",
       "stream": "stdout",
       "text": [
        " 2506 SQQQ1 01\n",
        "4511"
       ]
      },
      {
       "output_type": "stream",
       "stream": "stdout",
       "text": [
        " 2507 SQQQ1 01\n",
        "4512"
       ]
      },
      {
       "output_type": "stream",
       "stream": "stdout",
       "text": [
        " 2508 SQQQ1 01\n",
        "4513"
       ]
      },
      {
       "output_type": "stream",
       "stream": "stdout",
       "text": [
        " 2509 SQQQ1 01\n",
        "4514"
       ]
      },
      {
       "output_type": "stream",
       "stream": "stdout",
       "text": [
        " 2510 SQQQ1 01\n",
        "4515"
       ]
      },
      {
       "output_type": "stream",
       "stream": "stdout",
       "text": [
        " 2511 SQQQ1 01\n",
        "4516"
       ]
      },
      {
       "output_type": "stream",
       "stream": "stdout",
       "text": [
        " 2512 SQQQ1 01\n",
        "4517"
       ]
      },
      {
       "output_type": "stream",
       "stream": "stdout",
       "text": [
        " 2513 SQQQ1 01\n",
        "4518"
       ]
      },
      {
       "output_type": "stream",
       "stream": "stdout",
       "text": [
        " 2514 SQQQ1 01\n",
        "4519"
       ]
      },
      {
       "output_type": "stream",
       "stream": "stdout",
       "text": [
        " 2515 SQQQ1 01\n",
        "4520"
       ]
      },
      {
       "output_type": "stream",
       "stream": "stdout",
       "text": [
        " 2516 SQQQ1 01\n",
        "4521"
       ]
      },
      {
       "output_type": "stream",
       "stream": "stdout",
       "text": [
        " 2517 SQQQ1 01\n",
        "4522"
       ]
      },
      {
       "output_type": "stream",
       "stream": "stdout",
       "text": [
        " 2518 SQQQ1 01\n",
        "4523"
       ]
      },
      {
       "output_type": "stream",
       "stream": "stdout",
       "text": [
        " 2519 SQQQ1 01\n",
        "4524"
       ]
      },
      {
       "output_type": "stream",
       "stream": "stdout",
       "text": [
        " 2520 SQQQ1 01\n",
        "4525"
       ]
      },
      {
       "output_type": "stream",
       "stream": "stdout",
       "text": [
        " 2521 SQQQ1 01\n",
        "4526"
       ]
      },
      {
       "output_type": "stream",
       "stream": "stdout",
       "text": [
        " 2522 SQQQ1 01\n",
        "4527"
       ]
      },
      {
       "output_type": "stream",
       "stream": "stdout",
       "text": [
        " 2523 SQQQ 01\n",
        "4528"
       ]
      },
      {
       "output_type": "stream",
       "stream": "stdout",
       "text": [
        " 2524 SQQQ 01\n",
        "4529"
       ]
      },
      {
       "output_type": "stream",
       "stream": "stdout",
       "text": [
        " 2525 SQQQ 01\n",
        "4530"
       ]
      },
      {
       "output_type": "stream",
       "stream": "stdout",
       "text": [
        " 2526 SQQQ 01\n",
        "4531"
       ]
      },
      {
       "output_type": "stream",
       "stream": "stdout",
       "text": [
        " 2527 SQQQ 01\n",
        "4532"
       ]
      },
      {
       "output_type": "stream",
       "stream": "stdout",
       "text": [
        " 2528 SQQQ 01\n",
        "4533"
       ]
      },
      {
       "output_type": "stream",
       "stream": "stdout",
       "text": [
        " 2529 SQQQ 01\n",
        "4534"
       ]
      },
      {
       "output_type": "stream",
       "stream": "stdout",
       "text": [
        " 2530 SQQQ 01\n",
        "4535"
       ]
      },
      {
       "output_type": "stream",
       "stream": "stdout",
       "text": [
        " 2531 SQQQ 01\n",
        "4536"
       ]
      },
      {
       "output_type": "stream",
       "stream": "stdout",
       "text": [
        " 2532 SQQQ 01\n",
        "4537"
       ]
      },
      {
       "output_type": "stream",
       "stream": "stdout",
       "text": [
        " 2533 SQQQ 01\n",
        "4538"
       ]
      },
      {
       "output_type": "stream",
       "stream": "stdout",
       "text": [
        " 2534 SQQQ 01\n",
        "4539"
       ]
      },
      {
       "output_type": "stream",
       "stream": "stdout",
       "text": [
        " 2535 SQQQ 01\n",
        "4540"
       ]
      },
      {
       "output_type": "stream",
       "stream": "stdout",
       "text": [
        " 2536 SQQQ 01\n",
        "4541"
       ]
      },
      {
       "output_type": "stream",
       "stream": "stdout",
       "text": [
        " 2537 SQQQ 01\n",
        "4542"
       ]
      },
      {
       "output_type": "stream",
       "stream": "stdout",
       "text": [
        " 2538 SQQQ 01\n",
        "4543"
       ]
      },
      {
       "output_type": "stream",
       "stream": "stdout",
       "text": [
        " 2539 SQQQ 01\n",
        "4544"
       ]
      },
      {
       "output_type": "stream",
       "stream": "stdout",
       "text": [
        " 2540 SQQQ 01\n",
        "4545"
       ]
      },
      {
       "output_type": "stream",
       "stream": "stdout",
       "text": [
        " 2541 SQQQ 01\n",
        "4546"
       ]
      },
      {
       "output_type": "stream",
       "stream": "stdout",
       "text": [
        " 2542 SQQQ 01\n",
        "4547"
       ]
      },
      {
       "output_type": "stream",
       "stream": "stdout",
       "text": [
        " 2543 SQQQ 01\n",
        "4548"
       ]
      },
      {
       "output_type": "stream",
       "stream": "stdout",
       "text": [
        " 2544 SQQQ 01\n",
        "4549"
       ]
      },
      {
       "output_type": "stream",
       "stream": "stdout",
       "text": [
        " 2545 SQQQ 01\n",
        "4550"
       ]
      },
      {
       "output_type": "stream",
       "stream": "stdout",
       "text": [
        " 2546 SQQQ 01\n",
        "4551"
       ]
      },
      {
       "output_type": "stream",
       "stream": "stdout",
       "text": [
        " 2547 SQQQ 01\n",
        "4552"
       ]
      },
      {
       "output_type": "stream",
       "stream": "stdout",
       "text": [
        " 2548 SQQQ 01\n",
        "4553"
       ]
      },
      {
       "output_type": "stream",
       "stream": "stdout",
       "text": [
        " 2549 SQQQ 01\n",
        "4554"
       ]
      },
      {
       "output_type": "stream",
       "stream": "stdout",
       "text": [
        " 2550 SQQQ 01\n",
        "4555"
       ]
      },
      {
       "output_type": "stream",
       "stream": "stdout",
       "text": [
        " 2551 SQQQ 01\n",
        "4556"
       ]
      },
      {
       "output_type": "stream",
       "stream": "stdout",
       "text": [
        " 2552 SQQQ 01\n",
        "4557"
       ]
      },
      {
       "output_type": "stream",
       "stream": "stdout",
       "text": [
        " 2553 SQQQ 01\n",
        "4558"
       ]
      },
      {
       "output_type": "stream",
       "stream": "stdout",
       "text": [
        " 2554 SQQQ 01\n",
        "4559"
       ]
      },
      {
       "output_type": "stream",
       "stream": "stdout",
       "text": [
        " 2555 SQQQ 01\n",
        "4560"
       ]
      },
      {
       "output_type": "stream",
       "stream": "stdout",
       "text": [
        " 2556 SQQQ 01\n",
        "4561"
       ]
      },
      {
       "output_type": "stream",
       "stream": "stdout",
       "text": [
        " 2557 SQQQ 01\n",
        "4562"
       ]
      },
      {
       "output_type": "stream",
       "stream": "stdout",
       "text": [
        " 2558 SQQQ 01\n",
        "4563"
       ]
      },
      {
       "output_type": "stream",
       "stream": "stdout",
       "text": [
        " 2559 SQQQ 01\n",
        "4564"
       ]
      },
      {
       "output_type": "stream",
       "stream": "stdout",
       "text": [
        " 2560 SQQQ 01\n",
        "4565"
       ]
      },
      {
       "output_type": "stream",
       "stream": "stdout",
       "text": [
        " 2561 SQQQ 01\n",
        "4566"
       ]
      },
      {
       "output_type": "stream",
       "stream": "stdout",
       "text": [
        " 2562 SQQQ 01\n",
        "4567"
       ]
      },
      {
       "output_type": "stream",
       "stream": "stdout",
       "text": [
        " 2563 SQQQ 01\n",
        "4568"
       ]
      },
      {
       "output_type": "stream",
       "stream": "stdout",
       "text": [
        " 2564 SQQQ 01\n",
        "4569"
       ]
      },
      {
       "output_type": "stream",
       "stream": "stdout",
       "text": [
        " 2565 SQQQ 01\n",
        "4570"
       ]
      },
      {
       "output_type": "stream",
       "stream": "stdout",
       "text": [
        " 2566 SQQQ 01\n",
        "4571"
       ]
      },
      {
       "output_type": "stream",
       "stream": "stdout",
       "text": [
        " 2567 SQQQ 01\n",
        "4572"
       ]
      },
      {
       "output_type": "stream",
       "stream": "stdout",
       "text": [
        " 2568 SQQQ 01\n",
        "4573"
       ]
      },
      {
       "output_type": "stream",
       "stream": "stdout",
       "text": [
        " 2569 SQQQ 01\n",
        "4574"
       ]
      },
      {
       "output_type": "stream",
       "stream": "stdout",
       "text": [
        " 2570 SQQQ 01\n",
        "4575"
       ]
      },
      {
       "output_type": "stream",
       "stream": "stdout",
       "text": [
        " 2571 SQQQ 01\n",
        "4576"
       ]
      },
      {
       "output_type": "stream",
       "stream": "stdout",
       "text": [
        " 2572 SQQQ 01\n",
        "4577"
       ]
      },
      {
       "output_type": "stream",
       "stream": "stdout",
       "text": [
        " 2573 SQQQ 01\n",
        "4578"
       ]
      },
      {
       "output_type": "stream",
       "stream": "stdout",
       "text": [
        " 2574 SQQQ 01\n",
        "4579"
       ]
      },
      {
       "output_type": "stream",
       "stream": "stdout",
       "text": [
        " 2575 SQQQ 01\n",
        "4580"
       ]
      },
      {
       "output_type": "stream",
       "stream": "stdout",
       "text": [
        " 2576 SQQQ 01\n",
        "4581"
       ]
      },
      {
       "output_type": "stream",
       "stream": "stdout",
       "text": [
        " 2577 SQQQ 01\n",
        "4582"
       ]
      },
      {
       "output_type": "stream",
       "stream": "stdout",
       "text": [
        " 2578 SQQQ 01\n",
        "4583"
       ]
      },
      {
       "output_type": "stream",
       "stream": "stdout",
       "text": [
        " 2579 SQQQ 01\n",
        "4584"
       ]
      },
      {
       "output_type": "stream",
       "stream": "stdout",
       "text": [
        " 2580 SQQQ 01\n",
        "4585"
       ]
      },
      {
       "output_type": "stream",
       "stream": "stdout",
       "text": [
        " 2581 SQQQ 01\n",
        "4586"
       ]
      },
      {
       "output_type": "stream",
       "stream": "stdout",
       "text": [
        " 2582 SQQQ 01\n",
        "4587"
       ]
      },
      {
       "output_type": "stream",
       "stream": "stdout",
       "text": [
        " 2583 SQQQ 01\n",
        "4588"
       ]
      },
      {
       "output_type": "stream",
       "stream": "stdout",
       "text": [
        " 2584 SQQQ 01\n",
        "4589"
       ]
      },
      {
       "output_type": "stream",
       "stream": "stdout",
       "text": [
        " 2585 SQQQ 01\n",
        "4590"
       ]
      },
      {
       "output_type": "stream",
       "stream": "stdout",
       "text": [
        " 2586 SQQQ 01\n",
        "4591"
       ]
      },
      {
       "output_type": "stream",
       "stream": "stdout",
       "text": [
        " 2587 SQQQ 01\n",
        "4592"
       ]
      },
      {
       "output_type": "stream",
       "stream": "stdout",
       "text": [
        " 2588 SQQQ 01\n",
        "4593"
       ]
      },
      {
       "output_type": "stream",
       "stream": "stdout",
       "text": [
        " 2589 SQQQ 01\n",
        "4594"
       ]
      },
      {
       "output_type": "stream",
       "stream": "stdout",
       "text": [
        " 2590 SQQQ 01\n",
        "4595"
       ]
      },
      {
       "output_type": "stream",
       "stream": "stdout",
       "text": [
        " 2591 SQQQ 01\n",
        "4596"
       ]
      },
      {
       "output_type": "stream",
       "stream": "stdout",
       "text": [
        " 2592 SQQQ 01\n",
        "4597"
       ]
      },
      {
       "output_type": "stream",
       "stream": "stdout",
       "text": [
        " 2593 SQQQ 01\n",
        "4598"
       ]
      },
      {
       "output_type": "stream",
       "stream": "stdout",
       "text": [
        " 2594 SQQQ 01\n",
        "4599"
       ]
      },
      {
       "output_type": "stream",
       "stream": "stdout",
       "text": [
        " 2595 SQQQ 01\n",
        "4600"
       ]
      },
      {
       "output_type": "stream",
       "stream": "stdout",
       "text": [
        " 2596 SQQQ 01\n",
        "4601"
       ]
      },
      {
       "output_type": "stream",
       "stream": "stdout",
       "text": [
        " 2597 SQQQ 01\n",
        "4602"
       ]
      },
      {
       "output_type": "stream",
       "stream": "stdout",
       "text": [
        " 2598 SQQQ 01\n",
        "4603"
       ]
      },
      {
       "output_type": "stream",
       "stream": "stdout",
       "text": [
        " 2599 SQQQ 01\n",
        "4604"
       ]
      },
      {
       "output_type": "stream",
       "stream": "stdout",
       "text": [
        " 2600 SQQQ 01\n",
        "4605"
       ]
      },
      {
       "output_type": "stream",
       "stream": "stdout",
       "text": [
        " 2601 SQQQ 01\n",
        "4606"
       ]
      },
      {
       "output_type": "stream",
       "stream": "stdout",
       "text": [
        " 2602 SQQQ 01\n",
        "4607"
       ]
      },
      {
       "output_type": "stream",
       "stream": "stdout",
       "text": [
        " 2603 SQQQ 02\n",
        "4608"
       ]
      },
      {
       "output_type": "stream",
       "stream": "stdout",
       "text": [
        " 2604 SQQQ 02\n",
        "4609"
       ]
      },
      {
       "output_type": "stream",
       "stream": "stdout",
       "text": [
        " 2605 SQQQ 02\n",
        "4610"
       ]
      },
      {
       "output_type": "stream",
       "stream": "stdout",
       "text": [
        " 2606 SQQQ 02\n",
        "4611"
       ]
      },
      {
       "output_type": "stream",
       "stream": "stdout",
       "text": [
        " 2607 SQQQ 02\n",
        "4612"
       ]
      },
      {
       "output_type": "stream",
       "stream": "stdout",
       "text": [
        " 2608 SQQQ 02\n",
        "4613"
       ]
      },
      {
       "output_type": "stream",
       "stream": "stdout",
       "text": [
        " 2609 SQQQ 02\n",
        "4614"
       ]
      },
      {
       "output_type": "stream",
       "stream": "stdout",
       "text": [
        " 2610 SQQQ 02\n",
        "4615"
       ]
      },
      {
       "output_type": "stream",
       "stream": "stdout",
       "text": [
        " 2611 SQQQ 02\n",
        "4616"
       ]
      },
      {
       "output_type": "stream",
       "stream": "stdout",
       "text": [
        " 2612 SQQQ 02\n",
        "4617"
       ]
      },
      {
       "output_type": "stream",
       "stream": "stdout",
       "text": [
        " 2613 SQQQ 02\n",
        "4618"
       ]
      },
      {
       "output_type": "stream",
       "stream": "stdout",
       "text": [
        " 2614 SQQQ 02\n",
        "4619"
       ]
      },
      {
       "output_type": "stream",
       "stream": "stdout",
       "text": [
        " 2615 SQQQ 02\n",
        "4620"
       ]
      },
      {
       "output_type": "stream",
       "stream": "stdout",
       "text": [
        " 2616 SQQQ 02\n",
        "4621"
       ]
      },
      {
       "output_type": "stream",
       "stream": "stdout",
       "text": [
        " 2617 SQQQ 02\n",
        "4622"
       ]
      },
      {
       "output_type": "stream",
       "stream": "stdout",
       "text": [
        " 2618 SQQQ 02\n",
        "4623"
       ]
      },
      {
       "output_type": "stream",
       "stream": "stdout",
       "text": [
        " 2619 SQQQ 02\n",
        "4624"
       ]
      },
      {
       "output_type": "stream",
       "stream": "stdout",
       "text": [
        " 2620 SQQQ 02\n",
        "4625"
       ]
      },
      {
       "output_type": "stream",
       "stream": "stdout",
       "text": [
        " 2621 SQQQ 02\n",
        "4626"
       ]
      },
      {
       "output_type": "stream",
       "stream": "stdout",
       "text": [
        " 2622 SQQQ 02\n",
        "4627"
       ]
      },
      {
       "output_type": "stream",
       "stream": "stdout",
       "text": [
        " 2623 SQQQ 02\n",
        "4628"
       ]
      },
      {
       "output_type": "stream",
       "stream": "stdout",
       "text": [
        " 2624 SQQQ 02\n",
        "4629"
       ]
      },
      {
       "output_type": "stream",
       "stream": "stdout",
       "text": [
        " 2625 SQQQ 02\n",
        "4630"
       ]
      },
      {
       "output_type": "stream",
       "stream": "stdout",
       "text": [
        " 2626 SQQQ 02\n",
        "4631"
       ]
      },
      {
       "output_type": "stream",
       "stream": "stdout",
       "text": [
        " 2627 SQQQ 02\n",
        "4632"
       ]
      },
      {
       "output_type": "stream",
       "stream": "stdout",
       "text": [
        " 2628 SQQQ 02\n",
        "4633"
       ]
      },
      {
       "output_type": "stream",
       "stream": "stdout",
       "text": [
        " 2629 SQQQ 02\n",
        "4634"
       ]
      },
      {
       "output_type": "stream",
       "stream": "stdout",
       "text": [
        " 2630 SQQQ 02\n",
        "4635"
       ]
      },
      {
       "output_type": "stream",
       "stream": "stdout",
       "text": [
        " 2631 SQQQ 02\n",
        "4636"
       ]
      },
      {
       "output_type": "stream",
       "stream": "stdout",
       "text": [
        " 2632 SQQQ 02\n",
        "4637"
       ]
      },
      {
       "output_type": "stream",
       "stream": "stdout",
       "text": [
        " 2633 SQQQ 02\n",
        "4638"
       ]
      },
      {
       "output_type": "stream",
       "stream": "stdout",
       "text": [
        " 2634 SQQQ 02\n",
        "4639"
       ]
      },
      {
       "output_type": "stream",
       "stream": "stdout",
       "text": [
        " 2635 SQQQ 02\n",
        "4640"
       ]
      },
      {
       "output_type": "stream",
       "stream": "stdout",
       "text": [
        " 2636 SQQQ 02\n",
        "4641"
       ]
      },
      {
       "output_type": "stream",
       "stream": "stdout",
       "text": [
        " 2637 SQQQ 02\n",
        "4642"
       ]
      },
      {
       "output_type": "stream",
       "stream": "stdout",
       "text": [
        " 2638 SQQQ 02\n",
        "4643"
       ]
      },
      {
       "output_type": "stream",
       "stream": "stdout",
       "text": [
        " 2639 SQQQ 02\n",
        "4644"
       ]
      },
      {
       "output_type": "stream",
       "stream": "stdout",
       "text": [
        " 2640 SQQQ 02\n",
        "4645"
       ]
      },
      {
       "output_type": "stream",
       "stream": "stdout",
       "text": [
        " 2641 SQQQ 02\n",
        "4646"
       ]
      },
      {
       "output_type": "stream",
       "stream": "stdout",
       "text": [
        " 2642 SQQQ 02\n",
        "4647"
       ]
      },
      {
       "output_type": "stream",
       "stream": "stdout",
       "text": [
        " 2643 SQQQ 02\n",
        "4648"
       ]
      },
      {
       "output_type": "stream",
       "stream": "stdout",
       "text": [
        " 2644 SQQQ 02\n",
        "4649"
       ]
      },
      {
       "output_type": "stream",
       "stream": "stdout",
       "text": [
        " 2645 SQQQ 02\n",
        "4650"
       ]
      },
      {
       "output_type": "stream",
       "stream": "stdout",
       "text": [
        " 2646 SQQQ 02\n",
        "4651"
       ]
      },
      {
       "output_type": "stream",
       "stream": "stdout",
       "text": [
        " 2647 SQQQ 02\n",
        "4652"
       ]
      },
      {
       "output_type": "stream",
       "stream": "stdout",
       "text": [
        " 2648 SQQQ 02\n",
        "4653"
       ]
      },
      {
       "output_type": "stream",
       "stream": "stdout",
       "text": [
        " 2649 SQQQ 02\n",
        "4654"
       ]
      },
      {
       "output_type": "stream",
       "stream": "stdout",
       "text": [
        " 2650 SQQQ 02\n",
        "4655"
       ]
      },
      {
       "output_type": "stream",
       "stream": "stdout",
       "text": [
        " 2651 SQQQ 02\n",
        "4656"
       ]
      },
      {
       "output_type": "stream",
       "stream": "stdout",
       "text": [
        " 2652 SQQQ 02\n",
        "4657"
       ]
      },
      {
       "output_type": "stream",
       "stream": "stdout",
       "text": [
        " 2653 SQQQ 02\n",
        "4658"
       ]
      },
      {
       "output_type": "stream",
       "stream": "stdout",
       "text": [
        " 2654 SQQQ 02\n",
        "4659"
       ]
      },
      {
       "output_type": "stream",
       "stream": "stdout",
       "text": [
        " 2655 SQQQ 02\n",
        "4660"
       ]
      },
      {
       "output_type": "stream",
       "stream": "stdout",
       "text": [
        " 2656 SQQQ 02\n",
        "4661"
       ]
      },
      {
       "output_type": "stream",
       "stream": "stdout",
       "text": [
        " 2657 SQQQ 02\n",
        "4662"
       ]
      },
      {
       "output_type": "stream",
       "stream": "stdout",
       "text": [
        " 2658 SQQQ 02\n",
        "4663"
       ]
      },
      {
       "output_type": "stream",
       "stream": "stdout",
       "text": [
        " 2659 SQQQ 02\n",
        "4664"
       ]
      },
      {
       "output_type": "stream",
       "stream": "stdout",
       "text": [
        " 2660 SQQQ 02\n",
        "4665"
       ]
      },
      {
       "output_type": "stream",
       "stream": "stdout",
       "text": [
        " 2661 SQQQ 03\n",
        "4666"
       ]
      },
      {
       "output_type": "stream",
       "stream": "stdout",
       "text": [
        " 2662 SQQQ 03\n",
        "4667"
       ]
      },
      {
       "output_type": "stream",
       "stream": "stdout",
       "text": [
        " 2663 SQQQ 03\n",
        "4668"
       ]
      },
      {
       "output_type": "stream",
       "stream": "stdout",
       "text": [
        " 2664 SQQQ 03\n",
        "4669"
       ]
      },
      {
       "output_type": "stream",
       "stream": "stdout",
       "text": [
        " 2665 SQQQ 03\n",
        "4670"
       ]
      },
      {
       "output_type": "stream",
       "stream": "stdout",
       "text": [
        " 2666 SQQQ 03\n",
        "4671"
       ]
      },
      {
       "output_type": "stream",
       "stream": "stdout",
       "text": [
        " 2667 SQQQ 03\n",
        "4672"
       ]
      },
      {
       "output_type": "stream",
       "stream": "stdout",
       "text": [
        " 2668 SQQQ 03\n",
        "4673"
       ]
      },
      {
       "output_type": "stream",
       "stream": "stdout",
       "text": [
        " 2669 SQQQ 03\n",
        "4674"
       ]
      },
      {
       "output_type": "stream",
       "stream": "stdout",
       "text": [
        " 2670 SQQQ 03\n",
        "4675"
       ]
      },
      {
       "output_type": "stream",
       "stream": "stdout",
       "text": [
        " 2671 SQQQ 03\n",
        "4676"
       ]
      },
      {
       "output_type": "stream",
       "stream": "stdout",
       "text": [
        " 2672 SQQQ 03\n",
        "4677"
       ]
      },
      {
       "output_type": "stream",
       "stream": "stdout",
       "text": [
        " 2673 SQQQ 03\n",
        "4678"
       ]
      },
      {
       "output_type": "stream",
       "stream": "stdout",
       "text": [
        " 2674 SQQQ 03\n",
        "4679"
       ]
      },
      {
       "output_type": "stream",
       "stream": "stdout",
       "text": [
        " 2675 SQQQ 03\n",
        "4680"
       ]
      },
      {
       "output_type": "stream",
       "stream": "stdout",
       "text": [
        " 2676 SQQQ 03\n",
        "4681"
       ]
      },
      {
       "output_type": "stream",
       "stream": "stdout",
       "text": [
        " 2677 SQQQ 03\n",
        "4682"
       ]
      },
      {
       "output_type": "stream",
       "stream": "stdout",
       "text": [
        " 2678 SQQQ 03\n",
        "4683"
       ]
      },
      {
       "output_type": "stream",
       "stream": "stdout",
       "text": [
        " 2679 SQQQ 03\n",
        "4684"
       ]
      },
      {
       "output_type": "stream",
       "stream": "stdout",
       "text": [
        " 2680 SQQQ 03\n",
        "4685"
       ]
      },
      {
       "output_type": "stream",
       "stream": "stdout",
       "text": [
        " 2681 SQQQ 03\n",
        "4686"
       ]
      },
      {
       "output_type": "stream",
       "stream": "stdout",
       "text": [
        " 2682 SQQQ 03\n",
        "4687"
       ]
      },
      {
       "output_type": "stream",
       "stream": "stdout",
       "text": [
        " 2683 SQQQ 03\n",
        "4688"
       ]
      },
      {
       "output_type": "stream",
       "stream": "stdout",
       "text": [
        " 2684 SQQQ 03\n",
        "4689"
       ]
      },
      {
       "output_type": "stream",
       "stream": "stdout",
       "text": [
        " 2685 SQQQ 03\n",
        "4690"
       ]
      },
      {
       "output_type": "stream",
       "stream": "stdout",
       "text": [
        " 2686 SQQQ 03\n",
        "4691"
       ]
      },
      {
       "output_type": "stream",
       "stream": "stdout",
       "text": [
        " 2687 SQQQ 03\n",
        "4692"
       ]
      },
      {
       "output_type": "stream",
       "stream": "stdout",
       "text": [
        " 2688 SQQQ 03\n",
        "4693"
       ]
      },
      {
       "output_type": "stream",
       "stream": "stdout",
       "text": [
        " 2689 SQQQ 03\n",
        "4694"
       ]
      },
      {
       "output_type": "stream",
       "stream": "stdout",
       "text": [
        " 2690 SQQQ 03\n",
        "4695"
       ]
      },
      {
       "output_type": "stream",
       "stream": "stdout",
       "text": [
        " 2691 SQQQ 03\n",
        "4696"
       ]
      },
      {
       "output_type": "stream",
       "stream": "stdout",
       "text": [
        " 2692 SQQQ 03\n",
        "4697"
       ]
      },
      {
       "output_type": "stream",
       "stream": "stdout",
       "text": [
        " 2693 SQQQ 03\n",
        "4698"
       ]
      },
      {
       "output_type": "stream",
       "stream": "stdout",
       "text": [
        " 2694 SQQQ 03\n",
        "4699"
       ]
      },
      {
       "output_type": "stream",
       "stream": "stdout",
       "text": [
        " 2695 SQQQ 03\n",
        "4700"
       ]
      },
      {
       "output_type": "stream",
       "stream": "stdout",
       "text": [
        " 2696 SQQQ 03\n",
        "4701"
       ]
      },
      {
       "output_type": "stream",
       "stream": "stdout",
       "text": [
        " 2697 SQQQ 03\n",
        "4702"
       ]
      },
      {
       "output_type": "stream",
       "stream": "stdout",
       "text": [
        " 2698 SQQQ 03\n",
        "4703"
       ]
      },
      {
       "output_type": "stream",
       "stream": "stdout",
       "text": [
        " 2699 SQQQ 03\n",
        "4704"
       ]
      },
      {
       "output_type": "stream",
       "stream": "stdout",
       "text": [
        " 2700 SQQQ 03\n",
        "4705"
       ]
      },
      {
       "output_type": "stream",
       "stream": "stdout",
       "text": [
        " 2701 SQQQ 03\n",
        "4706"
       ]
      },
      {
       "output_type": "stream",
       "stream": "stdout",
       "text": [
        " 2702 SQQQ 03\n",
        "4707"
       ]
      },
      {
       "output_type": "stream",
       "stream": "stdout",
       "text": [
        " 2703 SQQQ 03\n",
        "4708"
       ]
      },
      {
       "output_type": "stream",
       "stream": "stdout",
       "text": [
        " 2704 SQQQ 03\n",
        "4709"
       ]
      },
      {
       "output_type": "stream",
       "stream": "stdout",
       "text": [
        " 2705 SQQQ 03\n",
        "4710"
       ]
      },
      {
       "output_type": "stream",
       "stream": "stdout",
       "text": [
        " 2706 SQQQ 03\n",
        "4711"
       ]
      },
      {
       "output_type": "stream",
       "stream": "stdout",
       "text": [
        " 2707 SQQQ 03\n",
        "4712"
       ]
      },
      {
       "output_type": "stream",
       "stream": "stdout",
       "text": [
        " 2708 SQQQ 03\n",
        "4713"
       ]
      },
      {
       "output_type": "stream",
       "stream": "stdout",
       "text": [
        " 2709 SQQQ 03\n",
        "4714"
       ]
      },
      {
       "output_type": "stream",
       "stream": "stdout",
       "text": [
        " 2710 SQQQ 03\n",
        "4715"
       ]
      },
      {
       "output_type": "stream",
       "stream": "stdout",
       "text": [
        " 2711 SQQQ 03\n",
        "4716"
       ]
      },
      {
       "output_type": "stream",
       "stream": "stdout",
       "text": [
        " 2712 SQQQ 03\n",
        "4717"
       ]
      },
      {
       "output_type": "stream",
       "stream": "stdout",
       "text": [
        " 2713 SQQQ 03\n",
        "4718"
       ]
      },
      {
       "output_type": "stream",
       "stream": "stdout",
       "text": [
        " 2714 SQQQ 03\n",
        "4719"
       ]
      },
      {
       "output_type": "stream",
       "stream": "stdout",
       "text": [
        " 2715 SQQQ 03\n",
        "4720"
       ]
      },
      {
       "output_type": "stream",
       "stream": "stdout",
       "text": [
        " 2716 SQQQ 03\n",
        "4721"
       ]
      },
      {
       "output_type": "stream",
       "stream": "stdout",
       "text": [
        " 2717 SQQQ 03\n",
        "4722"
       ]
      },
      {
       "output_type": "stream",
       "stream": "stdout",
       "text": [
        " 2718 SQQQ 03\n",
        "4723"
       ]
      },
      {
       "output_type": "stream",
       "stream": "stdout",
       "text": [
        " 2719 SQQQ 03\n",
        "4724"
       ]
      },
      {
       "output_type": "stream",
       "stream": "stdout",
       "text": [
        " 2720 SQQQ 03\n",
        "4725"
       ]
      },
      {
       "output_type": "stream",
       "stream": "stdout",
       "text": [
        " 2721 SQQQ 03\n",
        "4726"
       ]
      },
      {
       "output_type": "stream",
       "stream": "stdout",
       "text": [
        " 2722 SQQQ 03\n",
        "4727"
       ]
      },
      {
       "output_type": "stream",
       "stream": "stdout",
       "text": [
        " 2723 SQQQ 06\n",
        "4728"
       ]
      },
      {
       "output_type": "stream",
       "stream": "stdout",
       "text": [
        " 2724 SQQQ 06\n",
        "4729"
       ]
      },
      {
       "output_type": "stream",
       "stream": "stdout",
       "text": [
        " 2725 SQQQ 06\n",
        "4730"
       ]
      },
      {
       "output_type": "stream",
       "stream": "stdout",
       "text": [
        " 2726 SQQQ 06\n",
        "4731"
       ]
      },
      {
       "output_type": "stream",
       "stream": "stdout",
       "text": [
        " 2727 SQQQ 06\n",
        "4732"
       ]
      },
      {
       "output_type": "stream",
       "stream": "stdout",
       "text": [
        " 2728 SQQQ 06\n",
        "4733"
       ]
      },
      {
       "output_type": "stream",
       "stream": "stdout",
       "text": [
        " 2729 SQQQ 06\n",
        "4734"
       ]
      },
      {
       "output_type": "stream",
       "stream": "stdout",
       "text": [
        " 2730 SQQQ 06\n",
        "4735"
       ]
      },
      {
       "output_type": "stream",
       "stream": "stdout",
       "text": [
        " 2731 SQQQ 06\n",
        "4736"
       ]
      },
      {
       "output_type": "stream",
       "stream": "stdout",
       "text": [
        " 2732 SQQQ 06\n",
        "4737"
       ]
      },
      {
       "output_type": "stream",
       "stream": "stdout",
       "text": [
        " 2733 SQQQ 06\n",
        "4738"
       ]
      },
      {
       "output_type": "stream",
       "stream": "stdout",
       "text": [
        " 2734 SQQQ 06\n",
        "4739"
       ]
      },
      {
       "output_type": "stream",
       "stream": "stdout",
       "text": [
        " 2735 SQQQ 06\n",
        "4740"
       ]
      },
      {
       "output_type": "stream",
       "stream": "stdout",
       "text": [
        " 2736 SQQQ 06\n",
        "4741"
       ]
      },
      {
       "output_type": "stream",
       "stream": "stdout",
       "text": [
        " 2737 SQQQ 06\n",
        "4742"
       ]
      },
      {
       "output_type": "stream",
       "stream": "stdout",
       "text": [
        " 2738 SQQQ 06\n",
        "4743"
       ]
      },
      {
       "output_type": "stream",
       "stream": "stdout",
       "text": [
        " 2739 SQQQ 06\n",
        "4744"
       ]
      },
      {
       "output_type": "stream",
       "stream": "stdout",
       "text": [
        " 2740 SQQQ 06\n",
        "4745"
       ]
      },
      {
       "output_type": "stream",
       "stream": "stdout",
       "text": [
        " 2741 SQQQ 06\n",
        "4746"
       ]
      },
      {
       "output_type": "stream",
       "stream": "stdout",
       "text": [
        " 2742 SQQQ 06\n",
        "4747"
       ]
      },
      {
       "output_type": "stream",
       "stream": "stdout",
       "text": [
        " 2743 SQQQ 06\n",
        "4748"
       ]
      },
      {
       "output_type": "stream",
       "stream": "stdout",
       "text": [
        " 2744 SQQQ 06\n",
        "4749"
       ]
      },
      {
       "output_type": "stream",
       "stream": "stdout",
       "text": [
        " 2745 SQQQ 06\n",
        "4750"
       ]
      },
      {
       "output_type": "stream",
       "stream": "stdout",
       "text": [
        " 2746 SQQQ 06\n",
        "4751"
       ]
      },
      {
       "output_type": "stream",
       "stream": "stdout",
       "text": [
        " 2747 SQQQ 06\n",
        "4752"
       ]
      },
      {
       "output_type": "stream",
       "stream": "stdout",
       "text": [
        " 2748 SQQQ 06\n",
        "4753"
       ]
      },
      {
       "output_type": "stream",
       "stream": "stdout",
       "text": [
        " 2749 SQQQ 06\n",
        "4754"
       ]
      },
      {
       "output_type": "stream",
       "stream": "stdout",
       "text": [
        " 2750 SQQQ 06\n",
        "4755"
       ]
      },
      {
       "output_type": "stream",
       "stream": "stdout",
       "text": [
        " 2751 SQQQ 06\n",
        "4756"
       ]
      },
      {
       "output_type": "stream",
       "stream": "stdout",
       "text": [
        " 2752 SQQQ 06\n",
        "4757"
       ]
      },
      {
       "output_type": "stream",
       "stream": "stdout",
       "text": [
        " 2753 SQQQ 06\n",
        "4758"
       ]
      },
      {
       "output_type": "stream",
       "stream": "stdout",
       "text": [
        " 2754 SQQQ 06\n",
        "4759"
       ]
      },
      {
       "output_type": "stream",
       "stream": "stdout",
       "text": [
        " 2755 SQQQ 06\n",
        "4760"
       ]
      },
      {
       "output_type": "stream",
       "stream": "stdout",
       "text": [
        " 2756 SQQQ 06\n",
        "4761"
       ]
      },
      {
       "output_type": "stream",
       "stream": "stdout",
       "text": [
        " 2757 SQQQ 06\n",
        "4762"
       ]
      },
      {
       "output_type": "stream",
       "stream": "stdout",
       "text": [
        " 2758 SQQQ 06\n",
        "4763"
       ]
      },
      {
       "output_type": "stream",
       "stream": "stdout",
       "text": [
        " 2759 SQQQ 06\n",
        "4764"
       ]
      },
      {
       "output_type": "stream",
       "stream": "stdout",
       "text": [
        " 2760 SQQQ 06\n",
        "4765"
       ]
      },
      {
       "output_type": "stream",
       "stream": "stdout",
       "text": [
        " 2761 SQQQ 06\n",
        "4766"
       ]
      },
      {
       "output_type": "stream",
       "stream": "stdout",
       "text": [
        " 2762 SQQQ 06\n",
        "4767"
       ]
      },
      {
       "output_type": "stream",
       "stream": "stdout",
       "text": [
        " 2763 SQQQ 06\n",
        "4768"
       ]
      },
      {
       "output_type": "stream",
       "stream": "stdout",
       "text": [
        " 2764 SQQQ 06\n",
        "4769"
       ]
      },
      {
       "output_type": "stream",
       "stream": "stdout",
       "text": [
        " 2765 SQQQ 06\n",
        "4770"
       ]
      },
      {
       "output_type": "stream",
       "stream": "stdout",
       "text": [
        " 2766 SQQQ 06\n",
        "4771"
       ]
      },
      {
       "output_type": "stream",
       "stream": "stdout",
       "text": [
        " 2767 SQQQ 06\n",
        "4772"
       ]
      },
      {
       "output_type": "stream",
       "stream": "stdout",
       "text": [
        " 2768 SQQQ 06\n",
        "4773"
       ]
      },
      {
       "output_type": "stream",
       "stream": "stdout",
       "text": [
        " 2769 SQQQ 06\n",
        "4774"
       ]
      },
      {
       "output_type": "stream",
       "stream": "stdout",
       "text": [
        " 2770 SQQQ 06\n",
        "4775"
       ]
      },
      {
       "output_type": "stream",
       "stream": "stdout",
       "text": [
        " 2771 SQQQ 06\n",
        "4776"
       ]
      },
      {
       "output_type": "stream",
       "stream": "stdout",
       "text": [
        " 2772 SQQQ 06\n",
        "4777"
       ]
      },
      {
       "output_type": "stream",
       "stream": "stdout",
       "text": [
        " 2773 SQQQ 06\n",
        "4778"
       ]
      },
      {
       "output_type": "stream",
       "stream": "stdout",
       "text": [
        " 2774 SQQQ 06\n",
        "4779"
       ]
      },
      {
       "output_type": "stream",
       "stream": "stdout",
       "text": [
        " 2775 SQQQ 06\n",
        "4780"
       ]
      },
      {
       "output_type": "stream",
       "stream": "stdout",
       "text": [
        " 2776 SQQQ 06\n",
        "4781"
       ]
      },
      {
       "output_type": "stream",
       "stream": "stdout",
       "text": [
        " 2777 SQQQ 06\n",
        "4782"
       ]
      },
      {
       "output_type": "stream",
       "stream": "stdout",
       "text": [
        " 2778 SQQQ 06\n",
        "4783"
       ]
      },
      {
       "output_type": "stream",
       "stream": "stdout",
       "text": [
        " 2779 SQQQ 06\n",
        "4784"
       ]
      },
      {
       "output_type": "stream",
       "stream": "stdout",
       "text": [
        " 2780 SQQQ 06\n",
        "4785"
       ]
      },
      {
       "output_type": "stream",
       "stream": "stdout",
       "text": [
        " 2781 SQQQ 06\n",
        "4786"
       ]
      },
      {
       "output_type": "stream",
       "stream": "stdout",
       "text": [
        " 2782 SQQQ 06\n",
        "4787"
       ]
      },
      {
       "output_type": "stream",
       "stream": "stdout",
       "text": [
        " 2783 SQQQ 06\n",
        "4788"
       ]
      },
      {
       "output_type": "stream",
       "stream": "stdout",
       "text": [
        " 2784 SQQQ 06\n",
        "4789"
       ]
      },
      {
       "output_type": "stream",
       "stream": "stdout",
       "text": [
        " 2785 SQQQ 06\n",
        "4790"
       ]
      },
      {
       "output_type": "stream",
       "stream": "stdout",
       "text": [
        " 2786 SQQQ 06\n",
        "4791"
       ]
      },
      {
       "output_type": "stream",
       "stream": "stdout",
       "text": [
        " 2787 SQQQ 06\n",
        "4792"
       ]
      },
      {
       "output_type": "stream",
       "stream": "stdout",
       "text": [
        " 2788 SQQQ 06\n",
        "4793"
       ]
      },
      {
       "output_type": "stream",
       "stream": "stdout",
       "text": [
        " 2789 SQQQ 06\n",
        "4794"
       ]
      },
      {
       "output_type": "stream",
       "stream": "stdout",
       "text": [
        " 2790 SQQQ 06\n",
        "4795"
       ]
      },
      {
       "output_type": "stream",
       "stream": "stdout",
       "text": [
        " 2791 SQQQ 06\n",
        "4796"
       ]
      },
      {
       "output_type": "stream",
       "stream": "stdout",
       "text": [
        " 2792 SQQQ 06\n",
        "4797"
       ]
      },
      {
       "output_type": "stream",
       "stream": "stdout",
       "text": [
        " 2793 SQQQ 06\n",
        "4798"
       ]
      },
      {
       "output_type": "stream",
       "stream": "stdout",
       "text": [
        " 2794 SQQQ 06\n",
        "4799"
       ]
      },
      {
       "output_type": "stream",
       "stream": "stdout",
       "text": [
        " 2795 SQQQ 06\n",
        "4800"
       ]
      },
      {
       "output_type": "stream",
       "stream": "stdout",
       "text": [
        " 2796 SQQQ 06\n",
        "4801"
       ]
      },
      {
       "output_type": "stream",
       "stream": "stdout",
       "text": [
        " 2797 SQQQ 06\n",
        "4802"
       ]
      },
      {
       "output_type": "stream",
       "stream": "stdout",
       "text": [
        " 2798 SQQQ 06\n",
        "4803"
       ]
      },
      {
       "output_type": "stream",
       "stream": "stdout",
       "text": [
        " 2799 SQQQ 06\n",
        "4804"
       ]
      },
      {
       "output_type": "stream",
       "stream": "stdout",
       "text": [
        " 2800 SQQQ 06\n",
        "4805"
       ]
      },
      {
       "output_type": "stream",
       "stream": "stdout",
       "text": [
        " 2801 SQQQ1 01\n",
        "4806"
       ]
      },
      {
       "output_type": "stream",
       "stream": "stdout",
       "text": [
        " 2802 SQQQ1 01\n",
        "4807"
       ]
      },
      {
       "output_type": "stream",
       "stream": "stdout",
       "text": [
        " 2803 SQQQ1 01\n",
        "4808"
       ]
      },
      {
       "output_type": "stream",
       "stream": "stdout",
       "text": [
        " 2804 SQQQ1 01\n",
        "4809"
       ]
      },
      {
       "output_type": "stream",
       "stream": "stdout",
       "text": [
        " 2805 SQQQ1 01\n",
        "4810"
       ]
      },
      {
       "output_type": "stream",
       "stream": "stdout",
       "text": [
        " 2806 SQQQ1 01\n",
        "4811"
       ]
      },
      {
       "output_type": "stream",
       "stream": "stdout",
       "text": [
        " 2807 SQQQ1 01\n",
        "4812"
       ]
      },
      {
       "output_type": "stream",
       "stream": "stdout",
       "text": [
        " 2808 SQQQ1 01\n",
        "4813"
       ]
      },
      {
       "output_type": "stream",
       "stream": "stdout",
       "text": [
        " 2809 SQQQ1 01\n",
        "4814"
       ]
      },
      {
       "output_type": "stream",
       "stream": "stdout",
       "text": [
        " 2810 SQQQ1 01\n",
        "4815"
       ]
      },
      {
       "output_type": "stream",
       "stream": "stdout",
       "text": [
        " 2811 SQQQ1 01\n",
        "4816"
       ]
      },
      {
       "output_type": "stream",
       "stream": "stdout",
       "text": [
        " 2812 SQQQ1 01\n",
        "4817"
       ]
      },
      {
       "output_type": "stream",
       "stream": "stdout",
       "text": [
        " 2813 SQQQ1 01\n",
        "4818"
       ]
      },
      {
       "output_type": "stream",
       "stream": "stdout",
       "text": [
        " 2814 SQQQ1 01\n",
        "4819"
       ]
      },
      {
       "output_type": "stream",
       "stream": "stdout",
       "text": [
        " 2815 SQQQ1 01\n",
        "4820"
       ]
      },
      {
       "output_type": "stream",
       "stream": "stdout",
       "text": [
        " 2816 SQQQ1 01\n",
        "4821"
       ]
      },
      {
       "output_type": "stream",
       "stream": "stdout",
       "text": [
        " 2817 SQQQ1 01\n",
        "4822"
       ]
      },
      {
       "output_type": "stream",
       "stream": "stdout",
       "text": [
        " 2818 SQQQ1 01\n",
        "4823"
       ]
      },
      {
       "output_type": "stream",
       "stream": "stdout",
       "text": [
        " 2819 SQQQ1 01\n",
        "4824"
       ]
      },
      {
       "output_type": "stream",
       "stream": "stdout",
       "text": [
        " 2820 SQQQ1 01\n",
        "4825"
       ]
      },
      {
       "output_type": "stream",
       "stream": "stdout",
       "text": [
        " 2821 SQQQ1 01\n",
        "4826"
       ]
      },
      {
       "output_type": "stream",
       "stream": "stdout",
       "text": [
        " 2822 SQQQ1 01\n",
        "4827"
       ]
      },
      {
       "output_type": "stream",
       "stream": "stdout",
       "text": [
        " 2823 SQQQ 01\n",
        "4828"
       ]
      },
      {
       "output_type": "stream",
       "stream": "stdout",
       "text": [
        " 2824 SQQQ 01\n",
        "4829"
       ]
      },
      {
       "output_type": "stream",
       "stream": "stdout",
       "text": [
        " 2825 SQQQ 01\n",
        "4830"
       ]
      },
      {
       "output_type": "stream",
       "stream": "stdout",
       "text": [
        " 2826 SQQQ 01\n",
        "4831"
       ]
      },
      {
       "output_type": "stream",
       "stream": "stdout",
       "text": [
        " 2827 SQQQ 01\n",
        "4832"
       ]
      },
      {
       "output_type": "stream",
       "stream": "stdout",
       "text": [
        " 2828 SQQQ 01\n",
        "4833"
       ]
      },
      {
       "output_type": "stream",
       "stream": "stdout",
       "text": [
        " 2829 SQQQ 01\n",
        "4834"
       ]
      },
      {
       "output_type": "stream",
       "stream": "stdout",
       "text": [
        " 2830 SQQQ 01\n",
        "4835"
       ]
      },
      {
       "output_type": "stream",
       "stream": "stdout",
       "text": [
        " 2831 SQQQ 01\n",
        "4836"
       ]
      },
      {
       "output_type": "stream",
       "stream": "stdout",
       "text": [
        " 2832 SQQQ 01\n",
        "4837"
       ]
      },
      {
       "output_type": "stream",
       "stream": "stdout",
       "text": [
        " 2833 SQQQ 01\n",
        "4838"
       ]
      },
      {
       "output_type": "stream",
       "stream": "stdout",
       "text": [
        " 2834 SQQQ 01\n",
        "4839"
       ]
      },
      {
       "output_type": "stream",
       "stream": "stdout",
       "text": [
        " 2835 SQQQ 01\n",
        "4840"
       ]
      },
      {
       "output_type": "stream",
       "stream": "stdout",
       "text": [
        " 2836 SQQQ 01\n",
        "4841"
       ]
      },
      {
       "output_type": "stream",
       "stream": "stdout",
       "text": [
        " 2837 SQQQ 01\n",
        "4842"
       ]
      },
      {
       "output_type": "stream",
       "stream": "stdout",
       "text": [
        " 2838 SQQQ 01\n",
        "4843"
       ]
      },
      {
       "output_type": "stream",
       "stream": "stdout",
       "text": [
        " 2839 SQQQ 01\n",
        "4844"
       ]
      },
      {
       "output_type": "stream",
       "stream": "stdout",
       "text": [
        " 2840 SQQQ 01\n",
        "4845"
       ]
      },
      {
       "output_type": "stream",
       "stream": "stdout",
       "text": [
        " 2841 SQQQ 01\n",
        "4846"
       ]
      },
      {
       "output_type": "stream",
       "stream": "stdout",
       "text": [
        " 2842 SQQQ 01\n",
        "4847"
       ]
      },
      {
       "output_type": "stream",
       "stream": "stdout",
       "text": [
        " 2843 SQQQ 01\n",
        "4848"
       ]
      },
      {
       "output_type": "stream",
       "stream": "stdout",
       "text": [
        " 2844 SQQQ 01\n",
        "4849"
       ]
      },
      {
       "output_type": "stream",
       "stream": "stdout",
       "text": [
        " 2845 SQQQ 01\n",
        "4850"
       ]
      },
      {
       "output_type": "stream",
       "stream": "stdout",
       "text": [
        " 2846 SQQQ 01\n",
        "4851"
       ]
      },
      {
       "output_type": "stream",
       "stream": "stdout",
       "text": [
        " 2847 SQQQ 01\n",
        "4852"
       ]
      },
      {
       "output_type": "stream",
       "stream": "stdout",
       "text": [
        " 2848 SQQQ 01\n",
        "4853"
       ]
      },
      {
       "output_type": "stream",
       "stream": "stdout",
       "text": [
        " 2849 SQQQ 01\n",
        "4854"
       ]
      },
      {
       "output_type": "stream",
       "stream": "stdout",
       "text": [
        " 2850 SQQQ 01\n",
        "4855"
       ]
      },
      {
       "output_type": "stream",
       "stream": "stdout",
       "text": [
        " 2851 SQQQ 01\n",
        "4856"
       ]
      },
      {
       "output_type": "stream",
       "stream": "stdout",
       "text": [
        " 2852 SQQQ 01\n",
        "4857"
       ]
      },
      {
       "output_type": "stream",
       "stream": "stdout",
       "text": [
        " 2853 SQQQ 01\n",
        "4858"
       ]
      },
      {
       "output_type": "stream",
       "stream": "stdout",
       "text": [
        " 2854 SQQQ 01\n",
        "4859"
       ]
      },
      {
       "output_type": "stream",
       "stream": "stdout",
       "text": [
        " 2855 SQQQ 01\n",
        "4860"
       ]
      },
      {
       "output_type": "stream",
       "stream": "stdout",
       "text": [
        " 2856 SQQQ 01\n",
        "4861"
       ]
      },
      {
       "output_type": "stream",
       "stream": "stdout",
       "text": [
        " 2857 SQQQ 01\n",
        "4862"
       ]
      },
      {
       "output_type": "stream",
       "stream": "stdout",
       "text": [
        " 2858 SQQQ 01\n",
        "4863"
       ]
      },
      {
       "output_type": "stream",
       "stream": "stdout",
       "text": [
        " 2859 SQQQ 01\n",
        "4864"
       ]
      },
      {
       "output_type": "stream",
       "stream": "stdout",
       "text": [
        " 2860 SQQQ 01\n",
        "4865"
       ]
      },
      {
       "output_type": "stream",
       "stream": "stdout",
       "text": [
        " 2861 SQQQ 01\n",
        "4866"
       ]
      },
      {
       "output_type": "stream",
       "stream": "stdout",
       "text": [
        " 2862 SQQQ 01\n",
        "4867"
       ]
      },
      {
       "output_type": "stream",
       "stream": "stdout",
       "text": [
        " 2863 SQQQ 01\n",
        "4868"
       ]
      },
      {
       "output_type": "stream",
       "stream": "stdout",
       "text": [
        " 2864 SQQQ 01\n",
        "4869"
       ]
      },
      {
       "output_type": "stream",
       "stream": "stdout",
       "text": [
        " 2865 SQQQ 01\n",
        "4870"
       ]
      },
      {
       "output_type": "stream",
       "stream": "stdout",
       "text": [
        " 2866 SQQQ 01\n",
        "4871"
       ]
      },
      {
       "output_type": "stream",
       "stream": "stdout",
       "text": [
        " 2867 SQQQ 01\n",
        "4872"
       ]
      },
      {
       "output_type": "stream",
       "stream": "stdout",
       "text": [
        " 2868 SQQQ 01\n",
        "4873"
       ]
      },
      {
       "output_type": "stream",
       "stream": "stdout",
       "text": [
        " 2869 SQQQ 01\n",
        "4874"
       ]
      },
      {
       "output_type": "stream",
       "stream": "stdout",
       "text": [
        " 2870 SQQQ 01\n",
        "4875"
       ]
      },
      {
       "output_type": "stream",
       "stream": "stdout",
       "text": [
        " 2871 SQQQ 01\n",
        "4876"
       ]
      },
      {
       "output_type": "stream",
       "stream": "stdout",
       "text": [
        " 2872 SQQQ 01\n",
        "4877"
       ]
      },
      {
       "output_type": "stream",
       "stream": "stdout",
       "text": [
        " 2873 SQQQ 01\n",
        "4878"
       ]
      },
      {
       "output_type": "stream",
       "stream": "stdout",
       "text": [
        " 2874 SQQQ 01\n",
        "4879"
       ]
      },
      {
       "output_type": "stream",
       "stream": "stdout",
       "text": [
        " 2875 SQQQ 01\n",
        "4880"
       ]
      },
      {
       "output_type": "stream",
       "stream": "stdout",
       "text": [
        " 2876 SQQQ 01\n",
        "4881"
       ]
      },
      {
       "output_type": "stream",
       "stream": "stdout",
       "text": [
        " 2877 SQQQ 01\n",
        "4882"
       ]
      },
      {
       "output_type": "stream",
       "stream": "stdout",
       "text": [
        " 2878 SQQQ 01\n",
        "4883"
       ]
      },
      {
       "output_type": "stream",
       "stream": "stdout",
       "text": [
        " 2879 SQQQ 01\n",
        "4884"
       ]
      },
      {
       "output_type": "stream",
       "stream": "stdout",
       "text": [
        " 2880 SQQQ 01\n",
        "4885"
       ]
      },
      {
       "output_type": "stream",
       "stream": "stdout",
       "text": [
        " 2881 SQQQ 01\n",
        "4886"
       ]
      },
      {
       "output_type": "stream",
       "stream": "stdout",
       "text": [
        " 2882 SQQQ 01\n",
        "4887"
       ]
      },
      {
       "output_type": "stream",
       "stream": "stdout",
       "text": [
        " 2883 SQQQ 01\n",
        "4888"
       ]
      },
      {
       "output_type": "stream",
       "stream": "stdout",
       "text": [
        " 2884 SQQQ 01\n",
        "4889"
       ]
      },
      {
       "output_type": "stream",
       "stream": "stdout",
       "text": [
        " 2885 SQQQ 01\n",
        "4890"
       ]
      },
      {
       "output_type": "stream",
       "stream": "stdout",
       "text": [
        " 2886 SQQQ 01\n",
        "4891"
       ]
      },
      {
       "output_type": "stream",
       "stream": "stdout",
       "text": [
        " 2887 SQQQ 01\n",
        "4892"
       ]
      },
      {
       "output_type": "stream",
       "stream": "stdout",
       "text": [
        " 2888 SQQQ 01\n",
        "4893"
       ]
      },
      {
       "output_type": "stream",
       "stream": "stdout",
       "text": [
        " 2889 SQQQ 01\n",
        "4894"
       ]
      },
      {
       "output_type": "stream",
       "stream": "stdout",
       "text": [
        " 2890 SQQQ 01\n",
        "4895"
       ]
      },
      {
       "output_type": "stream",
       "stream": "stdout",
       "text": [
        " 2891 SQQQ 01\n",
        "4896"
       ]
      },
      {
       "output_type": "stream",
       "stream": "stdout",
       "text": [
        " 2892 SQQQ 01\n",
        "4897"
       ]
      },
      {
       "output_type": "stream",
       "stream": "stdout",
       "text": [
        " 2893 SQQQ 01\n",
        "4898"
       ]
      },
      {
       "output_type": "stream",
       "stream": "stdout",
       "text": [
        " 2894 SQQQ 01\n",
        "4899"
       ]
      },
      {
       "output_type": "stream",
       "stream": "stdout",
       "text": [
        " 2895 SQQQ 01\n",
        "4900"
       ]
      },
      {
       "output_type": "stream",
       "stream": "stdout",
       "text": [
        " 2896 SQQQ 01\n",
        "4901"
       ]
      },
      {
       "output_type": "stream",
       "stream": "stdout",
       "text": [
        " 2897 SQQQ 01\n",
        "4902"
       ]
      },
      {
       "output_type": "stream",
       "stream": "stdout",
       "text": [
        " 2898 SQQQ 01\n",
        "4903"
       ]
      },
      {
       "output_type": "stream",
       "stream": "stdout",
       "text": [
        " 2899 SQQQ 01\n",
        "4904"
       ]
      },
      {
       "output_type": "stream",
       "stream": "stdout",
       "text": [
        " 2900 SQQQ 01\n",
        "4905"
       ]
      },
      {
       "output_type": "stream",
       "stream": "stdout",
       "text": [
        " 2901 SQQQ 01\n",
        "4906"
       ]
      },
      {
       "output_type": "stream",
       "stream": "stdout",
       "text": [
        " 2902 SQQQ 01\n",
        "4907"
       ]
      },
      {
       "output_type": "stream",
       "stream": "stdout",
       "text": [
        " 2903 SQQQ 01\n",
        "4908"
       ]
      },
      {
       "output_type": "stream",
       "stream": "stdout",
       "text": [
        " 2904 SQQQ 01\n",
        "4909"
       ]
      },
      {
       "output_type": "stream",
       "stream": "stdout",
       "text": [
        " 2905 SQQQ 01\n",
        "4910"
       ]
      },
      {
       "output_type": "stream",
       "stream": "stdout",
       "text": [
        " 2906 SQQQ 01\n",
        "4911"
       ]
      },
      {
       "output_type": "stream",
       "stream": "stdout",
       "text": [
        " 2907 SQQQ 01\n",
        "4912"
       ]
      },
      {
       "output_type": "stream",
       "stream": "stdout",
       "text": [
        " 2908 SQQQ 01\n",
        "4913"
       ]
      },
      {
       "output_type": "stream",
       "stream": "stdout",
       "text": [
        " 2909 SQQQ 01\n",
        "4914"
       ]
      },
      {
       "output_type": "stream",
       "stream": "stdout",
       "text": [
        " 2910 SQQQ 01\n",
        "4915"
       ]
      },
      {
       "output_type": "stream",
       "stream": "stdout",
       "text": [
        " 2911 SQQQ 01\n",
        "4916"
       ]
      },
      {
       "output_type": "stream",
       "stream": "stdout",
       "text": [
        " 2912 SQQQ 01\n",
        "4917"
       ]
      },
      {
       "output_type": "stream",
       "stream": "stdout",
       "text": [
        " 2913 SQQQ 01\n",
        "4918"
       ]
      },
      {
       "output_type": "stream",
       "stream": "stdout",
       "text": [
        " 2914 SQQQ 01\n",
        "4919"
       ]
      },
      {
       "output_type": "stream",
       "stream": "stdout",
       "text": [
        " 2915 SQQQ 01\n",
        "4920"
       ]
      },
      {
       "output_type": "stream",
       "stream": "stdout",
       "text": [
        " 2916 SQQQ 01\n",
        "4921"
       ]
      },
      {
       "output_type": "stream",
       "stream": "stdout",
       "text": [
        " 2917 SQQQ 01\n",
        "4922"
       ]
      },
      {
       "output_type": "stream",
       "stream": "stdout",
       "text": [
        " 2918 SQQQ 01\n",
        "4923"
       ]
      },
      {
       "output_type": "stream",
       "stream": "stdout",
       "text": [
        " 2919 SQQQ 01\n",
        "4924"
       ]
      },
      {
       "output_type": "stream",
       "stream": "stdout",
       "text": [
        " 2920 SQQQ 01\n",
        "4925"
       ]
      },
      {
       "output_type": "stream",
       "stream": "stdout",
       "text": [
        " 2921 SQQQ 01\n",
        "4926"
       ]
      },
      {
       "output_type": "stream",
       "stream": "stdout",
       "text": [
        " 2922 SQQQ 01\n",
        "4927"
       ]
      },
      {
       "output_type": "stream",
       "stream": "stdout",
       "text": [
        " 2923 SQQQ 01\n",
        "4928"
       ]
      },
      {
       "output_type": "stream",
       "stream": "stdout",
       "text": [
        " 2924 SQQQ 01\n",
        "4929"
       ]
      },
      {
       "output_type": "stream",
       "stream": "stdout",
       "text": [
        " 2925 SQQQ 01\n",
        "4930"
       ]
      },
      {
       "output_type": "stream",
       "stream": "stdout",
       "text": [
        " 2926 SQQQ 01\n",
        "4931"
       ]
      },
      {
       "output_type": "stream",
       "stream": "stdout",
       "text": [
        " 2927 SQQQ 01\n",
        "4932"
       ]
      },
      {
       "output_type": "stream",
       "stream": "stdout",
       "text": [
        " 2928 SQQQ 01\n",
        "4933"
       ]
      },
      {
       "output_type": "stream",
       "stream": "stdout",
       "text": [
        " 2929 SQQQ 01\n",
        "4934"
       ]
      },
      {
       "output_type": "stream",
       "stream": "stdout",
       "text": [
        " 2930 SQQQ 01\n",
        "4935"
       ]
      },
      {
       "output_type": "stream",
       "stream": "stdout",
       "text": [
        " 2931 SQQQ 01\n",
        "4936"
       ]
      },
      {
       "output_type": "stream",
       "stream": "stdout",
       "text": [
        " 2932 SQQQ 01\n",
        "4937"
       ]
      },
      {
       "output_type": "stream",
       "stream": "stdout",
       "text": [
        " 2933 SQQQ 01\n",
        "4938"
       ]
      },
      {
       "output_type": "stream",
       "stream": "stdout",
       "text": [
        " 2934 SQQQ 01\n",
        "4939"
       ]
      },
      {
       "output_type": "stream",
       "stream": "stdout",
       "text": [
        " 2935 SQQQ 01\n",
        "4940"
       ]
      },
      {
       "output_type": "stream",
       "stream": "stdout",
       "text": [
        " 2936 SQQQ 01\n",
        "4941"
       ]
      },
      {
       "output_type": "stream",
       "stream": "stdout",
       "text": [
        " 2937 IPGP 01\n",
        "4942"
       ]
      },
      {
       "output_type": "stream",
       "stream": "stdout",
       "text": [
        " 2938 IPGP 01\n",
        "4943"
       ]
      },
      {
       "output_type": "stream",
       "stream": "stdout",
       "text": [
        " 2939 IPGP 01\n",
        "4944"
       ]
      },
      {
       "output_type": "stream",
       "stream": "stdout",
       "text": [
        " 2940 IPGP 01\n",
        "4945"
       ]
      },
      {
       "output_type": "stream",
       "stream": "stdout",
       "text": [
        " 2941 IPGP 01\n",
        "4946"
       ]
      },
      {
       "output_type": "stream",
       "stream": "stdout",
       "text": [
        " 2942 IPGP 01\n",
        "4947"
       ]
      },
      {
       "output_type": "stream",
       "stream": "stdout",
       "text": [
        " 2943 IPGP 01\n",
        "4948"
       ]
      },
      {
       "output_type": "stream",
       "stream": "stdout",
       "text": [
        " 2944 IPGP 01\n",
        "4949"
       ]
      },
      {
       "output_type": "stream",
       "stream": "stdout",
       "text": [
        " 2945 IPGP 01\n",
        "4950"
       ]
      },
      {
       "output_type": "stream",
       "stream": "stdout",
       "text": [
        " 2946 IPGP 01\n",
        "4951"
       ]
      },
      {
       "output_type": "stream",
       "stream": "stdout",
       "text": [
        " 2947 IPGP 01\n",
        "4952"
       ]
      },
      {
       "output_type": "stream",
       "stream": "stdout",
       "text": [
        " 2948 IPGP 01\n",
        "4953"
       ]
      },
      {
       "output_type": "stream",
       "stream": "stdout",
       "text": [
        " 2949 IPGP 01\n",
        "4954"
       ]
      },
      {
       "output_type": "stream",
       "stream": "stdout",
       "text": [
        " 2950 IPGP 01\n",
        "4955"
       ]
      },
      {
       "output_type": "stream",
       "stream": "stdout",
       "text": [
        " 2951 IPGP 01\n",
        "4956"
       ]
      },
      {
       "output_type": "stream",
       "stream": "stdout",
       "text": [
        " 2952 IPGP 01\n",
        "4957"
       ]
      },
      {
       "output_type": "stream",
       "stream": "stdout",
       "text": [
        " 2953 IPGP 01\n",
        "4958"
       ]
      },
      {
       "output_type": "stream",
       "stream": "stdout",
       "text": [
        " 2954 IPGP 01\n",
        "4959"
       ]
      },
      {
       "output_type": "stream",
       "stream": "stdout",
       "text": [
        " 2955 IPGP 01\n",
        "4960"
       ]
      },
      {
       "output_type": "stream",
       "stream": "stdout",
       "text": [
        " 2956 IPGP 01\n",
        "4961"
       ]
      },
      {
       "output_type": "stream",
       "stream": "stdout",
       "text": [
        " 2957 IPGP 01\n",
        "4962"
       ]
      },
      {
       "output_type": "stream",
       "stream": "stdout",
       "text": [
        " 2958 IPGP 01\n",
        "4963"
       ]
      },
      {
       "output_type": "stream",
       "stream": "stdout",
       "text": [
        " 2959 IPGP 01\n",
        "4964"
       ]
      },
      {
       "output_type": "stream",
       "stream": "stdout",
       "text": [
        " 2960 IPGP 01\n",
        "4965"
       ]
      },
      {
       "output_type": "stream",
       "stream": "stdout",
       "text": [
        " 2961 IPGP 02\n",
        "4966"
       ]
      },
      {
       "output_type": "stream",
       "stream": "stdout",
       "text": [
        " 2962 IPGP 02\n",
        "4967"
       ]
      },
      {
       "output_type": "stream",
       "stream": "stdout",
       "text": [
        " 2963 IPGP 02\n",
        "4968"
       ]
      },
      {
       "output_type": "stream",
       "stream": "stdout",
       "text": [
        " 2964 IPGP 02\n",
        "4969"
       ]
      },
      {
       "output_type": "stream",
       "stream": "stdout",
       "text": [
        " 2965 IPGP 02\n",
        "4970"
       ]
      },
      {
       "output_type": "stream",
       "stream": "stdout",
       "text": [
        " 2966 IPGP 02\n",
        "4971"
       ]
      },
      {
       "output_type": "stream",
       "stream": "stdout",
       "text": [
        " 2967 IPGP 02\n",
        "4972"
       ]
      },
      {
       "output_type": "stream",
       "stream": "stdout",
       "text": [
        " 2968 IPGP 02\n",
        "4973"
       ]
      },
      {
       "output_type": "stream",
       "stream": "stdout",
       "text": [
        " 2969 IPGP 02\n",
        "4974"
       ]
      },
      {
       "output_type": "stream",
       "stream": "stdout",
       "text": [
        " 2970 IPGP 02\n",
        "4975"
       ]
      },
      {
       "output_type": "stream",
       "stream": "stdout",
       "text": [
        " 2971 IPGP 02\n",
        "4976"
       ]
      },
      {
       "output_type": "stream",
       "stream": "stdout",
       "text": [
        " 2972 IPGP 02\n",
        "4977"
       ]
      },
      {
       "output_type": "stream",
       "stream": "stdout",
       "text": [
        " 2973 IPGP 02\n",
        "4978"
       ]
      },
      {
       "output_type": "stream",
       "stream": "stdout",
       "text": [
        " 2974 IPGP 02\n",
        "4979"
       ]
      },
      {
       "output_type": "stream",
       "stream": "stdout",
       "text": [
        " 2975 IPGP 02\n",
        "4980"
       ]
      },
      {
       "output_type": "stream",
       "stream": "stdout",
       "text": [
        " 2976 IPGP 02\n",
        "4981"
       ]
      },
      {
       "output_type": "stream",
       "stream": "stdout",
       "text": [
        " 2977 IPGP 02\n",
        "4982"
       ]
      },
      {
       "output_type": "stream",
       "stream": "stdout",
       "text": [
        " 2978 IPGP 02\n",
        "4983"
       ]
      },
      {
       "output_type": "stream",
       "stream": "stdout",
       "text": [
        " 2979 IPGP 02\n",
        "4984"
       ]
      },
      {
       "output_type": "stream",
       "stream": "stdout",
       "text": [
        " 2980 IPGP 02\n",
        "4985"
       ]
      },
      {
       "output_type": "stream",
       "stream": "stdout",
       "text": [
        " 2981 IPGP 02\n",
        "4986"
       ]
      },
      {
       "output_type": "stream",
       "stream": "stdout",
       "text": [
        " 2982 IPGP 02\n",
        "4987"
       ]
      },
      {
       "output_type": "stream",
       "stream": "stdout",
       "text": [
        " 2983 IPGP 02\n",
        "4988"
       ]
      },
      {
       "output_type": "stream",
       "stream": "stdout",
       "text": [
        " 2984 IPGP 02\n",
        "4989"
       ]
      },
      {
       "output_type": "stream",
       "stream": "stdout",
       "text": [
        " 2985 IPGP 02\n",
        "4990"
       ]
      },
      {
       "output_type": "stream",
       "stream": "stdout",
       "text": [
        " 2986 IPGP 02\n",
        "4991"
       ]
      },
      {
       "output_type": "stream",
       "stream": "stdout",
       "text": [
        " 2987 IPGP 02\n",
        "4992"
       ]
      },
      {
       "output_type": "stream",
       "stream": "stdout",
       "text": [
        " 2988 IPGP 02\n",
        "4993"
       ]
      },
      {
       "output_type": "stream",
       "stream": "stdout",
       "text": [
        " 2989 IPGP 04\n",
        "4994"
       ]
      },
      {
       "output_type": "stream",
       "stream": "stdout",
       "text": [
        " 2990 IPGP 04\n",
        "4995"
       ]
      },
      {
       "output_type": "stream",
       "stream": "stdout",
       "text": [
        " 2991 IPGP 04\n",
        "4996"
       ]
      },
      {
       "output_type": "stream",
       "stream": "stdout",
       "text": [
        " 2992 IPGP 04\n",
        "4997"
       ]
      },
      {
       "output_type": "stream",
       "stream": "stdout",
       "text": [
        " 2993 IPGP 04\n",
        "4998"
       ]
      },
      {
       "output_type": "stream",
       "stream": "stdout",
       "text": [
        " 2994 IPGP 04\n",
        "4999"
       ]
      },
      {
       "output_type": "stream",
       "stream": "stdout",
       "text": [
        " 2995 IPGP 04\n"
       ]
      }
     ],
     "prompt_number": 12
    },
    {
     "cell_type": "markdown",
     "metadata": {},
     "source": [
      "#quandlCode from Name"
     ]
    },
    {
     "cell_type": "code",
     "collapsed": false,
     "input": [
      "for counter, i in enumerate(dfFullList.index[startIndex:]):\n",
      "    if not counter % 5:\n",
      "        time.sleep(11)\n",
      "\n",
      "    stockName = dfFullList.ix[i, 'Name'].split('/')[0].split(',')[0].split('-')[0].replace('\\'', '').strip()\n",
      "    print(i, counter, stockName)\n",
      "\n",
      "    newQuandlCode = Quandl.search(query = stockName, authtoken = 'bW5sqqFptYcBCRpQpYhx', source = \"GOOG\", verbose = False)\n",
      "    if newQuandlCode:\n",
      "        #skip bad quandl codes\n",
      "        if not newQuandlCode[0]['code'] in badListQCodes:\n",
      "            newRow = {'Name' : dfFullList.ix[i, 'Name'], 'Ticker' : tickerName, 'quandlCode' : newQuandlCode[0]['code'], 'quandlName': newQuandlCode[0]['name']}\n",
      "\n",
      "            results.append(newRow)\n",
      "        \n",
      "pd.DataFrame(results).to_pickle('./equityLists/stockListName.pkl')"
     ],
     "language": "python",
     "metadata": {},
     "outputs": [
      {
       "output_type": "stream",
       "stream": "stdout",
       "text": [
        "4109 0 June 15 Puts on TQQQ US\n",
        "4110"
       ]
      },
      {
       "output_type": "stream",
       "stream": "stdout",
       "text": [
        " 1 June 15 Puts on TQQQ US\n",
        "4111"
       ]
      },
      {
       "output_type": "stream",
       "stream": "stdout",
       "text": [
        " 2 June 15 Puts on TQQQ US\n",
        "4112"
       ]
      },
      {
       "output_type": "stream",
       "stream": "stdout",
       "text": [
        " 3 June 15 Puts on TQQQ US\n",
        "4113"
       ]
      },
      {
       "output_type": "stream",
       "stream": "stdout",
       "text": [
        " 4 June 15 Puts on TQQQ US\n",
        "4114"
       ]
      },
      {
       "output_type": "stream",
       "stream": "stdout",
       "text": [
        " 5 June 15 Puts on TQQQ US\n",
        "4115"
       ]
      },
      {
       "output_type": "stream",
       "stream": "stdout",
       "text": [
        " 6 June 15 Puts on TQQQ US\n",
        "4116"
       ]
      },
      {
       "output_type": "stream",
       "stream": "stdout",
       "text": [
        " 7 June 15 Puts on TQQQ US\n",
        "4117"
       ]
      },
      {
       "output_type": "stream",
       "stream": "stdout",
       "text": [
        " 8 June 15 Puts on TQQQ US\n",
        "4118"
       ]
      },
      {
       "output_type": "stream",
       "stream": "stdout",
       "text": [
        " 9 June 15 Puts on TQQQ US\n",
        "4119"
       ]
      },
      {
       "output_type": "stream",
       "stream": "stdout",
       "text": [
        " 10 June 15 Puts on TQQQ US\n",
        "4120"
       ]
      },
      {
       "output_type": "stream",
       "stream": "stdout",
       "text": [
        " 11 June 15 Puts on TQQQ US\n",
        "4121"
       ]
      },
      {
       "output_type": "stream",
       "stream": "stdout",
       "text": [
        " 12 June 15 Puts on TQQQ US\n",
        "4122"
       ]
      },
      {
       "output_type": "stream",
       "stream": "stdout",
       "text": [
        " 13 June 15 Puts on TQQQ US\n",
        "4123"
       ]
      },
      {
       "output_type": "stream",
       "stream": "stdout",
       "text": [
        " 14 June 15 Puts on TQQQ US\n",
        "4124"
       ]
      },
      {
       "output_type": "stream",
       "stream": "stdout",
       "text": [
        " 15 June 15 Puts on TQQQ US\n",
        "4125"
       ]
      },
      {
       "output_type": "stream",
       "stream": "stdout",
       "text": [
        " 16 June 15 Puts on TQQQ US\n",
        "4126"
       ]
      },
      {
       "output_type": "stream",
       "stream": "stdout",
       "text": [
        " 17 June 15 Puts on TQQQ US\n",
        "4127"
       ]
      },
      {
       "output_type": "stream",
       "stream": "stdout",
       "text": [
        " 18 June 15 Puts on TQQQ US\n",
        "4128"
       ]
      },
      {
       "output_type": "stream",
       "stream": "stdout",
       "text": [
        " 19 June 15 Puts on TQQQ US\n",
        "4129"
       ]
      },
      {
       "output_type": "stream",
       "stream": "stdout",
       "text": [
        " 20 June 15 Puts on TQQQ US\n",
        "4130"
       ]
      },
      {
       "output_type": "stream",
       "stream": "stdout",
       "text": [
        " 21 June 15 Puts on TQQQ US\n",
        "4131"
       ]
      },
      {
       "output_type": "stream",
       "stream": "stdout",
       "text": [
        " 22 June 15 Puts on TQQQ US\n",
        "4132"
       ]
      },
      {
       "output_type": "stream",
       "stream": "stdout",
       "text": [
        " 23 June 15 Puts on TQQQ US\n",
        "4133"
       ]
      },
      {
       "output_type": "stream",
       "stream": "stdout",
       "text": [
        " 24 June 15 Puts on TQQQ US\n",
        "4134"
       ]
      },
      {
       "output_type": "stream",
       "stream": "stdout",
       "text": [
        " 25 June 15 Puts on TQQQ US\n",
        "4135"
       ]
      },
      {
       "output_type": "stream",
       "stream": "stdout",
       "text": [
        " 26 June 15 Puts on TQQQ US\n",
        "4136"
       ]
      },
      {
       "output_type": "stream",
       "stream": "stdout",
       "text": [
        " 27 June 15 Puts on TQQQ US\n",
        "4137"
       ]
      },
      {
       "output_type": "stream",
       "stream": "stdout",
       "text": [
        " 28 June 15 Puts on TQQQ US\n",
        "4138"
       ]
      },
      {
       "output_type": "stream",
       "stream": "stdout",
       "text": [
        " 29 June 15 Puts on TQQQ US\n",
        "4139"
       ]
      },
      {
       "output_type": "stream",
       "stream": "stdout",
       "text": [
        " 30 June 15 Puts on TQQQ US\n",
        "4140"
       ]
      },
      {
       "output_type": "stream",
       "stream": "stdout",
       "text": [
        " 31 June 15 Puts on TQQQ US\n",
        "4141"
       ]
      },
      {
       "output_type": "stream",
       "stream": "stdout",
       "text": [
        " 32 June 15 Puts on TQQQ US\n",
        "4142"
       ]
      },
      {
       "output_type": "stream",
       "stream": "stdout",
       "text": [
        " 33 June 15 Puts on TQQQ US\n",
        "4143"
       ]
      },
      {
       "output_type": "stream",
       "stream": "stdout",
       "text": [
        " 34 June 15 Puts on TQQQ US\n",
        "4144"
       ]
      },
      {
       "output_type": "stream",
       "stream": "stdout",
       "text": [
        " 35 June 15 Puts on TQQQ US\n",
        "4145"
       ]
      },
      {
       "output_type": "stream",
       "stream": "stdout",
       "text": [
        " 36 June 15 Puts on TQQQ US\n",
        "4146"
       ]
      },
      {
       "output_type": "stream",
       "stream": "stdout",
       "text": [
        " 37 June 15 Puts on TQQQ US\n",
        "4147"
       ]
      },
      {
       "output_type": "stream",
       "stream": "stdout",
       "text": [
        " 38 June 15 Puts on TQQQ US\n",
        "4148"
       ]
      },
      {
       "output_type": "stream",
       "stream": "stdout",
       "text": [
        " 39 June 15 Puts on TQQQ US\n",
        "4149"
       ]
      },
      {
       "output_type": "stream",
       "stream": "stdout",
       "text": [
        " 40 June 15 Puts on TQQQ US\n",
        "4150"
       ]
      },
      {
       "output_type": "stream",
       "stream": "stdout",
       "text": [
        " 41 June 15 Puts on TQQQ US\n",
        "4151"
       ]
      },
      {
       "output_type": "stream",
       "stream": "stdout",
       "text": [
        " 42 June 15 Puts on TQQQ US\n",
        "4152"
       ]
      },
      {
       "output_type": "stream",
       "stream": "stdout",
       "text": [
        " 43 June 15 Puts on TQQQ US\n",
        "4153"
       ]
      },
      {
       "output_type": "stream",
       "stream": "stdout",
       "text": [
        " 44 June 15 Puts on TQQQ US\n",
        "4154"
       ]
      },
      {
       "output_type": "stream",
       "stream": "stdout",
       "text": [
        " 45 June 15 Puts on TQQQ US\n",
        "4155"
       ]
      },
      {
       "output_type": "stream",
       "stream": "stdout",
       "text": [
        " 46 June 15 Puts on TQQQ US\n",
        "4156"
       ]
      },
      {
       "output_type": "stream",
       "stream": "stdout",
       "text": [
        " 47 June 15 Puts on TQQQ US\n",
        "4157"
       ]
      },
      {
       "output_type": "stream",
       "stream": "stdout",
       "text": [
        " 48 June 15 Puts on TQQQ US\n",
        "4158"
       ]
      },
      {
       "output_type": "stream",
       "stream": "stdout",
       "text": [
        " 49 June 15 Puts on TQQQ US\n",
        "4159"
       ]
      },
      {
       "output_type": "stream",
       "stream": "stdout",
       "text": [
        " 50 June 15 Puts on TQQQ US\n",
        "4160"
       ]
      },
      {
       "output_type": "stream",
       "stream": "stdout",
       "text": [
        " 51 June 15 Puts on TQQQ US\n",
        "4161"
       ]
      },
      {
       "output_type": "stream",
       "stream": "stdout",
       "text": [
        " 52 June 15 Puts on TQQQ US\n",
        "4162"
       ]
      },
      {
       "output_type": "stream",
       "stream": "stdout",
       "text": [
        " 53 June 15 Calls on TQQQ US\n",
        "4163"
       ]
      },
      {
       "output_type": "stream",
       "stream": "stdout",
       "text": [
        " 54 June 15 Calls on TQQQ US\n",
        "4164"
       ]
      },
      {
       "output_type": "stream",
       "stream": "stdout",
       "text": [
        " 55 June 15 Calls on TQQQ US\n",
        "4165"
       ]
      },
      {
       "output_type": "stream",
       "stream": "stdout",
       "text": [
        " 56 June 15 Calls on TQQQ US\n",
        "4166"
       ]
      },
      {
       "output_type": "stream",
       "stream": "stdout",
       "text": [
        " 57 June 15 Calls on TQQQ US\n",
        "4167"
       ]
      },
      {
       "output_type": "stream",
       "stream": "stdout",
       "text": [
        " 58 June 15 Calls on TQQQ US\n",
        "4168"
       ]
      },
      {
       "output_type": "stream",
       "stream": "stdout",
       "text": [
        " 59 June 15 Calls on TQQQ US\n",
        "4169"
       ]
      },
      {
       "output_type": "stream",
       "stream": "stdout",
       "text": [
        " 60 June 15 Calls on TQQQ US\n",
        "4170"
       ]
      },
      {
       "output_type": "stream",
       "stream": "stdout",
       "text": [
        " 61 June 15 Calls on TQQQ US\n",
        "4171"
       ]
      },
      {
       "output_type": "stream",
       "stream": "stdout",
       "text": [
        " 62 June 15 Calls on TQQQ US\n",
        "4172"
       ]
      },
      {
       "output_type": "stream",
       "stream": "stdout",
       "text": [
        " 63 June 15 Calls on TQQQ US\n",
        "4173"
       ]
      },
      {
       "output_type": "stream",
       "stream": "stdout",
       "text": [
        " 64 June 15 Calls on TQQQ US\n",
        "4174"
       ]
      },
      {
       "output_type": "stream",
       "stream": "stdout",
       "text": [
        " 65 June 15 Calls on TQQQ US\n",
        "4175"
       ]
      },
      {
       "output_type": "stream",
       "stream": "stdout",
       "text": [
        " 66 June 15 Calls on TQQQ US\n",
        "4176"
       ]
      },
      {
       "output_type": "stream",
       "stream": "stdout",
       "text": [
        " 67 June 15 Calls on TQQQ US\n",
        "4177"
       ]
      },
      {
       "output_type": "stream",
       "stream": "stdout",
       "text": [
        " 68 June 15 Calls on TQQQ US\n",
        "4178"
       ]
      },
      {
       "output_type": "stream",
       "stream": "stdout",
       "text": [
        " 69 June 15 Calls on TQQQ US\n",
        "4179"
       ]
      },
      {
       "output_type": "stream",
       "stream": "stdout",
       "text": [
        " 70 June 15 Calls on TQQQ US\n",
        "4180"
       ]
      },
      {
       "output_type": "stream",
       "stream": "stdout",
       "text": [
        " 71 June 15 Calls on TQQQ US\n",
        "4181"
       ]
      },
      {
       "output_type": "stream",
       "stream": "stdout",
       "text": [
        " 72 June 15 Calls on TQQQ US\n",
        "4182"
       ]
      },
      {
       "output_type": "stream",
       "stream": "stdout",
       "text": [
        " 73 June 15 Calls on TQQQ US\n",
        "4183"
       ]
      },
      {
       "output_type": "stream",
       "stream": "stdout",
       "text": [
        " 74 June 15 Calls on TQQQ US\n",
        "4184"
       ]
      },
      {
       "output_type": "stream",
       "stream": "stdout",
       "text": [
        " 75 June 15 Calls on TQQQ US\n",
        "4185"
       ]
      },
      {
       "output_type": "stream",
       "stream": "stdout",
       "text": [
        " 76 June 15 Calls on TQQQ US\n",
        "4186"
       ]
      },
      {
       "output_type": "stream",
       "stream": "stdout",
       "text": [
        " 77 June 15 Calls on TQQQ US\n",
        "4187"
       ]
      },
      {
       "output_type": "stream",
       "stream": "stdout",
       "text": [
        " 78 June 15 Calls on TQQQ US\n",
        "4188"
       ]
      },
      {
       "output_type": "stream",
       "stream": "stdout",
       "text": [
        " 79 June 15 Calls on TQQQ US\n",
        "4189"
       ]
      },
      {
       "output_type": "stream",
       "stream": "stdout",
       "text": [
        " 80 June 15 Calls on TQQQ US\n",
        "4190"
       ]
      },
      {
       "output_type": "stream",
       "stream": "stdout",
       "text": [
        " 81 June 15 Calls on TQQQ US\n",
        "4191"
       ]
      },
      {
       "output_type": "stream",
       "stream": "stdout",
       "text": [
        " 82 June 15 Calls on TQQQ US\n",
        "4192"
       ]
      },
      {
       "output_type": "stream",
       "stream": "stdout",
       "text": [
        " 83 June 15 Calls on TQQQ US\n",
        "4193"
       ]
      },
      {
       "output_type": "stream",
       "stream": "stdout",
       "text": [
        " 84 June 15 Calls on TQQQ US\n",
        "4194"
       ]
      },
      {
       "output_type": "stream",
       "stream": "stdout",
       "text": [
        " 85 June 15 Calls on TQQQ US\n",
        "4195"
       ]
      },
      {
       "output_type": "stream",
       "stream": "stdout",
       "text": [
        " 86 June 15 Calls on TQQQ US\n",
        "4196"
       ]
      },
      {
       "output_type": "stream",
       "stream": "stdout",
       "text": [
        " 87 June 15 Calls on TQQQ US\n",
        "4197"
       ]
      },
      {
       "output_type": "stream",
       "stream": "stdout",
       "text": [
        " 88 June 15 Calls on TQQQ US\n",
        "4198"
       ]
      },
      {
       "output_type": "stream",
       "stream": "stdout",
       "text": [
        " 89 June 15 Calls on TQQQ US\n",
        "4199"
       ]
      },
      {
       "output_type": "stream",
       "stream": "stdout",
       "text": [
        " 90 June 15 Calls on TQQQ US\n",
        "4200"
       ]
      },
      {
       "output_type": "stream",
       "stream": "stdout",
       "text": [
        " 91 June 15 Calls on TQQQ US\n",
        "4201"
       ]
      },
      {
       "output_type": "stream",
       "stream": "stdout",
       "text": [
        " 92 June 15 Calls on TQQQ US\n",
        "4202"
       ]
      },
      {
       "output_type": "stream",
       "stream": "stdout",
       "text": [
        " 93 June 15 Calls on TQQQ US\n",
        "4203"
       ]
      },
      {
       "output_type": "stream",
       "stream": "stdout",
       "text": [
        " 94 June 15 Calls on TQQQ US\n",
        "4204"
       ]
      },
      {
       "output_type": "stream",
       "stream": "stdout",
       "text": [
        " 95 June 15 Calls on TQQQ US\n",
        "4205"
       ]
      },
      {
       "output_type": "stream",
       "stream": "stdout",
       "text": [
        " 96 June 15 Calls on TQQQ US\n",
        "4206"
       ]
      },
      {
       "output_type": "stream",
       "stream": "stdout",
       "text": [
        " 97 June 15 Calls on TQQQ US\n",
        "4207"
       ]
      },
      {
       "output_type": "stream",
       "stream": "stdout",
       "text": [
        " 98 June 15 Calls on TQQQ US\n",
        "4208"
       ]
      },
      {
       "output_type": "stream",
       "stream": "stdout",
       "text": [
        " 99 June 15 Calls on TQQQ US\n",
        "4209"
       ]
      },
      {
       "output_type": "stream",
       "stream": "stdout",
       "text": [
        " 100 June 15 Calls on TQQQ US\n",
        "4210"
       ]
      },
      {
       "output_type": "stream",
       "stream": "stdout",
       "text": [
        " 101 June 15 Calls on TQQQ US\n",
        "4211"
       ]
      },
      {
       "output_type": "stream",
       "stream": "stdout",
       "text": [
        " 102 June 15 Calls on TQQQ US\n",
        "4212"
       ]
      },
      {
       "output_type": "stream",
       "stream": "stdout",
       "text": [
        " 103 June 15 Calls on TQQQ US\n",
        "4213"
       ]
      },
      {
       "output_type": "stream",
       "stream": "stdout",
       "text": [
        " 104 June 15 Calls on TQQQ US\n",
        "4214"
       ]
      },
      {
       "output_type": "stream",
       "stream": "stdout",
       "text": [
        " 105 June 15 Calls on TQQQ US\n",
        "4215"
       ]
      },
      {
       "output_type": "stream",
       "stream": "stdout",
       "text": [
        " 106 January 16 Puts on TQQQ US\n",
        "4216"
       ]
      },
      {
       "output_type": "stream",
       "stream": "stdout",
       "text": [
        " 107 January 16 Puts on TQQQ US\n",
        "4217"
       ]
      },
      {
       "output_type": "stream",
       "stream": "stdout",
       "text": [
        " 108 January 16 Puts on TQQQ US\n",
        "4218"
       ]
      },
      {
       "output_type": "stream",
       "stream": "stdout",
       "text": [
        " 109 January 16 Puts on TQQQ US\n",
        "4219"
       ]
      },
      {
       "output_type": "stream",
       "stream": "stdout",
       "text": [
        " 110 January 16 Puts on TQQQ US\n",
        "4220"
       ]
      },
      {
       "output_type": "stream",
       "stream": "stdout",
       "text": [
        " 111 January 16 Puts on TQQQ US\n",
        "4221"
       ]
      },
      {
       "output_type": "stream",
       "stream": "stdout",
       "text": [
        " 112 January 16 Puts on TQQQ US\n",
        "4222"
       ]
      },
      {
       "output_type": "stream",
       "stream": "stdout",
       "text": [
        " 113 January 16 Puts on TQQQ US\n",
        "4223"
       ]
      },
      {
       "output_type": "stream",
       "stream": "stdout",
       "text": [
        " 114 January 16 Puts on TQQQ US\n",
        "4224"
       ]
      },
      {
       "output_type": "stream",
       "stream": "stdout",
       "text": [
        " 115 January 16 Puts on TQQQ US\n",
        "4225"
       ]
      },
      {
       "output_type": "stream",
       "stream": "stdout",
       "text": [
        " 116 January 16 Puts on TQQQ US\n",
        "4226"
       ]
      },
      {
       "output_type": "stream",
       "stream": "stdout",
       "text": [
        " 117 January 16 Puts on TQQQ US\n",
        "4227"
       ]
      },
      {
       "output_type": "stream",
       "stream": "stdout",
       "text": [
        " 118 January 16 Puts on TQQQ US\n",
        "4228"
       ]
      },
      {
       "output_type": "stream",
       "stream": "stdout",
       "text": [
        " 119 January 16 Puts on TQQQ US\n",
        "4229"
       ]
      },
      {
       "output_type": "stream",
       "stream": "stdout",
       "text": [
        " 120 January 16 Puts on TQQQ US\n",
        "4230"
       ]
      },
      {
       "output_type": "stream",
       "stream": "stdout",
       "text": [
        " 121 January 16 Puts on TQQQ US\n",
        "4231"
       ]
      },
      {
       "output_type": "stream",
       "stream": "stdout",
       "text": [
        " 122 January 16 Puts on TQQQ US\n",
        "4232"
       ]
      },
      {
       "output_type": "stream",
       "stream": "stdout",
       "text": [
        " 123 January 16 Puts on TQQQ US\n",
        "4233"
       ]
      },
      {
       "output_type": "stream",
       "stream": "stdout",
       "text": [
        " 124 January 16 Puts on TQQQ US\n",
        "4234"
       ]
      },
      {
       "output_type": "stream",
       "stream": "stdout",
       "text": [
        " 125 January 16 Puts on TQQQ US\n",
        "4235"
       ]
      },
      {
       "output_type": "stream",
       "stream": "stdout",
       "text": [
        " 126 January 16 Puts on TQQQ US\n",
        "4236"
       ]
      },
      {
       "output_type": "stream",
       "stream": "stdout",
       "text": [
        " 127 January 16 Puts on TQQQ US\n",
        "4237"
       ]
      },
      {
       "output_type": "stream",
       "stream": "stdout",
       "text": [
        " 128 January 16 Puts on TQQQ US\n",
        "4238"
       ]
      },
      {
       "output_type": "stream",
       "stream": "stdout",
       "text": [
        " 129 January 16 Puts on TQQQ US\n",
        "4239"
       ]
      },
      {
       "output_type": "stream",
       "stream": "stdout",
       "text": [
        " 130 January 16 Puts on TQQQ US\n",
        "4240"
       ]
      },
      {
       "output_type": "stream",
       "stream": "stdout",
       "text": [
        " 131 January 16 Puts on TQQQ US\n",
        "4241"
       ]
      },
      {
       "output_type": "stream",
       "stream": "stdout",
       "text": [
        " 132 January 16 Puts on TQQQ US\n",
        "4242"
       ]
      },
      {
       "output_type": "stream",
       "stream": "stdout",
       "text": [
        " 133 January 16 Puts on TQQQ US\n",
        "4243"
       ]
      },
      {
       "output_type": "stream",
       "stream": "stdout",
       "text": [
        " 134 January 16 Puts on TQQQ US\n",
        "4244"
       ]
      },
      {
       "output_type": "stream",
       "stream": "stdout",
       "text": [
        " 135 January 16 Puts on TQQQ US\n",
        "4245"
       ]
      },
      {
       "output_type": "stream",
       "stream": "stdout",
       "text": [
        " 136 January 16 Puts on TQQQ US\n",
        "4246"
       ]
      },
      {
       "output_type": "stream",
       "stream": "stdout",
       "text": [
        " 137 January 16 Puts on TQQQ US\n",
        "4247"
       ]
      },
      {
       "output_type": "stream",
       "stream": "stdout",
       "text": [
        " 138 January 16 Puts on TQQQ US\n",
        "4248"
       ]
      },
      {
       "output_type": "stream",
       "stream": "stdout",
       "text": [
        " 139 January 16 Puts on TQQQ US\n",
        "4249"
       ]
      },
      {
       "output_type": "stream",
       "stream": "stdout",
       "text": [
        " 140 January 16 Puts on TQQQ US\n",
        "4250"
       ]
      },
      {
       "output_type": "stream",
       "stream": "stdout",
       "text": [
        " 141 January 16 Puts on TQQQ US\n",
        "4251"
       ]
      },
      {
       "output_type": "stream",
       "stream": "stdout",
       "text": [
        " 142 January 16 Puts on TQQQ US\n",
        "4252"
       ]
      },
      {
       "output_type": "stream",
       "stream": "stdout",
       "text": [
        " 143 January 16 Puts on TQQQ US\n",
        "4253"
       ]
      },
      {
       "output_type": "stream",
       "stream": "stdout",
       "text": [
        " 144 January 16 Puts on TQQQ US\n",
        "4254"
       ]
      },
      {
       "output_type": "stream",
       "stream": "stdout",
       "text": [
        " 145 January 16 Puts on TQQQ US\n",
        "4255"
       ]
      },
      {
       "output_type": "stream",
       "stream": "stdout",
       "text": [
        " 146 January 16 Puts on TQQQ US\n",
        "4256"
       ]
      },
      {
       "output_type": "stream",
       "stream": "stdout",
       "text": [
        " 147 January 16 Puts on TQQQ US\n",
        "4257"
       ]
      },
      {
       "output_type": "stream",
       "stream": "stdout",
       "text": [
        " 148 January 16 Puts on TQQQ US\n",
        "4258"
       ]
      },
      {
       "output_type": "stream",
       "stream": "stdout",
       "text": [
        " 149 January 16 Puts on TQQQ US\n",
        "4259"
       ]
      },
      {
       "output_type": "stream",
       "stream": "stdout",
       "text": [
        " 150 January 16 Puts on TQQQ US\n",
        "4260"
       ]
      },
      {
       "output_type": "stream",
       "stream": "stdout",
       "text": [
        " 151 January 16 Puts on TQQQ US\n",
        "4261"
       ]
      },
      {
       "output_type": "stream",
       "stream": "stdout",
       "text": [
        " 152 January 16 Puts on TQQQ US\n",
        "4262"
       ]
      },
      {
       "output_type": "stream",
       "stream": "stdout",
       "text": [
        " 153 January 16 Puts on TQQQ US\n",
        "4263"
       ]
      },
      {
       "output_type": "stream",
       "stream": "stdout",
       "text": [
        " 154 January 16 Puts on TQQQ US\n",
        "4264"
       ]
      },
      {
       "output_type": "stream",
       "stream": "stdout",
       "text": [
        " 155 January 16 Puts on TQQQ US\n",
        "4265"
       ]
      },
      {
       "output_type": "stream",
       "stream": "stdout",
       "text": [
        " 156 January 16 Puts on TQQQ US\n",
        "4266"
       ]
      },
      {
       "output_type": "stream",
       "stream": "stdout",
       "text": [
        " 157 January 16 Puts on TQQQ US\n",
        "4267"
       ]
      },
      {
       "output_type": "stream",
       "stream": "stdout",
       "text": [
        " 158 January 16 Puts on TQQQ US\n",
        "4268"
       ]
      },
      {
       "output_type": "stream",
       "stream": "stdout",
       "text": [
        " 159 January 16 Puts on TQQQ US\n",
        "4269"
       ]
      },
      {
       "output_type": "stream",
       "stream": "stdout",
       "text": [
        " 160 January 16 Puts on TQQQ US\n",
        "4270"
       ]
      },
      {
       "output_type": "stream",
       "stream": "stdout",
       "text": [
        " 161 January 16 Puts on TQQQ US\n",
        "4271"
       ]
      },
      {
       "output_type": "stream",
       "stream": "stdout",
       "text": [
        " 162 January 16 Puts on TQQQ US\n",
        "4272"
       ]
      },
      {
       "output_type": "stream",
       "stream": "stdout",
       "text": [
        " 163 January 16 Puts on TQQQ US\n",
        "4273"
       ]
      },
      {
       "output_type": "stream",
       "stream": "stdout",
       "text": [
        " 164 January 16 Puts on TQQQ US\n",
        "4274"
       ]
      },
      {
       "output_type": "stream",
       "stream": "stdout",
       "text": [
        " 165 January 16 Puts on TQQQ US\n",
        "4275"
       ]
      },
      {
       "output_type": "stream",
       "stream": "stdout",
       "text": [
        " 166 January 16 Puts on TQQQ US\n",
        "4276"
       ]
      },
      {
       "output_type": "stream",
       "stream": "stdout",
       "text": [
        " 167 January 16 Puts on TQQQ US\n",
        "4277"
       ]
      },
      {
       "output_type": "stream",
       "stream": "stdout",
       "text": [
        " 168 January 16 Puts on TQQQ US\n",
        "4278"
       ]
      },
      {
       "output_type": "stream",
       "stream": "stdout",
       "text": [
        " 169 January 16 Puts on TQQQ US\n",
        "4279"
       ]
      },
      {
       "output_type": "stream",
       "stream": "stdout",
       "text": [
        " 170 January 16 Puts on TQQQ US\n",
        "4280"
       ]
      },
      {
       "output_type": "stream",
       "stream": "stdout",
       "text": [
        " 171 January 16 Puts on TQQQ US\n",
        "4281"
       ]
      },
      {
       "output_type": "stream",
       "stream": "stdout",
       "text": [
        " 172 January 16 Puts on TQQQ US\n",
        "4282"
       ]
      },
      {
       "output_type": "stream",
       "stream": "stdout",
       "text": [
        " 173 January 16 Puts on TQQQ US\n",
        "4283"
       ]
      },
      {
       "output_type": "stream",
       "stream": "stdout",
       "text": [
        " 174 January 16 Puts on TQQQ US\n",
        "4284"
       ]
      },
      {
       "output_type": "stream",
       "stream": "stdout",
       "text": [
        " 175 January 16 Puts on TQQQ US\n",
        "4285"
       ]
      },
      {
       "output_type": "stream",
       "stream": "stdout",
       "text": [
        " 176 January 16 Puts on TQQQ US\n",
        "4286"
       ]
      },
      {
       "output_type": "stream",
       "stream": "stdout",
       "text": [
        " 177 January 16 Puts on TQQQ US\n",
        "4287"
       ]
      },
      {
       "output_type": "stream",
       "stream": "stdout",
       "text": [
        " 178 January 16 Puts on TQQQ US\n",
        "4288"
       ]
      },
      {
       "output_type": "stream",
       "stream": "stdout",
       "text": [
        " 179 January 16 Puts on TQQQ US\n",
        "4289"
       ]
      },
      {
       "output_type": "stream",
       "stream": "stdout",
       "text": [
        " 180 January 16 Puts on TQQQ US\n",
        "4290"
       ]
      },
      {
       "output_type": "stream",
       "stream": "stdout",
       "text": [
        " 181 January 16 Puts on TQQQ US\n",
        "4291"
       ]
      },
      {
       "output_type": "stream",
       "stream": "stdout",
       "text": [
        " 182 January 16 Puts on TQQQ US\n",
        "4292"
       ]
      },
      {
       "output_type": "stream",
       "stream": "stdout",
       "text": [
        " 183 January 16 Puts on TQQQ US\n",
        "4293"
       ]
      },
      {
       "output_type": "stream",
       "stream": "stdout",
       "text": [
        " 184 January 16 Puts on TQQQ US\n",
        "4294"
       ]
      },
      {
       "output_type": "stream",
       "stream": "stdout",
       "text": [
        " 185 January 16 Puts on TQQQ US\n",
        "4295"
       ]
      },
      {
       "output_type": "stream",
       "stream": "stdout",
       "text": [
        " 186 January 16 Puts on TQQQ US\n",
        "4296"
       ]
      },
      {
       "output_type": "stream",
       "stream": "stdout",
       "text": [
        " 187 January 16 Puts on TQQQ US\n",
        "4297"
       ]
      },
      {
       "output_type": "stream",
       "stream": "stdout",
       "text": [
        " 188 January 16 Puts on TQQQ US\n",
        "4298"
       ]
      },
      {
       "output_type": "stream",
       "stream": "stdout",
       "text": [
        " 189 January 16 Puts on TQQQ US\n",
        "4299"
       ]
      },
      {
       "output_type": "stream",
       "stream": "stdout",
       "text": [
        " 190 January 16 Puts on TQQQ US\n",
        "4300"
       ]
      },
      {
       "output_type": "stream",
       "stream": "stdout",
       "text": [
        " 191 January 16 Puts on TQQQ US\n",
        "4301"
       ]
      },
      {
       "output_type": "stream",
       "stream": "stdout",
       "text": [
        " 192 January 16 Calls on TQQQ US\n",
        "4302"
       ]
      },
      {
       "output_type": "stream",
       "stream": "stdout",
       "text": [
        " 193 January 16 Calls on TQQQ US\n",
        "4303"
       ]
      },
      {
       "output_type": "stream",
       "stream": "stdout",
       "text": [
        " 194 January 16 Calls on TQQQ US\n",
        "4304"
       ]
      },
      {
       "output_type": "stream",
       "stream": "stdout",
       "text": [
        " 195 January 16 Calls on TQQQ US\n",
        "4305"
       ]
      },
      {
       "output_type": "stream",
       "stream": "stdout",
       "text": [
        " 196 January 16 Calls on TQQQ US\n",
        "4306"
       ]
      },
      {
       "output_type": "stream",
       "stream": "stdout",
       "text": [
        " 197 January 16 Calls on TQQQ US\n",
        "4307"
       ]
      },
      {
       "output_type": "stream",
       "stream": "stdout",
       "text": [
        " 198 January 16 Calls on TQQQ US\n",
        "4308"
       ]
      },
      {
       "output_type": "stream",
       "stream": "stdout",
       "text": [
        " 199 January 16 Calls on TQQQ US\n",
        "4309"
       ]
      },
      {
       "output_type": "stream",
       "stream": "stdout",
       "text": [
        " 200 January 16 Calls on TQQQ US\n",
        "4310"
       ]
      },
      {
       "output_type": "stream",
       "stream": "stdout",
       "text": [
        " 201 January 16 Calls on TQQQ US\n",
        "4311"
       ]
      },
      {
       "output_type": "stream",
       "stream": "stdout",
       "text": [
        " 202 January 16 Calls on TQQQ US\n",
        "4312"
       ]
      },
      {
       "output_type": "stream",
       "stream": "stdout",
       "text": [
        " 203 January 16 Calls on TQQQ US\n",
        "4313"
       ]
      },
      {
       "output_type": "stream",
       "stream": "stdout",
       "text": [
        " 204 January 16 Calls on TQQQ US\n",
        "4314"
       ]
      },
      {
       "output_type": "stream",
       "stream": "stdout",
       "text": [
        " 205 January 16 Calls on TQQQ US\n",
        "4315"
       ]
      },
      {
       "output_type": "stream",
       "stream": "stdout",
       "text": [
        " 206 January 16 Calls on TQQQ US\n",
        "4316"
       ]
      },
      {
       "output_type": "stream",
       "stream": "stdout",
       "text": [
        " 207 January 16 Calls on TQQQ US\n",
        "4317"
       ]
      },
      {
       "output_type": "stream",
       "stream": "stdout",
       "text": [
        " 208 January 16 Calls on TQQQ US\n",
        "4318"
       ]
      },
      {
       "output_type": "stream",
       "stream": "stdout",
       "text": [
        " 209 January 16 Calls on TQQQ US\n",
        "4319"
       ]
      },
      {
       "output_type": "stream",
       "stream": "stdout",
       "text": [
        " 210 January 16 Calls on TQQQ US\n",
        "4320"
       ]
      },
      {
       "output_type": "stream",
       "stream": "stdout",
       "text": [
        " 211 January 16 Calls on TQQQ US\n",
        "4321"
       ]
      },
      {
       "output_type": "stream",
       "stream": "stdout",
       "text": [
        " 212 January 16 Calls on TQQQ US\n",
        "4322"
       ]
      },
      {
       "output_type": "stream",
       "stream": "stdout",
       "text": [
        " 213 January 16 Calls on TQQQ US\n",
        "4323"
       ]
      },
      {
       "output_type": "stream",
       "stream": "stdout",
       "text": [
        " 214 January 16 Calls on TQQQ US\n",
        "4324"
       ]
      },
      {
       "output_type": "stream",
       "stream": "stdout",
       "text": [
        " 215 January 16 Calls on TQQQ US\n",
        "4325"
       ]
      },
      {
       "output_type": "stream",
       "stream": "stdout",
       "text": [
        " 216 January 16 Calls on TQQQ US\n",
        "4326"
       ]
      },
      {
       "output_type": "stream",
       "stream": "stdout",
       "text": [
        " 217 January 16 Calls on TQQQ US\n",
        "4327"
       ]
      },
      {
       "output_type": "stream",
       "stream": "stdout",
       "text": [
        " 218 January 16 Calls on TQQQ US\n",
        "4328"
       ]
      },
      {
       "output_type": "stream",
       "stream": "stdout",
       "text": [
        " 219 January 16 Calls on TQQQ US\n",
        "4329"
       ]
      },
      {
       "output_type": "stream",
       "stream": "stdout",
       "text": [
        " 220 January 16 Calls on TQQQ US\n",
        "4330"
       ]
      },
      {
       "output_type": "stream",
       "stream": "stdout",
       "text": [
        " 221 January 16 Calls on TQQQ US\n",
        "4331"
       ]
      },
      {
       "output_type": "stream",
       "stream": "stdout",
       "text": [
        " 222 January 16 Calls on TQQQ US\n",
        "4332"
       ]
      },
      {
       "output_type": "stream",
       "stream": "stdout",
       "text": [
        " 223 January 16 Calls on TQQQ US\n",
        "4333"
       ]
      },
      {
       "output_type": "stream",
       "stream": "stdout",
       "text": [
        " 224 January 16 Calls on TQQQ US\n",
        "4334"
       ]
      },
      {
       "output_type": "stream",
       "stream": "stdout",
       "text": [
        " 225 January 16 Calls on TQQQ US\n",
        "4335"
       ]
      },
      {
       "output_type": "stream",
       "stream": "stdout",
       "text": [
        " 226 January 16 Calls on TQQQ US\n",
        "4336"
       ]
      },
      {
       "output_type": "stream",
       "stream": "stdout",
       "text": [
        " 227 January 16 Calls on TQQQ US\n",
        "4337"
       ]
      },
      {
       "output_type": "stream",
       "stream": "stdout",
       "text": [
        " 228 January 16 Calls on TQQQ US\n",
        "4338"
       ]
      },
      {
       "output_type": "stream",
       "stream": "stdout",
       "text": [
        " 229 January 16 Calls on TQQQ US\n",
        "4339"
       ]
      },
      {
       "output_type": "stream",
       "stream": "stdout",
       "text": [
        " 230 January 16 Calls on TQQQ US\n",
        "4340"
       ]
      },
      {
       "output_type": "stream",
       "stream": "stdout",
       "text": [
        " 231 January 16 Calls on TQQQ US\n",
        "4341"
       ]
      },
      {
       "output_type": "stream",
       "stream": "stdout",
       "text": [
        " 232 January 16 Calls on TQQQ US\n",
        "4342"
       ]
      },
      {
       "output_type": "stream",
       "stream": "stdout",
       "text": [
        " 233 January 16 Calls on TQQQ US\n",
        "4343"
       ]
      },
      {
       "output_type": "stream",
       "stream": "stdout",
       "text": [
        " 234 January 16 Calls on TQQQ US\n",
        "4344"
       ]
      },
      {
       "output_type": "stream",
       "stream": "stdout",
       "text": [
        " 235 January 16 Calls on TQQQ US\n",
        "4345"
       ]
      },
      {
       "output_type": "stream",
       "stream": "stdout",
       "text": [
        " 236 January 16 Calls on TQQQ US\n",
        "4346"
       ]
      },
      {
       "output_type": "stream",
       "stream": "stdout",
       "text": [
        " 237 January 16 Calls on TQQQ US\n",
        "4347"
       ]
      },
      {
       "output_type": "stream",
       "stream": "stdout",
       "text": [
        " 238 January 16 Calls on TQQQ US\n",
        "4348"
       ]
      },
      {
       "output_type": "stream",
       "stream": "stdout",
       "text": [
        " 239 January 16 Calls on TQQQ US\n",
        "4349"
       ]
      },
      {
       "output_type": "stream",
       "stream": "stdout",
       "text": [
        " 240 January 16 Calls on TQQQ US\n",
        "4350"
       ]
      },
      {
       "output_type": "stream",
       "stream": "stdout",
       "text": [
        " 241 January 16 Calls on TQQQ US\n",
        "4351"
       ]
      },
      {
       "output_type": "stream",
       "stream": "stdout",
       "text": [
        " 242 January 16 Calls on TQQQ US\n",
        "4352"
       ]
      },
      {
       "output_type": "stream",
       "stream": "stdout",
       "text": [
        " 243 January 16 Calls on TQQQ US\n",
        "4353"
       ]
      },
      {
       "output_type": "stream",
       "stream": "stdout",
       "text": [
        " 244 January 16 Calls on TQQQ US\n",
        "4354"
       ]
      },
      {
       "output_type": "stream",
       "stream": "stdout",
       "text": [
        " 245 January 16 Calls on TQQQ US\n",
        "4355"
       ]
      },
      {
       "output_type": "stream",
       "stream": "stdout",
       "text": [
        " 246 January 16 Calls on TQQQ US\n",
        "4356"
       ]
      },
      {
       "output_type": "stream",
       "stream": "stdout",
       "text": [
        " 247 January 16 Calls on TQQQ US\n",
        "4357"
       ]
      },
      {
       "output_type": "stream",
       "stream": "stdout",
       "text": [
        " 248 January 16 Calls on TQQQ US\n",
        "4358"
       ]
      },
      {
       "output_type": "stream",
       "stream": "stdout",
       "text": [
        " 249 January 16 Calls on TQQQ US\n",
        "4359"
       ]
      },
      {
       "output_type": "stream",
       "stream": "stdout",
       "text": [
        " 250 January 16 Calls on TQQQ US\n",
        "4360"
       ]
      },
      {
       "output_type": "stream",
       "stream": "stdout",
       "text": [
        " 251 January 16 Calls on TQQQ US\n",
        "4361"
       ]
      },
      {
       "output_type": "stream",
       "stream": "stdout",
       "text": [
        " 252 January 16 Calls on TQQQ US\n",
        "4362"
       ]
      },
      {
       "output_type": "stream",
       "stream": "stdout",
       "text": [
        " 253 January 16 Calls on TQQQ US\n",
        "4363"
       ]
      },
      {
       "output_type": "stream",
       "stream": "stdout",
       "text": [
        " 254 January 16 Calls on TQQQ US\n",
        "4364"
       ]
      },
      {
       "output_type": "stream",
       "stream": "stdout",
       "text": [
        " 255 January 16 Calls on TQQQ US\n",
        "4365"
       ]
      },
      {
       "output_type": "stream",
       "stream": "stdout",
       "text": [
        " 256 January 16 Calls on TQQQ US\n",
        "4366"
       ]
      },
      {
       "output_type": "stream",
       "stream": "stdout",
       "text": [
        " 257 January 16 Calls on TQQQ US\n",
        "4367"
       ]
      },
      {
       "output_type": "stream",
       "stream": "stdout",
       "text": [
        " 258 January 16 Calls on TQQQ US\n",
        "4368"
       ]
      },
      {
       "output_type": "stream",
       "stream": "stdout",
       "text": [
        " 259 January 16 Calls on TQQQ US\n",
        "4369"
       ]
      },
      {
       "output_type": "stream",
       "stream": "stdout",
       "text": [
        " 260 January 16 Calls on TQQQ US\n",
        "4370"
       ]
      },
      {
       "output_type": "stream",
       "stream": "stdout",
       "text": [
        " 261 January 16 Calls on TQQQ US\n",
        "4371"
       ]
      },
      {
       "output_type": "stream",
       "stream": "stdout",
       "text": [
        " 262 January 16 Calls on TQQQ US\n",
        "4372"
       ]
      },
      {
       "output_type": "stream",
       "stream": "stdout",
       "text": [
        " 263 January 16 Calls on TQQQ US\n",
        "4373"
       ]
      },
      {
       "output_type": "stream",
       "stream": "stdout",
       "text": [
        " 264 January 16 Calls on TQQQ US\n",
        "4374"
       ]
      },
      {
       "output_type": "stream",
       "stream": "stdout",
       "text": [
        " 265 January 16 Calls on TQQQ US\n",
        "4375"
       ]
      },
      {
       "output_type": "stream",
       "stream": "stdout",
       "text": [
        " 266 January 16 Calls on TQQQ US\n",
        "4376"
       ]
      },
      {
       "output_type": "stream",
       "stream": "stdout",
       "text": [
        " 267 January 16 Calls on TQQQ US\n",
        "4377"
       ]
      },
      {
       "output_type": "stream",
       "stream": "stdout",
       "text": [
        " 268 January 16 Calls on TQQQ US\n",
        "4378"
       ]
      },
      {
       "output_type": "stream",
       "stream": "stdout",
       "text": [
        " 269 January 16 Calls on TQQQ US\n",
        "4379"
       ]
      },
      {
       "output_type": "stream",
       "stream": "stdout",
       "text": [
        " 270 January 16 Calls on TQQQ US\n",
        "4380"
       ]
      },
      {
       "output_type": "stream",
       "stream": "stdout",
       "text": [
        " 271 January 16 Calls on TQQQ US\n",
        "4381"
       ]
      },
      {
       "output_type": "stream",
       "stream": "stdout",
       "text": [
        " 272 January 16 Calls on TQQQ US\n",
        "4382"
       ]
      },
      {
       "output_type": "stream",
       "stream": "stdout",
       "text": [
        " 273 January 16 Calls on TQQQ US\n",
        "4383"
       ]
      },
      {
       "output_type": "stream",
       "stream": "stdout",
       "text": [
        " 274 January 16 Calls on TQQQ US\n",
        "4384"
       ]
      },
      {
       "output_type": "stream",
       "stream": "stdout",
       "text": [
        " 275 January 16 Calls on TQQQ US\n",
        "4385"
       ]
      },
      {
       "output_type": "stream",
       "stream": "stdout",
       "text": [
        " 276 January 16 Calls on TQQQ US\n",
        "4386"
       ]
      },
      {
       "output_type": "stream",
       "stream": "stdout",
       "text": [
        " 277 January 16 Calls on TQQQ US\n",
        "4387"
       ]
      },
      {
       "output_type": "stream",
       "stream": "stdout",
       "text": [
        " 278 January 17 Puts on TQQQ US\n",
        "4388"
       ]
      },
      {
       "output_type": "stream",
       "stream": "stdout",
       "text": [
        " 279 January 17 Puts on TQQQ US\n",
        "4389"
       ]
      },
      {
       "output_type": "stream",
       "stream": "stdout",
       "text": [
        " 280 January 17 Puts on TQQQ US\n",
        "4390"
       ]
      },
      {
       "output_type": "stream",
       "stream": "stdout",
       "text": [
        " 281 January 17 Puts on TQQQ US\n",
        "4391"
       ]
      },
      {
       "output_type": "stream",
       "stream": "stdout",
       "text": [
        " 282 January 17 Puts on TQQQ US\n",
        "4392"
       ]
      },
      {
       "output_type": "stream",
       "stream": "stdout",
       "text": [
        " 283 January 17 Puts on TQQQ US\n",
        "4393"
       ]
      },
      {
       "output_type": "stream",
       "stream": "stdout",
       "text": [
        " 284 January 17 Puts on TQQQ US\n",
        "4394"
       ]
      },
      {
       "output_type": "stream",
       "stream": "stdout",
       "text": [
        " 285 January 17 Puts on TQQQ US\n",
        "4395"
       ]
      },
      {
       "output_type": "stream",
       "stream": "stdout",
       "text": [
        " 286 January 17 Puts on TQQQ US\n",
        "4396"
       ]
      },
      {
       "output_type": "stream",
       "stream": "stdout",
       "text": [
        " 287 January 17 Puts on TQQQ US\n",
        "4397"
       ]
      },
      {
       "output_type": "stream",
       "stream": "stdout",
       "text": [
        " 288 January 17 Puts on TQQQ US\n",
        "4398"
       ]
      },
      {
       "output_type": "stream",
       "stream": "stdout",
       "text": [
        " 289 January 17 Puts on TQQQ US\n",
        "4399"
       ]
      },
      {
       "output_type": "stream",
       "stream": "stdout",
       "text": [
        " 290 January 17 Puts on TQQQ US\n",
        "4400"
       ]
      },
      {
       "output_type": "stream",
       "stream": "stdout",
       "text": [
        " 291 January 17 Puts on TQQQ US\n",
        "4401"
       ]
      },
      {
       "output_type": "stream",
       "stream": "stdout",
       "text": [
        " 292 January 17 Puts on TQQQ US\n",
        "4402"
       ]
      },
      {
       "output_type": "stream",
       "stream": "stdout",
       "text": [
        " 293 January 17 Puts on TQQQ US\n",
        "4403"
       ]
      },
      {
       "output_type": "stream",
       "stream": "stdout",
       "text": [
        " 294 January 17 Puts on TQQQ US\n",
        "4404"
       ]
      },
      {
       "output_type": "stream",
       "stream": "stdout",
       "text": [
        " 295 January 17 Puts on TQQQ US\n",
        "4405"
       ]
      },
      {
       "output_type": "stream",
       "stream": "stdout",
       "text": [
        " 296 January 17 Puts on TQQQ US\n",
        "4406"
       ]
      },
      {
       "output_type": "stream",
       "stream": "stdout",
       "text": [
        " 297 January 17 Puts on TQQQ US\n",
        "4407"
       ]
      },
      {
       "output_type": "stream",
       "stream": "stdout",
       "text": [
        " 298 January 17 Puts on TQQQ US\n",
        "4408"
       ]
      },
      {
       "output_type": "stream",
       "stream": "stdout",
       "text": [
        " 299 January 17 Puts on TQQQ US\n",
        "4409"
       ]
      },
      {
       "output_type": "stream",
       "stream": "stdout",
       "text": [
        " 300 January 17 Puts on TQQQ US\n",
        "4410"
       ]
      },
      {
       "output_type": "stream",
       "stream": "stdout",
       "text": [
        " 301 January 17 Puts on TQQQ US\n",
        "4411"
       ]
      },
      {
       "output_type": "stream",
       "stream": "stdout",
       "text": [
        " 302 January 17 Puts on TQQQ US\n",
        "4412"
       ]
      },
      {
       "output_type": "stream",
       "stream": "stdout",
       "text": [
        " 303 January 17 Puts on TQQQ US\n",
        "4413"
       ]
      },
      {
       "output_type": "stream",
       "stream": "stdout",
       "text": [
        " 304 January 17 Puts on TQQQ US\n",
        "4414"
       ]
      },
      {
       "output_type": "stream",
       "stream": "stdout",
       "text": [
        " 305 January 17 Puts on TQQQ US\n",
        "4415"
       ]
      },
      {
       "output_type": "stream",
       "stream": "stdout",
       "text": [
        " 306 January 17 Puts on TQQQ US\n",
        "4416"
       ]
      },
      {
       "output_type": "stream",
       "stream": "stdout",
       "text": [
        " 307 January 17 Puts on TQQQ US\n",
        "4417"
       ]
      },
      {
       "output_type": "stream",
       "stream": "stdout",
       "text": [
        " 308 January 17 Puts on TQQQ US\n",
        "4418"
       ]
      },
      {
       "output_type": "stream",
       "stream": "stdout",
       "text": [
        " 309 January 17 Puts on TQQQ US\n",
        "4419"
       ]
      },
      {
       "output_type": "stream",
       "stream": "stdout",
       "text": [
        " 310 January 17 Puts on TQQQ US\n",
        "4420"
       ]
      },
      {
       "output_type": "stream",
       "stream": "stdout",
       "text": [
        " 311 January 17 Puts on TQQQ US\n",
        "4421"
       ]
      },
      {
       "output_type": "stream",
       "stream": "stdout",
       "text": [
        " 312 January 17 Puts on TQQQ US\n",
        "4422"
       ]
      },
      {
       "output_type": "stream",
       "stream": "stdout",
       "text": [
        " 313 January 17 Puts on TQQQ US\n",
        "4423"
       ]
      },
      {
       "output_type": "stream",
       "stream": "stdout",
       "text": [
        " 314 January 17 Puts on TQQQ US\n",
        "4424"
       ]
      },
      {
       "output_type": "stream",
       "stream": "stdout",
       "text": [
        " 315 January 17 Puts on TQQQ US\n",
        "4425"
       ]
      },
      {
       "output_type": "stream",
       "stream": "stdout",
       "text": [
        " 316 January 17 Puts on TQQQ US\n",
        "4426"
       ]
      },
      {
       "output_type": "stream",
       "stream": "stdout",
       "text": [
        " 317 January 17 Puts on TQQQ US\n",
        "4427"
       ]
      },
      {
       "output_type": "stream",
       "stream": "stdout",
       "text": [
        " 318 January 17 Puts on TQQQ US\n",
        "4428"
       ]
      },
      {
       "output_type": "stream",
       "stream": "stdout",
       "text": [
        " 319 January 17 Puts on TQQQ US\n",
        "4429"
       ]
      },
      {
       "output_type": "stream",
       "stream": "stdout",
       "text": [
        " 320 January 17 Calls on TQQQ US\n",
        "4430"
       ]
      },
      {
       "output_type": "stream",
       "stream": "stdout",
       "text": [
        " 321 January 17 Calls on TQQQ US\n",
        "4431"
       ]
      },
      {
       "output_type": "stream",
       "stream": "stdout",
       "text": [
        " 322 January 17 Calls on TQQQ US\n",
        "4432"
       ]
      },
      {
       "output_type": "stream",
       "stream": "stdout",
       "text": [
        " 323 January 17 Calls on TQQQ US\n",
        "4433"
       ]
      },
      {
       "output_type": "stream",
       "stream": "stdout",
       "text": [
        " 324 January 17 Calls on TQQQ US\n",
        "4434"
       ]
      },
      {
       "output_type": "stream",
       "stream": "stdout",
       "text": [
        " 325 January 17 Calls on TQQQ US\n",
        "4435"
       ]
      },
      {
       "output_type": "stream",
       "stream": "stdout",
       "text": [
        " 326 January 17 Calls on TQQQ US\n",
        "4436"
       ]
      },
      {
       "output_type": "stream",
       "stream": "stdout",
       "text": [
        " 327 January 17 Calls on TQQQ US\n",
        "4437"
       ]
      },
      {
       "output_type": "stream",
       "stream": "stdout",
       "text": [
        " 328 January 17 Calls on TQQQ US\n",
        "4438"
       ]
      },
      {
       "output_type": "stream",
       "stream": "stdout",
       "text": [
        " 329 January 17 Calls on TQQQ US\n",
        "4439"
       ]
      },
      {
       "output_type": "stream",
       "stream": "stdout",
       "text": [
        " 330 January 17 Calls on TQQQ US\n",
        "4440"
       ]
      },
      {
       "output_type": "stream",
       "stream": "stdout",
       "text": [
        " 331 January 17 Calls on TQQQ US\n",
        "4441"
       ]
      },
      {
       "output_type": "stream",
       "stream": "stdout",
       "text": [
        " 332 January 17 Calls on TQQQ US\n",
        "4442"
       ]
      },
      {
       "output_type": "stream",
       "stream": "stdout",
       "text": [
        " 333 January 17 Calls on TQQQ US\n",
        "4443"
       ]
      },
      {
       "output_type": "stream",
       "stream": "stdout",
       "text": [
        " 334 January 17 Calls on TQQQ US\n",
        "4444"
       ]
      },
      {
       "output_type": "stream",
       "stream": "stdout",
       "text": [
        " 335 January 17 Calls on TQQQ US\n",
        "4445"
       ]
      },
      {
       "output_type": "stream",
       "stream": "stdout",
       "text": [
        " 336 January 17 Calls on TQQQ US\n",
        "4446"
       ]
      },
      {
       "output_type": "stream",
       "stream": "stdout",
       "text": [
        " 337 January 17 Calls on TQQQ US\n",
        "4447"
       ]
      },
      {
       "output_type": "stream",
       "stream": "stdout",
       "text": [
        " 338 January 17 Calls on TQQQ US\n",
        "4448"
       ]
      },
      {
       "output_type": "stream",
       "stream": "stdout",
       "text": [
        " 339 January 17 Calls on TQQQ US\n",
        "4449"
       ]
      },
      {
       "output_type": "stream",
       "stream": "stdout",
       "text": [
        " 340 January 17 Calls on TQQQ US\n",
        "4450"
       ]
      },
      {
       "output_type": "stream",
       "stream": "stdout",
       "text": [
        " 341 January 17 Calls on TQQQ US\n",
        "4451"
       ]
      },
      {
       "output_type": "stream",
       "stream": "stdout",
       "text": [
        " 342 January 17 Calls on TQQQ US\n",
        "4452"
       ]
      },
      {
       "output_type": "stream",
       "stream": "stdout",
       "text": [
        " 343 January 17 Calls on TQQQ US\n",
        "4453"
       ]
      },
      {
       "output_type": "stream",
       "stream": "stdout",
       "text": [
        " 344 January 17 Calls on TQQQ US\n",
        "4454"
       ]
      },
      {
       "output_type": "stream",
       "stream": "stdout",
       "text": [
        " 345 January 17 Calls on TQQQ US\n",
        "4455"
       ]
      },
      {
       "output_type": "stream",
       "stream": "stdout",
       "text": [
        " 346 January 17 Calls on TQQQ US\n",
        "4456"
       ]
      },
      {
       "output_type": "stream",
       "stream": "stdout",
       "text": [
        " 347 January 17 Calls on TQQQ US\n",
        "4457"
       ]
      },
      {
       "output_type": "stream",
       "stream": "stdout",
       "text": [
        " 348 January 17 Calls on TQQQ US\n",
        "4458"
       ]
      },
      {
       "output_type": "stream",
       "stream": "stdout",
       "text": [
        " 349 January 17 Calls on TQQQ US\n",
        "4459"
       ]
      },
      {
       "output_type": "stream",
       "stream": "stdout",
       "text": [
        " 350 January 17 Calls on TQQQ US\n",
        "4460"
       ]
      },
      {
       "output_type": "stream",
       "stream": "stdout",
       "text": [
        " 351 January 17 Calls on TQQQ US\n",
        "4461"
       ]
      },
      {
       "output_type": "stream",
       "stream": "stdout",
       "text": [
        " 352 January 17 Calls on TQQQ US\n",
        "4462"
       ]
      },
      {
       "output_type": "stream",
       "stream": "stdout",
       "text": [
        " 353 January 17 Calls on TQQQ US\n",
        "4463"
       ]
      },
      {
       "output_type": "stream",
       "stream": "stdout",
       "text": [
        " 354 January 17 Calls on TQQQ US\n",
        "4464"
       ]
      },
      {
       "output_type": "stream",
       "stream": "stdout",
       "text": [
        " 355 January 17 Calls on TQQQ US\n",
        "4465"
       ]
      },
      {
       "output_type": "stream",
       "stream": "stdout",
       "text": [
        " 356 January 17 Calls on TQQQ US\n",
        "4466"
       ]
      },
      {
       "output_type": "stream",
       "stream": "stdout",
       "text": [
        " 357 January 17 Calls on TQQQ US\n",
        "4467"
       ]
      },
      {
       "output_type": "stream",
       "stream": "stdout",
       "text": [
        " 358 January 17 Calls on TQQQ US\n",
        "4468"
       ]
      },
      {
       "output_type": "stream",
       "stream": "stdout",
       "text": [
        " 359 January 17 Calls on TQQQ US\n",
        "4469"
       ]
      },
      {
       "output_type": "stream",
       "stream": "stdout",
       "text": [
        " 360 January 17 Calls on TQQQ US\n",
        "4470"
       ]
      },
      {
       "output_type": "stream",
       "stream": "stdout",
       "text": [
        " 361 January 17 Calls on TQQQ US\n",
        "4471"
       ]
      },
      {
       "output_type": "stream",
       "stream": "stdout",
       "text": [
        " 362 January 15 Puts on SQQQ US\n",
        "4472"
       ]
      },
      {
       "output_type": "stream",
       "stream": "stdout",
       "text": [
        " 363 January 15 Puts on SQQQ US\n",
        "4473"
       ]
      },
      {
       "output_type": "stream",
       "stream": "stdout",
       "text": [
        " 364 January 15 Puts on SQQQ US\n",
        "4474"
       ]
      },
      {
       "output_type": "stream",
       "stream": "stdout",
       "text": [
        " 365 January 15 Puts on SQQQ US\n",
        "4475"
       ]
      },
      {
       "output_type": "stream",
       "stream": "stdout",
       "text": [
        " 366 January 15 Puts on SQQQ US\n",
        "4476"
       ]
      },
      {
       "output_type": "stream",
       "stream": "stdout",
       "text": [
        " 367 January 15 Puts on SQQQ US\n",
        "4477"
       ]
      },
      {
       "output_type": "stream",
       "stream": "stdout",
       "text": [
        " 368 January 15 Puts on SQQQ US\n",
        "4478"
       ]
      },
      {
       "output_type": "stream",
       "stream": "stdout",
       "text": [
        " 369 January 15 Puts on SQQQ US\n",
        "4479"
       ]
      },
      {
       "output_type": "stream",
       "stream": "stdout",
       "text": [
        " 370 January 15 Puts on SQQQ US\n",
        "4480"
       ]
      },
      {
       "output_type": "stream",
       "stream": "stdout",
       "text": [
        " 371 January 15 Puts on SQQQ US\n",
        "4481"
       ]
      },
      {
       "output_type": "stream",
       "stream": "stdout",
       "text": [
        " 372 January 15 Puts on SQQQ US\n",
        "4482"
       ]
      },
      {
       "output_type": "stream",
       "stream": "stdout",
       "text": [
        " 373 January 15 Puts on SQQQ US\n",
        "4483"
       ]
      },
      {
       "output_type": "stream",
       "stream": "stdout",
       "text": [
        " 374 January 15 Puts on SQQQ US\n",
        "4484"
       ]
      },
      {
       "output_type": "stream",
       "stream": "stdout",
       "text": [
        " 375 January 15 Puts on SQQQ US\n",
        "4485"
       ]
      },
      {
       "output_type": "stream",
       "stream": "stdout",
       "text": [
        " 376 January 15 Puts on SQQQ US\n",
        "4486"
       ]
      },
      {
       "output_type": "stream",
       "stream": "stdout",
       "text": [
        " 377 January 15 Puts on SQQQ US\n",
        "4487"
       ]
      },
      {
       "output_type": "stream",
       "stream": "stdout",
       "text": [
        " 378 January 15 Puts on SQQQ US\n",
        "4488"
       ]
      },
      {
       "output_type": "stream",
       "stream": "stdout",
       "text": [
        " 379 January 15 Puts on SQQQ US\n",
        "4489"
       ]
      },
      {
       "output_type": "stream",
       "stream": "stdout",
       "text": [
        " 380 January 15 Puts on SQQQ US\n",
        "4490"
       ]
      },
      {
       "output_type": "stream",
       "stream": "stdout",
       "text": [
        " 381 January 15 Puts on SQQQ US\n",
        "4491"
       ]
      },
      {
       "output_type": "stream",
       "stream": "stdout",
       "text": [
        " 382 January 15 Puts on SQQQ US\n",
        "4492"
       ]
      },
      {
       "output_type": "stream",
       "stream": "stdout",
       "text": [
        " 383 January 15 Puts on SQQQ US\n",
        "4493"
       ]
      },
      {
       "output_type": "stream",
       "stream": "stdout",
       "text": [
        " 384 January 15 Puts on SQQQ US\n",
        "4494"
       ]
      },
      {
       "output_type": "stream",
       "stream": "stdout",
       "text": [
        " 385 January 15 Puts on SQQQ US\n",
        "4495"
       ]
      },
      {
       "output_type": "stream",
       "stream": "stdout",
       "text": [
        " 386 January 15 Puts on SQQQ US\n",
        "4496"
       ]
      },
      {
       "output_type": "stream",
       "stream": "stdout",
       "text": [
        " 387 January 15 Puts on SQQQ US\n",
        "4497"
       ]
      },
      {
       "output_type": "stream",
       "stream": "stdout",
       "text": [
        " 388 January 15 Puts on SQQQ US\n",
        "4498"
       ]
      },
      {
       "output_type": "stream",
       "stream": "stdout",
       "text": [
        " 389 January 15 Puts on SQQQ US\n",
        "4499"
       ]
      },
      {
       "output_type": "stream",
       "stream": "stdout",
       "text": [
        " 390 January 15 Calls on SQQQ US\n",
        "4500"
       ]
      },
      {
       "output_type": "stream",
       "stream": "stdout",
       "text": [
        " 391 January 15 Calls on SQQQ US\n",
        "4501"
       ]
      },
      {
       "output_type": "stream",
       "stream": "stdout",
       "text": [
        " 392 January 15 Calls on SQQQ US\n",
        "4502"
       ]
      },
      {
       "output_type": "stream",
       "stream": "stdout",
       "text": [
        " 393 January 15 Calls on SQQQ US\n",
        "4503"
       ]
      },
      {
       "output_type": "stream",
       "stream": "stdout",
       "text": [
        " 394 January 15 Calls on SQQQ US\n",
        "4504"
       ]
      },
      {
       "output_type": "stream",
       "stream": "stdout",
       "text": [
        " 395 January 15 Calls on SQQQ US\n",
        "4505"
       ]
      },
      {
       "output_type": "stream",
       "stream": "stdout",
       "text": [
        " 396 January 15 Calls on SQQQ US\n",
        "4506"
       ]
      },
      {
       "output_type": "stream",
       "stream": "stdout",
       "text": [
        " 397 January 15 Calls on SQQQ US\n",
        "4507"
       ]
      },
      {
       "output_type": "stream",
       "stream": "stdout",
       "text": [
        " 398 January 15 Calls on SQQQ US\n",
        "4508"
       ]
      },
      {
       "output_type": "stream",
       "stream": "stdout",
       "text": [
        " 399 January 15 Calls on SQQQ US\n",
        "4509"
       ]
      },
      {
       "output_type": "stream",
       "stream": "stdout",
       "text": [
        " 400 January 15 Calls on SQQQ US\n",
        "4510"
       ]
      },
      {
       "output_type": "stream",
       "stream": "stdout",
       "text": [
        " 401 January 15 Calls on SQQQ US\n",
        "4511"
       ]
      },
      {
       "output_type": "stream",
       "stream": "stdout",
       "text": [
        " 402 January 15 Calls on SQQQ US\n",
        "4512"
       ]
      },
      {
       "output_type": "stream",
       "stream": "stdout",
       "text": [
        " 403 January 15 Calls on SQQQ US\n",
        "4513"
       ]
      },
      {
       "output_type": "stream",
       "stream": "stdout",
       "text": [
        " 404 January 15 Calls on SQQQ US\n",
        "4514"
       ]
      },
      {
       "output_type": "stream",
       "stream": "stdout",
       "text": [
        " 405 January 15 Calls on SQQQ US\n",
        "4515"
       ]
      },
      {
       "output_type": "stream",
       "stream": "stdout",
       "text": [
        " 406 January 15 Calls on SQQQ US\n",
        "4516"
       ]
      },
      {
       "output_type": "stream",
       "stream": "stdout",
       "text": [
        " 407 January 15 Calls on SQQQ US\n",
        "4517"
       ]
      },
      {
       "output_type": "stream",
       "stream": "stdout",
       "text": [
        " 408 January 15 Calls on SQQQ US\n",
        "4518"
       ]
      },
      {
       "output_type": "stream",
       "stream": "stdout",
       "text": [
        " 409 January 15 Calls on SQQQ US\n",
        "4519"
       ]
      },
      {
       "output_type": "stream",
       "stream": "stdout",
       "text": [
        " 410 January 15 Calls on SQQQ US\n",
        "4520"
       ]
      },
      {
       "output_type": "stream",
       "stream": "stdout",
       "text": [
        " 411 January 15 Calls on SQQQ US\n",
        "4521"
       ]
      },
      {
       "output_type": "stream",
       "stream": "stdout",
       "text": [
        " 412 January 15 Calls on SQQQ US\n",
        "4522"
       ]
      },
      {
       "output_type": "stream",
       "stream": "stdout",
       "text": [
        " 413 January 15 Calls on SQQQ US\n",
        "4523"
       ]
      },
      {
       "output_type": "stream",
       "stream": "stdout",
       "text": [
        " 414 January 15 Calls on SQQQ US\n",
        "4524"
       ]
      },
      {
       "output_type": "stream",
       "stream": "stdout",
       "text": [
        " 415 January 15 Calls on SQQQ US\n",
        "4525"
       ]
      },
      {
       "output_type": "stream",
       "stream": "stdout",
       "text": [
        " 416 January 15 Calls on SQQQ US\n",
        "4526"
       ]
      },
      {
       "output_type": "stream",
       "stream": "stdout",
       "text": [
        " 417 January 15 Calls on SQQQ US\n",
        "4527"
       ]
      },
      {
       "output_type": "stream",
       "stream": "stdout",
       "text": [
        " 418 January 15 Puts on SQQQ US\n",
        "4528"
       ]
      },
      {
       "output_type": "stream",
       "stream": "stdout",
       "text": [
        " 419 January 15 Puts on SQQQ US\n",
        "4529"
       ]
      },
      {
       "output_type": "stream",
       "stream": "stdout",
       "text": [
        " 420 January 15 Puts on SQQQ US\n",
        "4530"
       ]
      },
      {
       "output_type": "stream",
       "stream": "stdout",
       "text": [
        " 421 January 15 Puts on SQQQ US\n",
        "4531"
       ]
      },
      {
       "output_type": "stream",
       "stream": "stdout",
       "text": [
        " 422 January 15 Puts on SQQQ US\n",
        "4532"
       ]
      },
      {
       "output_type": "stream",
       "stream": "stdout",
       "text": [
        " 423 January 15 Puts on SQQQ US\n",
        "4533"
       ]
      },
      {
       "output_type": "stream",
       "stream": "stdout",
       "text": [
        " 424 January 15 Puts on SQQQ US\n",
        "4534"
       ]
      },
      {
       "output_type": "stream",
       "stream": "stdout",
       "text": [
        " 425 January 15 Puts on SQQQ US\n",
        "4535"
       ]
      },
      {
       "output_type": "stream",
       "stream": "stdout",
       "text": [
        " 426 January 15 Puts on SQQQ US\n",
        "4536"
       ]
      },
      {
       "output_type": "stream",
       "stream": "stdout",
       "text": [
        " 427 January 15 Puts on SQQQ US\n",
        "4537"
       ]
      },
      {
       "output_type": "stream",
       "stream": "stdout",
       "text": [
        " 428 January 15 Puts on SQQQ US\n",
        "4538"
       ]
      },
      {
       "output_type": "stream",
       "stream": "stdout",
       "text": [
        " 429 January 15 Puts on SQQQ US\n",
        "4539"
       ]
      },
      {
       "output_type": "stream",
       "stream": "stdout",
       "text": [
        " 430 January 15 Puts on SQQQ US\n",
        "4540"
       ]
      },
      {
       "output_type": "stream",
       "stream": "stdout",
       "text": [
        " 431 January 15 Puts on SQQQ US\n",
        "4541"
       ]
      },
      {
       "output_type": "stream",
       "stream": "stdout",
       "text": [
        " 432 January 15 Puts on SQQQ US\n",
        "4542"
       ]
      },
      {
       "output_type": "stream",
       "stream": "stdout",
       "text": [
        " 433 January 15 Puts on SQQQ US\n",
        "4543"
       ]
      },
      {
       "output_type": "stream",
       "stream": "stdout",
       "text": [
        " 434 January 15 Puts on SQQQ US\n",
        "4544"
       ]
      },
      {
       "output_type": "stream",
       "stream": "stdout",
       "text": [
        " 435 January 15 Puts on SQQQ US\n",
        "4545"
       ]
      },
      {
       "output_type": "stream",
       "stream": "stdout",
       "text": [
        " 436 January 15 Puts on SQQQ US\n",
        "4546"
       ]
      },
      {
       "output_type": "stream",
       "stream": "stdout",
       "text": [
        " 437 January 15 Puts on SQQQ US\n",
        "4547"
       ]
      },
      {
       "output_type": "stream",
       "stream": "stdout",
       "text": [
        " 438 January 15 Puts on SQQQ US\n",
        "4548"
       ]
      },
      {
       "output_type": "stream",
       "stream": "stdout",
       "text": [
        " 439 January 15 Puts on SQQQ US\n",
        "4549"
       ]
      },
      {
       "output_type": "stream",
       "stream": "stdout",
       "text": [
        " 440 January 15 Puts on SQQQ US\n",
        "4550"
       ]
      },
      {
       "output_type": "stream",
       "stream": "stdout",
       "text": [
        " 441 January 15 Puts on SQQQ US\n",
        "4551"
       ]
      },
      {
       "output_type": "stream",
       "stream": "stdout",
       "text": [
        " 442 January 15 Puts on SQQQ US\n",
        "4552"
       ]
      },
      {
       "output_type": "stream",
       "stream": "stdout",
       "text": [
        " 443 January 15 Puts on SQQQ US\n",
        "4553"
       ]
      },
      {
       "output_type": "stream",
       "stream": "stdout",
       "text": [
        " 444 January 15 Puts on SQQQ US\n",
        "4554"
       ]
      },
      {
       "output_type": "stream",
       "stream": "stdout",
       "text": [
        " 445 January 15 Puts on SQQQ US\n",
        "4555"
       ]
      },
      {
       "output_type": "stream",
       "stream": "stdout",
       "text": [
        " 446 January 15 Puts on SQQQ US\n",
        "4556"
       ]
      },
      {
       "output_type": "stream",
       "stream": "stdout",
       "text": [
        " 447 January 15 Puts on SQQQ US\n",
        "4557"
       ]
      },
      {
       "output_type": "stream",
       "stream": "stdout",
       "text": [
        " 448 January 15 Puts on SQQQ US\n",
        "4558"
       ]
      },
      {
       "output_type": "stream",
       "stream": "stdout",
       "text": [
        " 449 January 15 Puts on SQQQ US\n",
        "4559"
       ]
      },
      {
       "output_type": "stream",
       "stream": "stdout",
       "text": [
        " 450 January 15 Puts on SQQQ US\n",
        "4560"
       ]
      },
      {
       "output_type": "stream",
       "stream": "stdout",
       "text": [
        " 451 January 15 Puts on SQQQ US\n",
        "4561"
       ]
      },
      {
       "output_type": "stream",
       "stream": "stdout",
       "text": [
        " 452 January 15 Puts on SQQQ US\n",
        "4562"
       ]
      },
      {
       "output_type": "stream",
       "stream": "stdout",
       "text": [
        " 453 January 15 Puts on SQQQ US\n",
        "4563"
       ]
      },
      {
       "output_type": "stream",
       "stream": "stdout",
       "text": [
        " 454 January 15 Puts on SQQQ US\n",
        "4564"
       ]
      },
      {
       "output_type": "stream",
       "stream": "stdout",
       "text": [
        " 455 January 15 Puts on SQQQ US\n",
        "4565"
       ]
      },
      {
       "output_type": "stream",
       "stream": "stdout",
       "text": [
        " 456 January 15 Puts on SQQQ US\n",
        "4566"
       ]
      },
      {
       "output_type": "stream",
       "stream": "stdout",
       "text": [
        " 457 January 15 Puts on SQQQ US\n",
        "4567"
       ]
      },
      {
       "output_type": "stream",
       "stream": "stdout",
       "text": [
        " 458 January 15 Calls on SQQQ US\n",
        "4568"
       ]
      },
      {
       "output_type": "stream",
       "stream": "stdout",
       "text": [
        " 459 January 15 Calls on SQQQ US\n",
        "4569"
       ]
      },
      {
       "output_type": "stream",
       "stream": "stdout",
       "text": [
        " 460 January 15 Calls on SQQQ US\n",
        "4570"
       ]
      },
      {
       "output_type": "stream",
       "stream": "stdout",
       "text": [
        " 461 January 15 Calls on SQQQ US\n",
        "4571"
       ]
      },
      {
       "output_type": "stream",
       "stream": "stdout",
       "text": [
        " 462 January 15 Calls on SQQQ US\n",
        "4572"
       ]
      },
      {
       "output_type": "stream",
       "stream": "stdout",
       "text": [
        " 463 January 15 Calls on SQQQ US\n",
        "4573"
       ]
      },
      {
       "output_type": "stream",
       "stream": "stdout",
       "text": [
        " 464 January 15 Calls on SQQQ US\n",
        "4574"
       ]
      },
      {
       "output_type": "stream",
       "stream": "stdout",
       "text": [
        " 465 January 15 Calls on SQQQ US\n",
        "4575"
       ]
      },
      {
       "output_type": "stream",
       "stream": "stdout",
       "text": [
        " 466 January 15 Calls on SQQQ US\n",
        "4576"
       ]
      },
      {
       "output_type": "stream",
       "stream": "stdout",
       "text": [
        " 467 January 15 Calls on SQQQ US\n",
        "4577"
       ]
      },
      {
       "output_type": "stream",
       "stream": "stdout",
       "text": [
        " 468 January 15 Calls on SQQQ US\n",
        "4578"
       ]
      },
      {
       "output_type": "stream",
       "stream": "stdout",
       "text": [
        " 469 January 15 Calls on SQQQ US\n",
        "4579"
       ]
      },
      {
       "output_type": "stream",
       "stream": "stdout",
       "text": [
        " 470 January 15 Calls on SQQQ US\n",
        "4580"
       ]
      },
      {
       "output_type": "stream",
       "stream": "stdout",
       "text": [
        " 471 January 15 Calls on SQQQ US\n",
        "4581"
       ]
      },
      {
       "output_type": "stream",
       "stream": "stdout",
       "text": [
        " 472 January 15 Calls on SQQQ US\n",
        "4582"
       ]
      },
      {
       "output_type": "stream",
       "stream": "stdout",
       "text": [
        " 473 January 15 Calls on SQQQ US\n",
        "4583"
       ]
      },
      {
       "output_type": "stream",
       "stream": "stdout",
       "text": [
        " 474 January 15 Calls on SQQQ US\n",
        "4584"
       ]
      },
      {
       "output_type": "stream",
       "stream": "stdout",
       "text": [
        " 475 January 15 Calls on SQQQ US\n",
        "4585"
       ]
      },
      {
       "output_type": "stream",
       "stream": "stdout",
       "text": [
        " 476 January 15 Calls on SQQQ US\n",
        "4586"
       ]
      },
      {
       "output_type": "stream",
       "stream": "stdout",
       "text": [
        " 477 January 15 Calls on SQQQ US\n",
        "4587"
       ]
      },
      {
       "output_type": "stream",
       "stream": "stdout",
       "text": [
        " 478 January 15 Calls on SQQQ US\n",
        "4588"
       ]
      },
      {
       "output_type": "stream",
       "stream": "stdout",
       "text": [
        " 479 January 15 Calls on SQQQ US\n",
        "4589"
       ]
      },
      {
       "output_type": "stream",
       "stream": "stdout",
       "text": [
        " 480 January 15 Calls on SQQQ US\n",
        "4590"
       ]
      },
      {
       "output_type": "stream",
       "stream": "stdout",
       "text": [
        " 481 January 15 Calls on SQQQ US\n",
        "4591"
       ]
      },
      {
       "output_type": "stream",
       "stream": "stdout",
       "text": [
        " 482 January 15 Calls on SQQQ US\n",
        "4592"
       ]
      },
      {
       "output_type": "stream",
       "stream": "stdout",
       "text": [
        " 483 January 15 Calls on SQQQ US\n",
        "4593"
       ]
      },
      {
       "output_type": "stream",
       "stream": "stdout",
       "text": [
        " 484 January 15 Calls on SQQQ US\n",
        "4594"
       ]
      },
      {
       "output_type": "stream",
       "stream": "stdout",
       "text": [
        " 485 January 15 Calls on SQQQ US\n",
        "4595"
       ]
      },
      {
       "output_type": "stream",
       "stream": "stdout",
       "text": [
        " 486 January 15 Calls on SQQQ US\n",
        "4596"
       ]
      },
      {
       "output_type": "stream",
       "stream": "stdout",
       "text": [
        " 487 January 15 Calls on SQQQ US\n",
        "4597"
       ]
      },
      {
       "output_type": "stream",
       "stream": "stdout",
       "text": [
        " 488 January 15 Calls on SQQQ US\n",
        "4598"
       ]
      },
      {
       "output_type": "stream",
       "stream": "stdout",
       "text": [
        " 489 January 15 Calls on SQQQ US\n",
        "4599"
       ]
      },
      {
       "output_type": "stream",
       "stream": "stdout",
       "text": [
        " 490 January 15 Calls on SQQQ US\n",
        "4600"
       ]
      },
      {
       "output_type": "stream",
       "stream": "stdout",
       "text": [
        " 491 January 15 Calls on SQQQ US\n",
        "4601"
       ]
      },
      {
       "output_type": "stream",
       "stream": "stdout",
       "text": [
        " 492 January 15 Calls on SQQQ US\n",
        "4602"
       ]
      },
      {
       "output_type": "stream",
       "stream": "stdout",
       "text": [
        " 493 January 15 Calls on SQQQ US\n",
        "4603"
       ]
      },
      {
       "output_type": "stream",
       "stream": "stdout",
       "text": [
        " 494 January 15 Calls on SQQQ US\n",
        "4604"
       ]
      },
      {
       "output_type": "stream",
       "stream": "stdout",
       "text": [
        " 495 January 15 Calls on SQQQ US\n",
        "4605"
       ]
      },
      {
       "output_type": "stream",
       "stream": "stdout",
       "text": [
        " 496 January 15 Calls on SQQQ US\n",
        "4606"
       ]
      },
      {
       "output_type": "stream",
       "stream": "stdout",
       "text": [
        " 497 January 15 Calls on SQQQ US\n",
        "4607"
       ]
      },
      {
       "output_type": "stream",
       "stream": "stdout",
       "text": [
        " 498 February 15 Puts on SQQQ US\n",
        "4608"
       ]
      },
      {
       "output_type": "stream",
       "stream": "stdout",
       "text": [
        " 499 February 15 Puts on SQQQ US\n",
        "4609"
       ]
      },
      {
       "output_type": "stream",
       "stream": "stdout",
       "text": [
        " 500 February 15 Puts on SQQQ US\n",
        "4610"
       ]
      },
      {
       "output_type": "stream",
       "stream": "stdout",
       "text": [
        " 501 February 15 Puts on SQQQ US\n",
        "4611"
       ]
      },
      {
       "output_type": "stream",
       "stream": "stdout",
       "text": [
        " 502 February 15 Puts on SQQQ US\n",
        "4612"
       ]
      },
      {
       "output_type": "stream",
       "stream": "stdout",
       "text": [
        " 503 February 15 Puts on SQQQ US\n",
        "4613"
       ]
      },
      {
       "output_type": "stream",
       "stream": "stdout",
       "text": [
        " 504 February 15 Puts on SQQQ US\n",
        "4614"
       ]
      },
      {
       "output_type": "stream",
       "stream": "stdout",
       "text": [
        " 505 February 15 Puts on SQQQ US\n",
        "4615"
       ]
      },
      {
       "output_type": "stream",
       "stream": "stdout",
       "text": [
        " 506 February 15 Puts on SQQQ US\n",
        "4616"
       ]
      },
      {
       "output_type": "stream",
       "stream": "stdout",
       "text": [
        " 507 February 15 Puts on SQQQ US\n",
        "4617"
       ]
      },
      {
       "output_type": "stream",
       "stream": "stdout",
       "text": [
        " 508 February 15 Puts on SQQQ US\n",
        "4618"
       ]
      },
      {
       "output_type": "stream",
       "stream": "stdout",
       "text": [
        " 509 February 15 Puts on SQQQ US\n",
        "4619"
       ]
      },
      {
       "output_type": "stream",
       "stream": "stdout",
       "text": [
        " 510 February 15 Puts on SQQQ US\n",
        "4620"
       ]
      },
      {
       "output_type": "stream",
       "stream": "stdout",
       "text": [
        " 511 February 15 Puts on SQQQ US\n",
        "4621"
       ]
      },
      {
       "output_type": "stream",
       "stream": "stdout",
       "text": [
        " 512 February 15 Puts on SQQQ US\n",
        "4622"
       ]
      },
      {
       "output_type": "stream",
       "stream": "stdout",
       "text": [
        " 513 February 15 Puts on SQQQ US\n",
        "4623"
       ]
      },
      {
       "output_type": "stream",
       "stream": "stdout",
       "text": [
        " 514 February 15 Puts on SQQQ US\n",
        "4624"
       ]
      },
      {
       "output_type": "stream",
       "stream": "stdout",
       "text": [
        " 515 February 15 Puts on SQQQ US\n",
        "4625"
       ]
      },
      {
       "output_type": "stream",
       "stream": "stdout",
       "text": [
        " 516 February 15 Puts on SQQQ US\n",
        "4626"
       ]
      },
      {
       "output_type": "stream",
       "stream": "stdout",
       "text": [
        " 517 February 15 Puts on SQQQ US\n",
        "4627"
       ]
      },
      {
       "output_type": "stream",
       "stream": "stdout",
       "text": [
        " 518 February 15 Puts on SQQQ US\n",
        "4628"
       ]
      },
      {
       "output_type": "stream",
       "stream": "stdout",
       "text": [
        " 519 February 15 Puts on SQQQ US\n",
        "4629"
       ]
      },
      {
       "output_type": "stream",
       "stream": "stdout",
       "text": [
        " 520 February 15 Puts on SQQQ US\n",
        "4630"
       ]
      },
      {
       "output_type": "stream",
       "stream": "stdout",
       "text": [
        " 521 February 15 Puts on SQQQ US\n",
        "4631"
       ]
      },
      {
       "output_type": "stream",
       "stream": "stdout",
       "text": [
        " 522 February 15 Puts on SQQQ US\n",
        "4632"
       ]
      },
      {
       "output_type": "stream",
       "stream": "stdout",
       "text": [
        " 523 February 15 Puts on SQQQ US\n",
        "4633"
       ]
      },
      {
       "output_type": "stream",
       "stream": "stdout",
       "text": [
        " 524 February 15 Puts on SQQQ US\n",
        "4634"
       ]
      },
      {
       "output_type": "stream",
       "stream": "stdout",
       "text": [
        " 525 February 15 Puts on SQQQ US\n",
        "4635"
       ]
      },
      {
       "output_type": "stream",
       "stream": "stdout",
       "text": [
        " 526 February 15 Puts on SQQQ US\n",
        "4636"
       ]
      },
      {
       "output_type": "stream",
       "stream": "stdout",
       "text": [
        " 527 February 15 Calls on SQQQ US\n",
        "4637"
       ]
      },
      {
       "output_type": "stream",
       "stream": "stdout",
       "text": [
        " 528 February 15 Calls on SQQQ US\n",
        "4638"
       ]
      },
      {
       "output_type": "stream",
       "stream": "stdout",
       "text": [
        " 529 February 15 Calls on SQQQ US\n",
        "4639"
       ]
      },
      {
       "output_type": "stream",
       "stream": "stdout",
       "text": [
        " 530 February 15 Calls on SQQQ US\n",
        "4640"
       ]
      },
      {
       "output_type": "stream",
       "stream": "stdout",
       "text": [
        " 531 February 15 Calls on SQQQ US\n",
        "4641"
       ]
      },
      {
       "output_type": "stream",
       "stream": "stdout",
       "text": [
        " 532 February 15 Calls on SQQQ US\n",
        "4642"
       ]
      },
      {
       "output_type": "stream",
       "stream": "stdout",
       "text": [
        " 533 February 15 Calls on SQQQ US\n",
        "4643"
       ]
      },
      {
       "output_type": "stream",
       "stream": "stdout",
       "text": [
        " 534 February 15 Calls on SQQQ US\n",
        "4644"
       ]
      },
      {
       "output_type": "stream",
       "stream": "stdout",
       "text": [
        " 535 February 15 Calls on SQQQ US\n",
        "4645"
       ]
      },
      {
       "output_type": "stream",
       "stream": "stdout",
       "text": [
        " 536 February 15 Calls on SQQQ US\n",
        "4646"
       ]
      },
      {
       "output_type": "stream",
       "stream": "stdout",
       "text": [
        " 537 February 15 Calls on SQQQ US\n",
        "4647"
       ]
      },
      {
       "output_type": "stream",
       "stream": "stdout",
       "text": [
        " 538 February 15 Calls on SQQQ US\n",
        "4648"
       ]
      },
      {
       "output_type": "stream",
       "stream": "stdout",
       "text": [
        " 539 February 15 Calls on SQQQ US\n",
        "4649"
       ]
      },
      {
       "output_type": "stream",
       "stream": "stdout",
       "text": [
        " 540 February 15 Calls on SQQQ US\n",
        "4650"
       ]
      },
      {
       "output_type": "stream",
       "stream": "stdout",
       "text": [
        " 541 February 15 Calls on SQQQ US\n",
        "4651"
       ]
      },
      {
       "output_type": "stream",
       "stream": "stdout",
       "text": [
        " 542 February 15 Calls on SQQQ US\n",
        "4652"
       ]
      },
      {
       "output_type": "stream",
       "stream": "stdout",
       "text": [
        " 543 February 15 Calls on SQQQ US\n",
        "4653"
       ]
      },
      {
       "output_type": "stream",
       "stream": "stdout",
       "text": [
        " 544 February 15 Calls on SQQQ US\n",
        "4654"
       ]
      },
      {
       "output_type": "stream",
       "stream": "stdout",
       "text": [
        " 545 February 15 Calls on SQQQ US\n",
        "4655"
       ]
      },
      {
       "output_type": "stream",
       "stream": "stdout",
       "text": [
        " 546 February 15 Calls on SQQQ US\n",
        "4656"
       ]
      },
      {
       "output_type": "stream",
       "stream": "stdout",
       "text": [
        " 547 February 15 Calls on SQQQ US\n",
        "4657"
       ]
      },
      {
       "output_type": "stream",
       "stream": "stdout",
       "text": [
        " 548 February 15 Calls on SQQQ US\n",
        "4658"
       ]
      },
      {
       "output_type": "stream",
       "stream": "stdout",
       "text": [
        " 549 February 15 Calls on SQQQ US\n",
        "4659"
       ]
      },
      {
       "output_type": "stream",
       "stream": "stdout",
       "text": [
        " 550 February 15 Calls on SQQQ US\n",
        "4660"
       ]
      },
      {
       "output_type": "stream",
       "stream": "stdout",
       "text": [
        " 551 February 15 Calls on SQQQ US\n",
        "4661"
       ]
      },
      {
       "output_type": "stream",
       "stream": "stdout",
       "text": [
        " 552 February 15 Calls on SQQQ US\n",
        "4662"
       ]
      },
      {
       "output_type": "stream",
       "stream": "stdout",
       "text": [
        " 553 February 15 Calls on SQQQ US\n",
        "4663"
       ]
      },
      {
       "output_type": "stream",
       "stream": "stdout",
       "text": [
        " 554 February 15 Calls on SQQQ US\n",
        "4664"
       ]
      },
      {
       "output_type": "stream",
       "stream": "stdout",
       "text": [
        " 555 February 15 Calls on SQQQ US\n",
        "4665"
       ]
      },
      {
       "output_type": "stream",
       "stream": "stdout",
       "text": [
        " 556 March 15 Puts on SQQQ US\n",
        "4666"
       ]
      },
      {
       "output_type": "stream",
       "stream": "stdout",
       "text": [
        " 557 March 15 Puts on SQQQ US\n",
        "4667"
       ]
      },
      {
       "output_type": "stream",
       "stream": "stdout",
       "text": [
        " 558 March 15 Puts on SQQQ US\n",
        "4668"
       ]
      },
      {
       "output_type": "stream",
       "stream": "stdout",
       "text": [
        " 559 March 15 Puts on SQQQ US\n",
        "4669"
       ]
      },
      {
       "output_type": "stream",
       "stream": "stdout",
       "text": [
        " 560 March 15 Puts on SQQQ US\n",
        "4670"
       ]
      },
      {
       "output_type": "stream",
       "stream": "stdout",
       "text": [
        " 561 March 15 Puts on SQQQ US\n",
        "4671"
       ]
      },
      {
       "output_type": "stream",
       "stream": "stdout",
       "text": [
        " 562 March 15 Puts on SQQQ US\n",
        "4672"
       ]
      },
      {
       "output_type": "stream",
       "stream": "stdout",
       "text": [
        " 563 March 15 Puts on SQQQ US\n",
        "4673"
       ]
      },
      {
       "output_type": "stream",
       "stream": "stdout",
       "text": [
        " 564 March 15 Puts on SQQQ US\n",
        "4674"
       ]
      },
      {
       "output_type": "stream",
       "stream": "stdout",
       "text": [
        " 565 March 15 Puts on SQQQ US\n",
        "4675"
       ]
      },
      {
       "output_type": "stream",
       "stream": "stdout",
       "text": [
        " 566 March 15 Puts on SQQQ US\n",
        "4676"
       ]
      },
      {
       "output_type": "stream",
       "stream": "stdout",
       "text": [
        " 567 March 15 Puts on SQQQ US\n",
        "4677"
       ]
      },
      {
       "output_type": "stream",
       "stream": "stdout",
       "text": [
        " 568 March 15 Puts on SQQQ US\n",
        "4678"
       ]
      },
      {
       "output_type": "stream",
       "stream": "stdout",
       "text": [
        " 569 March 15 Puts on SQQQ US\n",
        "4679"
       ]
      },
      {
       "output_type": "stream",
       "stream": "stdout",
       "text": [
        " 570 March 15 Puts on SQQQ US\n",
        "4680"
       ]
      },
      {
       "output_type": "stream",
       "stream": "stdout",
       "text": [
        " 571 March 15 Puts on SQQQ US\n",
        "4681"
       ]
      },
      {
       "output_type": "stream",
       "stream": "stdout",
       "text": [
        " 572 March 15 Puts on SQQQ US\n",
        "4682"
       ]
      },
      {
       "output_type": "stream",
       "stream": "stdout",
       "text": [
        " 573 March 15 Puts on SQQQ US\n",
        "4683"
       ]
      },
      {
       "output_type": "stream",
       "stream": "stdout",
       "text": [
        " 574 March 15 Puts on SQQQ US\n",
        "4684"
       ]
      },
      {
       "output_type": "stream",
       "stream": "stdout",
       "text": [
        " 575 March 15 Puts on SQQQ US\n",
        "4685"
       ]
      },
      {
       "output_type": "stream",
       "stream": "stdout",
       "text": [
        " 576 March 15 Puts on SQQQ US\n",
        "4686"
       ]
      },
      {
       "output_type": "stream",
       "stream": "stdout",
       "text": [
        " 577 March 15 Puts on SQQQ US\n",
        "4687"
       ]
      },
      {
       "output_type": "stream",
       "stream": "stdout",
       "text": [
        " 578 March 15 Puts on SQQQ US\n",
        "4688"
       ]
      },
      {
       "output_type": "stream",
       "stream": "stdout",
       "text": [
        " 579 March 15 Puts on SQQQ US\n",
        "4689"
       ]
      },
      {
       "output_type": "stream",
       "stream": "stdout",
       "text": [
        " 580 March 15 Puts on SQQQ US\n",
        "4690"
       ]
      },
      {
       "output_type": "stream",
       "stream": "stdout",
       "text": [
        " 581 March 15 Puts on SQQQ US\n",
        "4691"
       ]
      },
      {
       "output_type": "stream",
       "stream": "stdout",
       "text": [
        " 582 March 15 Puts on SQQQ US\n",
        "4692"
       ]
      },
      {
       "output_type": "stream",
       "stream": "stdout",
       "text": [
        " 583 March 15 Puts on SQQQ US\n",
        "4693"
       ]
      },
      {
       "output_type": "stream",
       "stream": "stdout",
       "text": [
        " 584 March 15 Puts on SQQQ US\n",
        "4694"
       ]
      },
      {
       "output_type": "stream",
       "stream": "stdout",
       "text": [
        " 585 March 15 Puts on SQQQ US\n",
        "4695"
       ]
      },
      {
       "output_type": "stream",
       "stream": "stdout",
       "text": [
        " 586 March 15 Puts on SQQQ US\n",
        "4696"
       ]
      },
      {
       "output_type": "stream",
       "stream": "stdout",
       "text": [
        " 587 March 15 Calls on SQQQ US\n",
        "4697"
       ]
      },
      {
       "output_type": "stream",
       "stream": "stdout",
       "text": [
        " 588 March 15 Calls on SQQQ US\n",
        "4698"
       ]
      },
      {
       "output_type": "stream",
       "stream": "stdout",
       "text": [
        " 589 March 15 Calls on SQQQ US\n",
        "4699"
       ]
      },
      {
       "output_type": "stream",
       "stream": "stdout",
       "text": [
        " 590 March 15 Calls on SQQQ US\n",
        "4700"
       ]
      },
      {
       "output_type": "stream",
       "stream": "stdout",
       "text": [
        " 591 March 15 Calls on SQQQ US\n",
        "4701"
       ]
      },
      {
       "output_type": "stream",
       "stream": "stdout",
       "text": [
        " 592 March 15 Calls on SQQQ US\n",
        "4702"
       ]
      },
      {
       "output_type": "stream",
       "stream": "stdout",
       "text": [
        " 593 March 15 Calls on SQQQ US\n",
        "4703"
       ]
      },
      {
       "output_type": "stream",
       "stream": "stdout",
       "text": [
        " 594 March 15 Calls on SQQQ US\n",
        "4704"
       ]
      },
      {
       "output_type": "stream",
       "stream": "stdout",
       "text": [
        " 595 March 15 Calls on SQQQ US\n",
        "4705"
       ]
      },
      {
       "output_type": "stream",
       "stream": "stdout",
       "text": [
        " 596 March 15 Calls on SQQQ US\n",
        "4706"
       ]
      },
      {
       "output_type": "stream",
       "stream": "stdout",
       "text": [
        " 597 March 15 Calls on SQQQ US\n",
        "4707"
       ]
      },
      {
       "output_type": "stream",
       "stream": "stdout",
       "text": [
        " 598 March 15 Calls on SQQQ US\n",
        "4708"
       ]
      },
      {
       "output_type": "stream",
       "stream": "stdout",
       "text": [
        " 599 March 15 Calls on SQQQ US\n",
        "4709"
       ]
      },
      {
       "output_type": "stream",
       "stream": "stdout",
       "text": [
        " 600 March 15 Calls on SQQQ US\n",
        "4710"
       ]
      },
      {
       "output_type": "stream",
       "stream": "stdout",
       "text": [
        " 601 March 15 Calls on SQQQ US\n",
        "4711"
       ]
      },
      {
       "output_type": "stream",
       "stream": "stdout",
       "text": [
        " 602 March 15 Calls on SQQQ US\n",
        "4712"
       ]
      },
      {
       "output_type": "stream",
       "stream": "stdout",
       "text": [
        " 603 March 15 Calls on SQQQ US\n",
        "4713"
       ]
      },
      {
       "output_type": "stream",
       "stream": "stdout",
       "text": [
        " 604 March 15 Calls on SQQQ US\n",
        "4714"
       ]
      },
      {
       "output_type": "stream",
       "stream": "stdout",
       "text": [
        " 605 March 15 Calls on SQQQ US\n",
        "4715"
       ]
      },
      {
       "output_type": "stream",
       "stream": "stdout",
       "text": [
        " 606 March 15 Calls on SQQQ US\n",
        "4716"
       ]
      },
      {
       "output_type": "stream",
       "stream": "stdout",
       "text": [
        " 607 March 15 Calls on SQQQ US\n",
        "4717"
       ]
      },
      {
       "output_type": "stream",
       "stream": "stdout",
       "text": [
        " 608 March 15 Calls on SQQQ US\n",
        "4718"
       ]
      },
      {
       "output_type": "stream",
       "stream": "stdout",
       "text": [
        " 609 March 15 Calls on SQQQ US\n",
        "4719"
       ]
      },
      {
       "output_type": "stream",
       "stream": "stdout",
       "text": [
        " 610 March 15 Calls on SQQQ US\n",
        "4720"
       ]
      },
      {
       "output_type": "stream",
       "stream": "stdout",
       "text": [
        " 611 March 15 Calls on SQQQ US\n",
        "4721"
       ]
      },
      {
       "output_type": "stream",
       "stream": "stdout",
       "text": [
        " 612 March 15 Calls on SQQQ US\n",
        "4722"
       ]
      },
      {
       "output_type": "stream",
       "stream": "stdout",
       "text": [
        " 613 March 15 Calls on SQQQ US\n",
        "4723"
       ]
      },
      {
       "output_type": "stream",
       "stream": "stdout",
       "text": [
        " 614 March 15 Calls on SQQQ US\n",
        "4724"
       ]
      },
      {
       "output_type": "stream",
       "stream": "stdout",
       "text": [
        " 615 March 15 Calls on SQQQ US\n",
        "4725"
       ]
      },
      {
       "output_type": "stream",
       "stream": "stdout",
       "text": [
        " 616 March 15 Calls on SQQQ US\n",
        "4726"
       ]
      },
      {
       "output_type": "stream",
       "stream": "stdout",
       "text": [
        " 617 March 15 Calls on SQQQ US\n",
        "4727"
       ]
      },
      {
       "output_type": "stream",
       "stream": "stdout",
       "text": [
        " 618 June 15 Puts on SQQQ US\n",
        "4728"
       ]
      },
      {
       "output_type": "stream",
       "stream": "stdout",
       "text": [
        " 619 June 15 Puts on SQQQ US\n",
        "4729"
       ]
      },
      {
       "output_type": "stream",
       "stream": "stdout",
       "text": [
        " 620 June 15 Puts on SQQQ US\n",
        "4730"
       ]
      },
      {
       "output_type": "stream",
       "stream": "stdout",
       "text": [
        " 621 June 15 Puts on SQQQ US\n",
        "4731"
       ]
      },
      {
       "output_type": "stream",
       "stream": "stdout",
       "text": [
        " 622 June 15 Puts on SQQQ US\n",
        "4732"
       ]
      },
      {
       "output_type": "stream",
       "stream": "stdout",
       "text": [
        " 623 June 15 Puts on SQQQ US\n",
        "4733"
       ]
      },
      {
       "output_type": "stream",
       "stream": "stdout",
       "text": [
        " 624 June 15 Puts on SQQQ US\n",
        "4734"
       ]
      },
      {
       "output_type": "stream",
       "stream": "stdout",
       "text": [
        " 625 June 15 Puts on SQQQ US\n",
        "4735"
       ]
      },
      {
       "output_type": "stream",
       "stream": "stdout",
       "text": [
        " 626 June 15 Puts on SQQQ US\n",
        "4736"
       ]
      },
      {
       "output_type": "stream",
       "stream": "stdout",
       "text": [
        " 627 June 15 Puts on SQQQ US\n",
        "4737"
       ]
      },
      {
       "output_type": "stream",
       "stream": "stdout",
       "text": [
        " 628 June 15 Puts on SQQQ US\n",
        "4738"
       ]
      },
      {
       "output_type": "stream",
       "stream": "stdout",
       "text": [
        " 629 June 15 Puts on SQQQ US\n",
        "4739"
       ]
      },
      {
       "output_type": "stream",
       "stream": "stdout",
       "text": [
        " 630 June 15 Puts on SQQQ US\n",
        "4740"
       ]
      },
      {
       "output_type": "stream",
       "stream": "stdout",
       "text": [
        " 631 June 15 Puts on SQQQ US\n",
        "4741"
       ]
      },
      {
       "output_type": "stream",
       "stream": "stdout",
       "text": [
        " 632 June 15 Puts on SQQQ US\n",
        "4742"
       ]
      },
      {
       "output_type": "stream",
       "stream": "stdout",
       "text": [
        " 633 June 15 Puts on SQQQ US\n",
        "4743"
       ]
      },
      {
       "output_type": "stream",
       "stream": "stdout",
       "text": [
        " 634 June 15 Puts on SQQQ US\n",
        "4744"
       ]
      },
      {
       "output_type": "stream",
       "stream": "stdout",
       "text": [
        " 635 June 15 Puts on SQQQ US\n",
        "4745"
       ]
      },
      {
       "output_type": "stream",
       "stream": "stdout",
       "text": [
        " 636 June 15 Puts on SQQQ US\n",
        "4746"
       ]
      },
      {
       "output_type": "stream",
       "stream": "stdout",
       "text": [
        " 637 June 15 Puts on SQQQ US\n",
        "4747"
       ]
      },
      {
       "output_type": "stream",
       "stream": "stdout",
       "text": [
        " 638 June 15 Puts on SQQQ US\n",
        "4748"
       ]
      },
      {
       "output_type": "stream",
       "stream": "stdout",
       "text": [
        " 639 June 15 Puts on SQQQ US\n",
        "4749"
       ]
      },
      {
       "output_type": "stream",
       "stream": "stdout",
       "text": [
        " 640 June 15 Puts on SQQQ US\n",
        "4750"
       ]
      },
      {
       "output_type": "stream",
       "stream": "stdout",
       "text": [
        " 641 June 15 Puts on SQQQ US\n",
        "4751"
       ]
      },
      {
       "output_type": "stream",
       "stream": "stdout",
       "text": [
        " 642 June 15 Puts on SQQQ US\n",
        "4752"
       ]
      },
      {
       "output_type": "stream",
       "stream": "stdout",
       "text": [
        " 643 June 15 Puts on SQQQ US\n",
        "4753"
       ]
      },
      {
       "output_type": "stream",
       "stream": "stdout",
       "text": [
        " 644 June 15 Puts on SQQQ US\n",
        "4754"
       ]
      },
      {
       "output_type": "stream",
       "stream": "stdout",
       "text": [
        " 645 June 15 Puts on SQQQ US\n",
        "4755"
       ]
      },
      {
       "output_type": "stream",
       "stream": "stdout",
       "text": [
        " 646 June 15 Puts on SQQQ US\n",
        "4756"
       ]
      },
      {
       "output_type": "stream",
       "stream": "stdout",
       "text": [
        " 647 June 15 Puts on SQQQ US\n",
        "4757"
       ]
      },
      {
       "output_type": "stream",
       "stream": "stdout",
       "text": [
        " 648 June 15 Puts on SQQQ US\n",
        "4758"
       ]
      },
      {
       "output_type": "stream",
       "stream": "stdout",
       "text": [
        " 649 June 15 Puts on SQQQ US\n",
        "4759"
       ]
      },
      {
       "output_type": "stream",
       "stream": "stdout",
       "text": [
        " 650 June 15 Puts on SQQQ US\n",
        "4760"
       ]
      },
      {
       "output_type": "stream",
       "stream": "stdout",
       "text": [
        " 651 June 15 Puts on SQQQ US\n",
        "4761"
       ]
      },
      {
       "output_type": "stream",
       "stream": "stdout",
       "text": [
        " 652 June 15 Puts on SQQQ US\n",
        "4762"
       ]
      },
      {
       "output_type": "stream",
       "stream": "stdout",
       "text": [
        " 653 June 15 Puts on SQQQ US\n",
        "4763"
       ]
      },
      {
       "output_type": "stream",
       "stream": "stdout",
       "text": [
        " 654 June 15 Puts on SQQQ US\n",
        "4764"
       ]
      },
      {
       "output_type": "stream",
       "stream": "stdout",
       "text": [
        " 655 June 15 Puts on SQQQ US\n",
        "4765"
       ]
      },
      {
       "output_type": "stream",
       "stream": "stdout",
       "text": [
        " 656 June 15 Puts on SQQQ US\n",
        "4766"
       ]
      },
      {
       "output_type": "stream",
       "stream": "stdout",
       "text": [
        " 657 June 15 Calls on SQQQ US\n",
        "4767"
       ]
      },
      {
       "output_type": "stream",
       "stream": "stdout",
       "text": [
        " 658 June 15 Calls on SQQQ US\n",
        "4768"
       ]
      },
      {
       "output_type": "stream",
       "stream": "stdout",
       "text": [
        " 659 June 15 Calls on SQQQ US\n",
        "4769"
       ]
      },
      {
       "output_type": "stream",
       "stream": "stdout",
       "text": [
        " 660 June 15 Calls on SQQQ US\n",
        "4770"
       ]
      },
      {
       "output_type": "stream",
       "stream": "stdout",
       "text": [
        " 661 June 15 Calls on SQQQ US\n",
        "4771"
       ]
      },
      {
       "output_type": "stream",
       "stream": "stdout",
       "text": [
        " 662 June 15 Calls on SQQQ US\n",
        "4772"
       ]
      },
      {
       "output_type": "stream",
       "stream": "stdout",
       "text": [
        " 663 June 15 Calls on SQQQ US\n",
        "4773"
       ]
      },
      {
       "output_type": "stream",
       "stream": "stdout",
       "text": [
        " 664 June 15 Calls on SQQQ US\n",
        "4774"
       ]
      },
      {
       "output_type": "stream",
       "stream": "stdout",
       "text": [
        " 665 June 15 Calls on SQQQ US\n",
        "4775"
       ]
      },
      {
       "output_type": "stream",
       "stream": "stdout",
       "text": [
        " 666 June 15 Calls on SQQQ US\n",
        "4776"
       ]
      },
      {
       "output_type": "stream",
       "stream": "stdout",
       "text": [
        " 667 June 15 Calls on SQQQ US\n",
        "4777"
       ]
      },
      {
       "output_type": "stream",
       "stream": "stdout",
       "text": [
        " 668 June 15 Calls on SQQQ US\n",
        "4778"
       ]
      },
      {
       "output_type": "stream",
       "stream": "stdout",
       "text": [
        " 669 June 15 Calls on SQQQ US\n",
        "4779"
       ]
      },
      {
       "output_type": "stream",
       "stream": "stdout",
       "text": [
        " 670 June 15 Calls on SQQQ US\n",
        "4780"
       ]
      },
      {
       "output_type": "stream",
       "stream": "stdout",
       "text": [
        " 671 June 15 Calls on SQQQ US\n",
        "4781"
       ]
      },
      {
       "output_type": "stream",
       "stream": "stdout",
       "text": [
        " 672 June 15 Calls on SQQQ US\n",
        "4782"
       ]
      },
      {
       "output_type": "stream",
       "stream": "stdout",
       "text": [
        " 673 June 15 Calls on SQQQ US\n",
        "4783"
       ]
      },
      {
       "output_type": "stream",
       "stream": "stdout",
       "text": [
        " 674 June 15 Calls on SQQQ US\n",
        "4784"
       ]
      },
      {
       "output_type": "stream",
       "stream": "stdout",
       "text": [
        " 675 June 15 Calls on SQQQ US\n",
        "4785"
       ]
      },
      {
       "output_type": "stream",
       "stream": "stdout",
       "text": [
        " 676 June 15 Calls on SQQQ US\n",
        "4786"
       ]
      },
      {
       "output_type": "stream",
       "stream": "stdout",
       "text": [
        " 677 June 15 Calls on SQQQ US\n",
        "4787"
       ]
      },
      {
       "output_type": "stream",
       "stream": "stdout",
       "text": [
        " 678 June 15 Calls on SQQQ US\n",
        "4788"
       ]
      },
      {
       "output_type": "stream",
       "stream": "stdout",
       "text": [
        " 679 June 15 Calls on SQQQ US\n",
        "4789"
       ]
      },
      {
       "output_type": "stream",
       "stream": "stdout",
       "text": [
        " 680 June 15 Calls on SQQQ US\n",
        "4790"
       ]
      },
      {
       "output_type": "stream",
       "stream": "stdout",
       "text": [
        " 681 June 15 Calls on SQQQ US\n",
        "4791"
       ]
      },
      {
       "output_type": "stream",
       "stream": "stdout",
       "text": [
        " 682 June 15 Calls on SQQQ US\n",
        "4792"
       ]
      },
      {
       "output_type": "stream",
       "stream": "stdout",
       "text": [
        " 683 June 15 Calls on SQQQ US\n",
        "4793"
       ]
      },
      {
       "output_type": "stream",
       "stream": "stdout",
       "text": [
        " 684 June 15 Calls on SQQQ US\n",
        "4794"
       ]
      },
      {
       "output_type": "stream",
       "stream": "stdout",
       "text": [
        " 685 June 15 Calls on SQQQ US\n",
        "4795"
       ]
      },
      {
       "output_type": "stream",
       "stream": "stdout",
       "text": [
        " 686 June 15 Calls on SQQQ US\n",
        "4796"
       ]
      },
      {
       "output_type": "stream",
       "stream": "stdout",
       "text": [
        " 687 June 15 Calls on SQQQ US\n",
        "4797"
       ]
      },
      {
       "output_type": "stream",
       "stream": "stdout",
       "text": [
        " 688 June 15 Calls on SQQQ US\n",
        "4798"
       ]
      },
      {
       "output_type": "stream",
       "stream": "stdout",
       "text": [
        " 689 June 15 Calls on SQQQ US\n",
        "4799"
       ]
      },
      {
       "output_type": "stream",
       "stream": "stdout",
       "text": [
        " 690 June 15 Calls on SQQQ US\n",
        "4800"
       ]
      },
      {
       "output_type": "stream",
       "stream": "stdout",
       "text": [
        " 691 June 15 Calls on SQQQ US\n",
        "4801"
       ]
      },
      {
       "output_type": "stream",
       "stream": "stdout",
       "text": [
        " 692 June 15 Calls on SQQQ US\n",
        "4802"
       ]
      },
      {
       "output_type": "stream",
       "stream": "stdout",
       "text": [
        " 693 June 15 Calls on SQQQ US\n",
        "4803"
       ]
      },
      {
       "output_type": "stream",
       "stream": "stdout",
       "text": [
        " 694 June 15 Calls on SQQQ US\n",
        "4804"
       ]
      },
      {
       "output_type": "stream",
       "stream": "stdout",
       "text": [
        " 695 June 15 Calls on SQQQ US\n",
        "4805"
       ]
      },
      {
       "output_type": "stream",
       "stream": "stdout",
       "text": [
        " 696 January 16 Puts on SQQQ US\n",
        "4806"
       ]
      },
      {
       "output_type": "stream",
       "stream": "stdout",
       "text": [
        " 697 January 16 Puts on SQQQ US\n",
        "4807"
       ]
      },
      {
       "output_type": "stream",
       "stream": "stdout",
       "text": [
        " 698 January 16 Puts on SQQQ US\n",
        "4808"
       ]
      },
      {
       "output_type": "stream",
       "stream": "stdout",
       "text": [
        " 699 January 16 Puts on SQQQ US\n",
        "4809"
       ]
      },
      {
       "output_type": "stream",
       "stream": "stdout",
       "text": [
        " 700 January 16 Puts on SQQQ US\n",
        "4810"
       ]
      },
      {
       "output_type": "stream",
       "stream": "stdout",
       "text": [
        " 701 January 16 Puts on SQQQ US\n",
        "4811"
       ]
      },
      {
       "output_type": "stream",
       "stream": "stdout",
       "text": [
        " 702 January 16 Puts on SQQQ US\n",
        "4812"
       ]
      },
      {
       "output_type": "stream",
       "stream": "stdout",
       "text": [
        " 703 January 16 Puts on SQQQ US\n",
        "4813"
       ]
      },
      {
       "output_type": "stream",
       "stream": "stdout",
       "text": [
        " 704 January 16 Puts on SQQQ US\n",
        "4814"
       ]
      },
      {
       "output_type": "stream",
       "stream": "stdout",
       "text": [
        " 705 January 16 Puts on SQQQ US\n",
        "4815"
       ]
      },
      {
       "output_type": "stream",
       "stream": "stdout",
       "text": [
        " 706 January 16 Puts on SQQQ US\n",
        "4816"
       ]
      },
      {
       "output_type": "stream",
       "stream": "stdout",
       "text": [
        " 707 January 16 Calls on SQQQ US\n",
        "4817"
       ]
      },
      {
       "output_type": "stream",
       "stream": "stdout",
       "text": [
        " 708 January 16 Calls on SQQQ US\n",
        "4818"
       ]
      },
      {
       "output_type": "stream",
       "stream": "stdout",
       "text": [
        " 709 January 16 Calls on SQQQ US\n",
        "4819"
       ]
      },
      {
       "output_type": "stream",
       "stream": "stdout",
       "text": [
        " 710 January 16 Calls on SQQQ US\n",
        "4820"
       ]
      },
      {
       "output_type": "stream",
       "stream": "stdout",
       "text": [
        " 711 January 16 Calls on SQQQ US\n",
        "4821"
       ]
      },
      {
       "output_type": "stream",
       "stream": "stdout",
       "text": [
        " 712 January 16 Calls on SQQQ US\n",
        "4822"
       ]
      },
      {
       "output_type": "stream",
       "stream": "stdout",
       "text": [
        " 713 January 16 Calls on SQQQ US\n",
        "4823"
       ]
      },
      {
       "output_type": "stream",
       "stream": "stdout",
       "text": [
        " 714 January 16 Calls on SQQQ US\n",
        "4824"
       ]
      },
      {
       "output_type": "stream",
       "stream": "stdout",
       "text": [
        " 715 January 16 Calls on SQQQ US\n",
        "4825"
       ]
      },
      {
       "output_type": "stream",
       "stream": "stdout",
       "text": [
        " 716 January 16 Calls on SQQQ US\n",
        "4826"
       ]
      },
      {
       "output_type": "stream",
       "stream": "stdout",
       "text": [
        " 717 January 16 Calls on SQQQ US\n",
        "4827"
       ]
      },
      {
       "output_type": "stream",
       "stream": "stdout",
       "text": [
        " 718 January 16 Puts on SQQQ US\n",
        "4828"
       ]
      },
      {
       "output_type": "stream",
       "stream": "stdout",
       "text": [
        " 719 January 16 Puts on SQQQ US\n",
        "4829"
       ]
      },
      {
       "output_type": "stream",
       "stream": "stdout",
       "text": [
        " 720 January 16 Puts on SQQQ US\n",
        "4830"
       ]
      },
      {
       "output_type": "stream",
       "stream": "stdout",
       "text": [
        " 721 January 16 Puts on SQQQ US\n",
        "4831"
       ]
      },
      {
       "output_type": "stream",
       "stream": "stdout",
       "text": [
        " 722 January 16 Puts on SQQQ US\n",
        "4832"
       ]
      },
      {
       "output_type": "stream",
       "stream": "stdout",
       "text": [
        " 723 January 16 Puts on SQQQ US\n",
        "4833"
       ]
      },
      {
       "output_type": "stream",
       "stream": "stdout",
       "text": [
        " 724 January 16 Puts on SQQQ US\n",
        "4834"
       ]
      },
      {
       "output_type": "stream",
       "stream": "stdout",
       "text": [
        " 725 January 16 Puts on SQQQ US\n",
        "4835"
       ]
      },
      {
       "output_type": "stream",
       "stream": "stdout",
       "text": [
        " 726 January 16 Puts on SQQQ US\n",
        "4836"
       ]
      },
      {
       "output_type": "stream",
       "stream": "stdout",
       "text": [
        " 727 January 16 Puts on SQQQ US\n",
        "4837"
       ]
      },
      {
       "output_type": "stream",
       "stream": "stdout",
       "text": [
        " 728 January 16 Puts on SQQQ US\n",
        "4838"
       ]
      },
      {
       "output_type": "stream",
       "stream": "stdout",
       "text": [
        " 729 January 16 Puts on SQQQ US\n",
        "4839"
       ]
      },
      {
       "output_type": "stream",
       "stream": "stdout",
       "text": [
        " 730 January 16 Puts on SQQQ US\n",
        "4840"
       ]
      },
      {
       "output_type": "stream",
       "stream": "stdout",
       "text": [
        " 731 January 16 Puts on SQQQ US\n",
        "4841"
       ]
      },
      {
       "output_type": "stream",
       "stream": "stdout",
       "text": [
        " 732 January 16 Puts on SQQQ US\n",
        "4842"
       ]
      },
      {
       "output_type": "stream",
       "stream": "stdout",
       "text": [
        " 733 January 16 Puts on SQQQ US\n",
        "4843"
       ]
      },
      {
       "output_type": "stream",
       "stream": "stdout",
       "text": [
        " 734 January 16 Puts on SQQQ US\n",
        "4844"
       ]
      },
      {
       "output_type": "stream",
       "stream": "stdout",
       "text": [
        " 735 January 16 Puts on SQQQ US\n",
        "4845"
       ]
      },
      {
       "output_type": "stream",
       "stream": "stdout",
       "text": [
        " 736 January 16 Puts on SQQQ US\n",
        "4846"
       ]
      },
      {
       "output_type": "stream",
       "stream": "stdout",
       "text": [
        " 737 January 16 Puts on SQQQ US\n",
        "4847"
       ]
      },
      {
       "output_type": "stream",
       "stream": "stdout",
       "text": [
        " 738 January 16 Puts on SQQQ US\n",
        "4848"
       ]
      },
      {
       "output_type": "stream",
       "stream": "stdout",
       "text": [
        " 739 January 16 Puts on SQQQ US\n",
        "4849"
       ]
      },
      {
       "output_type": "stream",
       "stream": "stdout",
       "text": [
        " 740 January 16 Puts on SQQQ US\n",
        "4850"
       ]
      },
      {
       "output_type": "stream",
       "stream": "stdout",
       "text": [
        " 741 January 16 Puts on SQQQ US\n",
        "4851"
       ]
      },
      {
       "output_type": "stream",
       "stream": "stdout",
       "text": [
        " 742 January 16 Puts on SQQQ US\n",
        "4852"
       ]
      },
      {
       "output_type": "stream",
       "stream": "stdout",
       "text": [
        " 743 January 16 Puts on SQQQ US\n",
        "4853"
       ]
      },
      {
       "output_type": "stream",
       "stream": "stdout",
       "text": [
        " 744 January 16 Puts on SQQQ US\n",
        "4854"
       ]
      },
      {
       "output_type": "stream",
       "stream": "stdout",
       "text": [
        " 745 January 16 Puts on SQQQ US\n",
        "4855"
       ]
      },
      {
       "output_type": "stream",
       "stream": "stdout",
       "text": [
        " 746 January 16 Puts on SQQQ US\n",
        "4856"
       ]
      },
      {
       "output_type": "stream",
       "stream": "stdout",
       "text": [
        " 747 January 16 Puts on SQQQ US\n",
        "4857"
       ]
      },
      {
       "output_type": "stream",
       "stream": "stdout",
       "text": [
        " 748 January 16 Puts on SQQQ US\n",
        "4858"
       ]
      },
      {
       "output_type": "stream",
       "stream": "stdout",
       "text": [
        " 749 January 16 Puts on SQQQ US\n",
        "4859"
       ]
      },
      {
       "output_type": "stream",
       "stream": "stdout",
       "text": [
        " 750 January 16 Calls on SQQQ US\n",
        "4860"
       ]
      },
      {
       "output_type": "stream",
       "stream": "stdout",
       "text": [
        " 751 January 16 Calls on SQQQ US\n",
        "4861"
       ]
      },
      {
       "output_type": "stream",
       "stream": "stdout",
       "text": [
        " 752 January 16 Calls on SQQQ US\n",
        "4862"
       ]
      },
      {
       "output_type": "stream",
       "stream": "stdout",
       "text": [
        " 753 January 16 Calls on SQQQ US\n",
        "4863"
       ]
      },
      {
       "output_type": "stream",
       "stream": "stdout",
       "text": [
        " 754 January 16 Calls on SQQQ US\n",
        "4864"
       ]
      },
      {
       "output_type": "stream",
       "stream": "stdout",
       "text": [
        " 755 January 16 Calls on SQQQ US\n",
        "4865"
       ]
      },
      {
       "output_type": "stream",
       "stream": "stdout",
       "text": [
        " 756 January 16 Calls on SQQQ US\n",
        "4866"
       ]
      },
      {
       "output_type": "stream",
       "stream": "stdout",
       "text": [
        " 757 January 16 Calls on SQQQ US\n",
        "4867"
       ]
      },
      {
       "output_type": "stream",
       "stream": "stdout",
       "text": [
        " 758 January 16 Calls on SQQQ US\n",
        "4868"
       ]
      },
      {
       "output_type": "stream",
       "stream": "stdout",
       "text": [
        " 759 January 16 Calls on SQQQ US\n",
        "4869"
       ]
      },
      {
       "output_type": "stream",
       "stream": "stdout",
       "text": [
        " 760 January 16 Calls on SQQQ US\n",
        "4870"
       ]
      },
      {
       "output_type": "stream",
       "stream": "stdout",
       "text": [
        " 761 January 16 Calls on SQQQ US\n",
        "4871"
       ]
      },
      {
       "output_type": "stream",
       "stream": "stdout",
       "text": [
        " 762 January 16 Calls on SQQQ US\n",
        "4872"
       ]
      },
      {
       "output_type": "stream",
       "stream": "stdout",
       "text": [
        " 763 January 16 Calls on SQQQ US\n",
        "4873"
       ]
      },
      {
       "output_type": "stream",
       "stream": "stdout",
       "text": [
        " 764 January 16 Calls on SQQQ US\n",
        "4874"
       ]
      },
      {
       "output_type": "stream",
       "stream": "stdout",
       "text": [
        " 765 January 16 Calls on SQQQ US\n",
        "4875"
       ]
      },
      {
       "output_type": "stream",
       "stream": "stdout",
       "text": [
        " 766 January 16 Calls on SQQQ US\n",
        "4876"
       ]
      },
      {
       "output_type": "stream",
       "stream": "stdout",
       "text": [
        " 767 January 16 Calls on SQQQ US\n",
        "4877"
       ]
      },
      {
       "output_type": "stream",
       "stream": "stdout",
       "text": [
        " 768 January 16 Calls on SQQQ US\n",
        "4878"
       ]
      },
      {
       "output_type": "stream",
       "stream": "stdout",
       "text": [
        " 769 January 16 Calls on SQQQ US\n",
        "4879"
       ]
      },
      {
       "output_type": "stream",
       "stream": "stdout",
       "text": [
        " 770 January 16 Calls on SQQQ US\n",
        "4880"
       ]
      },
      {
       "output_type": "stream",
       "stream": "stdout",
       "text": [
        " 771 January 16 Calls on SQQQ US\n",
        "4881"
       ]
      },
      {
       "output_type": "stream",
       "stream": "stdout",
       "text": [
        " 772 January 16 Calls on SQQQ US\n",
        "4882"
       ]
      },
      {
       "output_type": "stream",
       "stream": "stdout",
       "text": [
        " 773 January 16 Calls on SQQQ US\n",
        "4883"
       ]
      },
      {
       "output_type": "stream",
       "stream": "stdout",
       "text": [
        " 774 January 16 Calls on SQQQ US\n",
        "4884"
       ]
      },
      {
       "output_type": "stream",
       "stream": "stdout",
       "text": [
        " 775 January 16 Calls on SQQQ US\n",
        "4885"
       ]
      },
      {
       "output_type": "stream",
       "stream": "stdout",
       "text": [
        " 776 January 16 Calls on SQQQ US\n",
        "4886"
       ]
      },
      {
       "output_type": "stream",
       "stream": "stdout",
       "text": [
        " 777 January 16 Calls on SQQQ US\n",
        "4887"
       ]
      },
      {
       "output_type": "stream",
       "stream": "stdout",
       "text": [
        " 778 January 16 Calls on SQQQ US\n",
        "4888"
       ]
      },
      {
       "output_type": "stream",
       "stream": "stdout",
       "text": [
        " 779 January 16 Calls on SQQQ US\n",
        "4889"
       ]
      },
      {
       "output_type": "stream",
       "stream": "stdout",
       "text": [
        " 780 January 16 Calls on SQQQ US\n",
        "4890"
       ]
      },
      {
       "output_type": "stream",
       "stream": "stdout",
       "text": [
        " 781 January 16 Calls on SQQQ US\n",
        "4891"
       ]
      },
      {
       "output_type": "stream",
       "stream": "stdout",
       "text": [
        " 782 January 17 Puts on SQQQ US\n",
        "4892"
       ]
      },
      {
       "output_type": "stream",
       "stream": "stdout",
       "text": [
        " 783 January 17 Puts on SQQQ US\n",
        "4893"
       ]
      },
      {
       "output_type": "stream",
       "stream": "stdout",
       "text": [
        " 784 January 17 Puts on SQQQ US\n",
        "4894"
       ]
      },
      {
       "output_type": "stream",
       "stream": "stdout",
       "text": [
        " 785 January 17 Puts on SQQQ US\n",
        "4895"
       ]
      },
      {
       "output_type": "stream",
       "stream": "stdout",
       "text": [
        " 786 January 17 Puts on SQQQ US\n",
        "4896"
       ]
      },
      {
       "output_type": "stream",
       "stream": "stdout",
       "text": [
        " 787 January 17 Puts on SQQQ US\n",
        "4897"
       ]
      },
      {
       "output_type": "stream",
       "stream": "stdout",
       "text": [
        " 788 January 17 Puts on SQQQ US\n",
        "4898"
       ]
      },
      {
       "output_type": "stream",
       "stream": "stdout",
       "text": [
        " 789 January 17 Puts on SQQQ US\n",
        "4899"
       ]
      },
      {
       "output_type": "stream",
       "stream": "stdout",
       "text": [
        " 790 January 17 Puts on SQQQ US\n",
        "4900"
       ]
      },
      {
       "output_type": "stream",
       "stream": "stdout",
       "text": [
        " 791 January 17 Puts on SQQQ US\n",
        "4901"
       ]
      },
      {
       "output_type": "stream",
       "stream": "stdout",
       "text": [
        " 792 January 17 Puts on SQQQ US\n",
        "4902"
       ]
      },
      {
       "output_type": "stream",
       "stream": "stdout",
       "text": [
        " 793 January 17 Puts on SQQQ US\n",
        "4903"
       ]
      },
      {
       "output_type": "stream",
       "stream": "stdout",
       "text": [
        " 794 January 17 Puts on SQQQ US\n",
        "4904"
       ]
      },
      {
       "output_type": "stream",
       "stream": "stdout",
       "text": [
        " 795 January 17 Puts on SQQQ US\n",
        "4905"
       ]
      },
      {
       "output_type": "stream",
       "stream": "stdout",
       "text": [
        " 796 January 17 Puts on SQQQ US\n",
        "4906"
       ]
      },
      {
       "output_type": "stream",
       "stream": "stdout",
       "text": [
        " 797 January 17 Puts on SQQQ US\n",
        "4907"
       ]
      },
      {
       "output_type": "stream",
       "stream": "stdout",
       "text": [
        " 798 January 17 Puts on SQQQ US\n",
        "4908"
       ]
      },
      {
       "output_type": "stream",
       "stream": "stdout",
       "text": [
        " 799 January 17 Puts on SQQQ US\n",
        "4909"
       ]
      },
      {
       "output_type": "stream",
       "stream": "stdout",
       "text": [
        " 800 January 17 Puts on SQQQ US\n",
        "4910"
       ]
      },
      {
       "output_type": "stream",
       "stream": "stdout",
       "text": [
        " 801 January 17 Puts on SQQQ US\n",
        "4911"
       ]
      },
      {
       "output_type": "stream",
       "stream": "stdout",
       "text": [
        " 802 January 17 Puts on SQQQ US\n",
        "4912"
       ]
      },
      {
       "output_type": "stream",
       "stream": "stdout",
       "text": [
        " 803 January 17 Puts on SQQQ US\n",
        "4913"
       ]
      },
      {
       "output_type": "stream",
       "stream": "stdout",
       "text": [
        " 804 January 17 Puts on SQQQ US\n",
        "4914"
       ]
      },
      {
       "output_type": "stream",
       "stream": "stdout",
       "text": [
        " 805 January 17 Puts on SQQQ US\n",
        "4915"
       ]
      },
      {
       "output_type": "stream",
       "stream": "stdout",
       "text": [
        " 806 January 17 Puts on SQQQ US\n",
        "4916"
       ]
      },
      {
       "output_type": "stream",
       "stream": "stdout",
       "text": [
        " 807 January 17 Calls on SQQQ US\n",
        "4917"
       ]
      },
      {
       "output_type": "stream",
       "stream": "stdout",
       "text": [
        " 808 January 17 Calls on SQQQ US\n",
        "4918"
       ]
      },
      {
       "output_type": "stream",
       "stream": "stdout",
       "text": [
        " 809 January 17 Calls on SQQQ US\n",
        "4919"
       ]
      },
      {
       "output_type": "stream",
       "stream": "stdout",
       "text": [
        " 810 January 17 Calls on SQQQ US\n",
        "4920"
       ]
      },
      {
       "output_type": "stream",
       "stream": "stdout",
       "text": [
        " 811 January 17 Calls on SQQQ US\n",
        "4921"
       ]
      },
      {
       "output_type": "stream",
       "stream": "stdout",
       "text": [
        " 812 January 17 Calls on SQQQ US\n",
        "4922"
       ]
      },
      {
       "output_type": "stream",
       "stream": "stdout",
       "text": [
        " 813 January 17 Calls on SQQQ US\n",
        "4923"
       ]
      },
      {
       "output_type": "stream",
       "stream": "stdout",
       "text": [
        " 814 January 17 Calls on SQQQ US\n",
        "4924"
       ]
      },
      {
       "output_type": "stream",
       "stream": "stdout",
       "text": [
        " 815 January 17 Calls on SQQQ US\n",
        "4925"
       ]
      },
      {
       "output_type": "stream",
       "stream": "stdout",
       "text": [
        " 816 January 17 Calls on SQQQ US\n",
        "4926"
       ]
      },
      {
       "output_type": "stream",
       "stream": "stdout",
       "text": [
        " 817 January 17 Calls on SQQQ US\n",
        "4927"
       ]
      },
      {
       "output_type": "stream",
       "stream": "stdout",
       "text": [
        " 818 January 17 Calls on SQQQ US\n",
        "4928"
       ]
      },
      {
       "output_type": "stream",
       "stream": "stdout",
       "text": [
        " 819 January 17 Calls on SQQQ US\n",
        "4929"
       ]
      },
      {
       "output_type": "stream",
       "stream": "stdout",
       "text": [
        " 820 January 17 Calls on SQQQ US\n",
        "4930"
       ]
      },
      {
       "output_type": "stream",
       "stream": "stdout",
       "text": [
        " 821 January 17 Calls on SQQQ US\n",
        "4931"
       ]
      },
      {
       "output_type": "stream",
       "stream": "stdout",
       "text": [
        " 822 January 17 Calls on SQQQ US\n",
        "4932"
       ]
      },
      {
       "output_type": "stream",
       "stream": "stdout",
       "text": [
        " 823 January 17 Calls on SQQQ US\n",
        "4933"
       ]
      },
      {
       "output_type": "stream",
       "stream": "stdout",
       "text": [
        " 824 January 17 Calls on SQQQ US\n",
        "4934"
       ]
      },
      {
       "output_type": "stream",
       "stream": "stdout",
       "text": [
        " 825 January 17 Calls on SQQQ US\n",
        "4935"
       ]
      },
      {
       "output_type": "stream",
       "stream": "stdout",
       "text": [
        " 826 January 17 Calls on SQQQ US\n",
        "4936"
       ]
      },
      {
       "output_type": "stream",
       "stream": "stdout",
       "text": [
        " 827 January 17 Calls on SQQQ US\n",
        "4937"
       ]
      },
      {
       "output_type": "stream",
       "stream": "stdout",
       "text": [
        " 828 January 17 Calls on SQQQ US\n",
        "4938"
       ]
      },
      {
       "output_type": "stream",
       "stream": "stdout",
       "text": [
        " 829 January 17 Calls on SQQQ US\n",
        "4939"
       ]
      },
      {
       "output_type": "stream",
       "stream": "stdout",
       "text": [
        " 830 January 17 Calls on SQQQ US\n",
        "4940"
       ]
      },
      {
       "output_type": "stream",
       "stream": "stdout",
       "text": [
        " 831 January 17 Calls on SQQQ US\n",
        "4941"
       ]
      },
      {
       "output_type": "stream",
       "stream": "stdout",
       "text": [
        " 832 January 15 Puts on IPGP US\n",
        "4942"
       ]
      },
      {
       "output_type": "stream",
       "stream": "stdout",
       "text": [
        " 833 January 15 Puts on IPGP US\n",
        "4943"
       ]
      },
      {
       "output_type": "stream",
       "stream": "stdout",
       "text": [
        " 834 January 15 Puts on IPGP US\n",
        "4944"
       ]
      },
      {
       "output_type": "stream",
       "stream": "stdout",
       "text": [
        " 835 January 15 Puts on IPGP US\n",
        "4945"
       ]
      },
      {
       "output_type": "stream",
       "stream": "stdout",
       "text": [
        " 836 January 15 Puts on IPGP US\n",
        "4946"
       ]
      },
      {
       "output_type": "stream",
       "stream": "stdout",
       "text": [
        " 837 January 15 Puts on IPGP US\n",
        "4947"
       ]
      },
      {
       "output_type": "stream",
       "stream": "stdout",
       "text": [
        " 838 January 15 Puts on IPGP US\n",
        "4948"
       ]
      },
      {
       "output_type": "stream",
       "stream": "stdout",
       "text": [
        " 839 January 15 Puts on IPGP US\n",
        "4949"
       ]
      },
      {
       "output_type": "stream",
       "stream": "stdout",
       "text": [
        " 840 January 15 Puts on IPGP US\n",
        "4950"
       ]
      },
      {
       "output_type": "stream",
       "stream": "stdout",
       "text": [
        " 841 January 15 Puts on IPGP US\n",
        "4951"
       ]
      },
      {
       "output_type": "stream",
       "stream": "stdout",
       "text": [
        " 842 January 15 Puts on IPGP US\n",
        "4952"
       ]
      },
      {
       "output_type": "stream",
       "stream": "stdout",
       "text": [
        " 843 January 15 Calls on IPGP US\n",
        "4953"
       ]
      },
      {
       "output_type": "stream",
       "stream": "stdout",
       "text": [
        " 844 January 15 Puts on IPGP US\n",
        "4954"
       ]
      },
      {
       "output_type": "stream",
       "stream": "stdout",
       "text": [
        " 845 January 15 Calls on IPGP US\n",
        "4955"
       ]
      },
      {
       "output_type": "stream",
       "stream": "stdout",
       "text": [
        " 846 January 15 Calls on IPGP US\n",
        "4956"
       ]
      },
      {
       "output_type": "stream",
       "stream": "stdout",
       "text": [
        " 847 January 15 Calls on IPGP US\n",
        "4957"
       ]
      },
      {
       "output_type": "stream",
       "stream": "stdout",
       "text": [
        " 848 January 15 Calls on IPGP US\n",
        "4958"
       ]
      },
      {
       "output_type": "stream",
       "stream": "stdout",
       "text": [
        " 849 January 15 Calls on IPGP US\n",
        "4959"
       ]
      },
      {
       "output_type": "stream",
       "stream": "stdout",
       "text": [
        " 850 January 15 Calls on IPGP US\n",
        "4960"
       ]
      },
      {
       "output_type": "stream",
       "stream": "stdout",
       "text": [
        " 851 January 15 Calls on IPGP US\n",
        "4961"
       ]
      },
      {
       "output_type": "stream",
       "stream": "stdout",
       "text": [
        " 852 January 15 Calls on IPGP US\n",
        "4962"
       ]
      },
      {
       "output_type": "stream",
       "stream": "stdout",
       "text": [
        " 853 January 15 Calls on IPGP US\n",
        "4963"
       ]
      },
      {
       "output_type": "stream",
       "stream": "stdout",
       "text": [
        " 854 January 15 Calls on IPGP US\n",
        "4964"
       ]
      },
      {
       "output_type": "stream",
       "stream": "stdout",
       "text": [
        " 855 January 15 Calls on IPGP US\n",
        "4965"
       ]
      },
      {
       "output_type": "stream",
       "stream": "stdout",
       "text": [
        " 856 February 15 Puts on IPGP US\n",
        "4966"
       ]
      },
      {
       "output_type": "stream",
       "stream": "stdout",
       "text": [
        " 857 February 15 Puts on IPGP US\n",
        "4967"
       ]
      },
      {
       "output_type": "stream",
       "stream": "stdout",
       "text": [
        " 858 February 15 Puts on IPGP US\n",
        "4968"
       ]
      },
      {
       "output_type": "stream",
       "stream": "stdout",
       "text": [
        " 859 February 15 Puts on IPGP US\n",
        "4969"
       ]
      },
      {
       "output_type": "stream",
       "stream": "stdout",
       "text": [
        " 860 February 15 Puts on IPGP US\n",
        "4970"
       ]
      },
      {
       "output_type": "stream",
       "stream": "stdout",
       "text": [
        " 861 February 15 Puts on IPGP US\n",
        "4971"
       ]
      },
      {
       "output_type": "stream",
       "stream": "stdout",
       "text": [
        " 862 February 15 Puts on IPGP US\n",
        "4972"
       ]
      },
      {
       "output_type": "stream",
       "stream": "stdout",
       "text": [
        " 863 February 15 Puts on IPGP US\n",
        "4973"
       ]
      },
      {
       "output_type": "stream",
       "stream": "stdout",
       "text": [
        " 864 February 15 Puts on IPGP US\n",
        "4974"
       ]
      },
      {
       "output_type": "stream",
       "stream": "stdout",
       "text": [
        " 865 February 15 Puts on IPGP US\n",
        "4975"
       ]
      },
      {
       "output_type": "stream",
       "stream": "stdout",
       "text": [
        " 866 February 15 Puts on IPGP US\n",
        "4976"
       ]
      },
      {
       "output_type": "stream",
       "stream": "stdout",
       "text": [
        " 867 February 15 Puts on IPGP US\n",
        "4977"
       ]
      },
      {
       "output_type": "stream",
       "stream": "stdout",
       "text": [
        " 868 February 15 Puts on IPGP US\n",
        "4978"
       ]
      },
      {
       "output_type": "stream",
       "stream": "stdout",
       "text": [
        " 869 February 15 Puts on IPGP US\n",
        "4979"
       ]
      },
      {
       "output_type": "stream",
       "stream": "stdout",
       "text": [
        " 870 February 15 Calls on IPGP US\n",
        "4980"
       ]
      },
      {
       "output_type": "stream",
       "stream": "stdout",
       "text": [
        " 871 February 15 Calls on IPGP US\n",
        "4981"
       ]
      },
      {
       "output_type": "stream",
       "stream": "stdout",
       "text": [
        " 872 February 15 Calls on IPGP US\n",
        "4982"
       ]
      },
      {
       "output_type": "stream",
       "stream": "stdout",
       "text": [
        " 873 February 15 Calls on IPGP US\n",
        "4983"
       ]
      },
      {
       "output_type": "stream",
       "stream": "stdout",
       "text": [
        " 874 February 15 Calls on IPGP US\n",
        "4984"
       ]
      },
      {
       "output_type": "stream",
       "stream": "stdout",
       "text": [
        " 875 February 15 Calls on IPGP US\n",
        "4985"
       ]
      },
      {
       "output_type": "stream",
       "stream": "stdout",
       "text": [
        " 876 February 15 Calls on IPGP US\n",
        "4986"
       ]
      },
      {
       "output_type": "stream",
       "stream": "stdout",
       "text": [
        " 877 February 15 Calls on IPGP US\n",
        "4987"
       ]
      },
      {
       "output_type": "stream",
       "stream": "stdout",
       "text": [
        " 878 February 15 Calls on IPGP US\n",
        "4988"
       ]
      },
      {
       "output_type": "stream",
       "stream": "stdout",
       "text": [
        " 879 February 15 Calls on IPGP US\n",
        "4989"
       ]
      },
      {
       "output_type": "stream",
       "stream": "stdout",
       "text": [
        " 880 February 15 Calls on IPGP US\n",
        "4990"
       ]
      },
      {
       "output_type": "stream",
       "stream": "stdout",
       "text": [
        " 881 February 15 Calls on IPGP US\n",
        "4991"
       ]
      },
      {
       "output_type": "stream",
       "stream": "stdout",
       "text": [
        " 882 February 15 Calls on IPGP US\n",
        "4992"
       ]
      },
      {
       "output_type": "stream",
       "stream": "stdout",
       "text": [
        " 883 February 15 Calls on IPGP US\n",
        "4993"
       ]
      },
      {
       "output_type": "stream",
       "stream": "stdout",
       "text": [
        " 884 April 15 Puts on IPGP US\n",
        "4994"
       ]
      },
      {
       "output_type": "stream",
       "stream": "stdout",
       "text": [
        " 885 April 15 Puts on IPGP US\n",
        "4995"
       ]
      },
      {
       "output_type": "stream",
       "stream": "stdout",
       "text": [
        " 886 April 15 Puts on IPGP US\n",
        "4996"
       ]
      },
      {
       "output_type": "stream",
       "stream": "stdout",
       "text": [
        " 887 April 15 Puts on IPGP US\n",
        "4997"
       ]
      },
      {
       "output_type": "stream",
       "stream": "stdout",
       "text": [
        " 888 April 15 Puts on IPGP US\n",
        "4998"
       ]
      },
      {
       "output_type": "stream",
       "stream": "stdout",
       "text": [
        " 889 April 15 Puts on IPGP US\n",
        "4999"
       ]
      },
      {
       "output_type": "stream",
       "stream": "stdout",
       "text": [
        " 890 April 15 Puts on IPGP US\n"
       ]
      }
     ],
     "prompt_number": 24
    },
    {
     "cell_type": "markdown",
     "metadata": {},
     "source": [
      "#Combine two lists"
     ]
    },
    {
     "cell_type": "code",
     "collapsed": false,
     "input": [
      "listTicker = pd.read_pickle('./equityLists/stockListTicker.pkl')\n",
      "listName = pd.read_pickle('./equityLists/stockListName.pkl')"
     ],
     "language": "python",
     "metadata": {},
     "outputs": [],
     "prompt_number": 31
    },
    {
     "cell_type": "code",
     "collapsed": false,
     "input": [
      "fullList = listTicker.append(listName.ix[~listName['quandlCode'].isin(listTicker['quandlCode'])], ignore_index = True)\n",
      "\n",
      "fullList.to_pickle('./equityLists/stockListFull.pkl')"
     ],
     "language": "python",
     "metadata": {},
     "outputs": [],
     "prompt_number": 78
    },
    {
     "cell_type": "markdown",
     "metadata": {},
     "source": [
      "#Pull History of stocks"
     ]
    },
    {
     "cell_type": "code",
     "collapsed": false,
     "input": [
      "stockListFull = pd.read_pickle('./equityLists/stockListFull.pkl')"
     ],
     "language": "python",
     "metadata": {},
     "outputs": [],
     "prompt_number": 35
    },
    {
     "cell_type": "code",
     "collapsed": false,
     "input": [
      "import os\n",
      "fileList  = os.listdir('./equityLists/history')\n",
      "\n",
      "fileList = [x for x in fileList if x.split('.')[1] == 'pkl']\n",
      "compareList = ['GOOG/' + y.split('History')[0] for y in fileList]\n",
      "\n",
      "codeList = stockListFull.ix[~stockListFull['quandlCode'].isin(compareList), 'quandlCode'].unique()"
     ],
     "language": "python",
     "metadata": {},
     "outputs": [],
     "prompt_number": 43
    },
    {
     "cell_type": "code",
     "collapsed": false,
     "input": [
      "import time\n",
      "import Quandl\n",
      "\n",
      "# codeList = missingCodes\n",
      "\n",
      "missingCodes = []\n",
      "\n",
      "startIndex = 0\n",
      "for counter, i in enumerate(codeList[startIndex:]):\n",
      "    if not counter % 5:\n",
      "        time.sleep(7)\n",
      "    try:\n",
      "        Quandl.get(i, authtoken = 'bW5sqqFptYcBCRpQpYhx').to_pickle('./equityLists/history/%sHistory20150106.pkl' % i.split('/')[1]) \n",
      "    except:\n",
      "        print('exception')\n",
      "        missingCodes.append(i)\n",
      "        \n",
      "    print(counter + startIndex, i)\n",
      "    \n",
      "print(missingCodes)\n",
      "pd.DataFrame(missingCodes).to_csv('./equityLists/missingCodes.csv')"
     ],
     "language": "python",
     "metadata": {},
     "outputs": [
      {
       "output_type": "stream",
       "stream": "stdout",
       "text": [
        "exception\n",
        "0 GOOG/TYO_2174\n",
        "exception"
       ]
      },
      {
       "output_type": "stream",
       "stream": "stdout",
       "text": [
        "\n",
        "1 GOOG/TPE_4164\n",
        "['GOOG/TYO_2174', 'GOOG/TPE_4164']\n"
       ]
      }
     ],
     "prompt_number": 44
    },
    {
     "cell_type": "markdown",
     "metadata": {},
     "source": [
      "#Volatility Check\n",
      "Add mean of three years\n",
      "\n",
      "Add check if went up or down (12/31/14 / 1/1/12) - 1\n",
      "\n",
      "Add volume average for all three years"
     ]
    },
    {
     "cell_type": "code",
     "collapsed": false,
     "input": [
      "import pandas as pd\n",
      "stockListFull = pd.read_pickle('./equityLists/stockListFull.pkl')"
     ],
     "language": "python",
     "metadata": {},
     "outputs": [],
     "prompt_number": 79
    },
    {
     "cell_type": "code",
     "collapsed": false,
     "input": [
      "import datetime as dt\n",
      "\n",
      "startDate2014 = dt.datetime(2014, 11, 24)\n",
      "endDate2014 = dt.datetime(2013,11,24)\n",
      "startDate2013 = dt.datetime(2013,11,24)\n",
      "endDate2013 = dt.datetime(2012,11,24)\n",
      "startDate2012 = dt.datetime(2012,11,24)\n",
      "endDate2012 = dt.datetime(2011,11,24)"
     ],
     "language": "python",
     "metadata": {},
     "outputs": [],
     "prompt_number": 80
    },
    {
     "cell_type": "code",
     "collapsed": false,
     "input": [
      "def dateCheckOlder(date, df):\n",
      "    while not date in df.index:\n",
      "        if date < df.index[-1]:\n",
      "            date = df.index[-1]\n",
      "        elif date > df.index[0]:\n",
      "            date = df.index[0]\n",
      "        else:\n",
      "            date = date - dt.timedelta(days = 1)\n",
      "    return(date)"
     ],
     "language": "python",
     "metadata": {},
     "outputs": [],
     "prompt_number": 81
    },
    {
     "cell_type": "code",
     "collapsed": false,
     "input": [
      "for counter, i in enumerate(stockListFull.index):\n",
      "\n",
      "    dfTest = pd.read_pickle('./equityLists/history/%sHistory20150106.pkl' % stockListFull.ix[i, 'quandlCode'].split('/')[1])  #Quandl.get(stockList.ix[i, 'quandlCode'], authtoken = 'bW5sqqFptYcBCRpQpYhx')\n",
      "    dfTest.sort_index(ascending = False, inplace = True)\n",
      "    \n",
      "    tempStart = dateCheckOlder(startDate2014, dfTest)\n",
      "    tempEnd = dateCheckOlder(endDate2014, dfTest)\n",
      "    df2014 = dfTest.ix[tempStart:tempEnd]\n",
      "    max = df2014['Close'].max()\n",
      "    min = df2014['Close'].min()\n",
      "    percent2014 = (max / min) - 1\n",
      "    volumeAvg2014 = df2014['Volume'].mean()\n",
      "    stockListFull.ix[i, '2014Fluctation'] = \"{:,.2%}\".format(percent2014)\n",
      "    stockListFull.ix[i, '2014Vol'] = \"{0:,.0f}\".format(volumeAvg2014)\n",
      "\n",
      "    tempStart = dateCheckOlder(startDate2013, dfTest)\n",
      "    tempEnd = dateCheckOlder(endDate2013, dfTest)\n",
      "    df2013 = dfTest.ix[tempStart:tempEnd]\n",
      "    max = df2013['Close'].max()\n",
      "    min = df2013['Close'].min()\n",
      "    percent2013 = (max / min) - 1\n",
      "    volumeAvg2013 = df2013['Volume'].mean()\n",
      "    stockListFull.ix[i, '2013Fluctation'] = \"{:,.2%}\".format(percent2013)\n",
      "    stockListFull.ix[i, '2013Vol'] = \"{0:,.0f}\".format(volumeAvg2013)\n",
      "\n",
      "    tempStart = dateCheckOlder(startDate2012, dfTest)\n",
      "    tempEnd = dateCheckOlder(endDate2012, dfTest)\n",
      "    df2012 = dfTest.ix[tempStart:tempEnd]\n",
      "    max = df2012['Close'].max()\n",
      "    min = df2012['Close'].min()\n",
      "    percent2012 = (max / min) - 1\n",
      "    volumeAvg2012 = df2012['Volume'].mean()\n",
      "    stockListFull.ix[i, '2012Fluctation'] = \"{:,.2%}\".format(percent2012)\n",
      "    stockListFull.ix[i, '2012Vol'] = \"{0:,.0f}\".format(volumeAvg2012)\n",
      "    \n",
      "    stockListFull.ix[i, '2012to2014'] = (df2014.ix[0, 'Close'] /df2012.ix[-1, 'Close']) - 1\n",
      "    tempPercList = (percent2014, percent2013, percent2012)\n",
      "    stockListFull.ix[i, 'FlucAvg'] = sum(tempPercList) / len(tempPercList)\n",
      "    \n",
      "stockListFull.to_csv('./equityLists/volatilityResult.csv')"
     ],
     "language": "python",
     "metadata": {},
     "outputs": [],
     "prompt_number": 82
    },
    {
     "cell_type": "markdown",
     "metadata": {},
     "source": [
      "#List of stocks that are greater than 80% on average and more than 1,000 volume "
     ]
    },
    {
     "cell_type": "code",
     "collapsed": false,
     "input": [
      "\n",
      "''' Want the stocks that averge greater than 80%, 90%, 100% fluctuation\n",
      "    and averages more than 1,000 in daily volume\n",
      "'''\n",
      "\n",
      "basicMask = ((stockListFull['FlucAvg'] != np.inf) &\n",
      "            (stockListFull['2014Fluctation'].map(lambda x: x.replace('%', '').replace(',', '')).astype(float) > 0.1) & \n",
      "            (stockListFull['2013Fluctation'].map(lambda x: x.replace('%', '').replace(',', '')).astype(float) > 0.1) &\n",
      "            (stockListFull['2012Fluctation'].map(lambda x: x.replace('%', '').replace(',', '')).astype(float) > 0.1) &\n",
      "            (stockListFull['2014Vol'].map(lambda x: x.replace(',', '')).astype(float) > 1000) &\n",
      "            (stockListFull['2013Vol'].map(lambda x: x.replace(',', '')).astype(float) > 1000) & \n",
      "            (stockListFull['2012Vol'].map(lambda x: x.replace(',', '')).astype(float) > 1000))\n",
      "\n",
      "stockListFull.ix[(stockListFull['FlucAvg'] > 0.8) & (basicMask)].to_csv('./equityLists/volatilityResult80.csv')\n",
      "\n",
      "stockListFull.ix[(stockListFull['FlucAvg'] > 0.9) & (basicMask)].to_csv('./equityLists/volatilityResult90.csv')\n",
      "\n",
      "stockListFull.ix[(stockListFull['FlucAvg'] > 1.0) & (basicMask)].to_csv('./equityLists/volatilityResult100.csv')\n"
     ],
     "language": "python",
     "metadata": {},
     "outputs": [],
     "prompt_number": 109
    },
    {
     "cell_type": "markdown",
     "metadata": {},
     "source": [
      "#Save 100% fluctuation and 1,000 Volume to pickle"
     ]
    },
    {
     "cell_type": "code",
     "collapsed": false,
     "input": [
      "stockListFull.ix[(stockListFull['FlucAvg'] > 1.0) & (basicMask)].to_pickle('./equityLists/volatilityResult100.pkl')"
     ],
     "language": "python",
     "metadata": {},
     "outputs": [],
     "prompt_number": 110
    },
    {
     "cell_type": "code",
     "collapsed": false,
     "input": [
      "import pandas as pd\n",
      "temp = pd.read_pickle('./equityLists/volatilityResult100.pkl')\n",
      "temp.drop_duplicates(subset = ['quandlCode'], inplace = True)\n",
      "temp.reset_index(drop = True, inplace = True)\n",
      "temp.shape"
     ],
     "language": "python",
     "metadata": {},
     "outputs": [
      {
       "metadata": {},
       "output_type": "pyout",
       "prompt_number": 5,
       "text": [
        "(429, 12)"
       ]
      }
     ],
     "prompt_number": 5
    },
    {
     "cell_type": "code",
     "collapsed": false,
     "input": [
      "temp.ix[temp['Name'].str.contains('DR PEP', case = False)]"
     ],
     "language": "python",
     "metadata": {},
     "outputs": [
      {
       "html": [
        "<div style=\"max-height:1000px;max-width:1500px;overflow:auto;\">\n",
        "<table border=\"1\" class=\"dataframe\">\n",
        "  <thead>\n",
        "    <tr style=\"text-align: right;\">\n",
        "      <th></th>\n",
        "      <th>Name</th>\n",
        "      <th>Ticker</th>\n",
        "      <th>quandlCode</th>\n",
        "      <th>quandlName</th>\n",
        "      <th>2014Fluctation</th>\n",
        "      <th>2014Vol</th>\n",
        "      <th>2013Fluctation</th>\n",
        "      <th>2013Vol</th>\n",
        "      <th>2012Fluctation</th>\n",
        "      <th>2012Vol</th>\n",
        "      <th>2012to2014</th>\n",
        "      <th>FlucAvg</th>\n",
        "    </tr>\n",
        "  </thead>\n",
        "  <tbody>\n",
        "    <tr>\n",
        "      <th>502</th>\n",
        "      <td> DR PEPPER SNAPPLE GROUP INC</td>\n",
        "      <td> DPS</td>\n",
        "      <td> GOOG/LON_DPP</td>\n",
        "      <td> DP Poland Plc (DPP)</td>\n",
        "      <td> 97.80%</td>\n",
        "      <td> 3,854</td>\n",
        "      <td> 87.12%</td>\n",
        "      <td> 1,095</td>\n",
        "      <td> 250.62%</td>\n",
        "      <td> 8,138</td>\n",
        "      <td>-0.851562</td>\n",
        "      <td> 1.451787</td>\n",
        "    </tr>\n",
        "  </tbody>\n",
        "</table>\n",
        "</div>"
       ],
       "metadata": {},
       "output_type": "pyout",
       "prompt_number": 4,
       "text": [
        "                            Name Ticker    quandlCode           quandlName  \\\n",
        "502  DR PEPPER SNAPPLE GROUP INC    DPS  GOOG/LON_DPP  DP Poland Plc (DPP)   \n",
        "\n",
        "    2014Fluctation 2014Vol 2013Fluctation 2013Vol 2012Fluctation 2012Vol  \\\n",
        "502         97.80%   3,854         87.12%   1,095        250.62%   8,138   \n",
        "\n",
        "     2012to2014   FlucAvg  \n",
        "502   -0.851562  1.451787  "
       ]
      }
     ],
     "prompt_number": 4
    },
    {
     "cell_type": "code",
     "collapsed": false,
     "input": [],
     "language": "python",
     "metadata": {},
     "outputs": []
    }
   ],
   "metadata": {}
  }
 ]
}