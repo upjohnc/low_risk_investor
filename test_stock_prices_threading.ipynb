{
 "cells": [
  {
   "cell_type": "code",
   "execution_count": 1,
   "metadata": {
    "collapsed": true
   },
   "outputs": [],
   "source": [
    "from utils import save_stock_prices_nyse\n",
    "import pandas as pd\n",
    "import datetime as dt\n",
    "import numpy as np\n",
    "from threading import Thread\n",
    "from queue import Queue\n",
    "import time\n",
    "import os"
   ]
  },
  {
   "cell_type": "code",
   "execution_count": 2,
   "metadata": {
    "collapsed": true
   },
   "outputs": [],
   "source": [
    "start_date = dt.datetime(2015, 1, 1)\n",
    "end_date = dt.datetime(2016, 10, 10)\n",
    "# symbols = ['aapl', 'mmm', 'aaa', 'btz', 'bud', 'bwpt', 'bx', 'eot','au','auo']\n",
    "folder_stock_prices = './test'\n",
    "folder_stock_symbols = './stock_symbols'"
   ]
  },
  {
   "cell_type": "code",
   "execution_count": 3,
   "metadata": {
    "collapsed": true
   },
   "outputs": [],
   "source": [
    "params_ = Queue()"
   ]
  },
  {
   "cell_type": "code",
   "execution_count": 4,
   "metadata": {
    "collapsed": true
   },
   "outputs": [],
   "source": [
    "df_nyse_symbols = pd.read_csv(os.path.join(folder_stock_symbols, 'NYSE.csv'))\n",
    "df_nyse_symbols.columns = [x.replace(' ', '_').lower() for x in df_nyse_symbols.columns]\n",
    "df_nyse_symbols['symbol_lower'] = df_nyse_symbols['symbol'].str.lower()\n",
    "df_nyse_symbols['ticker'] = 'NYSE:' + df_nyse_symbols['symbol']"
   ]
  },
  {
   "cell_type": "code",
   "execution_count": 18,
   "metadata": {
    "collapsed": true
   },
   "outputs": [],
   "source": [
    "def create_queue():\n",
    "    ticker_have = [i.strip('nyse_').replace('.csv', '') for i in os.listdir(folder_stock_prices) if '.DS' not in i]\n",
    "#     df_temp =  df_nyse_symbols.loc[~df_nyse_symbols['symbol_lower'].isin(ticker_have)]\n",
    "    df_temp =  df_nyse_symbols.loc[:40]\n",
    "    symbols = df_temp['symbol_lower'].tolist()\n",
    "    for symbol in symbols:\n",
    "        params_.put((folder_stock_prices, symbol, start_date, end_date))"
   ]
  },
  {
   "cell_type": "code",
   "execution_count": 19,
   "metadata": {
    "collapsed": true
   },
   "outputs": [],
   "source": [
    "def main():\n",
    "    while True:\n",
    "        p = params_.get()\n",
    "        save_stock_prices_nyse(*p)\n",
    "        params_.task_done()"
   ]
  },
  {
   "cell_type": "code",
   "execution_count": 20,
   "metadata": {
    "collapsed": false,
    "scrolled": true
   },
   "outputs": [
    {
     "name": "stdout",
     "output_type": "stream",
     "text": [
      "46.05913209915161\n"
     ]
    }
   ],
   "source": [
    "create_queue()\n",
    "t1 = time.time()\n",
    "number_of_threads = 100\n",
    "for _ in range(number_of_threads):\n",
    "    worker = Thread(target=main, daemon=True)\n",
    "    worker.start()\n",
    "params_.join()\n",
    "t2 = time.time()\n",
    "print(t2 - t1)"
   ]
  },
  {
   "cell_type": "code",
   "execution_count": null,
   "metadata": {
    "collapsed": true
   },
   "outputs": [],
   "source": []
  }
 ],
 "metadata": {
  "kernelspec": {
   "display_name": "Python 3",
   "language": "python",
   "name": "python3"
  },
  "language_info": {
   "codemirror_mode": {
    "name": "ipython",
    "version": 3
   },
   "file_extension": ".py",
   "mimetype": "text/x-python",
   "name": "python",
   "nbconvert_exporter": "python",
   "pygments_lexer": "ipython3",
   "version": "3.5.2"
  }
 },
 "nbformat": 4,
 "nbformat_minor": 1
}
